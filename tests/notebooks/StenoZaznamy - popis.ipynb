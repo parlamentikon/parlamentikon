{
 "cells": [
  {
   "cell_type": "markdown",
   "metadata": {},
   "source": [
    "# StenoZaznamy"
   ]
  },
  {
   "cell_type": "code",
   "execution_count": 1,
   "metadata": {},
   "outputs": [],
   "source": [
    "import sys, os\n",
    "sys.path.insert(0, os.path.abspath('../..'))"
   ]
  },
  {
   "cell_type": "code",
   "execution_count": 2,
   "metadata": {},
   "outputs": [],
   "source": [
    "from datetime import datetime"
   ]
  },
  {
   "cell_type": "code",
   "execution_count": 3,
   "metadata": {},
   "outputs": [],
   "source": [
    "from parlamentikon.Snemovna import *\n",
    "from parlamentikon.StenoZaznamy import *\n",
    "from parlamentikon.utility import *"
   ]
  },
  {
   "cell_type": "markdown",
   "metadata": {},
   "source": [
    "## Tabulka Steno"
   ]
  },
  {
   "cell_type": "code",
   "execution_count": 4,
   "metadata": {},
   "outputs": [
    {
     "name": "stderr",
     "output_type": "stream",
     "text": [
      "2021-03-24:10:17:38 INFO     [utility.py:21] Stahuji 'https://www.psp.cz/eknih/cdrom/opendata/poslanci.zip'.\n",
      "2021-03-24:10:17:38 INFO     [utility.py:21] Stahuji 'https://www.psp.cz/eknih/cdrom/opendata/steno.zip'.\n"
     ]
    },
    {
     "data": {
      "text/html": [
       "<div>\n",
       "<style scoped>\n",
       "    .dataframe tbody tr th:only-of-type {\n",
       "        vertical-align: middle;\n",
       "    }\n",
       "\n",
       "    .dataframe tbody tr th {\n",
       "        vertical-align: top;\n",
       "    }\n",
       "\n",
       "    .dataframe thead th {\n",
       "        text-align: right;\n",
       "    }\n",
       "</style>\n",
       "<table border=\"1\" class=\"dataframe\">\n",
       "  <thead>\n",
       "    <tr style=\"text-align: right;\">\n",
       "      <th></th>\n",
       "      <th>id_steno</th>\n",
       "      <th>id_organ</th>\n",
       "      <th>schuze</th>\n",
       "      <th>turn</th>\n",
       "      <th>od_steno</th>\n",
       "      <th>jd</th>\n",
       "      <th>od_t</th>\n",
       "      <th>do_t</th>\n",
       "    </tr>\n",
       "  </thead>\n",
       "  <tbody>\n",
       "    <tr>\n",
       "      <th>49626</th>\n",
       "      <td>115470</td>\n",
       "      <td>172</td>\n",
       "      <td>1</td>\n",
       "      <td>1</td>\n",
       "      <td>2017-11-20 00:00:00+01:00</td>\n",
       "      <td>1</td>\n",
       "      <td>780</td>\n",
       "      <td>790</td>\n",
       "    </tr>\n",
       "    <tr>\n",
       "      <th>49627</th>\n",
       "      <td>115471</td>\n",
       "      <td>172</td>\n",
       "      <td>1</td>\n",
       "      <td>2</td>\n",
       "      <td>2017-11-20 00:00:00+01:00</td>\n",
       "      <td>1</td>\n",
       "      <td>790</td>\n",
       "      <td>800</td>\n",
       "    </tr>\n",
       "    <tr>\n",
       "      <th>49628</th>\n",
       "      <td>115472</td>\n",
       "      <td>172</td>\n",
       "      <td>1</td>\n",
       "      <td>3</td>\n",
       "      <td>2017-11-20 00:00:00+01:00</td>\n",
       "      <td>1</td>\n",
       "      <td>800</td>\n",
       "      <td>810</td>\n",
       "    </tr>\n",
       "    <tr>\n",
       "      <th>49629</th>\n",
       "      <td>115473</td>\n",
       "      <td>172</td>\n",
       "      <td>1</td>\n",
       "      <td>4</td>\n",
       "      <td>2017-11-20 00:00:00+01:00</td>\n",
       "      <td>1</td>\n",
       "      <td>810</td>\n",
       "      <td>820</td>\n",
       "    </tr>\n",
       "    <tr>\n",
       "      <th>49630</th>\n",
       "      <td>115474</td>\n",
       "      <td>172</td>\n",
       "      <td>1</td>\n",
       "      <td>5</td>\n",
       "      <td>2017-11-20 00:00:00+01:00</td>\n",
       "      <td>1</td>\n",
       "      <td>820</td>\n",
       "      <td>830</td>\n",
       "    </tr>\n",
       "  </tbody>\n",
       "</table>\n",
       "</div>"
      ],
      "text/plain": [
       "       id_steno  id_organ  schuze  turn                  od_steno  jd  od_t  \\\n",
       "49626    115470       172       1     1 2017-11-20 00:00:00+01:00   1   780   \n",
       "49627    115471       172       1     2 2017-11-20 00:00:00+01:00   1   790   \n",
       "49628    115472       172       1     3 2017-11-20 00:00:00+01:00   1   800   \n",
       "49629    115473       172       1     4 2017-11-20 00:00:00+01:00   1   810   \n",
       "49630    115474       172       1     5 2017-11-20 00:00:00+01:00   1   820   \n",
       "\n",
       "       do_t  \n",
       "49626   790  \n",
       "49627   800  \n",
       "49628   810  \n",
       "49629   820  \n",
       "49630   830  "
      ]
     },
     "execution_count": 4,
     "metadata": {},
     "output_type": "execute_result"
    }
   ],
   "source": [
    "s = Steno()\n",
    "s.head()"
   ]
  },
  {
   "cell_type": "code",
   "execution_count": 5,
   "metadata": {},
   "outputs": [
    {
     "name": "stdout",
     "output_type": "stream",
     "text": [
      "Počet řádků v tabulce: 10172\n",
      "\n",
      "Sloupce s jedinou hodnotou:\n",
      "  'id_organ' má všude hodnotu '172'\n",
      "\n",
      "Nulové hodnoty: \n",
      "Tabulka neobsahuje žádné nulové hodnoty [NaNy atp.]\n",
      "\n"
     ]
    }
   ],
   "source": [
    "s.popis()"
   ]
  },
  {
   "cell_type": "markdown",
   "metadata": {},
   "source": [
    "## Tabulka StenoBod"
   ]
  },
  {
   "cell_type": "code",
   "execution_count": 6,
   "metadata": {},
   "outputs": [
    {
     "name": "stderr",
     "output_type": "stream",
     "text": [
      "2021-03-24:10:17:41 INFO     [utility.py:21] Stahuji 'https://www.psp.cz/eknih/cdrom/opendata/poslanci.zip'.\n",
      "2021-03-24:10:17:41 INFO     [utility.py:21] Stahuji 'https://www.psp.cz/eknih/cdrom/opendata/steno.zip'.\n"
     ]
    },
    {
     "data": {
      "text/html": [
       "<div>\n",
       "<style scoped>\n",
       "    .dataframe tbody tr th:only-of-type {\n",
       "        vertical-align: middle;\n",
       "    }\n",
       "\n",
       "    .dataframe tbody tr th {\n",
       "        vertical-align: top;\n",
       "    }\n",
       "\n",
       "    .dataframe thead th {\n",
       "        text-align: right;\n",
       "    }\n",
       "</style>\n",
       "<table border=\"1\" class=\"dataframe\">\n",
       "  <thead>\n",
       "    <tr style=\"text-align: right;\">\n",
       "      <th></th>\n",
       "      <th>id_steno</th>\n",
       "      <th>aname</th>\n",
       "      <th>id_bod</th>\n",
       "      <th>id_organ</th>\n",
       "      <th>schuze</th>\n",
       "      <th>turn</th>\n",
       "      <th>od_steno</th>\n",
       "      <th>jd</th>\n",
       "      <th>od_t</th>\n",
       "      <th>do_t</th>\n",
       "    </tr>\n",
       "  </thead>\n",
       "  <tbody>\n",
       "    <tr>\n",
       "      <th>20963</th>\n",
       "      <td>126180</td>\n",
       "      <td>52</td>\n",
       "      <td>44633</td>\n",
       "      <td>172</td>\n",
       "      <td>91</td>\n",
       "      <td>15</td>\n",
       "      <td>2021-03-23 00:00:00+01:00</td>\n",
       "      <td>1</td>\n",
       "      <td>1010</td>\n",
       "      <td>1020</td>\n",
       "    </tr>\n",
       "    <tr>\n",
       "      <th>20964</th>\n",
       "      <td>126181</td>\n",
       "      <td>62</td>\n",
       "      <td>44632</td>\n",
       "      <td>172</td>\n",
       "      <td>91</td>\n",
       "      <td>17</td>\n",
       "      <td>2021-03-23 00:00:00+01:00</td>\n",
       "      <td>1</td>\n",
       "      <td>1030</td>\n",
       "      <td>1040</td>\n",
       "    </tr>\n",
       "    <tr>\n",
       "      <th>20965</th>\n",
       "      <td>126187</td>\n",
       "      <td>73</td>\n",
       "      <td>44634</td>\n",
       "      <td>172</td>\n",
       "      <td>91</td>\n",
       "      <td>22</td>\n",
       "      <td>2021-03-23 00:00:00+01:00</td>\n",
       "      <td>1</td>\n",
       "      <td>1080</td>\n",
       "      <td>1090</td>\n",
       "    </tr>\n",
       "    <tr>\n",
       "      <th>20966</th>\n",
       "      <td>126188</td>\n",
       "      <td>79</td>\n",
       "      <td>44636</td>\n",
       "      <td>172</td>\n",
       "      <td>91</td>\n",
       "      <td>24</td>\n",
       "      <td>2021-03-23 00:00:00+01:00</td>\n",
       "      <td>1</td>\n",
       "      <td>1100</td>\n",
       "      <td>1110</td>\n",
       "    </tr>\n",
       "    <tr>\n",
       "      <th>20967</th>\n",
       "      <td>126192</td>\n",
       "      <td>90</td>\n",
       "      <td>44637</td>\n",
       "      <td>172</td>\n",
       "      <td>91</td>\n",
       "      <td>26</td>\n",
       "      <td>2021-03-23 00:00:00+01:00</td>\n",
       "      <td>1</td>\n",
       "      <td>1120</td>\n",
       "      <td>1130</td>\n",
       "    </tr>\n",
       "  </tbody>\n",
       "</table>\n",
       "</div>"
      ],
      "text/plain": [
       "       id_steno  aname  id_bod  id_organ  schuze  turn  \\\n",
       "20963    126180     52   44633       172      91    15   \n",
       "20964    126181     62   44632       172      91    17   \n",
       "20965    126187     73   44634       172      91    22   \n",
       "20966    126188     79   44636       172      91    24   \n",
       "20967    126192     90   44637       172      91    26   \n",
       "\n",
       "                       od_steno  jd  od_t  do_t  \n",
       "20963 2021-03-23 00:00:00+01:00   1  1010  1020  \n",
       "20964 2021-03-23 00:00:00+01:00   1  1030  1040  \n",
       "20965 2021-03-23 00:00:00+01:00   1  1080  1090  \n",
       "20966 2021-03-23 00:00:00+01:00   1  1100  1110  \n",
       "20967 2021-03-23 00:00:00+01:00   1  1120  1130  "
      ]
     },
     "execution_count": 6,
     "metadata": {},
     "output_type": "execute_result"
    }
   ],
   "source": [
    "sb = StenoBod()\n",
    "sb.tail()"
   ]
  },
  {
   "cell_type": "code",
   "execution_count": 7,
   "metadata": {},
   "outputs": [
    {
     "name": "stdout",
     "output_type": "stream",
     "text": [
      "Počet řádků v tabulce: 2111\n",
      "\n",
      "Sloupce s jedinou hodnotou:\n",
      "  'id_organ' má všude hodnotu '172'\n",
      "\n",
      "Nulové hodnoty: \n",
      "Tabulka neobsahuje žádné nulové hodnoty [NaNy atp.]\n",
      "\n"
     ]
    }
   ],
   "source": [
    "sb.popis()"
   ]
  },
  {
   "cell_type": "markdown",
   "metadata": {},
   "source": [
    "## Tabulka StenoRec"
   ]
  },
  {
   "cell_type": "code",
   "execution_count": 8,
   "metadata": {},
   "outputs": [
    {
     "name": "stderr",
     "output_type": "stream",
     "text": [
      "2021-03-24:10:17:44 INFO     [utility.py:21] Stahuji 'https://www.psp.cz/eknih/cdrom/opendata/poslanci.zip'.\n",
      "2021-03-24:10:17:45 INFO     [utility.py:21] Stahuji 'https://www.psp.cz/eknih/cdrom/opendata/steno.zip'.\n"
     ]
    },
    {
     "data": {
      "text/html": [
       "<div>\n",
       "<style scoped>\n",
       "    .dataframe tbody tr th:only-of-type {\n",
       "        vertical-align: middle;\n",
       "    }\n",
       "\n",
       "    .dataframe tbody tr th {\n",
       "        vertical-align: top;\n",
       "    }\n",
       "\n",
       "    .dataframe thead th {\n",
       "        text-align: right;\n",
       "    }\n",
       "</style>\n",
       "<table border=\"1\" class=\"dataframe\">\n",
       "  <thead>\n",
       "    <tr style=\"text-align: right;\">\n",
       "      <th></th>\n",
       "      <th>id_steno</th>\n",
       "      <th>id_osoba</th>\n",
       "      <th>aname</th>\n",
       "      <th>id_bod</th>\n",
       "      <th>druh__ORIG</th>\n",
       "      <th>druh</th>\n",
       "      <th>id_organ</th>\n",
       "      <th>schuze</th>\n",
       "      <th>turn</th>\n",
       "      <th>od_steno</th>\n",
       "      <th>...</th>\n",
       "      <th>do_t</th>\n",
       "      <th>pred</th>\n",
       "      <th>prijmeni</th>\n",
       "      <th>jmeno</th>\n",
       "      <th>za</th>\n",
       "      <th>narozeni</th>\n",
       "      <th>pohlavi__ORIG</th>\n",
       "      <th>zmena</th>\n",
       "      <th>umrti</th>\n",
       "      <th>pohlavi</th>\n",
       "    </tr>\n",
       "  </thead>\n",
       "  <tbody>\n",
       "    <tr>\n",
       "      <th>71367</th>\n",
       "      <td>126194</td>\n",
       "      <td>303</td>\n",
       "      <td>9</td>\n",
       "      <td>44637</td>\n",
       "      <td>4</td>\n",
       "      <td>předsedající</td>\n",
       "      <td>172</td>\n",
       "      <td>91</td>\n",
       "      <td>28</td>\n",
       "      <td>2021-03-23 00:00:00+01:00</td>\n",
       "      <td>...</td>\n",
       "      <td>1150</td>\n",
       "      <td>JUDr.</td>\n",
       "      <td>Filip</td>\n",
       "      <td>Vojtěch</td>\n",
       "      <td></td>\n",
       "      <td>1955-01-13 00:00:00+01:00</td>\n",
       "      <td>M</td>\n",
       "      <td>1998-12-07 00:00:00+01:00</td>\n",
       "      <td>NaT</td>\n",
       "      <td>muž</td>\n",
       "    </tr>\n",
       "    <tr>\n",
       "      <th>71368</th>\n",
       "      <td>126194</td>\n",
       "      <td>6443</td>\n",
       "      <td>8</td>\n",
       "      <td>44637</td>\n",
       "      <td>5</td>\n",
       "      <td>řečník</td>\n",
       "      <td>172</td>\n",
       "      <td>91</td>\n",
       "      <td>28</td>\n",
       "      <td>2021-03-23 00:00:00+01:00</td>\n",
       "      <td>...</td>\n",
       "      <td>1150</td>\n",
       "      <td>Mgr.</td>\n",
       "      <td>Čižinský</td>\n",
       "      <td>Jan</td>\n",
       "      <td></td>\n",
       "      <td>1978-04-22 00:00:00+01:00</td>\n",
       "      <td>M</td>\n",
       "      <td>NaT</td>\n",
       "      <td>NaT</td>\n",
       "      <td>muž</td>\n",
       "    </tr>\n",
       "    <tr>\n",
       "      <th>71369</th>\n",
       "      <td>126194</td>\n",
       "      <td>6463</td>\n",
       "      <td>6</td>\n",
       "      <td>44637</td>\n",
       "      <td>5</td>\n",
       "      <td>řečník</td>\n",
       "      <td>172</td>\n",
       "      <td>91</td>\n",
       "      <td>28</td>\n",
       "      <td>2021-03-23 00:00:00+01:00</td>\n",
       "      <td>...</td>\n",
       "      <td>1150</td>\n",
       "      <td>Ing.</td>\n",
       "      <td>Juchelka</td>\n",
       "      <td>Aleš</td>\n",
       "      <td></td>\n",
       "      <td>1976-04-18 00:00:00+01:00</td>\n",
       "      <td>M</td>\n",
       "      <td>NaT</td>\n",
       "      <td>NaT</td>\n",
       "      <td>muž</td>\n",
       "    </tr>\n",
       "    <tr>\n",
       "      <th>71370</th>\n",
       "      <td>126194</td>\n",
       "      <td>6513</td>\n",
       "      <td>2</td>\n",
       "      <td>44637</td>\n",
       "      <td>5</td>\n",
       "      <td>řečník</td>\n",
       "      <td>172</td>\n",
       "      <td>91</td>\n",
       "      <td>28</td>\n",
       "      <td>2021-03-23 00:00:00+01:00</td>\n",
       "      <td>...</td>\n",
       "      <td>1150</td>\n",
       "      <td>Mgr.</td>\n",
       "      <td>Výborný</td>\n",
       "      <td>Marek</td>\n",
       "      <td></td>\n",
       "      <td>1976-07-10 00:00:00+01:00</td>\n",
       "      <td>M</td>\n",
       "      <td>NaT</td>\n",
       "      <td>NaT</td>\n",
       "      <td>muž</td>\n",
       "    </tr>\n",
       "    <tr>\n",
       "      <th>71371</th>\n",
       "      <td>126194</td>\n",
       "      <td>6513</td>\n",
       "      <td>4</td>\n",
       "      <td>44637</td>\n",
       "      <td>5</td>\n",
       "      <td>řečník</td>\n",
       "      <td>172</td>\n",
       "      <td>91</td>\n",
       "      <td>28</td>\n",
       "      <td>2021-03-23 00:00:00+01:00</td>\n",
       "      <td>...</td>\n",
       "      <td>1150</td>\n",
       "      <td>Mgr.</td>\n",
       "      <td>Výborný</td>\n",
       "      <td>Marek</td>\n",
       "      <td></td>\n",
       "      <td>1976-07-10 00:00:00+01:00</td>\n",
       "      <td>M</td>\n",
       "      <td>NaT</td>\n",
       "      <td>NaT</td>\n",
       "      <td>muž</td>\n",
       "    </tr>\n",
       "  </tbody>\n",
       "</table>\n",
       "<p>5 rows × 22 columns</p>\n",
       "</div>"
      ],
      "text/plain": [
       "       id_steno  id_osoba  aname  id_bod  druh__ORIG          druh  id_organ  \\\n",
       "71367    126194       303      9   44637           4  předsedající       172   \n",
       "71368    126194      6443      8   44637           5        řečník       172   \n",
       "71369    126194      6463      6   44637           5        řečník       172   \n",
       "71370    126194      6513      2   44637           5        řečník       172   \n",
       "71371    126194      6513      4   44637           5        řečník       172   \n",
       "\n",
       "       schuze  turn                  od_steno  ...  do_t   pred  prijmeni  \\\n",
       "71367      91    28 2021-03-23 00:00:00+01:00  ...  1150  JUDr.     Filip   \n",
       "71368      91    28 2021-03-23 00:00:00+01:00  ...  1150   Mgr.  Čižinský   \n",
       "71369      91    28 2021-03-23 00:00:00+01:00  ...  1150   Ing.  Juchelka   \n",
       "71370      91    28 2021-03-23 00:00:00+01:00  ...  1150   Mgr.   Výborný   \n",
       "71371      91    28 2021-03-23 00:00:00+01:00  ...  1150   Mgr.   Výborný   \n",
       "\n",
       "         jmeno za                  narozeni pohlavi__ORIG  \\\n",
       "71367  Vojtěch    1955-01-13 00:00:00+01:00             M   \n",
       "71368      Jan    1978-04-22 00:00:00+01:00             M   \n",
       "71369     Aleš    1976-04-18 00:00:00+01:00             M   \n",
       "71370    Marek    1976-07-10 00:00:00+01:00             M   \n",
       "71371    Marek    1976-07-10 00:00:00+01:00             M   \n",
       "\n",
       "                          zmena umrti pohlavi  \n",
       "71367 1998-12-07 00:00:00+01:00   NaT     muž  \n",
       "71368                       NaT   NaT     muž  \n",
       "71369                       NaT   NaT     muž  \n",
       "71370                       NaT   NaT     muž  \n",
       "71371                       NaT   NaT     muž  \n",
       "\n",
       "[5 rows x 22 columns]"
      ]
     },
     "execution_count": 8,
     "metadata": {},
     "output_type": "execute_result"
    }
   ],
   "source": [
    "sr = StenoRec()\n",
    "sr.tail()"
   ]
  },
  {
   "cell_type": "code",
   "execution_count": 9,
   "metadata": {},
   "outputs": [
    {
     "name": "stdout",
     "output_type": "stream",
     "text": [
      "Počet řádků v tabulce: 71372\n",
      "\n",
      "Sloupce s jedinou hodnotou:\n",
      "  'id_organ' má všude hodnotu '172'\n",
      "\n",
      "Nulové hodnoty: \n",
      "Sloupec 'id_bod' obsahuje 14.39% (10271 z 71372) nulových hodnot (např. NaNů).\n",
      "Sloupec 'narozeni' obsahuje 0.25% (179 z 71372) nulových hodnot (např. NaNů).\n",
      "Sloupec 'zmena' obsahuje 86.91% (62028 z 71372) nulových hodnot (např. NaNů).\n",
      "Sloupec 'umrti' obsahuje 100.00% (71372 z 71372) nulových hodnot (např. NaNů).\n",
      "\n"
     ]
    }
   ],
   "source": [
    "sr.popis()"
   ]
  },
  {
   "cell_type": "code",
   "execution_count": 10,
   "metadata": {},
   "outputs": [
    {
     "name": "stdout",
     "output_type": "stream",
     "text": [
      "Poslední běh notebooku dokončen 24.03.2021 v 10:17:48.\n"
     ]
    }
   ],
   "source": [
    "print(f\"Poslední běh notebooku dokončen {datetime.now().strftime('%d.%m.%Y v %H:%M:%S')}.\")"
   ]
  },
  {
   "cell_type": "code",
   "execution_count": null,
   "metadata": {},
   "outputs": [],
   "source": []
  }
 ],
 "metadata": {
  "kernelspec": {
   "display_name": "finance",
   "language": "python",
   "name": "finance"
  },
  "language_info": {
   "codemirror_mode": {
    "name": "ipython",
    "version": 3
   },
   "file_extension": ".py",
   "mimetype": "text/x-python",
   "name": "python",
   "nbconvert_exporter": "python",
   "pygments_lexer": "ipython3",
   "version": "3.7.7"
  }
 },
 "nbformat": 4,
 "nbformat_minor": 4
}
