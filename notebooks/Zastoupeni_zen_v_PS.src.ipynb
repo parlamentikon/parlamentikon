{
 "cells": [
  {
   "cell_type": "markdown",
   "metadata": {},
   "source": [
    "# Zastoupení žen v Poslanecké sněmovně ČR\n",
    "\n",
    "Notebook analyzuje zastoupení žen v PS ČR na základě dat z <a href=\"https://www.psp.cz/sqw/hp.sqw?k=1300\" target=\"_blank\" rel=\"nofollow noopener noreferrer\">archivu PS ČR</a>. Součástí analýzy je extrapolace historických dat pomocí lineární regrese."
   ]
  },
  {
   "cell_type": "markdown",
   "metadata": {},
   "source": [
    "## Nastavení prostředí\n",
    "\n",
    "Nastavení notebooku pro prostředí Google Colab a pro lokální běh."
   ]
  },
  {
   "cell_type": "code",
   "execution_count": 1,
   "metadata": {},
   "outputs": [],
   "source": [
    "# Specifické příkazy pro prostředí Google Colab\n",
    "if 'google.colab' in str(get_ipython()):\n",
    "        import os, sys\n",
    "        os.chdir('/content')\n",
    "        # Stažení knihovny\n",
    "        ! ls parlamentikon || git clone \"https://github.com/parlamentikon/parlamentikon.git\" --branch main\n",
    "        os.chdir('/content/parlamentikon/notebooks')"
   ]
  },
  {
   "cell_type": "code",
   "execution_count": 2,
   "metadata": {},
   "outputs": [
    {
     "name": "stdout",
     "output_type": "stream",
     "text": [
      "\u001b[33mWARNING: You are using pip version 21.0.1; however, version 21.1.2 is available.\n",
      "You should consider upgrading via the '/home/borjana/.venv/finance/bin/python -m pip install --upgrade pip' command.\u001b[0m\n"
     ]
    }
   ],
   "source": [
    "instalace_zavislosti = True\n",
    "if instalace_zavislosti:\n",
    "    ! pip install -r ../requirements.txt 1>/dev/null"
   ]
  },
  {
   "cell_type": "code",
   "execution_count": 3,
   "metadata": {},
   "outputs": [],
   "source": [
    "instalace_knihovny = False\n",
    "if instalace_knihovny:\n",
    "    ! pip install ..  1>/dev/null\n",
    "else:\n",
    "    # Přidání cesty pro lokální import knihovny\n",
    "    import sys, os\n",
    "    sys.path.insert(0, os.path.abspath('..'))"
   ]
  },
  {
   "cell_type": "markdown",
   "metadata": {},
   "source": [
    "## Import knihoven"
   ]
  },
  {
   "cell_type": "code",
   "execution_count": 4,
   "metadata": {},
   "outputs": [],
   "source": [
    "from datetime import datetime, timedelta\n",
    "\n",
    "import plotly.graph_objects as go\n",
    "\n",
    "import pandas as pd\n",
    "import numpy as np"
   ]
  },
  {
   "cell_type": "code",
   "execution_count": 5,
   "metadata": {},
   "outputs": [],
   "source": [
    "from parlamentikon.Hlasovani import Organy\n",
    "from parlamentikon.PoslanciOsoby import Poslanci\n",
    "from nastav_notebook import clean_layout, clean_layout_with_x_spikes, clean_layout_with_y_spikes, clean_layout_with_xy_spikes, categorical_scale1"
   ]
  },
  {
   "cell_type": "markdown",
   "metadata": {},
   "source": [
    "## Parametry"
   ]
  },
  {
   "cell_type": "code",
   "execution_count": 6,
   "metadata": {},
   "outputs": [],
   "source": [
    "# Data se budou pokaždé znovu stahovat z achivu PS\n",
    "stahni=True"
   ]
  },
  {
   "cell_type": "markdown",
   "metadata": {},
   "source": [
    "## Načtení tabulek"
   ]
  },
  {
   "cell_type": "code",
   "execution_count": 7,
   "metadata": {},
   "outputs": [
    {
     "name": "stderr",
     "output_type": "stream",
     "text": [
      "2021-05-31:23:06:18 INFO     [utility.py:21] Stahuji 'https://www.psp.cz/eknih/cdrom/opendata/poslanci.zip'.\n",
      "2021-05-31:23:06:19 INFO     [utility.py:21] Stahuji 'https://www.psp.cz/eknih/cdrom/opendata/poslanci.zip'.\n",
      "2021-05-31:23:06:20 WARNING  [Snemovna.py:149] While merging 'funkce' with 'typ_funkce': Dropping ['typ_id_typ_organ__typ_funkce', 'id_typ_organ__typ_funkce', 'nazev_typ_organ_cz__typ_funkce', 'nazev_typ_organ_en__typ_funkce', 'typ_organ_obecny__typ_funkce'] because of abundance.\n",
      "2021-05-31:23:06:21 INFO     [utility.py:21] Stahuji 'https://www.psp.cz/eknih/cdrom/opendata/poslanci.zip'.\n",
      "2021-05-31:23:06:22 WARNING  [Snemovna.py:149] While merging 'funkce' with 'typ_funkce': Dropping ['typ_id_typ_organ__typ_funkce', 'id_typ_organ__typ_funkce', 'nazev_typ_organ_cz__typ_funkce', 'nazev_typ_organ_en__typ_funkce', 'typ_organ_obecny__typ_funkce'] because of abundance.\n",
      "2021-05-31:23:06:23 INFO     [utility.py:21] Stahuji 'https://www.psp.cz/eknih/cdrom/opendata/poslanci.zip'.\n",
      "2021-05-31:23:06:24 WARNING  [Snemovna.py:149] While merging 'funkce' with 'typ_funkce': Dropping ['typ_id_typ_organ__typ_funkce', 'id_typ_organ__typ_funkce', 'nazev_typ_organ_cz__typ_funkce', 'nazev_typ_organ_en__typ_funkce', 'typ_organ_obecny__typ_funkce'] because of abundance.\n",
      "2021-05-31:23:06:25 INFO     [utility.py:21] Stahuji 'https://www.psp.cz/eknih/cdrom/opendata/poslanci.zip'.\n",
      "2021-05-31:23:06:26 WARNING  [Snemovna.py:149] While merging 'funkce' with 'typ_funkce': Dropping ['typ_id_typ_organ__typ_funkce', 'id_typ_organ__typ_funkce', 'nazev_typ_organ_cz__typ_funkce', 'nazev_typ_organ_en__typ_funkce', 'typ_organ_obecny__typ_funkce'] because of abundance.\n",
      "2021-05-31:23:06:27 INFO     [utility.py:21] Stahuji 'https://www.psp.cz/eknih/cdrom/opendata/poslanci.zip'.\n",
      "2021-05-31:23:06:28 WARNING  [Snemovna.py:149] While merging 'funkce' with 'typ_funkce': Dropping ['typ_id_typ_organ__typ_funkce', 'id_typ_organ__typ_funkce', 'nazev_typ_organ_cz__typ_funkce', 'nazev_typ_organ_en__typ_funkce', 'typ_organ_obecny__typ_funkce'] because of abundance.\n",
      "2021-05-31:23:06:29 INFO     [utility.py:21] Stahuji 'https://www.psp.cz/eknih/cdrom/opendata/poslanci.zip'.\n",
      "2021-05-31:23:06:30 WARNING  [Snemovna.py:149] While merging 'funkce' with 'typ_funkce': Dropping ['typ_id_typ_organ__typ_funkce', 'id_typ_organ__typ_funkce', 'nazev_typ_organ_cz__typ_funkce', 'nazev_typ_organ_en__typ_funkce', 'typ_organ_obecny__typ_funkce'] because of abundance.\n",
      "2021-05-31:23:06:31 INFO     [utility.py:21] Stahuji 'https://www.psp.cz/eknih/cdrom/opendata/poslanci.zip'.\n",
      "2021-05-31:23:06:32 WARNING  [Snemovna.py:149] While merging 'funkce' with 'typ_funkce': Dropping ['typ_id_typ_organ__typ_funkce', 'id_typ_organ__typ_funkce', 'nazev_typ_organ_cz__typ_funkce', 'nazev_typ_organ_en__typ_funkce', 'typ_organ_obecny__typ_funkce'] because of abundance.\n",
      "2021-05-31:23:06:33 INFO     [utility.py:21] Stahuji 'https://www.psp.cz/eknih/cdrom/opendata/poslanci.zip'.\n",
      "2021-05-31:23:06:34 WARNING  [Snemovna.py:149] While merging 'funkce' with 'typ_funkce': Dropping ['typ_id_typ_organ__typ_funkce', 'id_typ_organ__typ_funkce', 'nazev_typ_organ_cz__typ_funkce', 'nazev_typ_organ_en__typ_funkce', 'typ_organ_obecny__typ_funkce'] because of abundance.\n"
     ]
    }
   ],
   "source": [
    "vsechny_organy = Organy(volebni_obdobi=-1)\n",
    "snemovny = vsechny_organy[vsechny_organy.nazev_typ_organ_cz == 'Parlament'].od_organ.dt.year.sort_values()\n",
    "\n",
    "poslanci = {}\n",
    "for i in snemovny:\n",
    "    poslanci[i] = Poslanci(volebni_obdobi=i, stahni=stahni)"
   ]
  },
  {
   "cell_type": "markdown",
   "metadata": {},
   "source": [
    "## Zastoupení žen v Poslanecké sněmovně ČR"
   ]
  },
  {
   "cell_type": "code",
   "execution_count": 8,
   "metadata": {},
   "outputs": [],
   "source": [
    "def pohlavi_dle_snemovny(snemovna, dalsi_snemovna=None):\n",
    "    x = poslanci[snemovna]\n",
    "    \n",
    "    # Najdi datum konce aktuální sněmovny.\n",
    "    last_do_parlament = vsechny_organy[vsechny_organy.id_organ == x.id_organ.iloc[0]].do_organ.iloc[0]\n",
    "    # Poslanci nemohou mít mandát platný déle než do konce aktuální sněmovny. \n",
    "    x.do_parlament.mask(pd.to_datetime(x.do_parlament) > last_do_parlament, last_do_parlament, inplace=True) \n",
    "    \n",
    "    if dalsi_snemovna != None:\n",
    "        # Najdi datum začátku další sněmovny.\n",
    "        next_od_parlament = vsechny_organy[vsechny_organy.id_organ == poslanci[dalsi_snemovna].id_organ.iloc[0]].od_organ.iloc[0]\n",
    "        # Poslanci nemohou mít platný mandát po začátku další sněmovny.\n",
    "        x.do_parlament.mask(pd.to_datetime(x.do_parlament) > next_od_parlament, next_od_parlament, inplace=True) \n",
    "        #print(snemovna, dalsi_snemovna, x.do_parlament.sort_values().to_list()[-1], next_od_parlament, x[x.do_parlament > next_od_parlament])\n",
    "       \n",
    "    # Pro dny, ve kterých se mění složení poslanecké sněmovny, sečteme tyto změny vzhledem k pohlaví. \n",
    "    # Používáme nezávislé sčítače pro příchody a odchody.\n",
    "    zeny_od = x[x.pohlavi == 'žena'].groupby(x.od_parlament.dt.date, dropna=False).size().to_frame('zeny_od').rename_axis(index={'od_parlament': 'datum'})\n",
    "    zeny_do = x[x.pohlavi == 'žena'].groupby(x.do_parlament.dt.date, dropna=False).size().to_frame('zeny_do').rename_axis(index={'do_parlament': 'datum'})\n",
    "    muzi_od = x[x.pohlavi == 'muž'].groupby(x.od_parlament.dt.date, dropna=False).size().to_frame('muzi_od').rename_axis(index={'od_parlament': 'datum'})\n",
    "    muzi_do = x[x.pohlavi == 'muž'].groupby(x.do_parlament.dt.date,  dropna=False).size().to_frame('muzi_do').rename_axis(index={'do_parlament': 'datum'})\n",
    "\n",
    "    ## Datum 'do_parlament' může být první den, kdy již poslanci nejsou ve sněmovně. Ale také poslední den platnosti mandátu.\n",
    "    ## V devadesátých letech se nejspíš konec platnosti mandátu zaznamenával s odlišnou sémantikou než v současnosti.\n",
    "    ## Jelikož se jedná o malé časové úseky, prozatím tuto nesrovnalost ignorujeme    \n",
    "    #    zeny_do.index = (pd.to_datetime(zeny_do.index) + pd.DateOffset(days=1)).date\n",
    "    #    zeny_do.index.name = 'datum'\n",
    "    #    muzi_do.index = (pd.to_datetime(muzi_do.index) + pd.DateOffset(days=1)).date\n",
    "    #    muzi_do.index.name = 'datum'\n",
    "       \n",
    "    # Spojíme sčítače příchodů a odchodů ze Sněmovny do jednoho frameu.\n",
    "    df = zeny_od.merge(muzi_od, how='outer', on='datum').merge(muzi_do, how='outer', on='datum').merge(zeny_do, how='outer', on='datum').sort_index()\n",
    "    \n",
    "    # +R9dk0 hodnoty doplníme nulami.\n",
    "    df = df.fillna(0)\n",
    "    \n",
    "    # Fix pandas error which converted groupby sizes from int to float\n",
    "    df['zeny_od'], df['zeny_do'] = df['zeny_od'].astype(int), df['zeny_do'].astype(int)\n",
    "    df['muzi_od'], df['muzi_do'] = df['muzi_od'].astype(int), df['muzi_do'].astype(int)\n",
    "\n",
    "    # Od sčítačů příchodů do sněmovny odečteme scítače odchodů.\n",
    "    # Tím dostaneme pro každé \"zlomové datum\" bilanci počtu žen a mužů.\n",
    "    df['zeny_cnt'] = df['zeny_od'].cumsum() - df['zeny_do'].cumsum()\n",
    "    df['muzi_cnt'] = df['muzi_od'].cumsum() - df['muzi_do'].cumsum()\n",
    "    \n",
    "    # Hodnoty by se měly posčítat na 200 (počet poslanců).\n",
    "    # Vzhledem k nejasné interpretaci 'do_parlament' to v několika málo případech není pravda, ale jen na krátkou dobu.\n",
    "    df['check_cnt'] = df['zeny_cnt'] + df['muzi_cnt']\n",
    "    \n",
    "    # Pri rozpusteni snemovny se atribut 'do_parlament' pro vsechny poslance nastavuje na urcite datum.\n",
    "    # Sčítač dle pohlaví pak nabývá hodnoty 0.\n",
    "    # Pro účely vizualizace je vhodné data doplnit ještě jeden bod s počty poslanců těsně před koncem sněmovny. \n",
    "    if (len(df) > 1) and (df.iloc[-1].check_cnt == 0) and not(pd.isna(df.index[-1])):\n",
    "        last_zeny_cnt, last_muzi_cnt = df.iloc[-2].zeny_cnt, df.iloc[-2].muzi_cnt\n",
    "        before_snemovna_do = (df.index[-1] - pd.DateOffset(days=1)).date()\n",
    "        df.loc[before_snemovna_do, 'zeny_cnt'] = last_zeny_cnt\n",
    "        df.loc[before_snemovna_do, 'muzi_cnt'] = last_muzi_cnt\n",
    "        df.loc[before_snemovna_do, 'check_cnt'] = last_zeny_cnt + last_muzi_cnt\n",
    "      \n",
    "    df = df.sort_index()\n",
    "    # Pro poslance v současné sněmovně zpravidla platí: do_parlament == nan.\n",
    "    # Index s nan hodnotou prepíšeme současným datem.\n",
    "    if (len(df) > 1) and (pd.isna(df.index[-1])):\n",
    "        index_as_list = df.index.tolist()\n",
    "        index_as_list[-1] = pd.to_datetime(\"now\").tz_localize('Europe/Prague').date()\n",
    "        df.index = index_as_list\n",
    "        #df.rename(index={np.NaT: pd.to_datetime(\"now\").tz_localize('Europe/Prague')}, inplace=True)\n",
    "        df.iloc[-1, df.columns.get_loc('zeny_cnt')] = df.iloc[-2].zeny_cnt\n",
    "        df.iloc[-1, df.columns.get_loc('muzi_cnt')] = df.iloc[-2].muzi_cnt\n",
    "        df['check_cnt'] = df['zeny_cnt'] + df['muzi_cnt']\n",
    "\n",
    "    df.drop(df[df.check_cnt == 0].index, inplace = True)\n",
    "\n",
    "    # Spočítejme nyní poměry ...\n",
    "    df['zeny_pct'] = 100 * df['zeny_cnt'] / (df['zeny_cnt'] + df['muzi_cnt'])\n",
    "    df['muzi_pct'] = 100 * df['muzi_cnt'] / (df['zeny_cnt'] + df['muzi_cnt'])\n",
    "    \n",
    "    # Nastavme sněmovnu (na konstantní hodnotu).\n",
    "    df['snemovna'] = snemovna\n",
    "    \n",
    "    df = df.sort_index()\n",
    "    df = df[['zeny_pct', 'muzi_pct', 'zeny_cnt', 'muzi_cnt', 'check_cnt', 'snemovna']]\n",
    "    return df"
   ]
  },
  {
   "cell_type": "code",
   "execution_count": 9,
   "metadata": {},
   "outputs": [
    {
     "data": {
      "text/html": [
       "<div>\n",
       "<style scoped>\n",
       "    .dataframe tbody tr th:only-of-type {\n",
       "        vertical-align: middle;\n",
       "    }\n",
       "\n",
       "    .dataframe tbody tr th {\n",
       "        vertical-align: top;\n",
       "    }\n",
       "\n",
       "    .dataframe thead th {\n",
       "        text-align: right;\n",
       "    }\n",
       "</style>\n",
       "<table border=\"1\" class=\"dataframe\">\n",
       "  <thead>\n",
       "    <tr style=\"text-align: right;\">\n",
       "      <th></th>\n",
       "      <th>zeny_pct</th>\n",
       "      <th>muzi_pct</th>\n",
       "      <th>zeny_cnt</th>\n",
       "      <th>muzi_cnt</th>\n",
       "      <th>check_cnt</th>\n",
       "      <th>snemovna</th>\n",
       "    </tr>\n",
       "    <tr>\n",
       "      <th>datum</th>\n",
       "      <th></th>\n",
       "      <th></th>\n",
       "      <th></th>\n",
       "      <th></th>\n",
       "      <th></th>\n",
       "      <th></th>\n",
       "    </tr>\n",
       "  </thead>\n",
       "  <tbody>\n",
       "    <tr>\n",
       "      <th>1992-06-06</th>\n",
       "      <td>10.000000</td>\n",
       "      <td>90.000000</td>\n",
       "      <td>20.0</td>\n",
       "      <td>180.0</td>\n",
       "      <td>200.0</td>\n",
       "      <td>1992</td>\n",
       "    </tr>\n",
       "    <tr>\n",
       "      <th>1993-11-09</th>\n",
       "      <td>9.547739</td>\n",
       "      <td>90.452261</td>\n",
       "      <td>19.0</td>\n",
       "      <td>180.0</td>\n",
       "      <td>199.0</td>\n",
       "      <td>1992</td>\n",
       "    </tr>\n",
       "    <tr>\n",
       "      <th>1993-11-11</th>\n",
       "      <td>9.500000</td>\n",
       "      <td>90.500000</td>\n",
       "      <td>19.0</td>\n",
       "      <td>181.0</td>\n",
       "      <td>200.0</td>\n",
       "      <td>1992</td>\n",
       "    </tr>\n",
       "    <tr>\n",
       "      <th>1995-05-23</th>\n",
       "      <td>9.547739</td>\n",
       "      <td>90.452261</td>\n",
       "      <td>19.0</td>\n",
       "      <td>180.0</td>\n",
       "      <td>199.0</td>\n",
       "      <td>1992</td>\n",
       "    </tr>\n",
       "    <tr>\n",
       "      <th>1995-05-25</th>\n",
       "      <td>9.500000</td>\n",
       "      <td>90.500000</td>\n",
       "      <td>19.0</td>\n",
       "      <td>181.0</td>\n",
       "      <td>200.0</td>\n",
       "      <td>1992</td>\n",
       "    </tr>\n",
       "  </tbody>\n",
       "</table>\n",
       "</div>"
      ],
      "text/plain": [
       "             zeny_pct   muzi_pct  zeny_cnt  muzi_cnt  check_cnt  snemovna\n",
       "datum                                                                    \n",
       "1992-06-06  10.000000  90.000000      20.0     180.0      200.0      1992\n",
       "1993-11-09   9.547739  90.452261      19.0     180.0      199.0      1992\n",
       "1993-11-11   9.500000  90.500000      19.0     181.0      200.0      1992\n",
       "1995-05-23   9.547739  90.452261      19.0     180.0      199.0      1992\n",
       "1995-05-25   9.500000  90.500000      19.0     181.0      200.0      1992"
      ]
     },
     "execution_count": 9,
     "metadata": {},
     "output_type": "execute_result"
    }
   ],
   "source": [
    "zastoupeni = []\n",
    "\n",
    "l_snemovny = list(snemovny)\n",
    "for idx, snemovna in enumerate(l_snemovny):\n",
    "    if idx < len(l_snemovny) - 1:\n",
    "        dalsi_snemovna = l_snemovny[idx + 1]\n",
    "    else:\n",
    "        dalsi_snemovna = None\n",
    "        \n",
    "    zastoupeni.append(pohlavi_dle_snemovny(snemovna, dalsi_snemovna))\n",
    "\n",
    "zastoupeni_df = pd.concat(zastoupeni, join='outer')\n",
    "zastoupeni_df.index = pd.to_datetime(zastoupeni_df.index)\n",
    "zastoupeni_df.index.name = 'datum'\n",
    "\n",
    "zastoupeni_df.head()"
   ]
  },
  {
   "cell_type": "code",
   "execution_count": 10,
   "metadata": {},
   "outputs": [
    {
     "data": {
      "text/html": [
       "<div>\n",
       "<style scoped>\n",
       "    .dataframe tbody tr th:only-of-type {\n",
       "        vertical-align: middle;\n",
       "    }\n",
       "\n",
       "    .dataframe tbody tr th {\n",
       "        vertical-align: top;\n",
       "    }\n",
       "\n",
       "    .dataframe thead th {\n",
       "        text-align: right;\n",
       "    }\n",
       "</style>\n",
       "<table border=\"1\" class=\"dataframe\">\n",
       "  <thead>\n",
       "    <tr style=\"text-align: right;\">\n",
       "      <th></th>\n",
       "      <th>zeny_pct</th>\n",
       "      <th>muzi_pct</th>\n",
       "      <th>zeny_cnt</th>\n",
       "      <th>muzi_cnt</th>\n",
       "      <th>check_cnt</th>\n",
       "      <th>snemovna</th>\n",
       "    </tr>\n",
       "    <tr>\n",
       "      <th>datum</th>\n",
       "      <th></th>\n",
       "      <th></th>\n",
       "      <th></th>\n",
       "      <th></th>\n",
       "      <th></th>\n",
       "      <th></th>\n",
       "    </tr>\n",
       "  </thead>\n",
       "  <tbody>\n",
       "    <tr>\n",
       "      <th>1993-11-09</th>\n",
       "      <td>9.547739</td>\n",
       "      <td>90.452261</td>\n",
       "      <td>19.0</td>\n",
       "      <td>180.0</td>\n",
       "      <td>199.0</td>\n",
       "      <td>1992</td>\n",
       "    </tr>\n",
       "    <tr>\n",
       "      <th>1995-05-23</th>\n",
       "      <td>9.547739</td>\n",
       "      <td>90.452261</td>\n",
       "      <td>19.0</td>\n",
       "      <td>180.0</td>\n",
       "      <td>199.0</td>\n",
       "      <td>1992</td>\n",
       "    </tr>\n",
       "    <tr>\n",
       "      <th>1996-04-29</th>\n",
       "      <td>9.547739</td>\n",
       "      <td>90.452261</td>\n",
       "      <td>19.0</td>\n",
       "      <td>180.0</td>\n",
       "      <td>199.0</td>\n",
       "      <td>1992</td>\n",
       "    </tr>\n",
       "    <tr>\n",
       "      <th>1996-05-06</th>\n",
       "      <td>9.547739</td>\n",
       "      <td>90.452261</td>\n",
       "      <td>19.0</td>\n",
       "      <td>180.0</td>\n",
       "      <td>199.0</td>\n",
       "      <td>1992</td>\n",
       "    </tr>\n",
       "    <tr>\n",
       "      <th>1996-11-01</th>\n",
       "      <td>15.075377</td>\n",
       "      <td>84.924623</td>\n",
       "      <td>30.0</td>\n",
       "      <td>169.0</td>\n",
       "      <td>199.0</td>\n",
       "      <td>1996</td>\n",
       "    </tr>\n",
       "    <tr>\n",
       "      <th>1996-12-17</th>\n",
       "      <td>14.646465</td>\n",
       "      <td>85.353535</td>\n",
       "      <td>29.0</td>\n",
       "      <td>169.0</td>\n",
       "      <td>198.0</td>\n",
       "      <td>1996</td>\n",
       "    </tr>\n",
       "    <tr>\n",
       "      <th>1997-01-16</th>\n",
       "      <td>14.572864</td>\n",
       "      <td>85.427136</td>\n",
       "      <td>29.0</td>\n",
       "      <td>170.0</td>\n",
       "      <td>199.0</td>\n",
       "      <td>1996</td>\n",
       "    </tr>\n",
       "    <tr>\n",
       "      <th>1997-06-02</th>\n",
       "      <td>14.572864</td>\n",
       "      <td>85.427136</td>\n",
       "      <td>29.0</td>\n",
       "      <td>170.0</td>\n",
       "      <td>199.0</td>\n",
       "      <td>1996</td>\n",
       "    </tr>\n",
       "    <tr>\n",
       "      <th>1997-06-11</th>\n",
       "      <td>14.572864</td>\n",
       "      <td>85.427136</td>\n",
       "      <td>29.0</td>\n",
       "      <td>170.0</td>\n",
       "      <td>199.0</td>\n",
       "      <td>1996</td>\n",
       "    </tr>\n",
       "    <tr>\n",
       "      <th>1997-08-27</th>\n",
       "      <td>14.572864</td>\n",
       "      <td>85.427136</td>\n",
       "      <td>29.0</td>\n",
       "      <td>170.0</td>\n",
       "      <td>199.0</td>\n",
       "      <td>1996</td>\n",
       "    </tr>\n",
       "    <tr>\n",
       "      <th>1997-08-29</th>\n",
       "      <td>14.572864</td>\n",
       "      <td>85.427136</td>\n",
       "      <td>29.0</td>\n",
       "      <td>170.0</td>\n",
       "      <td>199.0</td>\n",
       "      <td>1996</td>\n",
       "    </tr>\n",
       "    <tr>\n",
       "      <th>1997-11-11</th>\n",
       "      <td>14.572864</td>\n",
       "      <td>85.427136</td>\n",
       "      <td>29.0</td>\n",
       "      <td>170.0</td>\n",
       "      <td>199.0</td>\n",
       "      <td>1996</td>\n",
       "    </tr>\n",
       "    <tr>\n",
       "      <th>1997-12-01</th>\n",
       "      <td>14.572864</td>\n",
       "      <td>85.427136</td>\n",
       "      <td>29.0</td>\n",
       "      <td>170.0</td>\n",
       "      <td>199.0</td>\n",
       "      <td>1996</td>\n",
       "    </tr>\n",
       "    <tr>\n",
       "      <th>1997-12-02</th>\n",
       "      <td>15.075377</td>\n",
       "      <td>84.924623</td>\n",
       "      <td>30.0</td>\n",
       "      <td>169.0</td>\n",
       "      <td>199.0</td>\n",
       "      <td>1996</td>\n",
       "    </tr>\n",
       "    <tr>\n",
       "      <th>1998-01-26</th>\n",
       "      <td>15.075377</td>\n",
       "      <td>84.924623</td>\n",
       "      <td>30.0</td>\n",
       "      <td>169.0</td>\n",
       "      <td>199.0</td>\n",
       "      <td>1996</td>\n",
       "    </tr>\n",
       "    <tr>\n",
       "      <th>1998-02-12</th>\n",
       "      <td>15.075377</td>\n",
       "      <td>84.924623</td>\n",
       "      <td>30.0</td>\n",
       "      <td>169.0</td>\n",
       "      <td>199.0</td>\n",
       "      <td>1996</td>\n",
       "    </tr>\n",
       "    <tr>\n",
       "      <th>1998-02-25</th>\n",
       "      <td>15.075377</td>\n",
       "      <td>84.924623</td>\n",
       "      <td>30.0</td>\n",
       "      <td>169.0</td>\n",
       "      <td>199.0</td>\n",
       "      <td>1996</td>\n",
       "    </tr>\n",
       "    <tr>\n",
       "      <th>2001-02-28</th>\n",
       "      <td>15.656566</td>\n",
       "      <td>84.343434</td>\n",
       "      <td>31.0</td>\n",
       "      <td>167.0</td>\n",
       "      <td>198.0</td>\n",
       "      <td>1998</td>\n",
       "    </tr>\n",
       "  </tbody>\n",
       "</table>\n",
       "</div>"
      ],
      "text/plain": [
       "             zeny_pct   muzi_pct  zeny_cnt  muzi_cnt  check_cnt  snemovna\n",
       "datum                                                                    \n",
       "1993-11-09   9.547739  90.452261      19.0     180.0      199.0      1992\n",
       "1995-05-23   9.547739  90.452261      19.0     180.0      199.0      1992\n",
       "1996-04-29   9.547739  90.452261      19.0     180.0      199.0      1992\n",
       "1996-05-06   9.547739  90.452261      19.0     180.0      199.0      1992\n",
       "1996-11-01  15.075377  84.924623      30.0     169.0      199.0      1996\n",
       "1996-12-17  14.646465  85.353535      29.0     169.0      198.0      1996\n",
       "1997-01-16  14.572864  85.427136      29.0     170.0      199.0      1996\n",
       "1997-06-02  14.572864  85.427136      29.0     170.0      199.0      1996\n",
       "1997-06-11  14.572864  85.427136      29.0     170.0      199.0      1996\n",
       "1997-08-27  14.572864  85.427136      29.0     170.0      199.0      1996\n",
       "1997-08-29  14.572864  85.427136      29.0     170.0      199.0      1996\n",
       "1997-11-11  14.572864  85.427136      29.0     170.0      199.0      1996\n",
       "1997-12-01  14.572864  85.427136      29.0     170.0      199.0      1996\n",
       "1997-12-02  15.075377  84.924623      30.0     169.0      199.0      1996\n",
       "1998-01-26  15.075377  84.924623      30.0     169.0      199.0      1996\n",
       "1998-02-12  15.075377  84.924623      30.0     169.0      199.0      1996\n",
       "1998-02-25  15.075377  84.924623      30.0     169.0      199.0      1996\n",
       "2001-02-28  15.656566  84.343434      31.0     167.0      198.0      1998"
      ]
     },
     "execution_count": 10,
     "metadata": {},
     "output_type": "execute_result"
    }
   ],
   "source": [
    "# Kontrola smyslupnosti dat ... check_cnt by neměl být víc než 200.\n",
    "# Bylo by dobré ověřit, že hodnoty menší než 200 jsou pouze krátkodobé fluktuace, ke kterým dochází během výměny poslanců v PS.\n",
    "# zastoupeni_df[(zastoupeni_df.check_cnt != 200) & (zastoupeni_df.snemovna == 1992)]\n",
    "zastoupeni_df[(zastoupeni_df.check_cnt != 200)]"
   ]
  },
  {
   "cell_type": "markdown",
   "metadata": {},
   "source": [
    "### Extrapolace zastoupení žen v PS ČR\n",
    "\n",
    "K extrapolaci zastoupení žen v PS do budoucnosti použijeme lineární regresi."
   ]
  },
  {
   "cell_type": "code",
   "execution_count": 11,
   "metadata": {},
   "outputs": [
    {
     "data": {
      "text/html": [
       "<div>\n",
       "<style scoped>\n",
       "    .dataframe tbody tr th:only-of-type {\n",
       "        vertical-align: middle;\n",
       "    }\n",
       "\n",
       "    .dataframe tbody tr th {\n",
       "        vertical-align: top;\n",
       "    }\n",
       "\n",
       "    .dataframe thead th {\n",
       "        text-align: right;\n",
       "    }\n",
       "</style>\n",
       "<table border=\"1\" class=\"dataframe\">\n",
       "  <thead>\n",
       "    <tr style=\"text-align: right;\">\n",
       "      <th></th>\n",
       "      <th>zeny_pct</th>\n",
       "      <th>muzi_pct</th>\n",
       "      <th>zeny_cnt</th>\n",
       "      <th>muzi_cnt</th>\n",
       "      <th>check_cnt</th>\n",
       "      <th>snemovna</th>\n",
       "      <th>days_from_start</th>\n",
       "    </tr>\n",
       "    <tr>\n",
       "      <th>datum</th>\n",
       "      <th></th>\n",
       "      <th></th>\n",
       "      <th></th>\n",
       "      <th></th>\n",
       "      <th></th>\n",
       "      <th></th>\n",
       "      <th></th>\n",
       "    </tr>\n",
       "  </thead>\n",
       "  <tbody>\n",
       "    <tr>\n",
       "      <th>1992-06-06</th>\n",
       "      <td>10.000000</td>\n",
       "      <td>90.000000</td>\n",
       "      <td>20.0</td>\n",
       "      <td>180.0</td>\n",
       "      <td>200.0</td>\n",
       "      <td>1992</td>\n",
       "      <td>0</td>\n",
       "    </tr>\n",
       "    <tr>\n",
       "      <th>1993-11-09</th>\n",
       "      <td>9.547739</td>\n",
       "      <td>90.452261</td>\n",
       "      <td>19.0</td>\n",
       "      <td>180.0</td>\n",
       "      <td>199.0</td>\n",
       "      <td>1992</td>\n",
       "      <td>521</td>\n",
       "    </tr>\n",
       "    <tr>\n",
       "      <th>1993-11-11</th>\n",
       "      <td>9.500000</td>\n",
       "      <td>90.500000</td>\n",
       "      <td>19.0</td>\n",
       "      <td>181.0</td>\n",
       "      <td>200.0</td>\n",
       "      <td>1992</td>\n",
       "      <td>523</td>\n",
       "    </tr>\n",
       "    <tr>\n",
       "      <th>1995-05-23</th>\n",
       "      <td>9.547739</td>\n",
       "      <td>90.452261</td>\n",
       "      <td>19.0</td>\n",
       "      <td>180.0</td>\n",
       "      <td>199.0</td>\n",
       "      <td>1992</td>\n",
       "      <td>1081</td>\n",
       "    </tr>\n",
       "    <tr>\n",
       "      <th>1995-05-25</th>\n",
       "      <td>9.500000</td>\n",
       "      <td>90.500000</td>\n",
       "      <td>19.0</td>\n",
       "      <td>181.0</td>\n",
       "      <td>200.0</td>\n",
       "      <td>1992</td>\n",
       "      <td>1083</td>\n",
       "    </tr>\n",
       "  </tbody>\n",
       "</table>\n",
       "</div>"
      ],
      "text/plain": [
       "             zeny_pct   muzi_pct  zeny_cnt  muzi_cnt  check_cnt  snemovna  \\\n",
       "datum                                                                       \n",
       "1992-06-06  10.000000  90.000000      20.0     180.0      200.0      1992   \n",
       "1993-11-09   9.547739  90.452261      19.0     180.0      199.0      1992   \n",
       "1993-11-11   9.500000  90.500000      19.0     181.0      200.0      1992   \n",
       "1995-05-23   9.547739  90.452261      19.0     180.0      199.0      1992   \n",
       "1995-05-25   9.500000  90.500000      19.0     181.0      200.0      1992   \n",
       "\n",
       "            days_from_start  \n",
       "datum                        \n",
       "1992-06-06                0  \n",
       "1993-11-09              521  \n",
       "1993-11-11              523  \n",
       "1995-05-23             1081  \n",
       "1995-05-25             1083  "
      ]
     },
     "execution_count": 11,
     "metadata": {},
     "output_type": "execute_result"
    }
   ],
   "source": [
    "from sklearn import linear_model\n",
    "\n",
    "zastoupeni_df[pd.isna(zastoupeni_df.index)]\n",
    "zastoupeni_df['days_from_start'] = (zastoupeni_df.index - zastoupeni_df.index[0]).days\n",
    "zastoupeni_df.head()"
   ]
  },
  {
   "cell_type": "code",
   "execution_count": 47,
   "metadata": {},
   "outputs": [],
   "source": [
    "x = zastoupeni_df['days_from_start'].values.reshape(-1, 1)\n",
    "y = zastoupeni_df['zeny_pct'].values\n",
    "\n",
    "model = linear_model.LinearRegression().fit(x, y)\n",
    "linear_model.LinearRegression(copy_X=True, fit_intercept=True, n_jobs=1, normalize=False)\n",
    "\n",
    "x_values = np.linspace(zastoupeni_df['days_from_start'].min(), 34593, 100, endpoint=True).round(decimals=0)\n",
    "x_vector = [[v] for v in x_values]\n",
    "y_pred = model.predict(x_vector)"
   ]
  },
  {
   "cell_type": "code",
   "execution_count": 48,
   "metadata": {},
   "outputs": [
    {
     "data": {
      "text/html": [
       "<div>\n",
       "<style scoped>\n",
       "    .dataframe tbody tr th:only-of-type {\n",
       "        vertical-align: middle;\n",
       "    }\n",
       "\n",
       "    .dataframe tbody tr th {\n",
       "        vertical-align: top;\n",
       "    }\n",
       "\n",
       "    .dataframe thead th {\n",
       "        text-align: right;\n",
       "    }\n",
       "</style>\n",
       "<table border=\"1\" class=\"dataframe\">\n",
       "  <thead>\n",
       "    <tr style=\"text-align: right;\">\n",
       "      <th></th>\n",
       "      <th>zeny_pct_extrapolace</th>\n",
       "    </tr>\n",
       "    <tr>\n",
       "      <th>datum</th>\n",
       "      <th></th>\n",
       "    </tr>\n",
       "  </thead>\n",
       "  <tbody>\n",
       "    <tr>\n",
       "      <th>1992-06-06</th>\n",
       "      <td>11.524087</td>\n",
       "    </tr>\n",
       "    <tr>\n",
       "      <th>1993-05-21</th>\n",
       "      <td>11.912260</td>\n",
       "    </tr>\n",
       "    <tr>\n",
       "      <th>1994-05-06</th>\n",
       "      <td>12.301545</td>\n",
       "    </tr>\n",
       "    <tr>\n",
       "      <th>1995-04-20</th>\n",
       "      <td>12.689718</td>\n",
       "    </tr>\n",
       "    <tr>\n",
       "      <th>1996-04-04</th>\n",
       "      <td>13.079003</td>\n",
       "    </tr>\n",
       "  </tbody>\n",
       "</table>\n",
       "</div>"
      ],
      "text/plain": [
       "            zeny_pct_extrapolace\n",
       "datum                           \n",
       "1992-06-06             11.524087\n",
       "1993-05-21             11.912260\n",
       "1994-05-06             12.301545\n",
       "1995-04-20             12.689718\n",
       "1996-04-04             13.079003"
      ]
     },
     "execution_count": 48,
     "metadata": {},
     "output_type": "execute_result"
    }
   ],
   "source": [
    "zastoupeni_extrapolace_df = pd.DataFrame(\n",
    "    {\"zeny_pct_extrapolace\": y_pred},\n",
    "    index=[zastoupeni_df.index[0] + pd.DateOffset(days=num_days) for num_days in x_values]\n",
    ")\n",
    "zastoupeni_extrapolace_df.index.name = 'datum'\n",
    "zastoupeni_extrapolace_df.head()"
   ]
  },
  {
   "cell_type": "markdown",
   "metadata": {},
   "source": [
    "### Vizualizace"
   ]
  },
  {
   "cell_type": "code",
   "execution_count": 49,
   "metadata": {},
   "outputs": [
    {
     "data": {
      "application/vnd.plotly.v1+json": {
       "config": {
        "plotlyServerURL": "https://plot.ly"
       },
       "data": [
        {
         "hoverinfo": "text",
         "hovertemplate": "Sněmovna: 1992<br>Datum: %{x|%d. %m. %Y}<br>Pohlaví: ženy<br>Počet: %{y}<extra></extra>",
         "mode": "markers+lines",
         "name": "ženy (1992)",
         "stackgroup": "1992",
         "type": "scatter",
         "x": [
          "1992-06-06",
          "1993-11-09",
          "1993-11-11",
          "1995-05-23",
          "1995-05-25",
          "1996-04-29",
          "1996-04-30",
          "1996-05-06",
          "1996-05-07",
          "1996-05-31"
         ],
         "y": [
          10,
          9.547738693467336,
          9.5,
          9.547738693467336,
          9.5,
          9.547738693467336,
          9.5,
          9.547738693467336,
          10,
          10
         ]
        },
        {
         "hoverinfo": "text",
         "hovertemplate": "Sněmovna: 1992<br>Datum: %{x|%d. %m. %Y}<br>Pohlaví: muži<br>Počet: %{y}<extra></extra>",
         "mode": "markers+lines",
         "name": "muži (1992)",
         "stackgroup": "1992",
         "type": "scatter",
         "x": [
          "1992-06-06",
          "1993-11-09",
          "1993-11-11",
          "1995-05-23",
          "1995-05-25",
          "1996-04-29",
          "1996-04-30",
          "1996-05-06",
          "1996-05-07",
          "1996-05-31"
         ],
         "y": [
          90,
          90.45226130653266,
          90.5,
          90.45226130653266,
          90.5,
          90.45226130653266,
          90.5,
          90.45226130653266,
          90,
          90
         ]
        },
        {
         "hoverinfo": "text",
         "hovertemplate": "Sněmovna: 1996<br>Datum: %{x|%d. %m. %Y}<br>Pohlaví: ženy<br>Počet: %{y}<extra></extra>",
         "mode": "markers+lines",
         "name": "ženy (1996)",
         "stackgroup": "1996",
         "type": "scatter",
         "x": [
          "1996-06-01",
          "1996-11-01",
          "1996-11-02",
          "1996-12-17",
          "1996-12-18",
          "1997-01-16",
          "1997-01-17",
          "1997-06-02",
          "1997-06-03",
          "1997-06-11",
          "1997-06-12",
          "1997-08-27",
          "1997-08-28",
          "1997-08-29",
          "1997-08-30",
          "1997-11-11",
          "1997-11-12",
          "1997-12-01",
          "1997-12-02",
          "1997-12-03",
          "1998-01-26",
          "1998-01-27",
          "1998-02-12",
          "1998-02-13",
          "1998-02-25",
          "1998-02-26",
          "1998-06-18"
         ],
         "y": [
          15,
          15.075376884422111,
          15,
          14.646464646464647,
          14.5,
          14.57286432160804,
          14.5,
          14.57286432160804,
          14.5,
          14.57286432160804,
          14.5,
          14.57286432160804,
          14.5,
          14.57286432160804,
          14.5,
          14.57286432160804,
          14.5,
          14.57286432160804,
          15.075376884422111,
          15,
          15.075376884422111,
          15,
          15.075376884422111,
          15,
          15.075376884422111,
          15,
          15
         ]
        },
        {
         "hoverinfo": "text",
         "hovertemplate": "Sněmovna: 1996<br>Datum: %{x|%d. %m. %Y}<br>Pohlaví: muži<br>Počet: %{y}<extra></extra>",
         "mode": "markers+lines",
         "name": "muži (1996)",
         "stackgroup": "1996",
         "type": "scatter",
         "x": [
          "1996-06-01",
          "1996-11-01",
          "1996-11-02",
          "1996-12-17",
          "1996-12-18",
          "1997-01-16",
          "1997-01-17",
          "1997-06-02",
          "1997-06-03",
          "1997-06-11",
          "1997-06-12",
          "1997-08-27",
          "1997-08-28",
          "1997-08-29",
          "1997-08-30",
          "1997-11-11",
          "1997-11-12",
          "1997-12-01",
          "1997-12-02",
          "1997-12-03",
          "1998-01-26",
          "1998-01-27",
          "1998-02-12",
          "1998-02-13",
          "1998-02-25",
          "1998-02-26",
          "1998-06-18"
         ],
         "y": [
          85,
          84.92462311557789,
          85,
          85.35353535353535,
          85.5,
          85.42713567839196,
          85.5,
          85.42713567839196,
          85.5,
          85.42713567839196,
          85.5,
          85.42713567839196,
          85.5,
          85.42713567839196,
          85.5,
          85.42713567839196,
          85.5,
          85.42713567839196,
          84.92462311557789,
          85,
          84.92462311557789,
          85,
          84.92462311557789,
          85,
          84.92462311557789,
          85,
          85
         ]
        },
        {
         "hoverinfo": "text",
         "hovertemplate": "Sněmovna: 1998<br>Datum: %{x|%d. %m. %Y}<br>Pohlaví: ženy<br>Počet: %{y}<extra></extra>",
         "mode": "markers+lines",
         "name": "ženy (1998)",
         "stackgroup": "1998",
         "type": "scatter",
         "x": [
          "1998-06-20",
          "1999-11-22",
          "2000-09-14",
          "2001-02-28",
          "2001-03-01",
          "2001-07-31",
          "2001-10-31",
          "2002-06-14"
         ],
         "y": [
          15,
          15,
          15.5,
          15.656565656565656,
          16,
          16,
          16,
          16
         ]
        },
        {
         "hoverinfo": "text",
         "hovertemplate": "Sněmovna: 1998<br>Datum: %{x|%d. %m. %Y}<br>Pohlaví: muži<br>Počet: %{y}<extra></extra>",
         "mode": "markers+lines",
         "name": "muži (1998)",
         "stackgroup": "1998",
         "type": "scatter",
         "x": [
          "1998-06-20",
          "1999-11-22",
          "2000-09-14",
          "2001-02-28",
          "2001-03-01",
          "2001-07-31",
          "2001-10-31",
          "2002-06-14"
         ],
         "y": [
          85,
          85,
          84.5,
          84.34343434343434,
          84,
          84,
          84,
          84
         ]
        },
        {
         "hoverinfo": "text",
         "hovertemplate": "Sněmovna: 2002<br>Datum: %{x|%d. %m. %Y}<br>Pohlaví: ženy<br>Počet: %{y}<extra></extra>",
         "mode": "markers+lines",
         "name": "ženy (2002)",
         "stackgroup": "2002",
         "type": "scatter",
         "x": [
          "2002-06-15",
          "2002-09-18",
          "2003-03-07",
          "2003-04-23",
          "2003-06-02",
          "2003-06-06",
          "2003-07-26",
          "2003-09-23",
          "2004-05-05",
          "2004-07-08",
          "2004-07-20",
          "2004-08-31",
          "2004-09-21",
          "2004-09-22",
          "2004-09-24",
          "2004-09-30",
          "2004-10-07",
          "2005-06-09",
          "2005-07-24",
          "2005-12-02",
          "2005-12-09",
          "2006-01-17",
          "2006-01-20",
          "2006-01-24",
          "2006-02-28",
          "2006-04-18",
          "2006-06-02"
         ],
         "y": [
          17,
          17,
          17,
          17,
          17,
          17,
          17,
          16.5,
          16.5,
          16.5,
          16.5,
          16.5,
          16.5,
          16.5,
          16,
          16,
          16,
          15.5,
          16,
          16,
          15.5,
          15.5,
          16,
          16,
          16,
          16.5,
          16.5
         ]
        },
        {
         "hoverinfo": "text",
         "hovertemplate": "Sněmovna: 2002<br>Datum: %{x|%d. %m. %Y}<br>Pohlaví: muži<br>Počet: %{y}<extra></extra>",
         "mode": "markers+lines",
         "name": "muži (2002)",
         "stackgroup": "2002",
         "type": "scatter",
         "x": [
          "2002-06-15",
          "2002-09-18",
          "2003-03-07",
          "2003-04-23",
          "2003-06-02",
          "2003-06-06",
          "2003-07-26",
          "2003-09-23",
          "2004-05-05",
          "2004-07-08",
          "2004-07-20",
          "2004-08-31",
          "2004-09-21",
          "2004-09-22",
          "2004-09-24",
          "2004-09-30",
          "2004-10-07",
          "2005-06-09",
          "2005-07-24",
          "2005-12-02",
          "2005-12-09",
          "2006-01-17",
          "2006-01-20",
          "2006-01-24",
          "2006-02-28",
          "2006-04-18",
          "2006-06-02"
         ],
         "y": [
          83,
          83,
          83,
          83,
          83,
          83,
          83,
          83.5,
          83.5,
          83.5,
          83.5,
          83.5,
          83.5,
          83.5,
          84,
          84,
          84,
          84.5,
          84,
          84,
          84.5,
          84.5,
          84,
          84,
          84,
          83.5,
          83.5
         ]
        },
        {
         "hoverinfo": "text",
         "hovertemplate": "Sněmovna: 2006<br>Datum: %{x|%d. %m. %Y}<br>Pohlaví: ženy<br>Počet: %{y}<extra></extra>",
         "mode": "markers+lines",
         "name": "ženy (2006)",
         "stackgroup": "2006",
         "type": "scatter",
         "x": [
          "2006-06-03",
          "2007-01-16",
          "2008-09-17",
          "2008-10-25",
          "2008-11-13",
          "2008-12-11",
          "2009-03-01",
          "2009-04-30",
          "2009-07-03",
          "2009-07-09",
          "2009-07-13",
          "2009-09-15",
          "2009-09-29",
          "2009-12-11",
          "2010-03-01",
          "2010-04-30",
          "2010-05-26",
          "2010-05-28"
         ],
         "y": [
          15.5,
          15.5,
          15.5,
          15.5,
          16,
          16.5,
          17.5,
          17.5,
          17,
          17,
          17.5,
          18,
          18,
          18,
          18,
          19,
          18.5,
          18.5
         ]
        },
        {
         "hoverinfo": "text",
         "hovertemplate": "Sněmovna: 2006<br>Datum: %{x|%d. %m. %Y}<br>Pohlaví: muži<br>Počet: %{y}<extra></extra>",
         "mode": "markers+lines",
         "name": "muži (2006)",
         "stackgroup": "2006",
         "type": "scatter",
         "x": [
          "2006-06-03",
          "2007-01-16",
          "2008-09-17",
          "2008-10-25",
          "2008-11-13",
          "2008-12-11",
          "2009-03-01",
          "2009-04-30",
          "2009-07-03",
          "2009-07-09",
          "2009-07-13",
          "2009-09-15",
          "2009-09-29",
          "2009-12-11",
          "2010-03-01",
          "2010-04-30",
          "2010-05-26",
          "2010-05-28"
         ],
         "y": [
          84.5,
          84.5,
          84.5,
          84.5,
          84,
          83.5,
          82.5,
          82.5,
          83,
          83,
          82.5,
          82,
          82,
          82,
          82,
          81,
          81.5,
          81.5
         ]
        },
        {
         "hoverinfo": "text",
         "hovertemplate": "Sněmovna: 2010<br>Datum: %{x|%d. %m. %Y}<br>Pohlaví: ženy<br>Počet: %{y}<extra></extra>",
         "mode": "markers+lines",
         "name": "ženy (2010)",
         "stackgroup": "2010",
         "type": "scatter",
         "x": [
          "2010-05-29",
          "2010-10-23",
          "2010-11-30",
          "2011-03-01",
          "2011-03-25",
          "2011-03-26",
          "2012-02-07",
          "2012-10-20",
          "2012-11-07",
          "2013-01-31",
          "2013-04-05",
          "2013-04-11",
          "2013-04-24",
          "2013-06-14",
          "2013-08-27"
         ],
         "y": [
          22,
          22.5,
          22,
          22,
          22,
          22,
          22,
          21.5,
          21.5,
          21.5,
          22,
          21.5,
          21.5,
          21.5,
          21.5
         ]
        },
        {
         "hoverinfo": "text",
         "hovertemplate": "Sněmovna: 2010<br>Datum: %{x|%d. %m. %Y}<br>Pohlaví: muži<br>Počet: %{y}<extra></extra>",
         "mode": "markers+lines",
         "name": "muži (2010)",
         "stackgroup": "2010",
         "type": "scatter",
         "x": [
          "2010-05-29",
          "2010-10-23",
          "2010-11-30",
          "2011-03-01",
          "2011-03-25",
          "2011-03-26",
          "2012-02-07",
          "2012-10-20",
          "2012-11-07",
          "2013-01-31",
          "2013-04-05",
          "2013-04-11",
          "2013-04-24",
          "2013-06-14",
          "2013-08-27"
         ],
         "y": [
          78,
          77.5,
          78,
          78,
          78,
          78,
          78,
          78.5,
          78.5,
          78.5,
          78,
          78.5,
          78.5,
          78.5,
          78.5
         ]
        },
        {
         "hoverinfo": "text",
         "hovertemplate": "Sněmovna: 2013<br>Datum: %{x|%d. %m. %Y}<br>Pohlaví: ženy<br>Počet: %{y}<extra></extra>",
         "mode": "markers+lines",
         "name": "ženy (2013)",
         "stackgroup": "2013",
         "type": "scatter",
         "x": [
          "2013-10-26",
          "2013-11-27",
          "2013-12-03",
          "2014-03-31",
          "2014-04-30",
          "2014-06-20",
          "2014-07-01",
          "2014-08-28",
          "2014-10-21",
          "2014-12-08",
          "2016-01-14",
          "2017-01-03",
          "2017-03-14",
          "2017-06-09",
          "2017-07-01",
          "2017-10-20"
         ],
         "y": [
          19.5,
          19.5,
          19.5,
          20,
          20,
          20,
          19.5,
          19.5,
          19.5,
          20,
          20.5,
          20,
          20,
          20,
          20.5,
          20.5
         ]
        },
        {
         "hoverinfo": "text",
         "hovertemplate": "Sněmovna: 2013<br>Datum: %{x|%d. %m. %Y}<br>Pohlaví: muži<br>Počet: %{y}<extra></extra>",
         "mode": "markers+lines",
         "name": "muži (2013)",
         "stackgroup": "2013",
         "type": "scatter",
         "x": [
          "2013-10-26",
          "2013-11-27",
          "2013-12-03",
          "2014-03-31",
          "2014-04-30",
          "2014-06-20",
          "2014-07-01",
          "2014-08-28",
          "2014-10-21",
          "2014-12-08",
          "2016-01-14",
          "2017-01-03",
          "2017-03-14",
          "2017-06-09",
          "2017-07-01",
          "2017-10-20"
         ],
         "y": [
          80.5,
          80.5,
          80.5,
          80,
          80,
          80,
          80.5,
          80.5,
          80.5,
          80,
          79.5,
          80,
          80,
          80,
          79.5,
          79.5
         ]
        },
        {
         "hoverinfo": "text",
         "hovertemplate": "Sněmovna: 2017<br>Datum: %{x|%d. %m. %Y}<br>Pohlaví: ženy<br>Počet: %{y}<extra></extra>",
         "mode": "markers+lines",
         "name": "ženy (2017)",
         "stackgroup": "2017",
         "type": "scatter",
         "x": [
          "2017-10-21",
          "2017-11-24",
          "2018-03-31",
          "2018-06-19",
          "2018-10-01",
          "2018-12-04",
          "2019-04-14",
          "2019-04-15",
          "2019-06-06",
          "2019-07-02",
          "2020-07-31",
          "2020-10-10",
          "2020-12-31",
          "2021-01-19",
          "2021-01-26",
          "2021-03-01",
          "2021-03-09",
          "2021-05-31"
         ],
         "y": [
          22,
          22,
          22,
          22.5,
          22.5,
          23,
          23,
          23.5,
          23.5,
          22.5,
          23,
          22.5,
          23,
          23,
          23,
          22.5,
          22.5,
          22.5
         ]
        },
        {
         "hoverinfo": "text",
         "hovertemplate": "Sněmovna: 2017<br>Datum: %{x|%d. %m. %Y}<br>Pohlaví: muži<br>Počet: %{y}<extra></extra>",
         "mode": "markers+lines",
         "name": "muži (2017)",
         "stackgroup": "2017",
         "type": "scatter",
         "x": [
          "2017-10-21",
          "2017-11-24",
          "2018-03-31",
          "2018-06-19",
          "2018-10-01",
          "2018-12-04",
          "2019-04-14",
          "2019-04-15",
          "2019-06-06",
          "2019-07-02",
          "2020-07-31",
          "2020-10-10",
          "2020-12-31",
          "2021-01-19",
          "2021-01-26",
          "2021-03-01",
          "2021-03-09",
          "2021-05-31"
         ],
         "y": [
          78,
          78,
          78,
          77.5,
          77.5,
          77,
          77,
          76.5,
          76.5,
          77.5,
          77,
          77.5,
          77,
          77,
          77,
          77.5,
          77.5,
          77.5
         ]
        },
        {
         "line": {
          "color": "green",
          "dash": "dash",
          "width": 2
         },
         "mode": "markers+lines",
         "name": "ženy (extrapolace)",
         "type": "scatter",
         "x": [
          "1992-06-06T00:00:00",
          "1993-05-21T00:00:00",
          "1994-05-06T00:00:00",
          "1995-04-20T00:00:00",
          "1996-04-04T00:00:00",
          "1997-03-19T00:00:00",
          "1998-03-04T00:00:00",
          "1999-02-16T00:00:00",
          "2000-01-31T00:00:00",
          "2001-01-15T00:00:00",
          "2001-12-30T00:00:00",
          "2002-12-15T00:00:00",
          "2003-11-29T00:00:00",
          "2004-11-13T00:00:00",
          "2005-10-28T00:00:00",
          "2006-10-12T00:00:00",
          "2007-09-27T00:00:00",
          "2008-09-10T00:00:00",
          "2009-08-26T00:00:00",
          "2010-08-10T00:00:00",
          "2011-07-25T00:00:00",
          "2012-07-09T00:00:00",
          "2013-06-23T00:00:00",
          "2014-06-08T00:00:00",
          "2015-05-23T00:00:00",
          "2016-05-07T00:00:00",
          "2017-04-21T00:00:00",
          "2018-04-05T00:00:00",
          "2019-03-21T00:00:00",
          "2020-03-04T00:00:00",
          "2021-02-17T00:00:00",
          "2022-02-01T00:00:00",
          "2023-01-17T00:00:00",
          "2024-01-01T00:00:00",
          "2024-12-15T00:00:00",
          "2025-11-30T00:00:00",
          "2026-11-14T00:00:00",
          "2027-10-30T00:00:00",
          "2028-10-13T00:00:00",
          "2029-09-28T00:00:00",
          "2030-09-12T00:00:00",
          "2031-08-27T00:00:00",
          "2032-08-11T00:00:00",
          "2033-07-26T00:00:00",
          "2034-07-11T00:00:00",
          "2035-06-25T00:00:00",
          "2036-06-09T00:00:00",
          "2037-05-24T00:00:00",
          "2038-05-08T00:00:00",
          "2039-04-23T00:00:00",
          "2040-04-06T00:00:00",
          "2041-03-22T00:00:00",
          "2042-03-06T00:00:00",
          "2043-02-18T00:00:00",
          "2044-02-03T00:00:00",
          "2045-01-17T00:00:00",
          "2046-01-02T00:00:00",
          "2046-12-17T00:00:00",
          "2047-12-02T00:00:00",
          "2048-11-15T00:00:00",
          "2049-10-30T00:00:00",
          "2050-10-15T00:00:00",
          "2051-09-29T00:00:00",
          "2052-09-13T00:00:00",
          "2053-08-28T00:00:00",
          "2054-08-13T00:00:00",
          "2055-07-28T00:00:00",
          "2056-07-11T00:00:00",
          "2057-06-26T00:00:00",
          "2058-06-10T00:00:00",
          "2059-05-26T00:00:00",
          "2060-05-09T00:00:00",
          "2061-04-24T00:00:00",
          "2062-04-08T00:00:00",
          "2063-03-23T00:00:00",
          "2064-03-07T00:00:00",
          "2065-02-19T00:00:00",
          "2066-02-04T00:00:00",
          "2067-01-19T00:00:00",
          "2068-01-04T00:00:00",
          "2068-12-18T00:00:00",
          "2069-12-02T00:00:00",
          "2070-11-17T00:00:00",
          "2071-11-01T00:00:00",
          "2072-10-16T00:00:00",
          "2073-09-30T00:00:00",
          "2074-09-14T00:00:00",
          "2075-08-30T00:00:00",
          "2076-08-13T00:00:00",
          "2077-07-29T00:00:00",
          "2078-07-13T00:00:00",
          "2079-06-28T00:00:00",
          "2080-06-11T00:00:00",
          "2081-05-26T00:00:00",
          "2082-05-11T00:00:00",
          "2083-04-25T00:00:00",
          "2084-04-09T00:00:00",
          "2085-03-24T00:00:00",
          "2086-03-09T00:00:00",
          "2087-02-21T00:00:00"
         ],
         "y": [
          11.52,
          11.91,
          12.3,
          12.69,
          13.08,
          13.47,
          13.86,
          14.24,
          14.63,
          15.02,
          15.41,
          15.8,
          16.19,
          16.58,
          16.97,
          17.35,
          17.74,
          18.13,
          18.52,
          18.91,
          19.3,
          19.69,
          20.07,
          20.46,
          20.85,
          21.24,
          21.63,
          22.02,
          22.41,
          22.79,
          23.18,
          23.57,
          23.96,
          24.35,
          24.74,
          25.13,
          25.51,
          25.9,
          26.29,
          26.68,
          27.07,
          27.46,
          27.85,
          28.24,
          28.62,
          29.01,
          29.4,
          29.79,
          30.18,
          30.57,
          30.96,
          31.35,
          31.73,
          32.12,
          32.51,
          32.9,
          33.29,
          33.68,
          34.07,
          34.45,
          34.84,
          35.23,
          35.62,
          36.01,
          36.4,
          36.79,
          37.17,
          37.56,
          37.95,
          38.34,
          38.73,
          39.12,
          39.51,
          39.9,
          40.28,
          40.67,
          41.06,
          41.45,
          41.84,
          42.23,
          42.62,
          43,
          43.39,
          43.78,
          44.17,
          44.56,
          44.95,
          45.34,
          45.72,
          46.11,
          46.5,
          46.89,
          47.28,
          47.67,
          48.06,
          48.45,
          48.83,
          49.22,
          49.61,
          50
         ]
        }
       ],
       "layout": {
        "annotations": [
         {
          "arrowhead": 2,
          "text": "50% zastoupení",
          "x": "2039-10-14T12:00:00",
          "y": 50
         }
        ],
        "autosize": true,
        "hovermode": "x",
        "plot_bgcolor": "#FFFFFF",
        "shapes": [
         {
          "line": {
           "color": "black",
           "dash": "dot",
           "width": 1
          },
          "type": "line",
          "x0": "1992-06-06T00:00:00",
          "x1": "2087-02-21T00:00:00",
          "y0": 50,
          "y1": 50
         }
        ],
        "showlegend": false,
        "template": {
         "data": {
          "bar": [
           {
            "error_x": {
             "color": "#2a3f5f"
            },
            "error_y": {
             "color": "#2a3f5f"
            },
            "marker": {
             "line": {
              "color": "#E5ECF6",
              "width": 0.5
             }
            },
            "type": "bar"
           }
          ],
          "barpolar": [
           {
            "marker": {
             "line": {
              "color": "#E5ECF6",
              "width": 0.5
             }
            },
            "type": "barpolar"
           }
          ],
          "carpet": [
           {
            "aaxis": {
             "endlinecolor": "#2a3f5f",
             "gridcolor": "white",
             "linecolor": "white",
             "minorgridcolor": "white",
             "startlinecolor": "#2a3f5f"
            },
            "baxis": {
             "endlinecolor": "#2a3f5f",
             "gridcolor": "white",
             "linecolor": "white",
             "minorgridcolor": "white",
             "startlinecolor": "#2a3f5f"
            },
            "type": "carpet"
           }
          ],
          "choropleth": [
           {
            "colorbar": {
             "outlinewidth": 0,
             "ticks": ""
            },
            "type": "choropleth"
           }
          ],
          "contour": [
           {
            "colorbar": {
             "outlinewidth": 0,
             "ticks": ""
            },
            "colorscale": [
             [
              0,
              "#0d0887"
             ],
             [
              0.1111111111111111,
              "#46039f"
             ],
             [
              0.2222222222222222,
              "#7201a8"
             ],
             [
              0.3333333333333333,
              "#9c179e"
             ],
             [
              0.4444444444444444,
              "#bd3786"
             ],
             [
              0.5555555555555556,
              "#d8576b"
             ],
             [
              0.6666666666666666,
              "#ed7953"
             ],
             [
              0.7777777777777778,
              "#fb9f3a"
             ],
             [
              0.8888888888888888,
              "#fdca26"
             ],
             [
              1,
              "#f0f921"
             ]
            ],
            "type": "contour"
           }
          ],
          "contourcarpet": [
           {
            "colorbar": {
             "outlinewidth": 0,
             "ticks": ""
            },
            "type": "contourcarpet"
           }
          ],
          "heatmap": [
           {
            "colorbar": {
             "outlinewidth": 0,
             "ticks": ""
            },
            "colorscale": [
             [
              0,
              "#0d0887"
             ],
             [
              0.1111111111111111,
              "#46039f"
             ],
             [
              0.2222222222222222,
              "#7201a8"
             ],
             [
              0.3333333333333333,
              "#9c179e"
             ],
             [
              0.4444444444444444,
              "#bd3786"
             ],
             [
              0.5555555555555556,
              "#d8576b"
             ],
             [
              0.6666666666666666,
              "#ed7953"
             ],
             [
              0.7777777777777778,
              "#fb9f3a"
             ],
             [
              0.8888888888888888,
              "#fdca26"
             ],
             [
              1,
              "#f0f921"
             ]
            ],
            "type": "heatmap"
           }
          ],
          "heatmapgl": [
           {
            "colorbar": {
             "outlinewidth": 0,
             "ticks": ""
            },
            "colorscale": [
             [
              0,
              "#0d0887"
             ],
             [
              0.1111111111111111,
              "#46039f"
             ],
             [
              0.2222222222222222,
              "#7201a8"
             ],
             [
              0.3333333333333333,
              "#9c179e"
             ],
             [
              0.4444444444444444,
              "#bd3786"
             ],
             [
              0.5555555555555556,
              "#d8576b"
             ],
             [
              0.6666666666666666,
              "#ed7953"
             ],
             [
              0.7777777777777778,
              "#fb9f3a"
             ],
             [
              0.8888888888888888,
              "#fdca26"
             ],
             [
              1,
              "#f0f921"
             ]
            ],
            "type": "heatmapgl"
           }
          ],
          "histogram": [
           {
            "marker": {
             "colorbar": {
              "outlinewidth": 0,
              "ticks": ""
             }
            },
            "type": "histogram"
           }
          ],
          "histogram2d": [
           {
            "colorbar": {
             "outlinewidth": 0,
             "ticks": ""
            },
            "colorscale": [
             [
              0,
              "#0d0887"
             ],
             [
              0.1111111111111111,
              "#46039f"
             ],
             [
              0.2222222222222222,
              "#7201a8"
             ],
             [
              0.3333333333333333,
              "#9c179e"
             ],
             [
              0.4444444444444444,
              "#bd3786"
             ],
             [
              0.5555555555555556,
              "#d8576b"
             ],
             [
              0.6666666666666666,
              "#ed7953"
             ],
             [
              0.7777777777777778,
              "#fb9f3a"
             ],
             [
              0.8888888888888888,
              "#fdca26"
             ],
             [
              1,
              "#f0f921"
             ]
            ],
            "type": "histogram2d"
           }
          ],
          "histogram2dcontour": [
           {
            "colorbar": {
             "outlinewidth": 0,
             "ticks": ""
            },
            "colorscale": [
             [
              0,
              "#0d0887"
             ],
             [
              0.1111111111111111,
              "#46039f"
             ],
             [
              0.2222222222222222,
              "#7201a8"
             ],
             [
              0.3333333333333333,
              "#9c179e"
             ],
             [
              0.4444444444444444,
              "#bd3786"
             ],
             [
              0.5555555555555556,
              "#d8576b"
             ],
             [
              0.6666666666666666,
              "#ed7953"
             ],
             [
              0.7777777777777778,
              "#fb9f3a"
             ],
             [
              0.8888888888888888,
              "#fdca26"
             ],
             [
              1,
              "#f0f921"
             ]
            ],
            "type": "histogram2dcontour"
           }
          ],
          "mesh3d": [
           {
            "colorbar": {
             "outlinewidth": 0,
             "ticks": ""
            },
            "type": "mesh3d"
           }
          ],
          "parcoords": [
           {
            "line": {
             "colorbar": {
              "outlinewidth": 0,
              "ticks": ""
             }
            },
            "type": "parcoords"
           }
          ],
          "pie": [
           {
            "automargin": true,
            "type": "pie"
           }
          ],
          "scatter": [
           {
            "marker": {
             "colorbar": {
              "outlinewidth": 0,
              "ticks": ""
             }
            },
            "type": "scatter"
           }
          ],
          "scatter3d": [
           {
            "line": {
             "colorbar": {
              "outlinewidth": 0,
              "ticks": ""
             }
            },
            "marker": {
             "colorbar": {
              "outlinewidth": 0,
              "ticks": ""
             }
            },
            "type": "scatter3d"
           }
          ],
          "scattercarpet": [
           {
            "marker": {
             "colorbar": {
              "outlinewidth": 0,
              "ticks": ""
             }
            },
            "type": "scattercarpet"
           }
          ],
          "scattergeo": [
           {
            "marker": {
             "colorbar": {
              "outlinewidth": 0,
              "ticks": ""
             }
            },
            "type": "scattergeo"
           }
          ],
          "scattergl": [
           {
            "marker": {
             "colorbar": {
              "outlinewidth": 0,
              "ticks": ""
             }
            },
            "type": "scattergl"
           }
          ],
          "scattermapbox": [
           {
            "marker": {
             "colorbar": {
              "outlinewidth": 0,
              "ticks": ""
             }
            },
            "type": "scattermapbox"
           }
          ],
          "scatterpolar": [
           {
            "marker": {
             "colorbar": {
              "outlinewidth": 0,
              "ticks": ""
             }
            },
            "type": "scatterpolar"
           }
          ],
          "scatterpolargl": [
           {
            "marker": {
             "colorbar": {
              "outlinewidth": 0,
              "ticks": ""
             }
            },
            "type": "scatterpolargl"
           }
          ],
          "scatterternary": [
           {
            "marker": {
             "colorbar": {
              "outlinewidth": 0,
              "ticks": ""
             }
            },
            "type": "scatterternary"
           }
          ],
          "surface": [
           {
            "colorbar": {
             "outlinewidth": 0,
             "ticks": ""
            },
            "colorscale": [
             [
              0,
              "#0d0887"
             ],
             [
              0.1111111111111111,
              "#46039f"
             ],
             [
              0.2222222222222222,
              "#7201a8"
             ],
             [
              0.3333333333333333,
              "#9c179e"
             ],
             [
              0.4444444444444444,
              "#bd3786"
             ],
             [
              0.5555555555555556,
              "#d8576b"
             ],
             [
              0.6666666666666666,
              "#ed7953"
             ],
             [
              0.7777777777777778,
              "#fb9f3a"
             ],
             [
              0.8888888888888888,
              "#fdca26"
             ],
             [
              1,
              "#f0f921"
             ]
            ],
            "type": "surface"
           }
          ],
          "table": [
           {
            "cells": {
             "fill": {
              "color": "#EBF0F8"
             },
             "line": {
              "color": "white"
             }
            },
            "header": {
             "fill": {
              "color": "#C8D4E3"
             },
             "line": {
              "color": "white"
             }
            },
            "type": "table"
           }
          ]
         },
         "layout": {
          "annotationdefaults": {
           "arrowcolor": "#2a3f5f",
           "arrowhead": 0,
           "arrowwidth": 1
          },
          "coloraxis": {
           "colorbar": {
            "outlinewidth": 0,
            "ticks": ""
           }
          },
          "colorscale": {
           "diverging": [
            [
             0,
             "#8e0152"
            ],
            [
             0.1,
             "#c51b7d"
            ],
            [
             0.2,
             "#de77ae"
            ],
            [
             0.3,
             "#f1b6da"
            ],
            [
             0.4,
             "#fde0ef"
            ],
            [
             0.5,
             "#f7f7f7"
            ],
            [
             0.6,
             "#e6f5d0"
            ],
            [
             0.7,
             "#b8e186"
            ],
            [
             0.8,
             "#7fbc41"
            ],
            [
             0.9,
             "#4d9221"
            ],
            [
             1,
             "#276419"
            ]
           ],
           "sequential": [
            [
             0,
             "#0d0887"
            ],
            [
             0.1111111111111111,
             "#46039f"
            ],
            [
             0.2222222222222222,
             "#7201a8"
            ],
            [
             0.3333333333333333,
             "#9c179e"
            ],
            [
             0.4444444444444444,
             "#bd3786"
            ],
            [
             0.5555555555555556,
             "#d8576b"
            ],
            [
             0.6666666666666666,
             "#ed7953"
            ],
            [
             0.7777777777777778,
             "#fb9f3a"
            ],
            [
             0.8888888888888888,
             "#fdca26"
            ],
            [
             1,
             "#f0f921"
            ]
           ],
           "sequentialminus": [
            [
             0,
             "#0d0887"
            ],
            [
             0.1111111111111111,
             "#46039f"
            ],
            [
             0.2222222222222222,
             "#7201a8"
            ],
            [
             0.3333333333333333,
             "#9c179e"
            ],
            [
             0.4444444444444444,
             "#bd3786"
            ],
            [
             0.5555555555555556,
             "#d8576b"
            ],
            [
             0.6666666666666666,
             "#ed7953"
            ],
            [
             0.7777777777777778,
             "#fb9f3a"
            ],
            [
             0.8888888888888888,
             "#fdca26"
            ],
            [
             1,
             "#f0f921"
            ]
           ]
          },
          "colorway": [
           "#636efa",
           "#EF553B",
           "#00cc96",
           "#ab63fa",
           "#FFA15A",
           "#19d3f3",
           "#FF6692",
           "#B6E880",
           "#FF97FF",
           "#FECB52"
          ],
          "font": {
           "color": "#2a3f5f"
          },
          "geo": {
           "bgcolor": "white",
           "lakecolor": "white",
           "landcolor": "#E5ECF6",
           "showlakes": true,
           "showland": true,
           "subunitcolor": "white"
          },
          "hoverlabel": {
           "align": "left"
          },
          "hovermode": "closest",
          "mapbox": {
           "style": "light"
          },
          "paper_bgcolor": "white",
          "plot_bgcolor": "#E5ECF6",
          "polar": {
           "angularaxis": {
            "gridcolor": "white",
            "linecolor": "white",
            "ticks": ""
           },
           "bgcolor": "#E5ECF6",
           "radialaxis": {
            "gridcolor": "white",
            "linecolor": "white",
            "ticks": ""
           }
          },
          "scene": {
           "xaxis": {
            "backgroundcolor": "#E5ECF6",
            "gridcolor": "white",
            "gridwidth": 2,
            "linecolor": "white",
            "showbackground": true,
            "ticks": "",
            "zerolinecolor": "white"
           },
           "yaxis": {
            "backgroundcolor": "#E5ECF6",
            "gridcolor": "white",
            "gridwidth": 2,
            "linecolor": "white",
            "showbackground": true,
            "ticks": "",
            "zerolinecolor": "white"
           },
           "zaxis": {
            "backgroundcolor": "#E5ECF6",
            "gridcolor": "white",
            "gridwidth": 2,
            "linecolor": "white",
            "showbackground": true,
            "ticks": "",
            "zerolinecolor": "white"
           }
          },
          "shapedefaults": {
           "line": {
            "color": "#2a3f5f"
           }
          },
          "ternary": {
           "aaxis": {
            "gridcolor": "white",
            "linecolor": "white",
            "ticks": ""
           },
           "baxis": {
            "gridcolor": "white",
            "linecolor": "white",
            "ticks": ""
           },
           "bgcolor": "#E5ECF6",
           "caxis": {
            "gridcolor": "white",
            "linecolor": "white",
            "ticks": ""
           }
          },
          "title": {
           "x": 0.05
          },
          "xaxis": {
           "automargin": true,
           "gridcolor": "white",
           "linecolor": "white",
           "ticks": "",
           "title": {
            "standoff": 15
           },
           "zerolinecolor": "white",
           "zerolinewidth": 2
          },
          "yaxis": {
           "automargin": true,
           "gridcolor": "white",
           "linecolor": "white",
           "ticks": "",
           "title": {
            "standoff": 15
           },
           "zerolinecolor": "white",
           "zerolinewidth": 2
          }
         }
        },
        "title": {
         "text": "Zastoupení žen v Poslanecké sněmovně ČR"
        },
        "xaxis": {
         "autorange": true,
         "range": [
          "1986-10-16 12:56:05.9123",
          "2092-10-11 11:03:54.0877"
         ],
         "title": {
          "text": "Datum"
         },
         "type": "date"
        },
        "yaxis": {
         "autorange": true,
         "range": [
          0,
          106.82492581602374
         ],
         "ticktext": [
          "0%",
          "20%",
          "40%",
          "60%",
          "80%",
          "100%"
         ],
         "tickvals": [
          0,
          20,
          40,
          60,
          80,
          100
         ],
         "title": {
          "text": "Zastoupení žen"
         },
         "type": "linear"
        }
       }
      },
      "image/png": "[encoded data removed]",
      "text/html": [
       "<div>\n",
       "        \n",
       "        \n",
       "            <div id=\"76f8f14a-05dc-4218-89aa-e1198d203c03\" class=\"plotly-graph-div\" style=\"height:525px; width:100%;\"></div>\n",
       "            <script type=\"text/javascript\">\n",
       "                require([\"plotly\"], function(Plotly) {\n",
       "                    window.PLOTLYENV=window.PLOTLYENV || {};\n",
       "                    \n",
       "                if (document.getElementById(\"76f8f14a-05dc-4218-89aa-e1198d203c03\")) {\n",
       "                    Plotly.newPlot(\n",
       "                        '76f8f14a-05dc-4218-89aa-e1198d203c03',\n",
       "                        [{\"hoverinfo\": \"text\", \"hovertemplate\": \"Sn\\u011bmovna: 1992<br>Datum: %{x|%d. %m. %Y}<br>Pohlav\\u00ed: \\u017eeny<br>Po\\u010det: %{y}<extra></extra>\", \"mode\": \"markers+lines\", \"name\": \"\\u017eeny (1992)\", \"stackgroup\": \"1992\", \"type\": \"scatter\", \"x\": [\"1992-06-06\", \"1993-11-09\", \"1993-11-11\", \"1995-05-23\", \"1995-05-25\", \"1996-04-29\", \"1996-04-30\", \"1996-05-06\", \"1996-05-07\", \"1996-05-31\"], \"y\": [10.0, 9.547738693467336, 9.5, 9.547738693467336, 9.5, 9.547738693467336, 9.5, 9.547738693467336, 10.0, 10.0]}, {\"hoverinfo\": \"text\", \"hovertemplate\": \"Sn\\u011bmovna: 1992<br>Datum: %{x|%d. %m. %Y}<br>Pohlav\\u00ed: mu\\u017ei<br>Po\\u010det: %{y}<extra></extra>\", \"mode\": \"markers+lines\", \"name\": \"mu\\u017ei (1992)\", \"stackgroup\": \"1992\", \"type\": \"scatter\", \"x\": [\"1992-06-06\", \"1993-11-09\", \"1993-11-11\", \"1995-05-23\", \"1995-05-25\", \"1996-04-29\", \"1996-04-30\", \"1996-05-06\", \"1996-05-07\", \"1996-05-31\"], \"y\": [90.0, 90.45226130653266, 90.5, 90.45226130653266, 90.5, 90.45226130653266, 90.5, 90.45226130653266, 90.0, 90.0]}, {\"hoverinfo\": \"text\", \"hovertemplate\": \"Sn\\u011bmovna: 1996<br>Datum: %{x|%d. %m. %Y}<br>Pohlav\\u00ed: \\u017eeny<br>Po\\u010det: %{y}<extra></extra>\", \"mode\": \"markers+lines\", \"name\": \"\\u017eeny (1996)\", \"stackgroup\": \"1996\", \"type\": \"scatter\", \"x\": [\"1996-06-01\", \"1996-11-01\", \"1996-11-02\", \"1996-12-17\", \"1996-12-18\", \"1997-01-16\", \"1997-01-17\", \"1997-06-02\", \"1997-06-03\", \"1997-06-11\", \"1997-06-12\", \"1997-08-27\", \"1997-08-28\", \"1997-08-29\", \"1997-08-30\", \"1997-11-11\", \"1997-11-12\", \"1997-12-01\", \"1997-12-02\", \"1997-12-03\", \"1998-01-26\", \"1998-01-27\", \"1998-02-12\", \"1998-02-13\", \"1998-02-25\", \"1998-02-26\", \"1998-06-18\"], \"y\": [15.0, 15.075376884422111, 15.0, 14.646464646464647, 14.5, 14.57286432160804, 14.5, 14.57286432160804, 14.5, 14.57286432160804, 14.5, 14.57286432160804, 14.5, 14.57286432160804, 14.5, 14.57286432160804, 14.5, 14.57286432160804, 15.075376884422111, 15.0, 15.075376884422111, 15.0, 15.075376884422111, 15.0, 15.075376884422111, 15.0, 15.0]}, {\"hoverinfo\": \"text\", \"hovertemplate\": \"Sn\\u011bmovna: 1996<br>Datum: %{x|%d. %m. %Y}<br>Pohlav\\u00ed: mu\\u017ei<br>Po\\u010det: %{y}<extra></extra>\", \"mode\": \"markers+lines\", \"name\": \"mu\\u017ei (1996)\", \"stackgroup\": \"1996\", \"type\": \"scatter\", \"x\": [\"1996-06-01\", \"1996-11-01\", \"1996-11-02\", \"1996-12-17\", \"1996-12-18\", \"1997-01-16\", \"1997-01-17\", \"1997-06-02\", \"1997-06-03\", \"1997-06-11\", \"1997-06-12\", \"1997-08-27\", \"1997-08-28\", \"1997-08-29\", \"1997-08-30\", \"1997-11-11\", \"1997-11-12\", \"1997-12-01\", \"1997-12-02\", \"1997-12-03\", \"1998-01-26\", \"1998-01-27\", \"1998-02-12\", \"1998-02-13\", \"1998-02-25\", \"1998-02-26\", \"1998-06-18\"], \"y\": [85.0, 84.92462311557789, 85.0, 85.35353535353535, 85.5, 85.42713567839196, 85.5, 85.42713567839196, 85.5, 85.42713567839196, 85.5, 85.42713567839196, 85.5, 85.42713567839196, 85.5, 85.42713567839196, 85.5, 85.42713567839196, 84.92462311557789, 85.0, 84.92462311557789, 85.0, 84.92462311557789, 85.0, 84.92462311557789, 85.0, 85.0]}, {\"hoverinfo\": \"text\", \"hovertemplate\": \"Sn\\u011bmovna: 1998<br>Datum: %{x|%d. %m. %Y}<br>Pohlav\\u00ed: \\u017eeny<br>Po\\u010det: %{y}<extra></extra>\", \"mode\": \"markers+lines\", \"name\": \"\\u017eeny (1998)\", \"stackgroup\": \"1998\", \"type\": \"scatter\", \"x\": [\"1998-06-20\", \"1999-11-22\", \"2000-09-14\", \"2001-02-28\", \"2001-03-01\", \"2001-07-31\", \"2001-10-31\", \"2002-06-14\"], \"y\": [15.0, 15.0, 15.5, 15.656565656565656, 16.0, 16.0, 16.0, 16.0]}, {\"hoverinfo\": \"text\", \"hovertemplate\": \"Sn\\u011bmovna: 1998<br>Datum: %{x|%d. %m. %Y}<br>Pohlav\\u00ed: mu\\u017ei<br>Po\\u010det: %{y}<extra></extra>\", \"mode\": \"markers+lines\", \"name\": \"mu\\u017ei (1998)\", \"stackgroup\": \"1998\", \"type\": \"scatter\", \"x\": [\"1998-06-20\", \"1999-11-22\", \"2000-09-14\", \"2001-02-28\", \"2001-03-01\", \"2001-07-31\", \"2001-10-31\", \"2002-06-14\"], \"y\": [85.0, 85.0, 84.5, 84.34343434343434, 84.0, 84.0, 84.0, 84.0]}, {\"hoverinfo\": \"text\", \"hovertemplate\": \"Sn\\u011bmovna: 2002<br>Datum: %{x|%d. %m. %Y}<br>Pohlav\\u00ed: \\u017eeny<br>Po\\u010det: %{y}<extra></extra>\", \"mode\": \"markers+lines\", \"name\": \"\\u017eeny (2002)\", \"stackgroup\": \"2002\", \"type\": \"scatter\", \"x\": [\"2002-06-15\", \"2002-09-18\", \"2003-03-07\", \"2003-04-23\", \"2003-06-02\", \"2003-06-06\", \"2003-07-26\", \"2003-09-23\", \"2004-05-05\", \"2004-07-08\", \"2004-07-20\", \"2004-08-31\", \"2004-09-21\", \"2004-09-22\", \"2004-09-24\", \"2004-09-30\", \"2004-10-07\", \"2005-06-09\", \"2005-07-24\", \"2005-12-02\", \"2005-12-09\", \"2006-01-17\", \"2006-01-20\", \"2006-01-24\", \"2006-02-28\", \"2006-04-18\", \"2006-06-02\"], \"y\": [17.0, 17.0, 17.0, 17.0, 17.0, 17.0, 17.0, 16.5, 16.5, 16.5, 16.5, 16.5, 16.5, 16.5, 16.0, 16.0, 16.0, 15.5, 16.0, 16.0, 15.5, 15.5, 16.0, 16.0, 16.0, 16.5, 16.5]}, {\"hoverinfo\": \"text\", \"hovertemplate\": \"Sn\\u011bmovna: 2002<br>Datum: %{x|%d. %m. %Y}<br>Pohlav\\u00ed: mu\\u017ei<br>Po\\u010det: %{y}<extra></extra>\", \"mode\": \"markers+lines\", \"name\": \"mu\\u017ei (2002)\", \"stackgroup\": \"2002\", \"type\": \"scatter\", \"x\": [\"2002-06-15\", \"2002-09-18\", \"2003-03-07\", \"2003-04-23\", \"2003-06-02\", \"2003-06-06\", \"2003-07-26\", \"2003-09-23\", \"2004-05-05\", \"2004-07-08\", \"2004-07-20\", \"2004-08-31\", \"2004-09-21\", \"2004-09-22\", \"2004-09-24\", \"2004-09-30\", \"2004-10-07\", \"2005-06-09\", \"2005-07-24\", \"2005-12-02\", \"2005-12-09\", \"2006-01-17\", \"2006-01-20\", \"2006-01-24\", \"2006-02-28\", \"2006-04-18\", \"2006-06-02\"], \"y\": [83.0, 83.0, 83.0, 83.0, 83.0, 83.0, 83.0, 83.5, 83.5, 83.5, 83.5, 83.5, 83.5, 83.5, 84.0, 84.0, 84.0, 84.5, 84.0, 84.0, 84.5, 84.5, 84.0, 84.0, 84.0, 83.5, 83.5]}, {\"hoverinfo\": \"text\", \"hovertemplate\": \"Sn\\u011bmovna: 2006<br>Datum: %{x|%d. %m. %Y}<br>Pohlav\\u00ed: \\u017eeny<br>Po\\u010det: %{y}<extra></extra>\", \"mode\": \"markers+lines\", \"name\": \"\\u017eeny (2006)\", \"stackgroup\": \"2006\", \"type\": \"scatter\", \"x\": [\"2006-06-03\", \"2007-01-16\", \"2008-09-17\", \"2008-10-25\", \"2008-11-13\", \"2008-12-11\", \"2009-03-01\", \"2009-04-30\", \"2009-07-03\", \"2009-07-09\", \"2009-07-13\", \"2009-09-15\", \"2009-09-29\", \"2009-12-11\", \"2010-03-01\", \"2010-04-30\", \"2010-05-26\", \"2010-05-28\"], \"y\": [15.5, 15.5, 15.5, 15.5, 16.0, 16.5, 17.5, 17.5, 17.0, 17.0, 17.5, 18.0, 18.0, 18.0, 18.0, 19.0, 18.5, 18.5]}, {\"hoverinfo\": \"text\", \"hovertemplate\": \"Sn\\u011bmovna: 2006<br>Datum: %{x|%d. %m. %Y}<br>Pohlav\\u00ed: mu\\u017ei<br>Po\\u010det: %{y}<extra></extra>\", \"mode\": \"markers+lines\", \"name\": \"mu\\u017ei (2006)\", \"stackgroup\": \"2006\", \"type\": \"scatter\", \"x\": [\"2006-06-03\", \"2007-01-16\", \"2008-09-17\", \"2008-10-25\", \"2008-11-13\", \"2008-12-11\", \"2009-03-01\", \"2009-04-30\", \"2009-07-03\", \"2009-07-09\", \"2009-07-13\", \"2009-09-15\", \"2009-09-29\", \"2009-12-11\", \"2010-03-01\", \"2010-04-30\", \"2010-05-26\", \"2010-05-28\"], \"y\": [84.5, 84.5, 84.5, 84.5, 84.0, 83.5, 82.5, 82.5, 83.0, 83.0, 82.5, 82.0, 82.0, 82.0, 82.0, 81.0, 81.5, 81.5]}, {\"hoverinfo\": \"text\", \"hovertemplate\": \"Sn\\u011bmovna: 2010<br>Datum: %{x|%d. %m. %Y}<br>Pohlav\\u00ed: \\u017eeny<br>Po\\u010det: %{y}<extra></extra>\", \"mode\": \"markers+lines\", \"name\": \"\\u017eeny (2010)\", \"stackgroup\": \"2010\", \"type\": \"scatter\", \"x\": [\"2010-05-29\", \"2010-10-23\", \"2010-11-30\", \"2011-03-01\", \"2011-03-25\", \"2011-03-26\", \"2012-02-07\", \"2012-10-20\", \"2012-11-07\", \"2013-01-31\", \"2013-04-05\", \"2013-04-11\", \"2013-04-24\", \"2013-06-14\", \"2013-08-27\"], \"y\": [22.0, 22.5, 22.0, 22.0, 22.0, 22.0, 22.0, 21.5, 21.5, 21.5, 22.0, 21.5, 21.5, 21.5, 21.5]}, {\"hoverinfo\": \"text\", \"hovertemplate\": \"Sn\\u011bmovna: 2010<br>Datum: %{x|%d. %m. %Y}<br>Pohlav\\u00ed: mu\\u017ei<br>Po\\u010det: %{y}<extra></extra>\", \"mode\": \"markers+lines\", \"name\": \"mu\\u017ei (2010)\", \"stackgroup\": \"2010\", \"type\": \"scatter\", \"x\": [\"2010-05-29\", \"2010-10-23\", \"2010-11-30\", \"2011-03-01\", \"2011-03-25\", \"2011-03-26\", \"2012-02-07\", \"2012-10-20\", \"2012-11-07\", \"2013-01-31\", \"2013-04-05\", \"2013-04-11\", \"2013-04-24\", \"2013-06-14\", \"2013-08-27\"], \"y\": [78.0, 77.5, 78.0, 78.0, 78.0, 78.0, 78.0, 78.5, 78.5, 78.5, 78.0, 78.5, 78.5, 78.5, 78.5]}, {\"hoverinfo\": \"text\", \"hovertemplate\": \"Sn\\u011bmovna: 2013<br>Datum: %{x|%d. %m. %Y}<br>Pohlav\\u00ed: \\u017eeny<br>Po\\u010det: %{y}<extra></extra>\", \"mode\": \"markers+lines\", \"name\": \"\\u017eeny (2013)\", \"stackgroup\": \"2013\", \"type\": \"scatter\", \"x\": [\"2013-10-26\", \"2013-11-27\", \"2013-12-03\", \"2014-03-31\", \"2014-04-30\", \"2014-06-20\", \"2014-07-01\", \"2014-08-28\", \"2014-10-21\", \"2014-12-08\", \"2016-01-14\", \"2017-01-03\", \"2017-03-14\", \"2017-06-09\", \"2017-07-01\", \"2017-10-20\"], \"y\": [19.5, 19.5, 19.5, 20.0, 20.0, 20.0, 19.5, 19.5, 19.5, 20.0, 20.5, 20.0, 20.0, 20.0, 20.5, 20.5]}, {\"hoverinfo\": \"text\", \"hovertemplate\": \"Sn\\u011bmovna: 2013<br>Datum: %{x|%d. %m. %Y}<br>Pohlav\\u00ed: mu\\u017ei<br>Po\\u010det: %{y}<extra></extra>\", \"mode\": \"markers+lines\", \"name\": \"mu\\u017ei (2013)\", \"stackgroup\": \"2013\", \"type\": \"scatter\", \"x\": [\"2013-10-26\", \"2013-11-27\", \"2013-12-03\", \"2014-03-31\", \"2014-04-30\", \"2014-06-20\", \"2014-07-01\", \"2014-08-28\", \"2014-10-21\", \"2014-12-08\", \"2016-01-14\", \"2017-01-03\", \"2017-03-14\", \"2017-06-09\", \"2017-07-01\", \"2017-10-20\"], \"y\": [80.5, 80.5, 80.5, 80.0, 80.0, 80.0, 80.5, 80.5, 80.5, 80.0, 79.5, 80.0, 80.0, 80.0, 79.5, 79.5]}, {\"hoverinfo\": \"text\", \"hovertemplate\": \"Sn\\u011bmovna: 2017<br>Datum: %{x|%d. %m. %Y}<br>Pohlav\\u00ed: \\u017eeny<br>Po\\u010det: %{y}<extra></extra>\", \"mode\": \"markers+lines\", \"name\": \"\\u017eeny (2017)\", \"stackgroup\": \"2017\", \"type\": \"scatter\", \"x\": [\"2017-10-21\", \"2017-11-24\", \"2018-03-31\", \"2018-06-19\", \"2018-10-01\", \"2018-12-04\", \"2019-04-14\", \"2019-04-15\", \"2019-06-06\", \"2019-07-02\", \"2020-07-31\", \"2020-10-10\", \"2020-12-31\", \"2021-01-19\", \"2021-01-26\", \"2021-03-01\", \"2021-03-09\", \"2021-05-31\"], \"y\": [22.0, 22.0, 22.0, 22.5, 22.5, 23.0, 23.0, 23.5, 23.5, 22.5, 23.0, 22.5, 23.0, 23.0, 23.0, 22.5, 22.5, 22.5]}, {\"hoverinfo\": \"text\", \"hovertemplate\": \"Sn\\u011bmovna: 2017<br>Datum: %{x|%d. %m. %Y}<br>Pohlav\\u00ed: mu\\u017ei<br>Po\\u010det: %{y}<extra></extra>\", \"mode\": \"markers+lines\", \"name\": \"mu\\u017ei (2017)\", \"stackgroup\": \"2017\", \"type\": \"scatter\", \"x\": [\"2017-10-21\", \"2017-11-24\", \"2018-03-31\", \"2018-06-19\", \"2018-10-01\", \"2018-12-04\", \"2019-04-14\", \"2019-04-15\", \"2019-06-06\", \"2019-07-02\", \"2020-07-31\", \"2020-10-10\", \"2020-12-31\", \"2021-01-19\", \"2021-01-26\", \"2021-03-01\", \"2021-03-09\", \"2021-05-31\"], \"y\": [78.0, 78.0, 78.0, 77.5, 77.5, 77.0, 77.0, 76.5, 76.5, 77.5, 77.0, 77.5, 77.0, 77.0, 77.0, 77.5, 77.5, 77.5]}, {\"line\": {\"color\": \"green\", \"dash\": \"dash\", \"width\": 2}, \"mode\": \"markers+lines\", \"name\": \"\\u017eeny (extrapolace)\", \"type\": \"scatter\", \"x\": [\"1992-06-06T00:00:00\", \"1993-05-21T00:00:00\", \"1994-05-06T00:00:00\", \"1995-04-20T00:00:00\", \"1996-04-04T00:00:00\", \"1997-03-19T00:00:00\", \"1998-03-04T00:00:00\", \"1999-02-16T00:00:00\", \"2000-01-31T00:00:00\", \"2001-01-15T00:00:00\", \"2001-12-30T00:00:00\", \"2002-12-15T00:00:00\", \"2003-11-29T00:00:00\", \"2004-11-13T00:00:00\", \"2005-10-28T00:00:00\", \"2006-10-12T00:00:00\", \"2007-09-27T00:00:00\", \"2008-09-10T00:00:00\", \"2009-08-26T00:00:00\", \"2010-08-10T00:00:00\", \"2011-07-25T00:00:00\", \"2012-07-09T00:00:00\", \"2013-06-23T00:00:00\", \"2014-06-08T00:00:00\", \"2015-05-23T00:00:00\", \"2016-05-07T00:00:00\", \"2017-04-21T00:00:00\", \"2018-04-05T00:00:00\", \"2019-03-21T00:00:00\", \"2020-03-04T00:00:00\", \"2021-02-17T00:00:00\", \"2022-02-01T00:00:00\", \"2023-01-17T00:00:00\", \"2024-01-01T00:00:00\", \"2024-12-15T00:00:00\", \"2025-11-30T00:00:00\", \"2026-11-14T00:00:00\", \"2027-10-30T00:00:00\", \"2028-10-13T00:00:00\", \"2029-09-28T00:00:00\", \"2030-09-12T00:00:00\", \"2031-08-27T00:00:00\", \"2032-08-11T00:00:00\", \"2033-07-26T00:00:00\", \"2034-07-11T00:00:00\", \"2035-06-25T00:00:00\", \"2036-06-09T00:00:00\", \"2037-05-24T00:00:00\", \"2038-05-08T00:00:00\", \"2039-04-23T00:00:00\", \"2040-04-06T00:00:00\", \"2041-03-22T00:00:00\", \"2042-03-06T00:00:00\", \"2043-02-18T00:00:00\", \"2044-02-03T00:00:00\", \"2045-01-17T00:00:00\", \"2046-01-02T00:00:00\", \"2046-12-17T00:00:00\", \"2047-12-02T00:00:00\", \"2048-11-15T00:00:00\", \"2049-10-30T00:00:00\", \"2050-10-15T00:00:00\", \"2051-09-29T00:00:00\", \"2052-09-13T00:00:00\", \"2053-08-28T00:00:00\", \"2054-08-13T00:00:00\", \"2055-07-28T00:00:00\", \"2056-07-11T00:00:00\", \"2057-06-26T00:00:00\", \"2058-06-10T00:00:00\", \"2059-05-26T00:00:00\", \"2060-05-09T00:00:00\", \"2061-04-24T00:00:00\", \"2062-04-08T00:00:00\", \"2063-03-23T00:00:00\", \"2064-03-07T00:00:00\", \"2065-02-19T00:00:00\", \"2066-02-04T00:00:00\", \"2067-01-19T00:00:00\", \"2068-01-04T00:00:00\", \"2068-12-18T00:00:00\", \"2069-12-02T00:00:00\", \"2070-11-17T00:00:00\", \"2071-11-01T00:00:00\", \"2072-10-16T00:00:00\", \"2073-09-30T00:00:00\", \"2074-09-14T00:00:00\", \"2075-08-30T00:00:00\", \"2076-08-13T00:00:00\", \"2077-07-29T00:00:00\", \"2078-07-13T00:00:00\", \"2079-06-28T00:00:00\", \"2080-06-11T00:00:00\", \"2081-05-26T00:00:00\", \"2082-05-11T00:00:00\", \"2083-04-25T00:00:00\", \"2084-04-09T00:00:00\", \"2085-03-24T00:00:00\", \"2086-03-09T00:00:00\", \"2087-02-21T00:00:00\"], \"y\": [11.52, 11.91, 12.3, 12.69, 13.08, 13.47, 13.86, 14.24, 14.63, 15.02, 15.41, 15.8, 16.19, 16.58, 16.97, 17.35, 17.74, 18.13, 18.52, 18.91, 19.3, 19.69, 20.07, 20.46, 20.85, 21.24, 21.63, 22.02, 22.41, 22.79, 23.18, 23.57, 23.96, 24.35, 24.74, 25.13, 25.51, 25.9, 26.29, 26.68, 27.07, 27.46, 27.85, 28.24, 28.62, 29.01, 29.4, 29.79, 30.18, 30.57, 30.96, 31.35, 31.73, 32.12, 32.51, 32.9, 33.29, 33.68, 34.07, 34.45, 34.84, 35.23, 35.62, 36.01, 36.4, 36.79, 37.17, 37.56, 37.95, 38.34, 38.73, 39.12, 39.51, 39.9, 40.28, 40.67, 41.06, 41.45, 41.84, 42.23, 42.62, 43.0, 43.39, 43.78, 44.17, 44.56, 44.95, 45.34, 45.72, 46.11, 46.5, 46.89, 47.28, 47.67, 48.06, 48.45, 48.83, 49.22, 49.61, 50.0]}],\n",
       "                        {\"annotations\": [{\"arrowhead\": 2, \"text\": \"50% zastoupen\\u00ed\", \"x\": \"2039-10-14T12:00:00\", \"y\": 50}], \"hovermode\": \"x\", \"plot_bgcolor\": \"#FFFFFF\", \"shapes\": [{\"line\": {\"color\": \"black\", \"dash\": \"dot\", \"width\": 1}, \"type\": \"line\", \"x0\": \"1992-06-06T00:00:00\", \"x1\": \"2087-02-21T00:00:00\", \"y0\": 50, \"y1\": 50}], \"showlegend\": false, \"template\": {\"data\": {\"bar\": [{\"error_x\": {\"color\": \"#2a3f5f\"}, \"error_y\": {\"color\": \"#2a3f5f\"}, \"marker\": {\"line\": {\"color\": \"#E5ECF6\", \"width\": 0.5}}, \"type\": \"bar\"}], \"barpolar\": [{\"marker\": {\"line\": {\"color\": \"#E5ECF6\", \"width\": 0.5}}, \"type\": \"barpolar\"}], \"carpet\": [{\"aaxis\": {\"endlinecolor\": \"#2a3f5f\", \"gridcolor\": \"white\", \"linecolor\": \"white\", \"minorgridcolor\": \"white\", \"startlinecolor\": \"#2a3f5f\"}, \"baxis\": {\"endlinecolor\": \"#2a3f5f\", \"gridcolor\": \"white\", \"linecolor\": \"white\", \"minorgridcolor\": \"white\", \"startlinecolor\": \"#2a3f5f\"}, \"type\": \"carpet\"}], \"choropleth\": [{\"colorbar\": {\"outlinewidth\": 0, \"ticks\": \"\"}, \"type\": \"choropleth\"}], \"contour\": [{\"colorbar\": {\"outlinewidth\": 0, \"ticks\": \"\"}, \"colorscale\": [[0.0, \"#0d0887\"], [0.1111111111111111, \"#46039f\"], [0.2222222222222222, \"#7201a8\"], [0.3333333333333333, \"#9c179e\"], [0.4444444444444444, \"#bd3786\"], [0.5555555555555556, \"#d8576b\"], [0.6666666666666666, \"#ed7953\"], [0.7777777777777778, \"#fb9f3a\"], [0.8888888888888888, \"#fdca26\"], [1.0, \"#f0f921\"]], \"type\": \"contour\"}], \"contourcarpet\": [{\"colorbar\": {\"outlinewidth\": 0, \"ticks\": \"\"}, \"type\": \"contourcarpet\"}], \"heatmap\": [{\"colorbar\": {\"outlinewidth\": 0, \"ticks\": \"\"}, \"colorscale\": [[0.0, \"#0d0887\"], [0.1111111111111111, \"#46039f\"], [0.2222222222222222, \"#7201a8\"], [0.3333333333333333, \"#9c179e\"], [0.4444444444444444, \"#bd3786\"], [0.5555555555555556, \"#d8576b\"], [0.6666666666666666, \"#ed7953\"], [0.7777777777777778, \"#fb9f3a\"], [0.8888888888888888, \"#fdca26\"], [1.0, \"#f0f921\"]], \"type\": \"heatmap\"}], \"heatmapgl\": [{\"colorbar\": {\"outlinewidth\": 0, \"ticks\": \"\"}, \"colorscale\": [[0.0, \"#0d0887\"], [0.1111111111111111, \"#46039f\"], [0.2222222222222222, \"#7201a8\"], [0.3333333333333333, \"#9c179e\"], [0.4444444444444444, \"#bd3786\"], [0.5555555555555556, \"#d8576b\"], [0.6666666666666666, \"#ed7953\"], [0.7777777777777778, \"#fb9f3a\"], [0.8888888888888888, \"#fdca26\"], [1.0, \"#f0f921\"]], \"type\": \"heatmapgl\"}], \"histogram\": [{\"marker\": {\"colorbar\": {\"outlinewidth\": 0, \"ticks\": \"\"}}, \"type\": \"histogram\"}], \"histogram2d\": [{\"colorbar\": {\"outlinewidth\": 0, \"ticks\": \"\"}, \"colorscale\": [[0.0, \"#0d0887\"], [0.1111111111111111, \"#46039f\"], [0.2222222222222222, \"#7201a8\"], [0.3333333333333333, \"#9c179e\"], [0.4444444444444444, \"#bd3786\"], [0.5555555555555556, \"#d8576b\"], [0.6666666666666666, \"#ed7953\"], [0.7777777777777778, \"#fb9f3a\"], [0.8888888888888888, \"#fdca26\"], [1.0, \"#f0f921\"]], \"type\": \"histogram2d\"}], \"histogram2dcontour\": [{\"colorbar\": {\"outlinewidth\": 0, \"ticks\": \"\"}, \"colorscale\": [[0.0, \"#0d0887\"], [0.1111111111111111, \"#46039f\"], [0.2222222222222222, \"#7201a8\"], [0.3333333333333333, \"#9c179e\"], [0.4444444444444444, \"#bd3786\"], [0.5555555555555556, \"#d8576b\"], [0.6666666666666666, \"#ed7953\"], [0.7777777777777778, \"#fb9f3a\"], [0.8888888888888888, \"#fdca26\"], [1.0, \"#f0f921\"]], \"type\": \"histogram2dcontour\"}], \"mesh3d\": [{\"colorbar\": {\"outlinewidth\": 0, \"ticks\": \"\"}, \"type\": \"mesh3d\"}], \"parcoords\": [{\"line\": {\"colorbar\": {\"outlinewidth\": 0, \"ticks\": \"\"}}, \"type\": \"parcoords\"}], \"pie\": [{\"automargin\": true, \"type\": \"pie\"}], \"scatter\": [{\"marker\": {\"colorbar\": {\"outlinewidth\": 0, \"ticks\": \"\"}}, \"type\": \"scatter\"}], \"scatter3d\": [{\"line\": {\"colorbar\": {\"outlinewidth\": 0, \"ticks\": \"\"}}, \"marker\": {\"colorbar\": {\"outlinewidth\": 0, \"ticks\": \"\"}}, \"type\": \"scatter3d\"}], \"scattercarpet\": [{\"marker\": {\"colorbar\": {\"outlinewidth\": 0, \"ticks\": \"\"}}, \"type\": \"scattercarpet\"}], \"scattergeo\": [{\"marker\": {\"colorbar\": {\"outlinewidth\": 0, \"ticks\": \"\"}}, \"type\": \"scattergeo\"}], \"scattergl\": [{\"marker\": {\"colorbar\": {\"outlinewidth\": 0, \"ticks\": \"\"}}, \"type\": \"scattergl\"}], \"scattermapbox\": [{\"marker\": {\"colorbar\": {\"outlinewidth\": 0, \"ticks\": \"\"}}, \"type\": \"scattermapbox\"}], \"scatterpolar\": [{\"marker\": {\"colorbar\": {\"outlinewidth\": 0, \"ticks\": \"\"}}, \"type\": \"scatterpolar\"}], \"scatterpolargl\": [{\"marker\": {\"colorbar\": {\"outlinewidth\": 0, \"ticks\": \"\"}}, \"type\": \"scatterpolargl\"}], \"scatterternary\": [{\"marker\": {\"colorbar\": {\"outlinewidth\": 0, \"ticks\": \"\"}}, \"type\": \"scatterternary\"}], \"surface\": [{\"colorbar\": {\"outlinewidth\": 0, \"ticks\": \"\"}, \"colorscale\": [[0.0, \"#0d0887\"], [0.1111111111111111, \"#46039f\"], [0.2222222222222222, \"#7201a8\"], [0.3333333333333333, \"#9c179e\"], [0.4444444444444444, \"#bd3786\"], [0.5555555555555556, \"#d8576b\"], [0.6666666666666666, \"#ed7953\"], [0.7777777777777778, \"#fb9f3a\"], [0.8888888888888888, \"#fdca26\"], [1.0, \"#f0f921\"]], \"type\": \"surface\"}], \"table\": [{\"cells\": {\"fill\": {\"color\": \"#EBF0F8\"}, \"line\": {\"color\": \"white\"}}, \"header\": {\"fill\": {\"color\": \"#C8D4E3\"}, \"line\": {\"color\": \"white\"}}, \"type\": \"table\"}]}, \"layout\": {\"annotationdefaults\": {\"arrowcolor\": \"#2a3f5f\", \"arrowhead\": 0, \"arrowwidth\": 1}, \"coloraxis\": {\"colorbar\": {\"outlinewidth\": 0, \"ticks\": \"\"}}, \"colorscale\": {\"diverging\": [[0, \"#8e0152\"], [0.1, \"#c51b7d\"], [0.2, \"#de77ae\"], [0.3, \"#f1b6da\"], [0.4, \"#fde0ef\"], [0.5, \"#f7f7f7\"], [0.6, \"#e6f5d0\"], [0.7, \"#b8e186\"], [0.8, \"#7fbc41\"], [0.9, \"#4d9221\"], [1, \"#276419\"]], \"sequential\": [[0.0, \"#0d0887\"], [0.1111111111111111, \"#46039f\"], [0.2222222222222222, \"#7201a8\"], [0.3333333333333333, \"#9c179e\"], [0.4444444444444444, \"#bd3786\"], [0.5555555555555556, \"#d8576b\"], [0.6666666666666666, \"#ed7953\"], [0.7777777777777778, \"#fb9f3a\"], [0.8888888888888888, \"#fdca26\"], [1.0, \"#f0f921\"]], \"sequentialminus\": [[0.0, \"#0d0887\"], [0.1111111111111111, \"#46039f\"], [0.2222222222222222, \"#7201a8\"], [0.3333333333333333, \"#9c179e\"], [0.4444444444444444, \"#bd3786\"], [0.5555555555555556, \"#d8576b\"], [0.6666666666666666, \"#ed7953\"], [0.7777777777777778, \"#fb9f3a\"], [0.8888888888888888, \"#fdca26\"], [1.0, \"#f0f921\"]]}, \"colorway\": [\"#636efa\", \"#EF553B\", \"#00cc96\", \"#ab63fa\", \"#FFA15A\", \"#19d3f3\", \"#FF6692\", \"#B6E880\", \"#FF97FF\", \"#FECB52\"], \"font\": {\"color\": \"#2a3f5f\"}, \"geo\": {\"bgcolor\": \"white\", \"lakecolor\": \"white\", \"landcolor\": \"#E5ECF6\", \"showlakes\": true, \"showland\": true, \"subunitcolor\": \"white\"}, \"hoverlabel\": {\"align\": \"left\"}, \"hovermode\": \"closest\", \"mapbox\": {\"style\": \"light\"}, \"paper_bgcolor\": \"white\", \"plot_bgcolor\": \"#E5ECF6\", \"polar\": {\"angularaxis\": {\"gridcolor\": \"white\", \"linecolor\": \"white\", \"ticks\": \"\"}, \"bgcolor\": \"#E5ECF6\", \"radialaxis\": {\"gridcolor\": \"white\", \"linecolor\": \"white\", \"ticks\": \"\"}}, \"scene\": {\"xaxis\": {\"backgroundcolor\": \"#E5ECF6\", \"gridcolor\": \"white\", \"gridwidth\": 2, \"linecolor\": \"white\", \"showbackground\": true, \"ticks\": \"\", \"zerolinecolor\": \"white\"}, \"yaxis\": {\"backgroundcolor\": \"#E5ECF6\", \"gridcolor\": \"white\", \"gridwidth\": 2, \"linecolor\": \"white\", \"showbackground\": true, \"ticks\": \"\", \"zerolinecolor\": \"white\"}, \"zaxis\": {\"backgroundcolor\": \"#E5ECF6\", \"gridcolor\": \"white\", \"gridwidth\": 2, \"linecolor\": \"white\", \"showbackground\": true, \"ticks\": \"\", \"zerolinecolor\": \"white\"}}, \"shapedefaults\": {\"line\": {\"color\": \"#2a3f5f\"}}, \"ternary\": {\"aaxis\": {\"gridcolor\": \"white\", \"linecolor\": \"white\", \"ticks\": \"\"}, \"baxis\": {\"gridcolor\": \"white\", \"linecolor\": \"white\", \"ticks\": \"\"}, \"bgcolor\": \"#E5ECF6\", \"caxis\": {\"gridcolor\": \"white\", \"linecolor\": \"white\", \"ticks\": \"\"}}, \"title\": {\"x\": 0.05}, \"xaxis\": {\"automargin\": true, \"gridcolor\": \"white\", \"linecolor\": \"white\", \"ticks\": \"\", \"title\": {\"standoff\": 15}, \"zerolinecolor\": \"white\", \"zerolinewidth\": 2}, \"yaxis\": {\"automargin\": true, \"gridcolor\": \"white\", \"linecolor\": \"white\", \"ticks\": \"\", \"title\": {\"standoff\": 15}, \"zerolinecolor\": \"white\", \"zerolinewidth\": 2}}}, \"title\": {\"text\": \"Zastoupen\\u00ed \\u017een v Poslaneck\\u00e9 sn\\u011bmovn\\u011b \\u010cR\"}, \"xaxis\": {\"title\": {\"text\": \"Datum\"}}, \"yaxis\": {\"ticktext\": [\"0%\", \"20%\", \"40%\", \"60%\", \"80%\", \"100%\"], \"tickvals\": [0, 20, 40, 60, 80, 100], \"title\": {\"text\": \"Zastoupen\\u00ed \\u017een\"}}},\n",
       "                        {\"responsive\": true}\n",
       "                    ).then(function(){\n",
       "                            \n",
       "var gd = document.getElementById('76f8f14a-05dc-4218-89aa-e1198d203c03');\n",
       "var x = new MutationObserver(function (mutations, observer) {{\n",
       "        var display = window.getComputedStyle(gd).display;\n",
       "        if (!display || display === 'none') {{\n",
       "            console.log([gd, 'removed!']);\n",
       "            Plotly.purge(gd);\n",
       "            observer.disconnect();\n",
       "        }}\n",
       "}});\n",
       "\n",
       "// Listen for the removal of the full notebook cells\n",
       "var notebookContainer = gd.closest('#notebook-container');\n",
       "if (notebookContainer) {{\n",
       "    x.observe(notebookContainer, {childList: true});\n",
       "}}\n",
       "\n",
       "// Listen for the clearing of the current output cell\n",
       "var outputEl = gd.closest('.output');\n",
       "if (outputEl) {{\n",
       "    x.observe(outputEl, {childList: true});\n",
       "}}\n",
       "\n",
       "                        })\n",
       "                };\n",
       "                });\n",
       "            </script>\n",
       "        </div>"
      ]
     },
     "metadata": {},
     "output_type": "display_data"
    }
   ],
   "source": [
    "fig = go.Figure()\n",
    "\n",
    "for snemovna in snemovny:\n",
    "    df = pohlavi_dle_snemovny(snemovna)\n",
    "    hovertemplate_zeny = f\"Sněmovna: {snemovna}\" +'<br>Datum: %{x|%d. %m. %Y}<br>Pohlaví: ženy<br>Počet: %{y}<extra></extra>'\n",
    "    hovertemplate_muzi = f\"Sněmovna: {snemovna}\" +'<br>Datum: %{x|%d. %m. %Y}<br>Pohlaví: muži<br>Počet: %{y}<extra></extra>'\n",
    "    \n",
    "    # Ženy\n",
    "    fig.add_trace(go.Scatter(\n",
    "        x = df.index,\n",
    "        y = df.zeny_pct,\n",
    "        mode = 'markers+lines',\n",
    "        #line = dict(shape='linear'),\n",
    "        hoverinfo = 'text',\n",
    "        hovertemplate=hovertemplate_zeny,\n",
    "        name=f\"ženy ({snemovna})\",\n",
    "        stackgroup=snemovna\n",
    "    ))\n",
    "    \n",
    "    # Muži\n",
    "    fig.add_trace(go.Scatter(\n",
    "        x = df.index,\n",
    "        y = df.muzi_pct,\n",
    "        name = f\"muži ({snemovna})\",\n",
    "        hoverinfo = 'text',\n",
    "        hovertemplate=hovertemplate_muzi,\n",
    "        mode = 'markers+lines',\n",
    "        #line = dict(shape='linear'),\n",
    "        stackgroup=snemovna\n",
    "    ))\n",
    "\n",
    "    \n",
    "fig.add_trace(go.Scatter(\n",
    "        x = zastoupeni_extrapolace_df.index,\n",
    "        y = zastoupeni_extrapolace_df.zeny_pct_extrapolace.round(2),\n",
    "        name = f\"ženy (extrapolace)\",\n",
    "        mode = 'markers+lines',\n",
    "        line = dict(color='green', width=2, dash='dash')\n",
    "    ))\n",
    "\n",
    "fig.add_shape(type=\"line\",\n",
    "    x0=zastoupeni_extrapolace_df.index[0], \n",
    "    y0=50,\n",
    "    x1=zastoupeni_extrapolace_df.index[-1],\n",
    "    y1=50,\n",
    "    line=dict(color=\"black\", width=1, dash='dot')\n",
    ")\n",
    "\n",
    "middle_x = zastoupeni_extrapolace_df.index[0] +  (zastoupeni_extrapolace_df.index[-1] -  zastoupeni_extrapolace_df.index[0]) / 2\n",
    "fig.add_annotation(\n",
    "    x=middle_x,\n",
    "    y=50,\n",
    "    text=\"50% zastoupení\",\n",
    "    arrowhead=2,\n",
    ")\n",
    "\n",
    "\n",
    "layout = go.Layout(\n",
    "    title=\"Zastoupení žen v Poslanecké sněmovně ČR\",    \n",
    "    plot_bgcolor=\"#FFFFFF\",\n",
    "    hovermode=\"x\",\n",
    "    xaxis=dict(title=\"Datum\"),\n",
    "    yaxis=dict(\n",
    "        title=\"Zastoupení žen\",\n",
    "        tickvals = [0, 20, 40, 60, 80, 100],\n",
    "        ticktext = [\"0%\", \"20%\", \"40%\", \"60%\", \"80%\", \"100%\"]\n",
    "        #tickformat='%',\n",
    "        #range=[0,1]\n",
    "    )\n",
    ")\n",
    "\n",
    "fig.update_layout(layout)\n",
    "fig.update_layout(showlegend=False)\n",
    "fig.show()\n"
   ]
  },
  {
   "cell_type": "markdown",
   "metadata": {},
   "source": [
    "## Export dat"
   ]
  },
  {
   "cell_type": "markdown",
   "metadata": {},
   "source": [
    "### Data o zastoupení žen bez extrapolace"
   ]
  },
  {
   "cell_type": "code",
   "execution_count": 50,
   "metadata": {},
   "outputs": [
    {
     "data": {
      "text/html": [
       "<div>\n",
       "<style scoped>\n",
       "    .dataframe tbody tr th:only-of-type {\n",
       "        vertical-align: middle;\n",
       "    }\n",
       "\n",
       "    .dataframe tbody tr th {\n",
       "        vertical-align: top;\n",
       "    }\n",
       "\n",
       "    .dataframe thead th {\n",
       "        text-align: right;\n",
       "    }\n",
       "</style>\n",
       "<table border=\"1\" class=\"dataframe\">\n",
       "  <thead>\n",
       "    <tr style=\"text-align: right;\">\n",
       "      <th></th>\n",
       "      <th>zeny_pct</th>\n",
       "      <th>muzi_pct</th>\n",
       "      <th>zeny_cnt</th>\n",
       "      <th>muzi_cnt</th>\n",
       "      <th>check_cnt</th>\n",
       "      <th>snemovna</th>\n",
       "      <th>days_from_start</th>\n",
       "    </tr>\n",
       "    <tr>\n",
       "      <th>datum</th>\n",
       "      <th></th>\n",
       "      <th></th>\n",
       "      <th></th>\n",
       "      <th></th>\n",
       "      <th></th>\n",
       "      <th></th>\n",
       "      <th></th>\n",
       "    </tr>\n",
       "  </thead>\n",
       "  <tbody>\n",
       "    <tr>\n",
       "      <th>1992-06-06</th>\n",
       "      <td>10.000000</td>\n",
       "      <td>90.000000</td>\n",
       "      <td>20.0</td>\n",
       "      <td>180.0</td>\n",
       "      <td>200.0</td>\n",
       "      <td>1992</td>\n",
       "      <td>0</td>\n",
       "    </tr>\n",
       "    <tr>\n",
       "      <th>1993-11-09</th>\n",
       "      <td>9.547739</td>\n",
       "      <td>90.452261</td>\n",
       "      <td>19.0</td>\n",
       "      <td>180.0</td>\n",
       "      <td>199.0</td>\n",
       "      <td>1992</td>\n",
       "      <td>521</td>\n",
       "    </tr>\n",
       "    <tr>\n",
       "      <th>1993-11-11</th>\n",
       "      <td>9.500000</td>\n",
       "      <td>90.500000</td>\n",
       "      <td>19.0</td>\n",
       "      <td>181.0</td>\n",
       "      <td>200.0</td>\n",
       "      <td>1992</td>\n",
       "      <td>523</td>\n",
       "    </tr>\n",
       "    <tr>\n",
       "      <th>1995-05-23</th>\n",
       "      <td>9.547739</td>\n",
       "      <td>90.452261</td>\n",
       "      <td>19.0</td>\n",
       "      <td>180.0</td>\n",
       "      <td>199.0</td>\n",
       "      <td>1992</td>\n",
       "      <td>1081</td>\n",
       "    </tr>\n",
       "    <tr>\n",
       "      <th>1995-05-25</th>\n",
       "      <td>9.500000</td>\n",
       "      <td>90.500000</td>\n",
       "      <td>19.0</td>\n",
       "      <td>181.0</td>\n",
       "      <td>200.0</td>\n",
       "      <td>1992</td>\n",
       "      <td>1083</td>\n",
       "    </tr>\n",
       "  </tbody>\n",
       "</table>\n",
       "</div>"
      ],
      "text/plain": [
       "             zeny_pct   muzi_pct  zeny_cnt  muzi_cnt  check_cnt  snemovna  \\\n",
       "datum                                                                       \n",
       "1992-06-06  10.000000  90.000000      20.0     180.0      200.0      1992   \n",
       "1993-11-09   9.547739  90.452261      19.0     180.0      199.0      1992   \n",
       "1993-11-11   9.500000  90.500000      19.0     181.0      200.0      1992   \n",
       "1995-05-23   9.547739  90.452261      19.0     180.0      199.0      1992   \n",
       "1995-05-25   9.500000  90.500000      19.0     181.0      200.0      1992   \n",
       "\n",
       "            days_from_start  \n",
       "datum                        \n",
       "1992-06-06                0  \n",
       "1993-11-09              521  \n",
       "1993-11-11              523  \n",
       "1995-05-23             1081  \n",
       "1995-05-25             1083  "
      ]
     },
     "execution_count": 50,
     "metadata": {},
     "output_type": "execute_result"
    }
   ],
   "source": [
    "zastoupeni_df.head()"
   ]
  },
  {
   "cell_type": "code",
   "execution_count": 51,
   "metadata": {},
   "outputs": [
    {
     "name": "stdout",
     "output_type": "stream",
     "text": [
      "-rw-rw-r-- 1 borjana borjana 5666 kvě 31 23:18 ../docs/data/zastoupeni_zen_v_PS_CR.csv\n"
     ]
    }
   ],
   "source": [
    "! mkdir -p \"../docs/data\"\n",
    "export_path = \"../docs/data/zastoupeni_zen_v_PS_CR.csv\"\n",
    "zastoupeni_df[['zeny_pct', 'muzi_pct', 'zeny_cnt', 'muzi_cnt', 'snemovna']].to_csv(export_path)\n",
    "! ls -l {export_path}"
   ]
  },
  {
   "cell_type": "markdown",
   "metadata": {},
   "source": [
    "### Data o zastoupení žen s predikcí"
   ]
  },
  {
   "cell_type": "code",
   "execution_count": 52,
   "metadata": {},
   "outputs": [
    {
     "data": {
      "text/plain": [
       "datum\n",
       "1992-06-06    11.524087\n",
       "1993-05-21    11.912260\n",
       "1993-11-09          NaN\n",
       "1993-11-11          NaN\n",
       "1994-05-06    12.301545\n",
       "1995-04-20    12.689718\n",
       "1995-05-23          NaN\n",
       "1995-05-25          NaN\n",
       "1996-04-04    13.079003\n",
       "1996-04-29          NaN\n",
       "1996-04-30          NaN\n",
       "1996-05-06          NaN\n",
       "1996-05-07          NaN\n",
       "1996-05-31          NaN\n",
       "1996-06-01          NaN\n",
       "1996-11-01          NaN\n",
       "1996-11-02          NaN\n",
       "1996-12-17          NaN\n",
       "1996-12-18          NaN\n",
       "1997-01-16          NaN\n",
       "1997-01-17          NaN\n",
       "1997-03-19    13.467176\n",
       "1997-06-02          NaN\n",
       "1997-06-03          NaN\n",
       "1997-06-11          NaN\n",
       "1997-06-12          NaN\n",
       "1997-08-27          NaN\n",
       "1997-08-28          NaN\n",
       "1997-08-29          NaN\n",
       "1997-08-30          NaN\n",
       "Name: zeny_pct_extrapolace, dtype: float64"
      ]
     },
     "execution_count": 52,
     "metadata": {},
     "output_type": "execute_result"
    }
   ],
   "source": [
    "m = zastoupeni_df.merge(zastoupeni_extrapolace_df, how='outer', on='datum')\n",
    "m = m.sort_index()\n",
    "m.head(20)\n",
    "m.zeny_pct_extrapolace.head(30)"
   ]
  },
  {
   "cell_type": "code",
   "execution_count": 37,
   "metadata": {},
   "outputs": [
    {
     "name": "stdout",
     "output_type": "stream",
     "text": [
      "-rw-rw-r-- 1 borjana borjana 7808 kvě 31 23:15 ../docs/data/extrapolace_zastoupeni_zen_v_PS_CR.csv\n"
     ]
    }
   ],
   "source": [
    "! mkdir -p \"../docs/data\"\n",
    "export_path = \"../docs/data/extrapolace_zastoupeni_zen_v_PS_CR.csv\"\n",
    "m[['zeny_pct', 'muzi_pct', 'zeny_cnt', 'muzi_cnt', 'snemovna', 'zeny_pct_extrapolace']].to_csv(export_path)\n",
    "! ls -l {export_path}"
   ]
  },
  {
   "cell_type": "code",
   "execution_count": 38,
   "metadata": {},
   "outputs": [
    {
     "name": "stdout",
     "output_type": "stream",
     "text": [
      "Poslední běh notebooku: 31.05.2021 23:15:08.\n"
     ]
    }
   ],
   "source": [
    "print(f\"Poslední běh notebooku: {datetime.now().strftime('%d.%m.%Y %H:%M:%S')}.\")"
   ]
  },
  {
   "cell_type": "code",
   "execution_count": null,
   "metadata": {},
   "outputs": [],
   "source": []
  }
 ],
 "metadata": {
  "colab": {
   "collapsed_sections": [],
   "name": "Hlasovani.ipynb",
   "provenance": []
  },
  "kernelspec": {
   "display_name": "Python 3",
   "language": "python",
   "name": "python3"
  },
  "language_info": {
   "codemirror_mode": {
    "name": "ipython",
    "version": 3
   },
   "file_extension": ".py",
   "mimetype": "text/x-python",
   "name": "python",
   "nbconvert_exporter": "python",
   "pygments_lexer": "ipython3",
   "version": "3.7.7"
  }
 },
 "nbformat": 4,
 "nbformat_minor": 4
}
