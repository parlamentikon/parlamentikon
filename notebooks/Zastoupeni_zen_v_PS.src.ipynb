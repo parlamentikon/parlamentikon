{
 "cells": [
  {
   "cell_type": "markdown",
   "metadata": {},
   "source": [
    "# Zastoupení žen v Poslanecké sněmovně ČR\n",
    "\n",
    "Notebook analyzuje zastoupení žen v PS ČR na základě dat z <a href=\"https://www.psp.cz/sqw/hp.sqw?k=1300\" target=\"_blank\" rel=\"nofollow noopener noreferrer\">archivu PS ČR</a>. Součástí analýzy je extrapolace historických dat pomocí lineární regrese."
   ]
  },
  {
   "cell_type": "markdown",
   "metadata": {},
   "source": [
    "## Nastavení prostředí\n",
    "\n",
    "Nastavení notebooku pro prostředí Google Colab a pro lokální běh."
   ]
  },
  {
   "cell_type": "code",
   "execution_count": 1,
   "metadata": {},
   "outputs": [],
   "source": [
    "# Specifické příkazy pro prostředí Google Colab\n",
    "if 'google.colab' in str(get_ipython()):\n",
    "        import os, sys\n",
    "        os.chdir('/content')\n",
    "        # Stažení knihovny\n",
    "        ! ls parlamentikon || git clone \"https://github.com/parlamentikon/parlamentikon.git\" --branch main\n",
    "        os.chdir('/content/parlamentikon/notebooks')"
   ]
  },
  {
   "cell_type": "code",
   "execution_count": 2,
   "metadata": {},
   "outputs": [],
   "source": [
    "instalace_zavislosti = True\n",
    "if instalace_zavislosti:\n",
    "    ! pip install -r ../requirements.txt 1>/dev/null"
   ]
  },
  {
   "cell_type": "code",
   "execution_count": 3,
   "metadata": {},
   "outputs": [],
   "source": [
    "instalace_knihovny = False\n",
    "if instalace_knihovny:\n",
    "    ! pip install ..  1>/dev/null\n",
    "else:\n",
    "    # Přidání cesty pro lokální import knihovny\n",
    "    import sys, os\n",
    "    sys.path.insert(0, os.path.abspath('..'))"
   ]
  },
  {
   "cell_type": "markdown",
   "metadata": {},
   "source": [
    "## Import knihoven"
   ]
  },
  {
   "cell_type": "code",
   "execution_count": 20,
   "metadata": {},
   "outputs": [],
   "source": [
    "from datetime import datetime, timedelta\n",
    "import plotly.graph_objects as go\n",
    "import pandas as pd\n",
    "import numpy as np\n",
    "from sklearn import linear_model\n",
    "from sklearn.metrics import r2_score\n",
    "import math"
   ]
  },
  {
   "cell_type": "code",
   "execution_count": 5,
   "metadata": {},
   "outputs": [],
   "source": [
    "from parlamentikon.Hlasovani import Organy\n",
    "from parlamentikon.PoslanciOsoby import Poslanci"
   ]
  },
  {
   "cell_type": "markdown",
   "metadata": {},
   "source": [
    "## Nastavení parametrů"
   ]
  },
  {
   "cell_type": "code",
   "execution_count": 6,
   "metadata": {},
   "outputs": [],
   "source": [
    "# Data se budou pokaždé znovu stahovat z achivu PS\n",
    "stahni=True"
   ]
  },
  {
   "cell_type": "markdown",
   "metadata": {},
   "source": [
    "## Načtení dat"
   ]
  },
  {
   "cell_type": "code",
   "execution_count": 7,
   "metadata": {},
   "outputs": [
    {
     "name": "stderr",
     "output_type": "stream",
     "text": [
      "2021-09-26:20:18:25 INFO     [utility.py:21] Stahuji 'https://www.psp.cz/eknih/cdrom/opendata/poslanci.zip'.\n",
      "2021-09-26:20:18:25 INFO     [utility.py:21] Stahuji 'https://www.psp.cz/eknih/cdrom/opendata/poslanci.zip'.\n",
      "2021-09-26:20:18:26 WARNING  [Snemovna.py:149] While merging 'funkce' with 'typ_funkce': Dropping ['typ_organ_obecny__typ_funkce', 'id_typ_organ__typ_funkce', 'nazev_typ_organ_cz__typ_funkce', 'nazev_typ_organ_en__typ_funkce', 'typ_id_typ_organ__typ_funkce'] because of abundance.\n",
      "2021-09-26:20:18:27 INFO     [utility.py:21] Stahuji 'https://www.psp.cz/eknih/cdrom/opendata/poslanci.zip'.\n",
      "2021-09-26:20:18:28 WARNING  [Snemovna.py:149] While merging 'funkce' with 'typ_funkce': Dropping ['typ_organ_obecny__typ_funkce', 'id_typ_organ__typ_funkce', 'nazev_typ_organ_cz__typ_funkce', 'nazev_typ_organ_en__typ_funkce', 'typ_id_typ_organ__typ_funkce'] because of abundance.\n",
      "2021-09-26:20:18:29 INFO     [utility.py:21] Stahuji 'https://www.psp.cz/eknih/cdrom/opendata/poslanci.zip'.\n",
      "2021-09-26:20:18:30 WARNING  [Snemovna.py:149] While merging 'funkce' with 'typ_funkce': Dropping ['typ_organ_obecny__typ_funkce', 'id_typ_organ__typ_funkce', 'nazev_typ_organ_cz__typ_funkce', 'nazev_typ_organ_en__typ_funkce', 'typ_id_typ_organ__typ_funkce'] because of abundance.\n",
      "2021-09-26:20:18:31 INFO     [utility.py:21] Stahuji 'https://www.psp.cz/eknih/cdrom/opendata/poslanci.zip'.\n",
      "2021-09-26:20:18:32 WARNING  [Snemovna.py:149] While merging 'funkce' with 'typ_funkce': Dropping ['typ_organ_obecny__typ_funkce', 'id_typ_organ__typ_funkce', 'nazev_typ_organ_cz__typ_funkce', 'nazev_typ_organ_en__typ_funkce', 'typ_id_typ_organ__typ_funkce'] because of abundance.\n",
      "2021-09-26:20:18:33 INFO     [utility.py:21] Stahuji 'https://www.psp.cz/eknih/cdrom/opendata/poslanci.zip'.\n",
      "2021-09-26:20:18:34 WARNING  [Snemovna.py:149] While merging 'funkce' with 'typ_funkce': Dropping ['typ_organ_obecny__typ_funkce', 'id_typ_organ__typ_funkce', 'nazev_typ_organ_cz__typ_funkce', 'nazev_typ_organ_en__typ_funkce', 'typ_id_typ_organ__typ_funkce'] because of abundance.\n",
      "2021-09-26:20:18:35 INFO     [utility.py:21] Stahuji 'https://www.psp.cz/eknih/cdrom/opendata/poslanci.zip'.\n",
      "2021-09-26:20:18:36 WARNING  [Snemovna.py:149] While merging 'funkce' with 'typ_funkce': Dropping ['typ_organ_obecny__typ_funkce', 'id_typ_organ__typ_funkce', 'nazev_typ_organ_cz__typ_funkce', 'nazev_typ_organ_en__typ_funkce', 'typ_id_typ_organ__typ_funkce'] because of abundance.\n",
      "2021-09-26:20:18:37 INFO     [utility.py:21] Stahuji 'https://www.psp.cz/eknih/cdrom/opendata/poslanci.zip'.\n",
      "2021-09-26:20:18:38 WARNING  [Snemovna.py:149] While merging 'funkce' with 'typ_funkce': Dropping ['typ_organ_obecny__typ_funkce', 'id_typ_organ__typ_funkce', 'nazev_typ_organ_cz__typ_funkce', 'nazev_typ_organ_en__typ_funkce', 'typ_id_typ_organ__typ_funkce'] because of abundance.\n",
      "2021-09-26:20:18:39 INFO     [utility.py:21] Stahuji 'https://www.psp.cz/eknih/cdrom/opendata/poslanci.zip'.\n",
      "2021-09-26:20:18:40 WARNING  [Snemovna.py:149] While merging 'funkce' with 'typ_funkce': Dropping ['typ_organ_obecny__typ_funkce', 'id_typ_organ__typ_funkce', 'nazev_typ_organ_cz__typ_funkce', 'nazev_typ_organ_en__typ_funkce', 'typ_id_typ_organ__typ_funkce'] because of abundance.\n"
     ]
    }
   ],
   "source": [
    "# Načti tabulku Organy\n",
    "vsechny_organy = Organy(volebni_obdobi=-1)\n",
    "\n",
    "# Vyber z tabuky Organy data o jednotlivých sněmovnách a seřaď dle data začátku vzestupně\n",
    "snemovny = vsechny_organy[vsechny_organy.nazev_typ_organ_cz == 'Parlament'].od_organ.dt.year.sort_values()\n",
    "\n",
    "# Načti tabulku Poslanci\n",
    "poslanci = {}\n",
    "for i in snemovny:\n",
    "    poslanci[i] = Poslanci(volebni_obdobi=i, stahni=stahni)"
   ]
  },
  {
   "cell_type": "markdown",
   "metadata": {},
   "source": [
    "## Analýza historických dat"
   ]
  },
  {
   "cell_type": "code",
   "execution_count": 8,
   "metadata": {},
   "outputs": [],
   "source": [
    "def pohlavi_dle_snemovny(snemovna, dalsi_snemovna=None):\n",
    "    x = poslanci[snemovna]\n",
    "    \n",
    "    # Najdi datum konce vybrané sněmovny.\n",
    "    last_do_parlament = vsechny_organy[vsechny_organy.id_organ == x.id_organ.iloc[0]].do_organ.iloc[0]\n",
    "    # Poslanci nemohou mít mandát platný déle než do konce vybrané sněmovny. \n",
    "    x.do_parlament.mask(pd.to_datetime(x.do_parlament) > last_do_parlament, last_do_parlament, inplace=True) \n",
    "    \n",
    "    if dalsi_snemovna == None:\n",
    "        # Poslanci z poslední sněmovny nemají vyplněné \"do\". Nahradíme ho aktuálním datem.\n",
    "        today_date = pd.to_datetime(\"now\").tz_localize('Europe/Prague')\n",
    "        x.do_parlament.mask(x.do_parlament.isna(), today_date, inplace=True) \n",
    "    else:\n",
    "        # Najdi datum začátku další sněmovny.\n",
    "        next_od_parlament = vsechny_organy[vsechny_organy.id_organ == poslanci[dalsi_snemovna].id_organ.iloc[0]].od_organ.iloc[0]\n",
    "        # Poslanci nemohou mít platný mandát po začátku další sněmovny.\n",
    "        x.do_parlament.mask(pd.to_datetime(x.do_parlament) > next_od_parlament, next_od_parlament, inplace=True) \n",
    "        #print(snemovna, dalsi_snemovna, x.do_parlament.sort_values().to_list()[-1], next_od_parlament, x[x.do_parlament > next_od_parlament])\n",
    "       \n",
    "    # Pro dny, ve kterých se mění složení poslanecké sněmovny, sečteme tyto změny vzhledem k pohlaví. \n",
    "    # Používáme nezávislé sčítače pro příchody a odchody.\n",
    "    zeny_od = x[x.pohlavi == 'žena'].groupby(x.od_parlament.dt.date, dropna=False).size().to_frame('zeny_od').rename_axis(index={'od_parlament': 'datum'})\n",
    "    zeny_do = x[x.pohlavi == 'žena'].groupby(x.do_parlament.dt.date, dropna=False).size().to_frame('zeny_do').rename_axis(index={'do_parlament': 'datum'})\n",
    "    muzi_od = x[x.pohlavi == 'muž'].groupby(x.od_parlament.dt.date, dropna=False).size().to_frame('muzi_od').rename_axis(index={'od_parlament': 'datum'})\n",
    "    muzi_do = x[x.pohlavi == 'muž'].groupby(x.do_parlament.dt.date,  dropna=False).size().to_frame('muzi_do').rename_axis(index={'do_parlament': 'datum'})\n",
    "\n",
    "    # Spojíme sčítače příchodů a odchodů ze Sněmovny do jednoho framu.\n",
    "    df = zeny_od.merge(muzi_od, how='outer', on='datum').merge(muzi_do, how='outer', on='datum').merge(zeny_do, how='outer', on='datum').sort_index()\n",
    "    \n",
    "    # Prázdné hodnoty, ktere zpravidla vznikly predchozi merge operaci, nahradíme nulami.\n",
    "    df = df.fillna(0)\n",
    "    \n",
    "    # Fix pandas error which converts groupby sizes from int to float\n",
    "    df['zeny_od'], df['zeny_do'] = df['zeny_od'].astype(int), df['zeny_do'].astype(int)\n",
    "    df['muzi_od'], df['muzi_do'] = df['muzi_od'].astype(int), df['muzi_do'].astype(int)\n",
    "\n",
    "    # Od sčítačů příchodů do sněmovny odečteme scítače odchodů.\n",
    "    # Tím dostaneme pro každé datum, kdy se mění složení směnovny, bilanci počtu žen a mužů.\n",
    "    df['zeny_cnt'] = df['zeny_od'].cumsum() - df['zeny_do'].cumsum()\n",
    "    df['muzi_cnt'] = df['muzi_od'].cumsum() - df['muzi_do'].cumsum()\n",
    "    \n",
    "    # Hodnoty by se měly posčítat na 200 (počet poslanců).\n",
    "    # Vzhledem k nejasné interpretaci 'do_parlament' a případné prodlevy před složením slibu nového poslance nebo poslankyně\n",
    "    # to v několika málo případech není pravda, ale jen na krátkou dobu.\n",
    "    df['check_cnt'] = df['zeny_cnt'] + df['muzi_cnt']\n",
    "    \n",
    "    # Na konci sněmovny se počet poslanců nuluje.\n",
    "    # V tomto řádku je možné opravit zeny_cnt pomoci zeny_do (resp. muzi_cnt pomoci muzi_do).\n",
    "    df_na_konci_snemovny = (df.check_cnt == 0) & ((df.zeny_do > 0) | (df.muzi_do > 0))\n",
    "    df.zeny_cnt.mask(df_na_konci_snemovny, df.zeny_do, inplace=True) \n",
    "    df.muzi_cnt.mask(df_na_konci_snemovny, df.muzi_do, inplace=True) \n",
    "\n",
    "    # Spočítejme nyní poměry ...\n",
    "    df['zeny_pct'] = 100 * df['zeny_cnt'] / (df['zeny_cnt'] + df['muzi_cnt'])\n",
    "    df['muzi_pct'] = 100 * df['muzi_cnt'] / (df['zeny_cnt'] + df['muzi_cnt'])\n",
    "    \n",
    "    # Nastavme sněmovnu (na konstantní hodnotu).\n",
    "    df['snemovna'] = snemovna\n",
    "    \n",
    "    df = df.sort_index()\n",
    "    \n",
    "    df = df[['zeny_pct', 'muzi_pct', 'zeny_cnt', 'muzi_cnt', 'snemovna', 'check_cnt']]\n",
    "    return df"
   ]
  },
  {
   "cell_type": "code",
   "execution_count": 9,
   "metadata": {},
   "outputs": [
    {
     "data": {
      "text/html": [
       "<div>\n",
       "<style scoped>\n",
       "    .dataframe tbody tr th:only-of-type {\n",
       "        vertical-align: middle;\n",
       "    }\n",
       "\n",
       "    .dataframe tbody tr th {\n",
       "        vertical-align: top;\n",
       "    }\n",
       "\n",
       "    .dataframe thead th {\n",
       "        text-align: right;\n",
       "    }\n",
       "</style>\n",
       "<table border=\"1\" class=\"dataframe\">\n",
       "  <thead>\n",
       "    <tr style=\"text-align: right;\">\n",
       "      <th></th>\n",
       "      <th>zeny_pct</th>\n",
       "      <th>muzi_pct</th>\n",
       "      <th>zeny_cnt</th>\n",
       "      <th>muzi_cnt</th>\n",
       "      <th>snemovna</th>\n",
       "      <th>check_cnt</th>\n",
       "    </tr>\n",
       "    <tr>\n",
       "      <th>datum</th>\n",
       "      <th></th>\n",
       "      <th></th>\n",
       "      <th></th>\n",
       "      <th></th>\n",
       "      <th></th>\n",
       "      <th></th>\n",
       "    </tr>\n",
       "  </thead>\n",
       "  <tbody>\n",
       "    <tr>\n",
       "      <th>1992-06-06</th>\n",
       "      <td>10.000000</td>\n",
       "      <td>90.000000</td>\n",
       "      <td>20</td>\n",
       "      <td>180</td>\n",
       "      <td>1992</td>\n",
       "      <td>200</td>\n",
       "    </tr>\n",
       "    <tr>\n",
       "      <th>1993-11-09</th>\n",
       "      <td>9.547739</td>\n",
       "      <td>90.452261</td>\n",
       "      <td>19</td>\n",
       "      <td>180</td>\n",
       "      <td>1992</td>\n",
       "      <td>199</td>\n",
       "    </tr>\n",
       "    <tr>\n",
       "      <th>1993-11-11</th>\n",
       "      <td>9.500000</td>\n",
       "      <td>90.500000</td>\n",
       "      <td>19</td>\n",
       "      <td>181</td>\n",
       "      <td>1992</td>\n",
       "      <td>200</td>\n",
       "    </tr>\n",
       "    <tr>\n",
       "      <th>1995-05-23</th>\n",
       "      <td>9.547739</td>\n",
       "      <td>90.452261</td>\n",
       "      <td>19</td>\n",
       "      <td>180</td>\n",
       "      <td>1992</td>\n",
       "      <td>199</td>\n",
       "    </tr>\n",
       "    <tr>\n",
       "      <th>1995-05-25</th>\n",
       "      <td>9.500000</td>\n",
       "      <td>90.500000</td>\n",
       "      <td>19</td>\n",
       "      <td>181</td>\n",
       "      <td>1992</td>\n",
       "      <td>200</td>\n",
       "    </tr>\n",
       "  </tbody>\n",
       "</table>\n",
       "</div>"
      ],
      "text/plain": [
       "             zeny_pct   muzi_pct  zeny_cnt  muzi_cnt  snemovna  check_cnt\n",
       "datum                                                                    \n",
       "1992-06-06  10.000000  90.000000        20       180      1992        200\n",
       "1993-11-09   9.547739  90.452261        19       180      1992        199\n",
       "1993-11-11   9.500000  90.500000        19       181      1992        200\n",
       "1995-05-23   9.547739  90.452261        19       180      1992        199\n",
       "1995-05-25   9.500000  90.500000        19       181      1992        200"
      ]
     },
     "execution_count": 9,
     "metadata": {},
     "output_type": "execute_result"
    }
   ],
   "source": [
    "zastoupeni = []\n",
    "\n",
    "l_snemovny = list(snemovny)\n",
    "for idx, snemovna in enumerate(l_snemovny):\n",
    "    if idx < len(l_snemovny) - 1:\n",
    "        dalsi_snemovna = l_snemovny[idx + 1]\n",
    "    else:\n",
    "        dalsi_snemovna = None\n",
    "        \n",
    "    zastoupeni.append(pohlavi_dle_snemovny(snemovna, dalsi_snemovna))\n",
    "\n",
    "zastoupeni_df = pd.concat(zastoupeni, join='outer')\n",
    "zastoupeni_df.index = pd.to_datetime(zastoupeni_df.index)\n",
    "zastoupeni_df.index.name = 'datum'\n",
    "\n",
    "zastoupeni_df.head()"
   ]
  },
  {
   "cell_type": "code",
   "execution_count": 10,
   "metadata": {},
   "outputs": [
    {
     "data": {
      "text/html": [
       "<div>\n",
       "<style scoped>\n",
       "    .dataframe tbody tr th:only-of-type {\n",
       "        vertical-align: middle;\n",
       "    }\n",
       "\n",
       "    .dataframe tbody tr th {\n",
       "        vertical-align: top;\n",
       "    }\n",
       "\n",
       "    .dataframe thead th {\n",
       "        text-align: right;\n",
       "    }\n",
       "</style>\n",
       "<table border=\"1\" class=\"dataframe\">\n",
       "  <thead>\n",
       "    <tr style=\"text-align: right;\">\n",
       "      <th></th>\n",
       "      <th>zeny_pct</th>\n",
       "      <th>muzi_pct</th>\n",
       "      <th>zeny_cnt</th>\n",
       "      <th>muzi_cnt</th>\n",
       "      <th>snemovna</th>\n",
       "      <th>check_cnt</th>\n",
       "    </tr>\n",
       "    <tr>\n",
       "      <th>datum</th>\n",
       "      <th></th>\n",
       "      <th></th>\n",
       "      <th></th>\n",
       "      <th></th>\n",
       "      <th></th>\n",
       "      <th></th>\n",
       "    </tr>\n",
       "  </thead>\n",
       "  <tbody>\n",
       "    <tr>\n",
       "      <th>1993-11-09</th>\n",
       "      <td>9.547739</td>\n",
       "      <td>90.452261</td>\n",
       "      <td>19</td>\n",
       "      <td>180</td>\n",
       "      <td>1992</td>\n",
       "      <td>199</td>\n",
       "    </tr>\n",
       "    <tr>\n",
       "      <th>1995-05-23</th>\n",
       "      <td>9.547739</td>\n",
       "      <td>90.452261</td>\n",
       "      <td>19</td>\n",
       "      <td>180</td>\n",
       "      <td>1992</td>\n",
       "      <td>199</td>\n",
       "    </tr>\n",
       "    <tr>\n",
       "      <th>1996-04-29</th>\n",
       "      <td>9.547739</td>\n",
       "      <td>90.452261</td>\n",
       "      <td>19</td>\n",
       "      <td>180</td>\n",
       "      <td>1992</td>\n",
       "      <td>199</td>\n",
       "    </tr>\n",
       "    <tr>\n",
       "      <th>1996-05-06</th>\n",
       "      <td>9.547739</td>\n",
       "      <td>90.452261</td>\n",
       "      <td>19</td>\n",
       "      <td>180</td>\n",
       "      <td>1992</td>\n",
       "      <td>199</td>\n",
       "    </tr>\n",
       "    <tr>\n",
       "      <th>1996-06-01</th>\n",
       "      <td>10.000000</td>\n",
       "      <td>90.000000</td>\n",
       "      <td>20</td>\n",
       "      <td>180</td>\n",
       "      <td>1992</td>\n",
       "      <td>0</td>\n",
       "    </tr>\n",
       "    <tr>\n",
       "      <th>1996-11-01</th>\n",
       "      <td>15.075377</td>\n",
       "      <td>84.924623</td>\n",
       "      <td>30</td>\n",
       "      <td>169</td>\n",
       "      <td>1996</td>\n",
       "      <td>199</td>\n",
       "    </tr>\n",
       "    <tr>\n",
       "      <th>1996-12-17</th>\n",
       "      <td>14.646465</td>\n",
       "      <td>85.353535</td>\n",
       "      <td>29</td>\n",
       "      <td>169</td>\n",
       "      <td>1996</td>\n",
       "      <td>198</td>\n",
       "    </tr>\n",
       "    <tr>\n",
       "      <th>1997-01-16</th>\n",
       "      <td>14.572864</td>\n",
       "      <td>85.427136</td>\n",
       "      <td>29</td>\n",
       "      <td>170</td>\n",
       "      <td>1996</td>\n",
       "      <td>199</td>\n",
       "    </tr>\n",
       "    <tr>\n",
       "      <th>1997-06-02</th>\n",
       "      <td>14.572864</td>\n",
       "      <td>85.427136</td>\n",
       "      <td>29</td>\n",
       "      <td>170</td>\n",
       "      <td>1996</td>\n",
       "      <td>199</td>\n",
       "    </tr>\n",
       "    <tr>\n",
       "      <th>1997-06-11</th>\n",
       "      <td>14.572864</td>\n",
       "      <td>85.427136</td>\n",
       "      <td>29</td>\n",
       "      <td>170</td>\n",
       "      <td>1996</td>\n",
       "      <td>199</td>\n",
       "    </tr>\n",
       "    <tr>\n",
       "      <th>1997-08-27</th>\n",
       "      <td>14.572864</td>\n",
       "      <td>85.427136</td>\n",
       "      <td>29</td>\n",
       "      <td>170</td>\n",
       "      <td>1996</td>\n",
       "      <td>199</td>\n",
       "    </tr>\n",
       "    <tr>\n",
       "      <th>1997-08-29</th>\n",
       "      <td>14.572864</td>\n",
       "      <td>85.427136</td>\n",
       "      <td>29</td>\n",
       "      <td>170</td>\n",
       "      <td>1996</td>\n",
       "      <td>199</td>\n",
       "    </tr>\n",
       "    <tr>\n",
       "      <th>1997-11-11</th>\n",
       "      <td>14.572864</td>\n",
       "      <td>85.427136</td>\n",
       "      <td>29</td>\n",
       "      <td>170</td>\n",
       "      <td>1996</td>\n",
       "      <td>199</td>\n",
       "    </tr>\n",
       "    <tr>\n",
       "      <th>1997-12-01</th>\n",
       "      <td>14.572864</td>\n",
       "      <td>85.427136</td>\n",
       "      <td>29</td>\n",
       "      <td>170</td>\n",
       "      <td>1996</td>\n",
       "      <td>199</td>\n",
       "    </tr>\n",
       "    <tr>\n",
       "      <th>1997-12-02</th>\n",
       "      <td>15.075377</td>\n",
       "      <td>84.924623</td>\n",
       "      <td>30</td>\n",
       "      <td>169</td>\n",
       "      <td>1996</td>\n",
       "      <td>199</td>\n",
       "    </tr>\n",
       "    <tr>\n",
       "      <th>1998-01-26</th>\n",
       "      <td>15.075377</td>\n",
       "      <td>84.924623</td>\n",
       "      <td>30</td>\n",
       "      <td>169</td>\n",
       "      <td>1996</td>\n",
       "      <td>199</td>\n",
       "    </tr>\n",
       "    <tr>\n",
       "      <th>1998-02-12</th>\n",
       "      <td>15.075377</td>\n",
       "      <td>84.924623</td>\n",
       "      <td>30</td>\n",
       "      <td>169</td>\n",
       "      <td>1996</td>\n",
       "      <td>199</td>\n",
       "    </tr>\n",
       "    <tr>\n",
       "      <th>1998-02-25</th>\n",
       "      <td>15.075377</td>\n",
       "      <td>84.924623</td>\n",
       "      <td>30</td>\n",
       "      <td>169</td>\n",
       "      <td>1996</td>\n",
       "      <td>199</td>\n",
       "    </tr>\n",
       "    <tr>\n",
       "      <th>1998-06-19</th>\n",
       "      <td>15.000000</td>\n",
       "      <td>85.000000</td>\n",
       "      <td>30</td>\n",
       "      <td>170</td>\n",
       "      <td>1996</td>\n",
       "      <td>0</td>\n",
       "    </tr>\n",
       "    <tr>\n",
       "      <th>2001-02-28</th>\n",
       "      <td>15.656566</td>\n",
       "      <td>84.343434</td>\n",
       "      <td>31</td>\n",
       "      <td>167</td>\n",
       "      <td>1998</td>\n",
       "      <td>198</td>\n",
       "    </tr>\n",
       "    <tr>\n",
       "      <th>2002-06-15</th>\n",
       "      <td>16.000000</td>\n",
       "      <td>84.000000</td>\n",
       "      <td>32</td>\n",
       "      <td>168</td>\n",
       "      <td>1998</td>\n",
       "      <td>0</td>\n",
       "    </tr>\n",
       "    <tr>\n",
       "      <th>2006-06-03</th>\n",
       "      <td>16.500000</td>\n",
       "      <td>83.500000</td>\n",
       "      <td>33</td>\n",
       "      <td>167</td>\n",
       "      <td>2002</td>\n",
       "      <td>0</td>\n",
       "    </tr>\n",
       "    <tr>\n",
       "      <th>2010-05-29</th>\n",
       "      <td>18.500000</td>\n",
       "      <td>81.500000</td>\n",
       "      <td>37</td>\n",
       "      <td>163</td>\n",
       "      <td>2006</td>\n",
       "      <td>0</td>\n",
       "    </tr>\n",
       "    <tr>\n",
       "      <th>2013-08-28</th>\n",
       "      <td>21.500000</td>\n",
       "      <td>78.500000</td>\n",
       "      <td>43</td>\n",
       "      <td>157</td>\n",
       "      <td>2010</td>\n",
       "      <td>0</td>\n",
       "    </tr>\n",
       "    <tr>\n",
       "      <th>2017-10-21</th>\n",
       "      <td>20.500000</td>\n",
       "      <td>79.500000</td>\n",
       "      <td>41</td>\n",
       "      <td>159</td>\n",
       "      <td>2013</td>\n",
       "      <td>0</td>\n",
       "    </tr>\n",
       "    <tr>\n",
       "      <th>2021-09-26</th>\n",
       "      <td>23.000000</td>\n",
       "      <td>77.000000</td>\n",
       "      <td>46</td>\n",
       "      <td>154</td>\n",
       "      <td>2017</td>\n",
       "      <td>0</td>\n",
       "    </tr>\n",
       "  </tbody>\n",
       "</table>\n",
       "</div>"
      ],
      "text/plain": [
       "             zeny_pct   muzi_pct  zeny_cnt  muzi_cnt  snemovna  check_cnt\n",
       "datum                                                                    \n",
       "1993-11-09   9.547739  90.452261        19       180      1992        199\n",
       "1995-05-23   9.547739  90.452261        19       180      1992        199\n",
       "1996-04-29   9.547739  90.452261        19       180      1992        199\n",
       "1996-05-06   9.547739  90.452261        19       180      1992        199\n",
       "1996-06-01  10.000000  90.000000        20       180      1992          0\n",
       "1996-11-01  15.075377  84.924623        30       169      1996        199\n",
       "1996-12-17  14.646465  85.353535        29       169      1996        198\n",
       "1997-01-16  14.572864  85.427136        29       170      1996        199\n",
       "1997-06-02  14.572864  85.427136        29       170      1996        199\n",
       "1997-06-11  14.572864  85.427136        29       170      1996        199\n",
       "1997-08-27  14.572864  85.427136        29       170      1996        199\n",
       "1997-08-29  14.572864  85.427136        29       170      1996        199\n",
       "1997-11-11  14.572864  85.427136        29       170      1996        199\n",
       "1997-12-01  14.572864  85.427136        29       170      1996        199\n",
       "1997-12-02  15.075377  84.924623        30       169      1996        199\n",
       "1998-01-26  15.075377  84.924623        30       169      1996        199\n",
       "1998-02-12  15.075377  84.924623        30       169      1996        199\n",
       "1998-02-25  15.075377  84.924623        30       169      1996        199\n",
       "1998-06-19  15.000000  85.000000        30       170      1996          0\n",
       "2001-02-28  15.656566  84.343434        31       167      1998        198\n",
       "2002-06-15  16.000000  84.000000        32       168      1998          0\n",
       "2006-06-03  16.500000  83.500000        33       167      2002          0\n",
       "2010-05-29  18.500000  81.500000        37       163      2006          0\n",
       "2013-08-28  21.500000  78.500000        43       157      2010          0\n",
       "2017-10-21  20.500000  79.500000        41       159      2013          0\n",
       "2021-09-26  23.000000  77.000000        46       154      2017          0"
      ]
     },
     "execution_count": 10,
     "metadata": {},
     "output_type": "execute_result"
    }
   ],
   "source": [
    "# Kontrola smyslupnosti dat ... check_cnt by neměl být víc než 200.\n",
    "# Bylo by dobré ověřit, že hodnoty menší než 200 jsou pouze krátkodobé fluktuace, ke kterým dochází během výměny poslanců v PS.\n",
    "\n",
    "zastoupeni_df[(zastoupeni_df.check_cnt != 200)]"
   ]
  },
  {
   "cell_type": "markdown",
   "metadata": {},
   "source": [
    "## Extrapolace historických dat do budoucnosti\n",
    "\n",
    "K extrapolaci zastoupení žen v PS do budoucnosti použijeme lineární regresi."
   ]
  },
  {
   "cell_type": "code",
   "execution_count": 11,
   "metadata": {},
   "outputs": [
    {
     "data": {
      "text/html": [
       "<div>\n",
       "<style scoped>\n",
       "    .dataframe tbody tr th:only-of-type {\n",
       "        vertical-align: middle;\n",
       "    }\n",
       "\n",
       "    .dataframe tbody tr th {\n",
       "        vertical-align: top;\n",
       "    }\n",
       "\n",
       "    .dataframe thead th {\n",
       "        text-align: right;\n",
       "    }\n",
       "</style>\n",
       "<table border=\"1\" class=\"dataframe\">\n",
       "  <thead>\n",
       "    <tr style=\"text-align: right;\">\n",
       "      <th></th>\n",
       "      <th>zeny_pct</th>\n",
       "      <th>muzi_pct</th>\n",
       "      <th>zeny_cnt</th>\n",
       "      <th>muzi_cnt</th>\n",
       "      <th>snemovna</th>\n",
       "      <th>check_cnt</th>\n",
       "      <th>days_from_start</th>\n",
       "    </tr>\n",
       "    <tr>\n",
       "      <th>datum</th>\n",
       "      <th></th>\n",
       "      <th></th>\n",
       "      <th></th>\n",
       "      <th></th>\n",
       "      <th></th>\n",
       "      <th></th>\n",
       "      <th></th>\n",
       "    </tr>\n",
       "  </thead>\n",
       "  <tbody>\n",
       "    <tr>\n",
       "      <th>1992-06-06</th>\n",
       "      <td>10.000000</td>\n",
       "      <td>90.000000</td>\n",
       "      <td>20</td>\n",
       "      <td>180</td>\n",
       "      <td>1992</td>\n",
       "      <td>200</td>\n",
       "      <td>0</td>\n",
       "    </tr>\n",
       "    <tr>\n",
       "      <th>1993-11-09</th>\n",
       "      <td>9.547739</td>\n",
       "      <td>90.452261</td>\n",
       "      <td>19</td>\n",
       "      <td>180</td>\n",
       "      <td>1992</td>\n",
       "      <td>199</td>\n",
       "      <td>521</td>\n",
       "    </tr>\n",
       "    <tr>\n",
       "      <th>1993-11-11</th>\n",
       "      <td>9.500000</td>\n",
       "      <td>90.500000</td>\n",
       "      <td>19</td>\n",
       "      <td>181</td>\n",
       "      <td>1992</td>\n",
       "      <td>200</td>\n",
       "      <td>523</td>\n",
       "    </tr>\n",
       "    <tr>\n",
       "      <th>1995-05-23</th>\n",
       "      <td>9.547739</td>\n",
       "      <td>90.452261</td>\n",
       "      <td>19</td>\n",
       "      <td>180</td>\n",
       "      <td>1992</td>\n",
       "      <td>199</td>\n",
       "      <td>1081</td>\n",
       "    </tr>\n",
       "    <tr>\n",
       "      <th>1995-05-25</th>\n",
       "      <td>9.500000</td>\n",
       "      <td>90.500000</td>\n",
       "      <td>19</td>\n",
       "      <td>181</td>\n",
       "      <td>1992</td>\n",
       "      <td>200</td>\n",
       "      <td>1083</td>\n",
       "    </tr>\n",
       "  </tbody>\n",
       "</table>\n",
       "</div>"
      ],
      "text/plain": [
       "             zeny_pct   muzi_pct  zeny_cnt  muzi_cnt  snemovna  check_cnt  \\\n",
       "datum                                                                       \n",
       "1992-06-06  10.000000  90.000000        20       180      1992        200   \n",
       "1993-11-09   9.547739  90.452261        19       180      1992        199   \n",
       "1993-11-11   9.500000  90.500000        19       181      1992        200   \n",
       "1995-05-23   9.547739  90.452261        19       180      1992        199   \n",
       "1995-05-25   9.500000  90.500000        19       181      1992        200   \n",
       "\n",
       "            days_from_start  \n",
       "datum                        \n",
       "1992-06-06                0  \n",
       "1993-11-09              521  \n",
       "1993-11-11              523  \n",
       "1995-05-23             1081  \n",
       "1995-05-25             1083  "
      ]
     },
     "execution_count": 11,
     "metadata": {},
     "output_type": "execute_result"
    }
   ],
   "source": [
    "zastoupeni_df[pd.isna(zastoupeni_df.index)]\n",
    "zastoupeni_df['days_from_start'] = (zastoupeni_df.index - zastoupeni_df.index[0]).days\n",
    "zastoupeni_df.head()"
   ]
  },
  {
   "cell_type": "code",
   "execution_count": 12,
   "metadata": {},
   "outputs": [
    {
     "name": "stdout",
     "output_type": "stream",
     "text": [
      "Intercept: 11.529799506551512\n",
      "Slope: [0.00111072]\n",
      "R^2 score: 0.8373092006757612\n"
     ]
    }
   ],
   "source": [
    "x = zastoupeni_df['days_from_start'].values.reshape(-1, 1)\n",
    "y = zastoupeni_df['zeny_pct'].values\n",
    "\n",
    "# Použij model lineární regrese\n",
    "model = linear_model.LinearRegression().fit(x, y)\n",
    "\n",
    "# Vypiš základní informace o modelu\n",
    "r_sq = model.score(x, y)\n",
    "print('Intercept:', model.intercept_)\n",
    "print('Slope:', model.coef_)\n",
    "print('R^2 score:', r_sq)"
   ]
  },
  {
   "cell_type": "code",
   "execution_count": 34,
   "metadata": {},
   "outputs": [
    {
     "name": "stdout",
     "output_type": "stream",
     "text": [
      "Rovného zastoupní se dle predikce dosáhne: 2087-04-05.\n"
     ]
    },
    {
     "data": {
      "text/plain": [
       "array([11.52979951, 12.10848344, 12.11070487, 12.73048536, 12.73270679])"
      ]
     },
     "execution_count": 34,
     "metadata": {},
     "output_type": "execute_result"
    }
   ],
   "source": [
    "# Vezmi všechny historické časové body vyjma posledního\n",
    "x_historical = zastoupeni_df['days_from_start'].values[:-1]\n",
    "\n",
    "# Spočítej, pro jaký bod se bude predikce rovnat 50%\n",
    "last_x = math.ceil((50 - model.intercept_) / model.coef_)\n",
    "rovne_zastoupeni_dt = (zastoupeni_df.index[0] + pd.DateOffset(days=last_x)).date()\n",
    "print(f\"Rovného zastoupní se dle predikce dosáhne: {rovne_zastoupeni_dt}.\")\n",
    "\n",
    "# Přidej dalších 70 bodů pro proložení lineární regresí do budoucnosti\n",
    "x_extrapolated = np.ceil(np.linspace(zastoupeni_df['days_from_start'].max(), last_x, 70, endpoint=True)).reshape(1, -1)[0]\n",
    "\n",
    "# Spoj historické body a body z budoucnosti\n",
    "x_values = np.concatenate((x_historical, x_extrapolated))\n",
    "\n",
    "# Uplatni predikci na historické body i body z budoucnosti\n",
    "x_vector = [[v] for v in x_values]\n",
    "y_pred = model.predict(x_vector)\n",
    "y_pred[0:5]"
   ]
  },
  {
   "cell_type": "code",
   "execution_count": 45,
   "metadata": {},
   "outputs": [
    {
     "data": {
      "text/html": [
       "<div>\n",
       "<style scoped>\n",
       "    .dataframe tbody tr th:only-of-type {\n",
       "        vertical-align: middle;\n",
       "    }\n",
       "\n",
       "    .dataframe tbody tr th {\n",
       "        vertical-align: top;\n",
       "    }\n",
       "\n",
       "    .dataframe thead th {\n",
       "        text-align: right;\n",
       "    }\n",
       "</style>\n",
       "<table border=\"1\" class=\"dataframe\">\n",
       "  <thead>\n",
       "    <tr style=\"text-align: right;\">\n",
       "      <th></th>\n",
       "      <th>zeny_pct_extrapolace</th>\n",
       "      <th>rovne_zastoupeni_dt</th>\n",
       "    </tr>\n",
       "    <tr>\n",
       "      <th>datum</th>\n",
       "      <th></th>\n",
       "      <th></th>\n",
       "    </tr>\n",
       "  </thead>\n",
       "  <tbody>\n",
       "    <tr>\n",
       "      <th>1992-06-06</th>\n",
       "      <td>11.529800</td>\n",
       "      <td>2087-04-05</td>\n",
       "    </tr>\n",
       "    <tr>\n",
       "      <th>1993-11-09</th>\n",
       "      <td>12.108483</td>\n",
       "      <td>2087-04-05</td>\n",
       "    </tr>\n",
       "    <tr>\n",
       "      <th>1993-11-11</th>\n",
       "      <td>12.110705</td>\n",
       "      <td>2087-04-05</td>\n",
       "    </tr>\n",
       "    <tr>\n",
       "      <th>1995-05-23</th>\n",
       "      <td>12.730485</td>\n",
       "      <td>2087-04-05</td>\n",
       "    </tr>\n",
       "    <tr>\n",
       "      <th>1995-05-25</th>\n",
       "      <td>12.732707</td>\n",
       "      <td>2087-04-05</td>\n",
       "    </tr>\n",
       "  </tbody>\n",
       "</table>\n",
       "</div>"
      ],
      "text/plain": [
       "            zeny_pct_extrapolace rovne_zastoupeni_dt\n",
       "datum                                               \n",
       "1992-06-06             11.529800          2087-04-05\n",
       "1993-11-09             12.108483          2087-04-05\n",
       "1993-11-11             12.110705          2087-04-05\n",
       "1995-05-23             12.730485          2087-04-05\n",
       "1995-05-25             12.732707          2087-04-05"
      ]
     },
     "execution_count": 45,
     "metadata": {},
     "output_type": "execute_result"
    }
   ],
   "source": [
    "zastoupeni_extrapolace_df = pd.DataFrame(\n",
    "    {\"zeny_pct_extrapolace\": y_pred},\n",
    "    index=[zastoupeni_df.index[0] + pd.DateOffset(days=num_days) for num_days in x_values]\n",
    ")\n",
    "zastoupeni_extrapolace_df['rovne_zastoupeni_dt'] = rovne_zastoupeni_dt\n",
    "zastoupeni_extrapolace_df.index.name = 'datum'\n",
    "zastoupeni_extrapolace_df.head()"
   ]
  },
  {
   "cell_type": "markdown",
   "metadata": {},
   "source": [
    "## Vizualizace"
   ]
  },
  {
   "cell_type": "code",
   "execution_count": 46,
   "metadata": {},
   "outputs": [
    {
     "data": {
      "application/vnd.plotly.v1+json": {
       "config": {
        "plotlyServerURL": "https://plot.ly"
       },
       "data": [
        {
         "hoverinfo": "text",
         "hovertemplate": "Sněmovna: 1992<br>Datum: %{x|%d. %m. %Y}<br>Pohlaví: ženy<br>Počet: %{y}<extra></extra>",
         "mode": "markers+lines",
         "name": "ženy (1992)",
         "stackgroup": "1992",
         "type": "scatter",
         "x": [
          "1992-06-06",
          "1993-11-09",
          "1993-11-11",
          "1995-05-23",
          "1995-05-25",
          "1996-04-29",
          "1996-04-30",
          "1996-05-06",
          "1996-05-07",
          "1996-06-01"
         ],
         "y": [
          10,
          9.547738693467336,
          9.5,
          9.547738693467336,
          9.5,
          9.547738693467336,
          9.5,
          9.547738693467336,
          10,
          10
         ]
        },
        {
         "hoverinfo": "text",
         "hovertemplate": "Sněmovna: 1992<br>Datum: %{x|%d. %m. %Y}<br>Pohlaví: muži<br>Počet: %{y}<extra></extra>",
         "mode": "markers+lines",
         "name": "muži (1992)",
         "stackgroup": "1992",
         "type": "scatter",
         "x": [
          "1992-06-06",
          "1993-11-09",
          "1993-11-11",
          "1995-05-23",
          "1995-05-25",
          "1996-04-29",
          "1996-04-30",
          "1996-05-06",
          "1996-05-07",
          "1996-06-01"
         ],
         "y": [
          90,
          90.45226130653266,
          90.5,
          90.45226130653266,
          90.5,
          90.45226130653266,
          90.5,
          90.45226130653266,
          90,
          90
         ]
        },
        {
         "hoverinfo": "text",
         "hovertemplate": "Sněmovna: 1996<br>Datum: %{x|%d. %m. %Y}<br>Pohlaví: ženy<br>Počet: %{y}<extra></extra>",
         "mode": "markers+lines",
         "name": "ženy (1996)",
         "stackgroup": "1996",
         "type": "scatter",
         "x": [
          "1996-06-01",
          "1996-11-01",
          "1996-11-02",
          "1996-12-17",
          "1996-12-18",
          "1997-01-16",
          "1997-01-17",
          "1997-06-02",
          "1997-06-03",
          "1997-06-11",
          "1997-06-12",
          "1997-08-27",
          "1997-08-28",
          "1997-08-29",
          "1997-08-30",
          "1997-11-11",
          "1997-11-12",
          "1997-12-01",
          "1997-12-02",
          "1997-12-03",
          "1998-01-26",
          "1998-01-27",
          "1998-02-12",
          "1998-02-13",
          "1998-02-25",
          "1998-02-26",
          "1998-06-19"
         ],
         "y": [
          15,
          15.075376884422111,
          15,
          14.646464646464647,
          14.5,
          14.57286432160804,
          14.5,
          14.57286432160804,
          14.5,
          14.57286432160804,
          14.5,
          14.57286432160804,
          14.5,
          14.57286432160804,
          14.5,
          14.57286432160804,
          14.5,
          14.57286432160804,
          15.075376884422111,
          15,
          15.075376884422111,
          15,
          15.075376884422111,
          15,
          15.075376884422111,
          15,
          15
         ]
        },
        {
         "hoverinfo": "text",
         "hovertemplate": "Sněmovna: 1996<br>Datum: %{x|%d. %m. %Y}<br>Pohlaví: muži<br>Počet: %{y}<extra></extra>",
         "mode": "markers+lines",
         "name": "muži (1996)",
         "stackgroup": "1996",
         "type": "scatter",
         "x": [
          "1996-06-01",
          "1996-11-01",
          "1996-11-02",
          "1996-12-17",
          "1996-12-18",
          "1997-01-16",
          "1997-01-17",
          "1997-06-02",
          "1997-06-03",
          "1997-06-11",
          "1997-06-12",
          "1997-08-27",
          "1997-08-28",
          "1997-08-29",
          "1997-08-30",
          "1997-11-11",
          "1997-11-12",
          "1997-12-01",
          "1997-12-02",
          "1997-12-03",
          "1998-01-26",
          "1998-01-27",
          "1998-02-12",
          "1998-02-13",
          "1998-02-25",
          "1998-02-26",
          "1998-06-19"
         ],
         "y": [
          85,
          84.92462311557789,
          85,
          85.35353535353535,
          85.5,
          85.42713567839196,
          85.5,
          85.42713567839196,
          85.5,
          85.42713567839196,
          85.5,
          85.42713567839196,
          85.5,
          85.42713567839196,
          85.5,
          85.42713567839196,
          85.5,
          85.42713567839196,
          84.92462311557789,
          85,
          84.92462311557789,
          85,
          84.92462311557789,
          85,
          84.92462311557789,
          85,
          85
         ]
        },
        {
         "hoverinfo": "text",
         "hovertemplate": "Sněmovna: 1998<br>Datum: %{x|%d. %m. %Y}<br>Pohlaví: ženy<br>Počet: %{y}<extra></extra>",
         "mode": "markers+lines",
         "name": "ženy (1998)",
         "stackgroup": "1998",
         "type": "scatter",
         "x": [
          "1998-06-20",
          "1999-11-22",
          "2000-09-14",
          "2001-02-28",
          "2001-03-01",
          "2001-07-31",
          "2001-10-31",
          "2002-06-15"
         ],
         "y": [
          15,
          15,
          15.5,
          15.656565656565656,
          16,
          16,
          16,
          16
         ]
        },
        {
         "hoverinfo": "text",
         "hovertemplate": "Sněmovna: 1998<br>Datum: %{x|%d. %m. %Y}<br>Pohlaví: muži<br>Počet: %{y}<extra></extra>",
         "mode": "markers+lines",
         "name": "muži (1998)",
         "stackgroup": "1998",
         "type": "scatter",
         "x": [
          "1998-06-20",
          "1999-11-22",
          "2000-09-14",
          "2001-02-28",
          "2001-03-01",
          "2001-07-31",
          "2001-10-31",
          "2002-06-15"
         ],
         "y": [
          85,
          85,
          84.5,
          84.34343434343434,
          84,
          84,
          84,
          84
         ]
        },
        {
         "hoverinfo": "text",
         "hovertemplate": "Sněmovna: 2002<br>Datum: %{x|%d. %m. %Y}<br>Pohlaví: ženy<br>Počet: %{y}<extra></extra>",
         "mode": "markers+lines",
         "name": "ženy (2002)",
         "stackgroup": "2002",
         "type": "scatter",
         "x": [
          "2002-06-15",
          "2002-09-18",
          "2003-03-07",
          "2003-04-23",
          "2003-06-02",
          "2003-06-06",
          "2003-07-26",
          "2003-09-23",
          "2004-05-05",
          "2004-07-08",
          "2004-07-20",
          "2004-08-31",
          "2004-09-21",
          "2004-09-22",
          "2004-09-24",
          "2004-09-30",
          "2004-10-07",
          "2005-06-09",
          "2005-07-24",
          "2005-12-02",
          "2005-12-09",
          "2006-01-17",
          "2006-01-20",
          "2006-01-24",
          "2006-02-28",
          "2006-04-18",
          "2006-06-03"
         ],
         "y": [
          17,
          17,
          17,
          17,
          17,
          17,
          17,
          16.5,
          16.5,
          16.5,
          16.5,
          16.5,
          16.5,
          16.5,
          16,
          16,
          16,
          15.5,
          16,
          16,
          15.5,
          15.5,
          16,
          16,
          16,
          16.5,
          16.5
         ]
        },
        {
         "hoverinfo": "text",
         "hovertemplate": "Sněmovna: 2002<br>Datum: %{x|%d. %m. %Y}<br>Pohlaví: muži<br>Počet: %{y}<extra></extra>",
         "mode": "markers+lines",
         "name": "muži (2002)",
         "stackgroup": "2002",
         "type": "scatter",
         "x": [
          "2002-06-15",
          "2002-09-18",
          "2003-03-07",
          "2003-04-23",
          "2003-06-02",
          "2003-06-06",
          "2003-07-26",
          "2003-09-23",
          "2004-05-05",
          "2004-07-08",
          "2004-07-20",
          "2004-08-31",
          "2004-09-21",
          "2004-09-22",
          "2004-09-24",
          "2004-09-30",
          "2004-10-07",
          "2005-06-09",
          "2005-07-24",
          "2005-12-02",
          "2005-12-09",
          "2006-01-17",
          "2006-01-20",
          "2006-01-24",
          "2006-02-28",
          "2006-04-18",
          "2006-06-03"
         ],
         "y": [
          83,
          83,
          83,
          83,
          83,
          83,
          83,
          83.5,
          83.5,
          83.5,
          83.5,
          83.5,
          83.5,
          83.5,
          84,
          84,
          84,
          84.5,
          84,
          84,
          84.5,
          84.5,
          84,
          84,
          84,
          83.5,
          83.5
         ]
        },
        {
         "hoverinfo": "text",
         "hovertemplate": "Sněmovna: 2006<br>Datum: %{x|%d. %m. %Y}<br>Pohlaví: ženy<br>Počet: %{y}<extra></extra>",
         "mode": "markers+lines",
         "name": "ženy (2006)",
         "stackgroup": "2006",
         "type": "scatter",
         "x": [
          "2006-06-03",
          "2007-01-16",
          "2008-09-17",
          "2008-10-25",
          "2008-11-13",
          "2008-12-11",
          "2009-03-01",
          "2009-04-30",
          "2009-07-03",
          "2009-07-09",
          "2009-07-13",
          "2009-09-15",
          "2009-09-29",
          "2009-12-11",
          "2010-03-01",
          "2010-04-30",
          "2010-05-26",
          "2010-05-29"
         ],
         "y": [
          15.5,
          15.5,
          15.5,
          15.5,
          16,
          16.5,
          17.5,
          17.5,
          17,
          17,
          17.5,
          18,
          18,
          18,
          18,
          19,
          18.5,
          18.5
         ]
        },
        {
         "hoverinfo": "text",
         "hovertemplate": "Sněmovna: 2006<br>Datum: %{x|%d. %m. %Y}<br>Pohlaví: muži<br>Počet: %{y}<extra></extra>",
         "mode": "markers+lines",
         "name": "muži (2006)",
         "stackgroup": "2006",
         "type": "scatter",
         "x": [
          "2006-06-03",
          "2007-01-16",
          "2008-09-17",
          "2008-10-25",
          "2008-11-13",
          "2008-12-11",
          "2009-03-01",
          "2009-04-30",
          "2009-07-03",
          "2009-07-09",
          "2009-07-13",
          "2009-09-15",
          "2009-09-29",
          "2009-12-11",
          "2010-03-01",
          "2010-04-30",
          "2010-05-26",
          "2010-05-29"
         ],
         "y": [
          84.5,
          84.5,
          84.5,
          84.5,
          84,
          83.5,
          82.5,
          82.5,
          83,
          83,
          82.5,
          82,
          82,
          82,
          82,
          81,
          81.5,
          81.5
         ]
        },
        {
         "hoverinfo": "text",
         "hovertemplate": "Sněmovna: 2010<br>Datum: %{x|%d. %m. %Y}<br>Pohlaví: ženy<br>Počet: %{y}<extra></extra>",
         "mode": "markers+lines",
         "name": "ženy (2010)",
         "stackgroup": "2010",
         "type": "scatter",
         "x": [
          "2010-05-29",
          "2010-10-23",
          "2010-11-30",
          "2011-03-01",
          "2011-03-25",
          "2011-03-26",
          "2012-02-07",
          "2012-10-20",
          "2012-11-07",
          "2013-01-31",
          "2013-04-05",
          "2013-04-11",
          "2013-04-24",
          "2013-06-14",
          "2013-08-28"
         ],
         "y": [
          22,
          22.5,
          22,
          22,
          22,
          22,
          22,
          21.5,
          21.5,
          21.5,
          22,
          21.5,
          21.5,
          21.5,
          21.5
         ]
        },
        {
         "hoverinfo": "text",
         "hovertemplate": "Sněmovna: 2010<br>Datum: %{x|%d. %m. %Y}<br>Pohlaví: muži<br>Počet: %{y}<extra></extra>",
         "mode": "markers+lines",
         "name": "muži (2010)",
         "stackgroup": "2010",
         "type": "scatter",
         "x": [
          "2010-05-29",
          "2010-10-23",
          "2010-11-30",
          "2011-03-01",
          "2011-03-25",
          "2011-03-26",
          "2012-02-07",
          "2012-10-20",
          "2012-11-07",
          "2013-01-31",
          "2013-04-05",
          "2013-04-11",
          "2013-04-24",
          "2013-06-14",
          "2013-08-28"
         ],
         "y": [
          78,
          77.5,
          78,
          78,
          78,
          78,
          78,
          78.5,
          78.5,
          78.5,
          78,
          78.5,
          78.5,
          78.5,
          78.5
         ]
        },
        {
         "hoverinfo": "text",
         "hovertemplate": "Sněmovna: 2013<br>Datum: %{x|%d. %m. %Y}<br>Pohlaví: ženy<br>Počet: %{y}<extra></extra>",
         "mode": "markers+lines",
         "name": "ženy (2013)",
         "stackgroup": "2013",
         "type": "scatter",
         "x": [
          "2013-10-26",
          "2013-11-27",
          "2013-12-03",
          "2014-03-31",
          "2014-04-30",
          "2014-06-20",
          "2014-07-01",
          "2014-08-28",
          "2014-10-21",
          "2014-12-08",
          "2016-01-14",
          "2017-01-03",
          "2017-03-14",
          "2017-06-09",
          "2017-07-01",
          "2017-10-21"
         ],
         "y": [
          19.5,
          19.5,
          19.5,
          20,
          20,
          20,
          19.5,
          19.5,
          19.5,
          20,
          20.5,
          20,
          20,
          20,
          20.5,
          20.5
         ]
        },
        {
         "hoverinfo": "text",
         "hovertemplate": "Sněmovna: 2013<br>Datum: %{x|%d. %m. %Y}<br>Pohlaví: muži<br>Počet: %{y}<extra></extra>",
         "mode": "markers+lines",
         "name": "muži (2013)",
         "stackgroup": "2013",
         "type": "scatter",
         "x": [
          "2013-10-26",
          "2013-11-27",
          "2013-12-03",
          "2014-03-31",
          "2014-04-30",
          "2014-06-20",
          "2014-07-01",
          "2014-08-28",
          "2014-10-21",
          "2014-12-08",
          "2016-01-14",
          "2017-01-03",
          "2017-03-14",
          "2017-06-09",
          "2017-07-01",
          "2017-10-21"
         ],
         "y": [
          80.5,
          80.5,
          80.5,
          80,
          80,
          80,
          80.5,
          80.5,
          80.5,
          80,
          79.5,
          80,
          80,
          80,
          79.5,
          79.5
         ]
        },
        {
         "hoverinfo": "text",
         "hovertemplate": "Sněmovna: 2017<br>Datum: %{x|%d. %m. %Y}<br>Pohlaví: ženy<br>Počet: %{y}<extra></extra>",
         "mode": "markers+lines",
         "name": "ženy (2017)",
         "stackgroup": "2017",
         "type": "scatter",
         "x": [
          "2017-10-21",
          "2017-11-24",
          "2018-03-31",
          "2018-06-19",
          "2018-10-01",
          "2018-12-04",
          "2019-04-14",
          "2019-04-15",
          "2019-06-06",
          "2019-07-02",
          "2020-07-31",
          "2020-10-10",
          "2020-12-31",
          "2021-01-19",
          "2021-01-26",
          "2021-03-01",
          "2021-03-09",
          "2021-05-31",
          "2021-09-17",
          "2021-09-26"
         ],
         "y": [
          22,
          22,
          22,
          22.5,
          22.5,
          23,
          23,
          23.5,
          23.5,
          22.5,
          23,
          22.5,
          23,
          23,
          23,
          22.5,
          22.5,
          23,
          23,
          23
         ]
        },
        {
         "hoverinfo": "text",
         "hovertemplate": "Sněmovna: 2017<br>Datum: %{x|%d. %m. %Y}<br>Pohlaví: muži<br>Počet: %{y}<extra></extra>",
         "mode": "markers+lines",
         "name": "muži (2017)",
         "stackgroup": "2017",
         "type": "scatter",
         "x": [
          "2017-10-21",
          "2017-11-24",
          "2018-03-31",
          "2018-06-19",
          "2018-10-01",
          "2018-12-04",
          "2019-04-14",
          "2019-04-15",
          "2019-06-06",
          "2019-07-02",
          "2020-07-31",
          "2020-10-10",
          "2020-12-31",
          "2021-01-19",
          "2021-01-26",
          "2021-03-01",
          "2021-03-09",
          "2021-05-31",
          "2021-09-17",
          "2021-09-26"
         ],
         "y": [
          78,
          78,
          78,
          77.5,
          77.5,
          77,
          77,
          76.5,
          76.5,
          77.5,
          77,
          77.5,
          77,
          77,
          77,
          77.5,
          77.5,
          77,
          77,
          77
         ]
        },
        {
         "line": {
          "color": "green",
          "dash": "dash",
          "width": 2
         },
         "mode": "lines",
         "name": "ženy (extrapolace)",
         "type": "scatter",
         "x": [
          "1992-06-06T00:00:00",
          "1993-11-09T00:00:00",
          "1993-11-11T00:00:00",
          "1995-05-23T00:00:00",
          "1995-05-25T00:00:00",
          "1996-04-29T00:00:00",
          "1996-04-30T00:00:00",
          "1996-05-06T00:00:00",
          "1996-05-07T00:00:00",
          "1996-06-01T00:00:00",
          "1996-06-01T00:00:00",
          "1996-11-01T00:00:00",
          "1996-11-02T00:00:00",
          "1996-12-17T00:00:00",
          "1996-12-18T00:00:00",
          "1997-01-16T00:00:00",
          "1997-01-17T00:00:00",
          "1997-06-02T00:00:00",
          "1997-06-03T00:00:00",
          "1997-06-11T00:00:00",
          "1997-06-12T00:00:00",
          "1997-08-27T00:00:00",
          "1997-08-28T00:00:00",
          "1997-08-29T00:00:00",
          "1997-08-30T00:00:00",
          "1997-11-11T00:00:00",
          "1997-11-12T00:00:00",
          "1997-12-01T00:00:00",
          "1997-12-02T00:00:00",
          "1997-12-03T00:00:00",
          "1998-01-26T00:00:00",
          "1998-01-27T00:00:00",
          "1998-02-12T00:00:00",
          "1998-02-13T00:00:00",
          "1998-02-25T00:00:00",
          "1998-02-26T00:00:00",
          "1998-06-19T00:00:00",
          "1998-06-20T00:00:00",
          "1999-11-22T00:00:00",
          "2000-09-14T00:00:00",
          "2001-02-28T00:00:00",
          "2001-03-01T00:00:00",
          "2001-07-31T00:00:00",
          "2001-10-31T00:00:00",
          "2002-06-15T00:00:00",
          "2002-06-15T00:00:00",
          "2002-09-18T00:00:00",
          "2003-03-07T00:00:00",
          "2003-04-23T00:00:00",
          "2003-06-02T00:00:00",
          "2003-06-06T00:00:00",
          "2003-07-26T00:00:00",
          "2003-09-23T00:00:00",
          "2004-05-05T00:00:00",
          "2004-07-08T00:00:00",
          "2004-07-20T00:00:00",
          "2004-08-31T00:00:00",
          "2004-09-21T00:00:00",
          "2004-09-22T00:00:00",
          "2004-09-24T00:00:00",
          "2004-09-30T00:00:00",
          "2004-10-07T00:00:00",
          "2005-06-09T00:00:00",
          "2005-07-24T00:00:00",
          "2005-12-02T00:00:00",
          "2005-12-09T00:00:00",
          "2006-01-17T00:00:00",
          "2006-01-20T00:00:00",
          "2006-01-24T00:00:00",
          "2006-02-28T00:00:00",
          "2006-04-18T00:00:00",
          "2006-06-03T00:00:00",
          "2006-06-03T00:00:00",
          "2007-01-16T00:00:00",
          "2008-09-17T00:00:00",
          "2008-10-25T00:00:00",
          "2008-11-13T00:00:00",
          "2008-12-11T00:00:00",
          "2009-03-01T00:00:00",
          "2009-04-30T00:00:00",
          "2009-07-03T00:00:00",
          "2009-07-09T00:00:00",
          "2009-07-13T00:00:00",
          "2009-09-15T00:00:00",
          "2009-09-29T00:00:00",
          "2009-12-11T00:00:00",
          "2010-03-01T00:00:00",
          "2010-04-30T00:00:00",
          "2010-05-26T00:00:00",
          "2010-05-29T00:00:00",
          "2010-05-29T00:00:00",
          "2010-10-23T00:00:00",
          "2010-11-30T00:00:00",
          "2011-03-01T00:00:00",
          "2011-03-25T00:00:00",
          "2011-03-26T00:00:00",
          "2012-02-07T00:00:00",
          "2012-10-20T00:00:00",
          "2012-11-07T00:00:00",
          "2013-01-31T00:00:00",
          "2013-04-05T00:00:00",
          "2013-04-11T00:00:00",
          "2013-04-24T00:00:00",
          "2013-06-14T00:00:00",
          "2013-08-28T00:00:00",
          "2013-10-26T00:00:00",
          "2013-11-27T00:00:00",
          "2013-12-03T00:00:00",
          "2014-03-31T00:00:00",
          "2014-04-30T00:00:00",
          "2014-06-20T00:00:00",
          "2014-07-01T00:00:00",
          "2014-08-28T00:00:00",
          "2014-10-21T00:00:00",
          "2014-12-08T00:00:00",
          "2016-01-14T00:00:00",
          "2017-01-03T00:00:00",
          "2017-03-14T00:00:00",
          "2017-06-09T00:00:00",
          "2017-07-01T00:00:00",
          "2017-10-21T00:00:00",
          "2017-10-21T00:00:00",
          "2017-11-24T00:00:00",
          "2018-03-31T00:00:00",
          "2018-06-19T00:00:00",
          "2018-10-01T00:00:00",
          "2018-12-04T00:00:00",
          "2019-04-14T00:00:00",
          "2019-04-15T00:00:00",
          "2019-06-06T00:00:00",
          "2019-07-02T00:00:00",
          "2020-07-31T00:00:00",
          "2020-10-10T00:00:00",
          "2020-12-31T00:00:00",
          "2021-01-19T00:00:00",
          "2021-01-26T00:00:00",
          "2021-03-01T00:00:00",
          "2021-03-09T00:00:00",
          "2021-05-31T00:00:00",
          "2021-09-17T00:00:00",
          "2021-09-26T00:00:00",
          "2022-09-08T00:00:00",
          "2023-08-21T00:00:00",
          "2024-08-02T00:00:00",
          "2025-07-15T00:00:00",
          "2026-06-27T00:00:00",
          "2027-06-09T00:00:00",
          "2028-05-20T00:00:00",
          "2029-05-02T00:00:00",
          "2030-04-14T00:00:00",
          "2031-03-27T00:00:00",
          "2032-03-08T00:00:00",
          "2033-02-18T00:00:00",
          "2034-01-30T00:00:00",
          "2035-01-12T00:00:00",
          "2035-12-25T00:00:00",
          "2036-12-06T00:00:00",
          "2037-11-18T00:00:00",
          "2038-10-31T00:00:00",
          "2039-10-12T00:00:00",
          "2040-09-23T00:00:00",
          "2041-09-05T00:00:00",
          "2042-08-18T00:00:00",
          "2043-07-31T00:00:00",
          "2044-07-12T00:00:00",
          "2045-06-24T00:00:00",
          "2046-06-05T00:00:00",
          "2047-05-18T00:00:00",
          "2048-04-29T00:00:00",
          "2049-04-11T00:00:00",
          "2050-03-24T00:00:00",
          "2051-03-06T00:00:00",
          "2052-02-15T00:00:00",
          "2053-01-27T00:00:00",
          "2054-01-09T00:00:00",
          "2054-12-22T00:00:00",
          "2055-12-04T00:00:00",
          "2056-11-15T00:00:00",
          "2057-10-27T00:00:00",
          "2058-10-09T00:00:00",
          "2059-09-21T00:00:00",
          "2060-09-02T00:00:00",
          "2061-08-15T00:00:00",
          "2062-07-28T00:00:00",
          "2063-07-09T00:00:00",
          "2064-06-20T00:00:00",
          "2065-06-02T00:00:00",
          "2066-05-15T00:00:00",
          "2067-04-27T00:00:00",
          "2068-04-08T00:00:00",
          "2069-03-21T00:00:00",
          "2070-03-02T00:00:00",
          "2071-02-12T00:00:00",
          "2072-01-25T00:00:00",
          "2073-01-06T00:00:00",
          "2073-12-19T00:00:00",
          "2074-12-01T00:00:00",
          "2075-11-12T00:00:00",
          "2076-10-24T00:00:00",
          "2077-10-06T00:00:00",
          "2078-09-18T00:00:00",
          "2079-08-31T00:00:00",
          "2080-08-12T00:00:00",
          "2081-07-24T00:00:00",
          "2082-07-06T00:00:00",
          "2083-06-18T00:00:00",
          "2084-05-30T00:00:00",
          "2085-05-12T00:00:00",
          "2086-04-24T00:00:00",
          "2087-04-05T00:00:00"
         ],
         "y": [
          11.53,
          12.11,
          12.11,
          12.73,
          12.73,
          13.11,
          13.11,
          13.12,
          13.12,
          13.15,
          13.15,
          13.32,
          13.32,
          13.37,
          13.37,
          13.4,
          13.4,
          13.55,
          13.55,
          13.56,
          13.56,
          13.65,
          13.65,
          13.65,
          13.65,
          13.73,
          13.73,
          13.76,
          13.76,
          13.76,
          13.82,
          13.82,
          13.84,
          13.84,
          13.85,
          13.85,
          13.98,
          13.98,
          14.56,
          14.89,
          15.07,
          15.07,
          15.24,
          15.34,
          15.6,
          15.6,
          15.7,
          15.89,
          15.94,
          15.99,
          15.99,
          16.05,
          16.11,
          16.36,
          16.43,
          16.45,
          16.49,
          16.52,
          16.52,
          16.52,
          16.53,
          16.53,
          16.81,
          16.86,
          17,
          17.01,
          17.05,
          17.06,
          17.06,
          17.1,
          17.15,
          17.21,
          17.21,
          17.46,
          18.14,
          18.18,
          18.2,
          18.23,
          18.32,
          18.39,
          18.46,
          18.46,
          18.47,
          18.54,
          18.55,
          18.64,
          18.72,
          18.79,
          18.82,
          18.82,
          18.82,
          18.99,
          19.03,
          19.13,
          19.16,
          19.16,
          19.51,
          19.79,
          19.81,
          19.91,
          19.98,
          19.99,
          20,
          20.06,
          20.14,
          20.21,
          20.24,
          20.25,
          20.38,
          20.41,
          20.47,
          20.48,
          20.55,
          20.61,
          20.66,
          21.11,
          21.5,
          21.58,
          21.68,
          21.7,
          21.82,
          21.82,
          21.86,
          22,
          22.09,
          22.21,
          22.28,
          22.42,
          22.42,
          22.48,
          22.51,
          22.95,
          23.03,
          23.12,
          23.14,
          23.15,
          23.19,
          23.2,
          23.29,
          23.41,
          23.42,
          23.8,
          24.19,
          24.58,
          24.96,
          25.35,
          25.73,
          26.12,
          26.5,
          26.89,
          27.27,
          27.66,
          28.04,
          28.43,
          28.81,
          29.2,
          29.58,
          29.97,
          30.35,
          30.74,
          31.12,
          31.51,
          31.89,
          32.28,
          32.67,
          33.05,
          33.44,
          33.82,
          34.21,
          34.59,
          34.98,
          35.36,
          35.75,
          36.13,
          36.52,
          36.9,
          37.29,
          37.67,
          38.06,
          38.44,
          38.83,
          39.21,
          39.6,
          39.99,
          40.37,
          40.76,
          41.14,
          41.53,
          41.91,
          42.3,
          42.68,
          43.07,
          43.45,
          43.84,
          44.22,
          44.61,
          44.99,
          45.38,
          45.76,
          46.15,
          46.53,
          46.92,
          47.3,
          47.69,
          48.07,
          48.46,
          48.85,
          49.23,
          49.62,
          50
         ]
        }
       ],
       "layout": {
        "annotations": [
         {
          "arrowhead": 2,
          "text": "50% zastoupení",
          "x": "2039-11-05T00:00:00",
          "y": 50
         }
        ],
        "autosize": false,
        "height": 500,
        "hovermode": "x",
        "shapes": [
         {
          "line": {
           "color": "black",
           "dash": "dot",
           "width": 1
          },
          "type": "line",
          "x0": "1992-06-06T00:00:00",
          "x1": "2087-04-05T00:00:00",
          "y0": 50,
          "y1": 50
         }
        ],
        "showlegend": false,
        "template": {
         "data": {
          "bar": [
           {
            "error_x": {
             "color": "#2a3f5f"
            },
            "error_y": {
             "color": "#2a3f5f"
            },
            "marker": {
             "line": {
              "color": "#E5ECF6",
              "width": 0.5
             }
            },
            "type": "bar"
           }
          ],
          "barpolar": [
           {
            "marker": {
             "line": {
              "color": "#E5ECF6",
              "width": 0.5
             }
            },
            "type": "barpolar"
           }
          ],
          "carpet": [
           {
            "aaxis": {
             "endlinecolor": "#2a3f5f",
             "gridcolor": "white",
             "linecolor": "white",
             "minorgridcolor": "white",
             "startlinecolor": "#2a3f5f"
            },
            "baxis": {
             "endlinecolor": "#2a3f5f",
             "gridcolor": "white",
             "linecolor": "white",
             "minorgridcolor": "white",
             "startlinecolor": "#2a3f5f"
            },
            "type": "carpet"
           }
          ],
          "choropleth": [
           {
            "colorbar": {
             "outlinewidth": 0,
             "ticks": ""
            },
            "type": "choropleth"
           }
          ],
          "contour": [
           {
            "colorbar": {
             "outlinewidth": 0,
             "ticks": ""
            },
            "colorscale": [
             [
              0,
              "#0d0887"
             ],
             [
              0.1111111111111111,
              "#46039f"
             ],
             [
              0.2222222222222222,
              "#7201a8"
             ],
             [
              0.3333333333333333,
              "#9c179e"
             ],
             [
              0.4444444444444444,
              "#bd3786"
             ],
             [
              0.5555555555555556,
              "#d8576b"
             ],
             [
              0.6666666666666666,
              "#ed7953"
             ],
             [
              0.7777777777777778,
              "#fb9f3a"
             ],
             [
              0.8888888888888888,
              "#fdca26"
             ],
             [
              1,
              "#f0f921"
             ]
            ],
            "type": "contour"
           }
          ],
          "contourcarpet": [
           {
            "colorbar": {
             "outlinewidth": 0,
             "ticks": ""
            },
            "type": "contourcarpet"
           }
          ],
          "heatmap": [
           {
            "colorbar": {
             "outlinewidth": 0,
             "ticks": ""
            },
            "colorscale": [
             [
              0,
              "#0d0887"
             ],
             [
              0.1111111111111111,
              "#46039f"
             ],
             [
              0.2222222222222222,
              "#7201a8"
             ],
             [
              0.3333333333333333,
              "#9c179e"
             ],
             [
              0.4444444444444444,
              "#bd3786"
             ],
             [
              0.5555555555555556,
              "#d8576b"
             ],
             [
              0.6666666666666666,
              "#ed7953"
             ],
             [
              0.7777777777777778,
              "#fb9f3a"
             ],
             [
              0.8888888888888888,
              "#fdca26"
             ],
             [
              1,
              "#f0f921"
             ]
            ],
            "type": "heatmap"
           }
          ],
          "heatmapgl": [
           {
            "colorbar": {
             "outlinewidth": 0,
             "ticks": ""
            },
            "colorscale": [
             [
              0,
              "#0d0887"
             ],
             [
              0.1111111111111111,
              "#46039f"
             ],
             [
              0.2222222222222222,
              "#7201a8"
             ],
             [
              0.3333333333333333,
              "#9c179e"
             ],
             [
              0.4444444444444444,
              "#bd3786"
             ],
             [
              0.5555555555555556,
              "#d8576b"
             ],
             [
              0.6666666666666666,
              "#ed7953"
             ],
             [
              0.7777777777777778,
              "#fb9f3a"
             ],
             [
              0.8888888888888888,
              "#fdca26"
             ],
             [
              1,
              "#f0f921"
             ]
            ],
            "type": "heatmapgl"
           }
          ],
          "histogram": [
           {
            "marker": {
             "colorbar": {
              "outlinewidth": 0,
              "ticks": ""
             }
            },
            "type": "histogram"
           }
          ],
          "histogram2d": [
           {
            "colorbar": {
             "outlinewidth": 0,
             "ticks": ""
            },
            "colorscale": [
             [
              0,
              "#0d0887"
             ],
             [
              0.1111111111111111,
              "#46039f"
             ],
             [
              0.2222222222222222,
              "#7201a8"
             ],
             [
              0.3333333333333333,
              "#9c179e"
             ],
             [
              0.4444444444444444,
              "#bd3786"
             ],
             [
              0.5555555555555556,
              "#d8576b"
             ],
             [
              0.6666666666666666,
              "#ed7953"
             ],
             [
              0.7777777777777778,
              "#fb9f3a"
             ],
             [
              0.8888888888888888,
              "#fdca26"
             ],
             [
              1,
              "#f0f921"
             ]
            ],
            "type": "histogram2d"
           }
          ],
          "histogram2dcontour": [
           {
            "colorbar": {
             "outlinewidth": 0,
             "ticks": ""
            },
            "colorscale": [
             [
              0,
              "#0d0887"
             ],
             [
              0.1111111111111111,
              "#46039f"
             ],
             [
              0.2222222222222222,
              "#7201a8"
             ],
             [
              0.3333333333333333,
              "#9c179e"
             ],
             [
              0.4444444444444444,
              "#bd3786"
             ],
             [
              0.5555555555555556,
              "#d8576b"
             ],
             [
              0.6666666666666666,
              "#ed7953"
             ],
             [
              0.7777777777777778,
              "#fb9f3a"
             ],
             [
              0.8888888888888888,
              "#fdca26"
             ],
             [
              1,
              "#f0f921"
             ]
            ],
            "type": "histogram2dcontour"
           }
          ],
          "mesh3d": [
           {
            "colorbar": {
             "outlinewidth": 0,
             "ticks": ""
            },
            "type": "mesh3d"
           }
          ],
          "parcoords": [
           {
            "line": {
             "colorbar": {
              "outlinewidth": 0,
              "ticks": ""
             }
            },
            "type": "parcoords"
           }
          ],
          "pie": [
           {
            "automargin": true,
            "type": "pie"
           }
          ],
          "scatter": [
           {
            "marker": {
             "colorbar": {
              "outlinewidth": 0,
              "ticks": ""
             }
            },
            "type": "scatter"
           }
          ],
          "scatter3d": [
           {
            "line": {
             "colorbar": {
              "outlinewidth": 0,
              "ticks": ""
             }
            },
            "marker": {
             "colorbar": {
              "outlinewidth": 0,
              "ticks": ""
             }
            },
            "type": "scatter3d"
           }
          ],
          "scattercarpet": [
           {
            "marker": {
             "colorbar": {
              "outlinewidth": 0,
              "ticks": ""
             }
            },
            "type": "scattercarpet"
           }
          ],
          "scattergeo": [
           {
            "marker": {
             "colorbar": {
              "outlinewidth": 0,
              "ticks": ""
             }
            },
            "type": "scattergeo"
           }
          ],
          "scattergl": [
           {
            "marker": {
             "colorbar": {
              "outlinewidth": 0,
              "ticks": ""
             }
            },
            "type": "scattergl"
           }
          ],
          "scattermapbox": [
           {
            "marker": {
             "colorbar": {
              "outlinewidth": 0,
              "ticks": ""
             }
            },
            "type": "scattermapbox"
           }
          ],
          "scatterpolar": [
           {
            "marker": {
             "colorbar": {
              "outlinewidth": 0,
              "ticks": ""
             }
            },
            "type": "scatterpolar"
           }
          ],
          "scatterpolargl": [
           {
            "marker": {
             "colorbar": {
              "outlinewidth": 0,
              "ticks": ""
             }
            },
            "type": "scatterpolargl"
           }
          ],
          "scatterternary": [
           {
            "marker": {
             "colorbar": {
              "outlinewidth": 0,
              "ticks": ""
             }
            },
            "type": "scatterternary"
           }
          ],
          "surface": [
           {
            "colorbar": {
             "outlinewidth": 0,
             "ticks": ""
            },
            "colorscale": [
             [
              0,
              "#0d0887"
             ],
             [
              0.1111111111111111,
              "#46039f"
             ],
             [
              0.2222222222222222,
              "#7201a8"
             ],
             [
              0.3333333333333333,
              "#9c179e"
             ],
             [
              0.4444444444444444,
              "#bd3786"
             ],
             [
              0.5555555555555556,
              "#d8576b"
             ],
             [
              0.6666666666666666,
              "#ed7953"
             ],
             [
              0.7777777777777778,
              "#fb9f3a"
             ],
             [
              0.8888888888888888,
              "#fdca26"
             ],
             [
              1,
              "#f0f921"
             ]
            ],
            "type": "surface"
           }
          ],
          "table": [
           {
            "cells": {
             "fill": {
              "color": "#EBF0F8"
             },
             "line": {
              "color": "white"
             }
            },
            "header": {
             "fill": {
              "color": "#C8D4E3"
             },
             "line": {
              "color": "white"
             }
            },
            "type": "table"
           }
          ]
         },
         "layout": {
          "annotationdefaults": {
           "arrowcolor": "#2a3f5f",
           "arrowhead": 0,
           "arrowwidth": 1
          },
          "coloraxis": {
           "colorbar": {
            "outlinewidth": 0,
            "ticks": ""
           }
          },
          "colorscale": {
           "diverging": [
            [
             0,
             "#8e0152"
            ],
            [
             0.1,
             "#c51b7d"
            ],
            [
             0.2,
             "#de77ae"
            ],
            [
             0.3,
             "#f1b6da"
            ],
            [
             0.4,
             "#fde0ef"
            ],
            [
             0.5,
             "#f7f7f7"
            ],
            [
             0.6,
             "#e6f5d0"
            ],
            [
             0.7,
             "#b8e186"
            ],
            [
             0.8,
             "#7fbc41"
            ],
            [
             0.9,
             "#4d9221"
            ],
            [
             1,
             "#276419"
            ]
           ],
           "sequential": [
            [
             0,
             "#0d0887"
            ],
            [
             0.1111111111111111,
             "#46039f"
            ],
            [
             0.2222222222222222,
             "#7201a8"
            ],
            [
             0.3333333333333333,
             "#9c179e"
            ],
            [
             0.4444444444444444,
             "#bd3786"
            ],
            [
             0.5555555555555556,
             "#d8576b"
            ],
            [
             0.6666666666666666,
             "#ed7953"
            ],
            [
             0.7777777777777778,
             "#fb9f3a"
            ],
            [
             0.8888888888888888,
             "#fdca26"
            ],
            [
             1,
             "#f0f921"
            ]
           ],
           "sequentialminus": [
            [
             0,
             "#0d0887"
            ],
            [
             0.1111111111111111,
             "#46039f"
            ],
            [
             0.2222222222222222,
             "#7201a8"
            ],
            [
             0.3333333333333333,
             "#9c179e"
            ],
            [
             0.4444444444444444,
             "#bd3786"
            ],
            [
             0.5555555555555556,
             "#d8576b"
            ],
            [
             0.6666666666666666,
             "#ed7953"
            ],
            [
             0.7777777777777778,
             "#fb9f3a"
            ],
            [
             0.8888888888888888,
             "#fdca26"
            ],
            [
             1,
             "#f0f921"
            ]
           ]
          },
          "colorway": [
           "#636efa",
           "#EF553B",
           "#00cc96",
           "#ab63fa",
           "#FFA15A",
           "#19d3f3",
           "#FF6692",
           "#B6E880",
           "#FF97FF",
           "#FECB52"
          ],
          "font": {
           "color": "#2a3f5f"
          },
          "geo": {
           "bgcolor": "white",
           "lakecolor": "white",
           "landcolor": "#E5ECF6",
           "showlakes": true,
           "showland": true,
           "subunitcolor": "white"
          },
          "hoverlabel": {
           "align": "left"
          },
          "hovermode": "closest",
          "mapbox": {
           "style": "light"
          },
          "paper_bgcolor": "white",
          "plot_bgcolor": "#E5ECF6",
          "polar": {
           "angularaxis": {
            "gridcolor": "white",
            "linecolor": "white",
            "ticks": ""
           },
           "bgcolor": "#E5ECF6",
           "radialaxis": {
            "gridcolor": "white",
            "linecolor": "white",
            "ticks": ""
           }
          },
          "scene": {
           "xaxis": {
            "backgroundcolor": "#E5ECF6",
            "gridcolor": "white",
            "gridwidth": 2,
            "linecolor": "white",
            "showbackground": true,
            "ticks": "",
            "zerolinecolor": "white"
           },
           "yaxis": {
            "backgroundcolor": "#E5ECF6",
            "gridcolor": "white",
            "gridwidth": 2,
            "linecolor": "white",
            "showbackground": true,
            "ticks": "",
            "zerolinecolor": "white"
           },
           "zaxis": {
            "backgroundcolor": "#E5ECF6",
            "gridcolor": "white",
            "gridwidth": 2,
            "linecolor": "white",
            "showbackground": true,
            "ticks": "",
            "zerolinecolor": "white"
           }
          },
          "shapedefaults": {
           "line": {
            "color": "#2a3f5f"
           }
          },
          "ternary": {
           "aaxis": {
            "gridcolor": "white",
            "linecolor": "white",
            "ticks": ""
           },
           "baxis": {
            "gridcolor": "white",
            "linecolor": "white",
            "ticks": ""
           },
           "bgcolor": "#E5ECF6",
           "caxis": {
            "gridcolor": "white",
            "linecolor": "white",
            "ticks": ""
           }
          },
          "title": {
           "x": 0.05
          },
          "xaxis": {
           "automargin": true,
           "gridcolor": "white",
           "linecolor": "white",
           "ticks": "",
           "title": {
            "standoff": 15
           },
           "zerolinecolor": "white",
           "zerolinewidth": 2
          },
          "yaxis": {
           "automargin": true,
           "gridcolor": "white",
           "linecolor": "white",
           "ticks": "",
           "title": {
            "standoff": 15
           },
           "zerolinecolor": "white",
           "zerolinewidth": 2
          }
         }
        },
        "title": {
         "text": "Zastoupení žen v Poslanecké sněmovně ČR"
        },
        "width": 1000,
        "xaxis": {
         "autorange": true,
         "range": [
          "1992-05-16 08:36:36.9011",
          "2087-04-25 15:23:23.0989"
         ],
         "title": {
          "text": "Datum"
         },
         "type": "date"
        },
        "yaxis": {
         "autorange": true,
         "range": [
          0,
          106.57785179017486
         ],
         "ticktext": [
          "0%",
          "20%",
          "40%",
          "60%",
          "80%",
          "100%"
         ],
         "tickvals": [
          0,
          20,
          40,
          60,
          80,
          100
         ],
         "title": {
          "text": "Zastoupení žen"
         },
         "type": "linear"
        }
       }
      },
      "image/png": "[encoded data removed]",
      "text/html": [
       "<div>\n",
       "        \n",
       "        \n",
       "            <div id=\"f309020f-ec16-4410-8084-7a6cdb6f75b2\" class=\"plotly-graph-div\" style=\"height:500px; width:1000px;\"></div>\n",
       "            <script type=\"text/javascript\">\n",
       "                require([\"plotly\"], function(Plotly) {\n",
       "                    window.PLOTLYENV=window.PLOTLYENV || {};\n",
       "                    \n",
       "                if (document.getElementById(\"f309020f-ec16-4410-8084-7a6cdb6f75b2\")) {\n",
       "                    Plotly.newPlot(\n",
       "                        'f309020f-ec16-4410-8084-7a6cdb6f75b2',\n",
       "                        [{\"hoverinfo\": \"text\", \"hovertemplate\": \"Sn\\u011bmovna: 1992<br>Datum: %{x|%d. %m. %Y}<br>Pohlav\\u00ed: \\u017eeny<br>Po\\u010det: %{y}<extra></extra>\", \"mode\": \"markers+lines\", \"name\": \"\\u017eeny (1992)\", \"stackgroup\": \"1992\", \"type\": \"scatter\", \"x\": [\"1992-06-06\", \"1993-11-09\", \"1993-11-11\", \"1995-05-23\", \"1995-05-25\", \"1996-04-29\", \"1996-04-30\", \"1996-05-06\", \"1996-05-07\", \"1996-06-01\"], \"y\": [10.0, 9.547738693467336, 9.5, 9.547738693467336, 9.5, 9.547738693467336, 9.5, 9.547738693467336, 10.0, 10.0]}, {\"hoverinfo\": \"text\", \"hovertemplate\": \"Sn\\u011bmovna: 1992<br>Datum: %{x|%d. %m. %Y}<br>Pohlav\\u00ed: mu\\u017ei<br>Po\\u010det: %{y}<extra></extra>\", \"mode\": \"markers+lines\", \"name\": \"mu\\u017ei (1992)\", \"stackgroup\": \"1992\", \"type\": \"scatter\", \"x\": [\"1992-06-06\", \"1993-11-09\", \"1993-11-11\", \"1995-05-23\", \"1995-05-25\", \"1996-04-29\", \"1996-04-30\", \"1996-05-06\", \"1996-05-07\", \"1996-06-01\"], \"y\": [90.0, 90.45226130653266, 90.5, 90.45226130653266, 90.5, 90.45226130653266, 90.5, 90.45226130653266, 90.0, 90.0]}, {\"hoverinfo\": \"text\", \"hovertemplate\": \"Sn\\u011bmovna: 1996<br>Datum: %{x|%d. %m. %Y}<br>Pohlav\\u00ed: \\u017eeny<br>Po\\u010det: %{y}<extra></extra>\", \"mode\": \"markers+lines\", \"name\": \"\\u017eeny (1996)\", \"stackgroup\": \"1996\", \"type\": \"scatter\", \"x\": [\"1996-06-01\", \"1996-11-01\", \"1996-11-02\", \"1996-12-17\", \"1996-12-18\", \"1997-01-16\", \"1997-01-17\", \"1997-06-02\", \"1997-06-03\", \"1997-06-11\", \"1997-06-12\", \"1997-08-27\", \"1997-08-28\", \"1997-08-29\", \"1997-08-30\", \"1997-11-11\", \"1997-11-12\", \"1997-12-01\", \"1997-12-02\", \"1997-12-03\", \"1998-01-26\", \"1998-01-27\", \"1998-02-12\", \"1998-02-13\", \"1998-02-25\", \"1998-02-26\", \"1998-06-19\"], \"y\": [15.0, 15.075376884422111, 15.0, 14.646464646464647, 14.5, 14.57286432160804, 14.5, 14.57286432160804, 14.5, 14.57286432160804, 14.5, 14.57286432160804, 14.5, 14.57286432160804, 14.5, 14.57286432160804, 14.5, 14.57286432160804, 15.075376884422111, 15.0, 15.075376884422111, 15.0, 15.075376884422111, 15.0, 15.075376884422111, 15.0, 15.0]}, {\"hoverinfo\": \"text\", \"hovertemplate\": \"Sn\\u011bmovna: 1996<br>Datum: %{x|%d. %m. %Y}<br>Pohlav\\u00ed: mu\\u017ei<br>Po\\u010det: %{y}<extra></extra>\", \"mode\": \"markers+lines\", \"name\": \"mu\\u017ei (1996)\", \"stackgroup\": \"1996\", \"type\": \"scatter\", \"x\": [\"1996-06-01\", \"1996-11-01\", \"1996-11-02\", \"1996-12-17\", \"1996-12-18\", \"1997-01-16\", \"1997-01-17\", \"1997-06-02\", \"1997-06-03\", \"1997-06-11\", \"1997-06-12\", \"1997-08-27\", \"1997-08-28\", \"1997-08-29\", \"1997-08-30\", \"1997-11-11\", \"1997-11-12\", \"1997-12-01\", \"1997-12-02\", \"1997-12-03\", \"1998-01-26\", \"1998-01-27\", \"1998-02-12\", \"1998-02-13\", \"1998-02-25\", \"1998-02-26\", \"1998-06-19\"], \"y\": [85.0, 84.92462311557789, 85.0, 85.35353535353535, 85.5, 85.42713567839196, 85.5, 85.42713567839196, 85.5, 85.42713567839196, 85.5, 85.42713567839196, 85.5, 85.42713567839196, 85.5, 85.42713567839196, 85.5, 85.42713567839196, 84.92462311557789, 85.0, 84.92462311557789, 85.0, 84.92462311557789, 85.0, 84.92462311557789, 85.0, 85.0]}, {\"hoverinfo\": \"text\", \"hovertemplate\": \"Sn\\u011bmovna: 1998<br>Datum: %{x|%d. %m. %Y}<br>Pohlav\\u00ed: \\u017eeny<br>Po\\u010det: %{y}<extra></extra>\", \"mode\": \"markers+lines\", \"name\": \"\\u017eeny (1998)\", \"stackgroup\": \"1998\", \"type\": \"scatter\", \"x\": [\"1998-06-20\", \"1999-11-22\", \"2000-09-14\", \"2001-02-28\", \"2001-03-01\", \"2001-07-31\", \"2001-10-31\", \"2002-06-15\"], \"y\": [15.0, 15.0, 15.5, 15.656565656565656, 16.0, 16.0, 16.0, 16.0]}, {\"hoverinfo\": \"text\", \"hovertemplate\": \"Sn\\u011bmovna: 1998<br>Datum: %{x|%d. %m. %Y}<br>Pohlav\\u00ed: mu\\u017ei<br>Po\\u010det: %{y}<extra></extra>\", \"mode\": \"markers+lines\", \"name\": \"mu\\u017ei (1998)\", \"stackgroup\": \"1998\", \"type\": \"scatter\", \"x\": [\"1998-06-20\", \"1999-11-22\", \"2000-09-14\", \"2001-02-28\", \"2001-03-01\", \"2001-07-31\", \"2001-10-31\", \"2002-06-15\"], \"y\": [85.0, 85.0, 84.5, 84.34343434343434, 84.0, 84.0, 84.0, 84.0]}, {\"hoverinfo\": \"text\", \"hovertemplate\": \"Sn\\u011bmovna: 2002<br>Datum: %{x|%d. %m. %Y}<br>Pohlav\\u00ed: \\u017eeny<br>Po\\u010det: %{y}<extra></extra>\", \"mode\": \"markers+lines\", \"name\": \"\\u017eeny (2002)\", \"stackgroup\": \"2002\", \"type\": \"scatter\", \"x\": [\"2002-06-15\", \"2002-09-18\", \"2003-03-07\", \"2003-04-23\", \"2003-06-02\", \"2003-06-06\", \"2003-07-26\", \"2003-09-23\", \"2004-05-05\", \"2004-07-08\", \"2004-07-20\", \"2004-08-31\", \"2004-09-21\", \"2004-09-22\", \"2004-09-24\", \"2004-09-30\", \"2004-10-07\", \"2005-06-09\", \"2005-07-24\", \"2005-12-02\", \"2005-12-09\", \"2006-01-17\", \"2006-01-20\", \"2006-01-24\", \"2006-02-28\", \"2006-04-18\", \"2006-06-03\"], \"y\": [17.0, 17.0, 17.0, 17.0, 17.0, 17.0, 17.0, 16.5, 16.5, 16.5, 16.5, 16.5, 16.5, 16.5, 16.0, 16.0, 16.0, 15.5, 16.0, 16.0, 15.5, 15.5, 16.0, 16.0, 16.0, 16.5, 16.5]}, {\"hoverinfo\": \"text\", \"hovertemplate\": \"Sn\\u011bmovna: 2002<br>Datum: %{x|%d. %m. %Y}<br>Pohlav\\u00ed: mu\\u017ei<br>Po\\u010det: %{y}<extra></extra>\", \"mode\": \"markers+lines\", \"name\": \"mu\\u017ei (2002)\", \"stackgroup\": \"2002\", \"type\": \"scatter\", \"x\": [\"2002-06-15\", \"2002-09-18\", \"2003-03-07\", \"2003-04-23\", \"2003-06-02\", \"2003-06-06\", \"2003-07-26\", \"2003-09-23\", \"2004-05-05\", \"2004-07-08\", \"2004-07-20\", \"2004-08-31\", \"2004-09-21\", \"2004-09-22\", \"2004-09-24\", \"2004-09-30\", \"2004-10-07\", \"2005-06-09\", \"2005-07-24\", \"2005-12-02\", \"2005-12-09\", \"2006-01-17\", \"2006-01-20\", \"2006-01-24\", \"2006-02-28\", \"2006-04-18\", \"2006-06-03\"], \"y\": [83.0, 83.0, 83.0, 83.0, 83.0, 83.0, 83.0, 83.5, 83.5, 83.5, 83.5, 83.5, 83.5, 83.5, 84.0, 84.0, 84.0, 84.5, 84.0, 84.0, 84.5, 84.5, 84.0, 84.0, 84.0, 83.5, 83.5]}, {\"hoverinfo\": \"text\", \"hovertemplate\": \"Sn\\u011bmovna: 2006<br>Datum: %{x|%d. %m. %Y}<br>Pohlav\\u00ed: \\u017eeny<br>Po\\u010det: %{y}<extra></extra>\", \"mode\": \"markers+lines\", \"name\": \"\\u017eeny (2006)\", \"stackgroup\": \"2006\", \"type\": \"scatter\", \"x\": [\"2006-06-03\", \"2007-01-16\", \"2008-09-17\", \"2008-10-25\", \"2008-11-13\", \"2008-12-11\", \"2009-03-01\", \"2009-04-30\", \"2009-07-03\", \"2009-07-09\", \"2009-07-13\", \"2009-09-15\", \"2009-09-29\", \"2009-12-11\", \"2010-03-01\", \"2010-04-30\", \"2010-05-26\", \"2010-05-29\"], \"y\": [15.5, 15.5, 15.5, 15.5, 16.0, 16.5, 17.5, 17.5, 17.0, 17.0, 17.5, 18.0, 18.0, 18.0, 18.0, 19.0, 18.5, 18.5]}, {\"hoverinfo\": \"text\", \"hovertemplate\": \"Sn\\u011bmovna: 2006<br>Datum: %{x|%d. %m. %Y}<br>Pohlav\\u00ed: mu\\u017ei<br>Po\\u010det: %{y}<extra></extra>\", \"mode\": \"markers+lines\", \"name\": \"mu\\u017ei (2006)\", \"stackgroup\": \"2006\", \"type\": \"scatter\", \"x\": [\"2006-06-03\", \"2007-01-16\", \"2008-09-17\", \"2008-10-25\", \"2008-11-13\", \"2008-12-11\", \"2009-03-01\", \"2009-04-30\", \"2009-07-03\", \"2009-07-09\", \"2009-07-13\", \"2009-09-15\", \"2009-09-29\", \"2009-12-11\", \"2010-03-01\", \"2010-04-30\", \"2010-05-26\", \"2010-05-29\"], \"y\": [84.5, 84.5, 84.5, 84.5, 84.0, 83.5, 82.5, 82.5, 83.0, 83.0, 82.5, 82.0, 82.0, 82.0, 82.0, 81.0, 81.5, 81.5]}, {\"hoverinfo\": \"text\", \"hovertemplate\": \"Sn\\u011bmovna: 2010<br>Datum: %{x|%d. %m. %Y}<br>Pohlav\\u00ed: \\u017eeny<br>Po\\u010det: %{y}<extra></extra>\", \"mode\": \"markers+lines\", \"name\": \"\\u017eeny (2010)\", \"stackgroup\": \"2010\", \"type\": \"scatter\", \"x\": [\"2010-05-29\", \"2010-10-23\", \"2010-11-30\", \"2011-03-01\", \"2011-03-25\", \"2011-03-26\", \"2012-02-07\", \"2012-10-20\", \"2012-11-07\", \"2013-01-31\", \"2013-04-05\", \"2013-04-11\", \"2013-04-24\", \"2013-06-14\", \"2013-08-28\"], \"y\": [22.0, 22.5, 22.0, 22.0, 22.0, 22.0, 22.0, 21.5, 21.5, 21.5, 22.0, 21.5, 21.5, 21.5, 21.5]}, {\"hoverinfo\": \"text\", \"hovertemplate\": \"Sn\\u011bmovna: 2010<br>Datum: %{x|%d. %m. %Y}<br>Pohlav\\u00ed: mu\\u017ei<br>Po\\u010det: %{y}<extra></extra>\", \"mode\": \"markers+lines\", \"name\": \"mu\\u017ei (2010)\", \"stackgroup\": \"2010\", \"type\": \"scatter\", \"x\": [\"2010-05-29\", \"2010-10-23\", \"2010-11-30\", \"2011-03-01\", \"2011-03-25\", \"2011-03-26\", \"2012-02-07\", \"2012-10-20\", \"2012-11-07\", \"2013-01-31\", \"2013-04-05\", \"2013-04-11\", \"2013-04-24\", \"2013-06-14\", \"2013-08-28\"], \"y\": [78.0, 77.5, 78.0, 78.0, 78.0, 78.0, 78.0, 78.5, 78.5, 78.5, 78.0, 78.5, 78.5, 78.5, 78.5]}, {\"hoverinfo\": \"text\", \"hovertemplate\": \"Sn\\u011bmovna: 2013<br>Datum: %{x|%d. %m. %Y}<br>Pohlav\\u00ed: \\u017eeny<br>Po\\u010det: %{y}<extra></extra>\", \"mode\": \"markers+lines\", \"name\": \"\\u017eeny (2013)\", \"stackgroup\": \"2013\", \"type\": \"scatter\", \"x\": [\"2013-10-26\", \"2013-11-27\", \"2013-12-03\", \"2014-03-31\", \"2014-04-30\", \"2014-06-20\", \"2014-07-01\", \"2014-08-28\", \"2014-10-21\", \"2014-12-08\", \"2016-01-14\", \"2017-01-03\", \"2017-03-14\", \"2017-06-09\", \"2017-07-01\", \"2017-10-21\"], \"y\": [19.5, 19.5, 19.5, 20.0, 20.0, 20.0, 19.5, 19.5, 19.5, 20.0, 20.5, 20.0, 20.0, 20.0, 20.5, 20.5]}, {\"hoverinfo\": \"text\", \"hovertemplate\": \"Sn\\u011bmovna: 2013<br>Datum: %{x|%d. %m. %Y}<br>Pohlav\\u00ed: mu\\u017ei<br>Po\\u010det: %{y}<extra></extra>\", \"mode\": \"markers+lines\", \"name\": \"mu\\u017ei (2013)\", \"stackgroup\": \"2013\", \"type\": \"scatter\", \"x\": [\"2013-10-26\", \"2013-11-27\", \"2013-12-03\", \"2014-03-31\", \"2014-04-30\", \"2014-06-20\", \"2014-07-01\", \"2014-08-28\", \"2014-10-21\", \"2014-12-08\", \"2016-01-14\", \"2017-01-03\", \"2017-03-14\", \"2017-06-09\", \"2017-07-01\", \"2017-10-21\"], \"y\": [80.5, 80.5, 80.5, 80.0, 80.0, 80.0, 80.5, 80.5, 80.5, 80.0, 79.5, 80.0, 80.0, 80.0, 79.5, 79.5]}, {\"hoverinfo\": \"text\", \"hovertemplate\": \"Sn\\u011bmovna: 2017<br>Datum: %{x|%d. %m. %Y}<br>Pohlav\\u00ed: \\u017eeny<br>Po\\u010det: %{y}<extra></extra>\", \"mode\": \"markers+lines\", \"name\": \"\\u017eeny (2017)\", \"stackgroup\": \"2017\", \"type\": \"scatter\", \"x\": [\"2017-10-21\", \"2017-11-24\", \"2018-03-31\", \"2018-06-19\", \"2018-10-01\", \"2018-12-04\", \"2019-04-14\", \"2019-04-15\", \"2019-06-06\", \"2019-07-02\", \"2020-07-31\", \"2020-10-10\", \"2020-12-31\", \"2021-01-19\", \"2021-01-26\", \"2021-03-01\", \"2021-03-09\", \"2021-05-31\", \"2021-09-17\", \"2021-09-26\"], \"y\": [22.0, 22.0, 22.0, 22.5, 22.5, 23.0, 23.0, 23.5, 23.5, 22.5, 23.0, 22.5, 23.0, 23.0, 23.0, 22.5, 22.5, 23.0, 23.0, 23.0]}, {\"hoverinfo\": \"text\", \"hovertemplate\": \"Sn\\u011bmovna: 2017<br>Datum: %{x|%d. %m. %Y}<br>Pohlav\\u00ed: mu\\u017ei<br>Po\\u010det: %{y}<extra></extra>\", \"mode\": \"markers+lines\", \"name\": \"mu\\u017ei (2017)\", \"stackgroup\": \"2017\", \"type\": \"scatter\", \"x\": [\"2017-10-21\", \"2017-11-24\", \"2018-03-31\", \"2018-06-19\", \"2018-10-01\", \"2018-12-04\", \"2019-04-14\", \"2019-04-15\", \"2019-06-06\", \"2019-07-02\", \"2020-07-31\", \"2020-10-10\", \"2020-12-31\", \"2021-01-19\", \"2021-01-26\", \"2021-03-01\", \"2021-03-09\", \"2021-05-31\", \"2021-09-17\", \"2021-09-26\"], \"y\": [78.0, 78.0, 78.0, 77.5, 77.5, 77.0, 77.0, 76.5, 76.5, 77.5, 77.0, 77.5, 77.0, 77.0, 77.0, 77.5, 77.5, 77.0, 77.0, 77.0]}, {\"line\": {\"color\": \"green\", \"dash\": \"dash\", \"width\": 2}, \"mode\": \"lines\", \"name\": \"\\u017eeny (extrapolace)\", \"type\": \"scatter\", \"x\": [\"1992-06-06T00:00:00\", \"1993-11-09T00:00:00\", \"1993-11-11T00:00:00\", \"1995-05-23T00:00:00\", \"1995-05-25T00:00:00\", \"1996-04-29T00:00:00\", \"1996-04-30T00:00:00\", \"1996-05-06T00:00:00\", \"1996-05-07T00:00:00\", \"1996-06-01T00:00:00\", \"1996-06-01T00:00:00\", \"1996-11-01T00:00:00\", \"1996-11-02T00:00:00\", \"1996-12-17T00:00:00\", \"1996-12-18T00:00:00\", \"1997-01-16T00:00:00\", \"1997-01-17T00:00:00\", \"1997-06-02T00:00:00\", \"1997-06-03T00:00:00\", \"1997-06-11T00:00:00\", \"1997-06-12T00:00:00\", \"1997-08-27T00:00:00\", \"1997-08-28T00:00:00\", \"1997-08-29T00:00:00\", \"1997-08-30T00:00:00\", \"1997-11-11T00:00:00\", \"1997-11-12T00:00:00\", \"1997-12-01T00:00:00\", \"1997-12-02T00:00:00\", \"1997-12-03T00:00:00\", \"1998-01-26T00:00:00\", \"1998-01-27T00:00:00\", \"1998-02-12T00:00:00\", \"1998-02-13T00:00:00\", \"1998-02-25T00:00:00\", \"1998-02-26T00:00:00\", \"1998-06-19T00:00:00\", \"1998-06-20T00:00:00\", \"1999-11-22T00:00:00\", \"2000-09-14T00:00:00\", \"2001-02-28T00:00:00\", \"2001-03-01T00:00:00\", \"2001-07-31T00:00:00\", \"2001-10-31T00:00:00\", \"2002-06-15T00:00:00\", \"2002-06-15T00:00:00\", \"2002-09-18T00:00:00\", \"2003-03-07T00:00:00\", \"2003-04-23T00:00:00\", \"2003-06-02T00:00:00\", \"2003-06-06T00:00:00\", \"2003-07-26T00:00:00\", \"2003-09-23T00:00:00\", \"2004-05-05T00:00:00\", \"2004-07-08T00:00:00\", \"2004-07-20T00:00:00\", \"2004-08-31T00:00:00\", \"2004-09-21T00:00:00\", \"2004-09-22T00:00:00\", \"2004-09-24T00:00:00\", \"2004-09-30T00:00:00\", \"2004-10-07T00:00:00\", \"2005-06-09T00:00:00\", \"2005-07-24T00:00:00\", \"2005-12-02T00:00:00\", \"2005-12-09T00:00:00\", \"2006-01-17T00:00:00\", \"2006-01-20T00:00:00\", \"2006-01-24T00:00:00\", \"2006-02-28T00:00:00\", \"2006-04-18T00:00:00\", \"2006-06-03T00:00:00\", \"2006-06-03T00:00:00\", \"2007-01-16T00:00:00\", \"2008-09-17T00:00:00\", \"2008-10-25T00:00:00\", \"2008-11-13T00:00:00\", \"2008-12-11T00:00:00\", \"2009-03-01T00:00:00\", \"2009-04-30T00:00:00\", \"2009-07-03T00:00:00\", \"2009-07-09T00:00:00\", \"2009-07-13T00:00:00\", \"2009-09-15T00:00:00\", \"2009-09-29T00:00:00\", \"2009-12-11T00:00:00\", \"2010-03-01T00:00:00\", \"2010-04-30T00:00:00\", \"2010-05-26T00:00:00\", \"2010-05-29T00:00:00\", \"2010-05-29T00:00:00\", \"2010-10-23T00:00:00\", \"2010-11-30T00:00:00\", \"2011-03-01T00:00:00\", \"2011-03-25T00:00:00\", \"2011-03-26T00:00:00\", \"2012-02-07T00:00:00\", \"2012-10-20T00:00:00\", \"2012-11-07T00:00:00\", \"2013-01-31T00:00:00\", \"2013-04-05T00:00:00\", \"2013-04-11T00:00:00\", \"2013-04-24T00:00:00\", \"2013-06-14T00:00:00\", \"2013-08-28T00:00:00\", \"2013-10-26T00:00:00\", \"2013-11-27T00:00:00\", \"2013-12-03T00:00:00\", \"2014-03-31T00:00:00\", \"2014-04-30T00:00:00\", \"2014-06-20T00:00:00\", \"2014-07-01T00:00:00\", \"2014-08-28T00:00:00\", \"2014-10-21T00:00:00\", \"2014-12-08T00:00:00\", \"2016-01-14T00:00:00\", \"2017-01-03T00:00:00\", \"2017-03-14T00:00:00\", \"2017-06-09T00:00:00\", \"2017-07-01T00:00:00\", \"2017-10-21T00:00:00\", \"2017-10-21T00:00:00\", \"2017-11-24T00:00:00\", \"2018-03-31T00:00:00\", \"2018-06-19T00:00:00\", \"2018-10-01T00:00:00\", \"2018-12-04T00:00:00\", \"2019-04-14T00:00:00\", \"2019-04-15T00:00:00\", \"2019-06-06T00:00:00\", \"2019-07-02T00:00:00\", \"2020-07-31T00:00:00\", \"2020-10-10T00:00:00\", \"2020-12-31T00:00:00\", \"2021-01-19T00:00:00\", \"2021-01-26T00:00:00\", \"2021-03-01T00:00:00\", \"2021-03-09T00:00:00\", \"2021-05-31T00:00:00\", \"2021-09-17T00:00:00\", \"2021-09-26T00:00:00\", \"2022-09-08T00:00:00\", \"2023-08-21T00:00:00\", \"2024-08-02T00:00:00\", \"2025-07-15T00:00:00\", \"2026-06-27T00:00:00\", \"2027-06-09T00:00:00\", \"2028-05-20T00:00:00\", \"2029-05-02T00:00:00\", \"2030-04-14T00:00:00\", \"2031-03-27T00:00:00\", \"2032-03-08T00:00:00\", \"2033-02-18T00:00:00\", \"2034-01-30T00:00:00\", \"2035-01-12T00:00:00\", \"2035-12-25T00:00:00\", \"2036-12-06T00:00:00\", \"2037-11-18T00:00:00\", \"2038-10-31T00:00:00\", \"2039-10-12T00:00:00\", \"2040-09-23T00:00:00\", \"2041-09-05T00:00:00\", \"2042-08-18T00:00:00\", \"2043-07-31T00:00:00\", \"2044-07-12T00:00:00\", \"2045-06-24T00:00:00\", \"2046-06-05T00:00:00\", \"2047-05-18T00:00:00\", \"2048-04-29T00:00:00\", \"2049-04-11T00:00:00\", \"2050-03-24T00:00:00\", \"2051-03-06T00:00:00\", \"2052-02-15T00:00:00\", \"2053-01-27T00:00:00\", \"2054-01-09T00:00:00\", \"2054-12-22T00:00:00\", \"2055-12-04T00:00:00\", \"2056-11-15T00:00:00\", \"2057-10-27T00:00:00\", \"2058-10-09T00:00:00\", \"2059-09-21T00:00:00\", \"2060-09-02T00:00:00\", \"2061-08-15T00:00:00\", \"2062-07-28T00:00:00\", \"2063-07-09T00:00:00\", \"2064-06-20T00:00:00\", \"2065-06-02T00:00:00\", \"2066-05-15T00:00:00\", \"2067-04-27T00:00:00\", \"2068-04-08T00:00:00\", \"2069-03-21T00:00:00\", \"2070-03-02T00:00:00\", \"2071-02-12T00:00:00\", \"2072-01-25T00:00:00\", \"2073-01-06T00:00:00\", \"2073-12-19T00:00:00\", \"2074-12-01T00:00:00\", \"2075-11-12T00:00:00\", \"2076-10-24T00:00:00\", \"2077-10-06T00:00:00\", \"2078-09-18T00:00:00\", \"2079-08-31T00:00:00\", \"2080-08-12T00:00:00\", \"2081-07-24T00:00:00\", \"2082-07-06T00:00:00\", \"2083-06-18T00:00:00\", \"2084-05-30T00:00:00\", \"2085-05-12T00:00:00\", \"2086-04-24T00:00:00\", \"2087-04-05T00:00:00\"], \"y\": [11.53, 12.11, 12.11, 12.73, 12.73, 13.11, 13.11, 13.12, 13.12, 13.15, 13.15, 13.32, 13.32, 13.37, 13.37, 13.4, 13.4, 13.55, 13.55, 13.56, 13.56, 13.65, 13.65, 13.65, 13.65, 13.73, 13.73, 13.76, 13.76, 13.76, 13.82, 13.82, 13.84, 13.84, 13.85, 13.85, 13.98, 13.98, 14.56, 14.89, 15.07, 15.07, 15.24, 15.34, 15.6, 15.6, 15.7, 15.89, 15.94, 15.99, 15.99, 16.05, 16.11, 16.36, 16.43, 16.45, 16.49, 16.52, 16.52, 16.52, 16.53, 16.53, 16.81, 16.86, 17.0, 17.01, 17.05, 17.06, 17.06, 17.1, 17.15, 17.21, 17.21, 17.46, 18.14, 18.18, 18.2, 18.23, 18.32, 18.39, 18.46, 18.46, 18.47, 18.54, 18.55, 18.64, 18.72, 18.79, 18.82, 18.82, 18.82, 18.99, 19.03, 19.13, 19.16, 19.16, 19.51, 19.79, 19.81, 19.91, 19.98, 19.99, 20.0, 20.06, 20.14, 20.21, 20.24, 20.25, 20.38, 20.41, 20.47, 20.48, 20.55, 20.61, 20.66, 21.11, 21.5, 21.58, 21.68, 21.7, 21.82, 21.82, 21.86, 22.0, 22.09, 22.21, 22.28, 22.42, 22.42, 22.48, 22.51, 22.95, 23.03, 23.12, 23.14, 23.15, 23.19, 23.2, 23.29, 23.41, 23.42, 23.8, 24.19, 24.58, 24.96, 25.35, 25.73, 26.12, 26.5, 26.89, 27.27, 27.66, 28.04, 28.43, 28.81, 29.2, 29.58, 29.97, 30.35, 30.74, 31.12, 31.51, 31.89, 32.28, 32.67, 33.05, 33.44, 33.82, 34.21, 34.59, 34.98, 35.36, 35.75, 36.13, 36.52, 36.9, 37.29, 37.67, 38.06, 38.44, 38.83, 39.21, 39.6, 39.99, 40.37, 40.76, 41.14, 41.53, 41.91, 42.3, 42.68, 43.07, 43.45, 43.84, 44.22, 44.61, 44.99, 45.38, 45.76, 46.15, 46.53, 46.92, 47.3, 47.69, 48.07, 48.46, 48.85, 49.23, 49.62, 50.0]}],\n",
       "                        {\"annotations\": [{\"arrowhead\": 2, \"text\": \"50% zastoupen\\u00ed\", \"x\": \"2039-11-05T00:00:00\", \"y\": 50}], \"autosize\": false, \"height\": 500, \"hovermode\": \"x\", \"shapes\": [{\"line\": {\"color\": \"black\", \"dash\": \"dot\", \"width\": 1}, \"type\": \"line\", \"x0\": \"1992-06-06T00:00:00\", \"x1\": \"2087-04-05T00:00:00\", \"y0\": 50, \"y1\": 50}], \"showlegend\": false, \"template\": {\"data\": {\"bar\": [{\"error_x\": {\"color\": \"#2a3f5f\"}, \"error_y\": {\"color\": \"#2a3f5f\"}, \"marker\": {\"line\": {\"color\": \"#E5ECF6\", \"width\": 0.5}}, \"type\": \"bar\"}], \"barpolar\": [{\"marker\": {\"line\": {\"color\": \"#E5ECF6\", \"width\": 0.5}}, \"type\": \"barpolar\"}], \"carpet\": [{\"aaxis\": {\"endlinecolor\": \"#2a3f5f\", \"gridcolor\": \"white\", \"linecolor\": \"white\", \"minorgridcolor\": \"white\", \"startlinecolor\": \"#2a3f5f\"}, \"baxis\": {\"endlinecolor\": \"#2a3f5f\", \"gridcolor\": \"white\", \"linecolor\": \"white\", \"minorgridcolor\": \"white\", \"startlinecolor\": \"#2a3f5f\"}, \"type\": \"carpet\"}], \"choropleth\": [{\"colorbar\": {\"outlinewidth\": 0, \"ticks\": \"\"}, \"type\": \"choropleth\"}], \"contour\": [{\"colorbar\": {\"outlinewidth\": 0, \"ticks\": \"\"}, \"colorscale\": [[0.0, \"#0d0887\"], [0.1111111111111111, \"#46039f\"], [0.2222222222222222, \"#7201a8\"], [0.3333333333333333, \"#9c179e\"], [0.4444444444444444, \"#bd3786\"], [0.5555555555555556, \"#d8576b\"], [0.6666666666666666, \"#ed7953\"], [0.7777777777777778, \"#fb9f3a\"], [0.8888888888888888, \"#fdca26\"], [1.0, \"#f0f921\"]], \"type\": \"contour\"}], \"contourcarpet\": [{\"colorbar\": {\"outlinewidth\": 0, \"ticks\": \"\"}, \"type\": \"contourcarpet\"}], \"heatmap\": [{\"colorbar\": {\"outlinewidth\": 0, \"ticks\": \"\"}, \"colorscale\": [[0.0, \"#0d0887\"], [0.1111111111111111, \"#46039f\"], [0.2222222222222222, \"#7201a8\"], [0.3333333333333333, \"#9c179e\"], [0.4444444444444444, \"#bd3786\"], [0.5555555555555556, \"#d8576b\"], [0.6666666666666666, \"#ed7953\"], [0.7777777777777778, \"#fb9f3a\"], [0.8888888888888888, \"#fdca26\"], [1.0, \"#f0f921\"]], \"type\": \"heatmap\"}], \"heatmapgl\": [{\"colorbar\": {\"outlinewidth\": 0, \"ticks\": \"\"}, \"colorscale\": [[0.0, \"#0d0887\"], [0.1111111111111111, \"#46039f\"], [0.2222222222222222, \"#7201a8\"], [0.3333333333333333, \"#9c179e\"], [0.4444444444444444, \"#bd3786\"], [0.5555555555555556, \"#d8576b\"], [0.6666666666666666, \"#ed7953\"], [0.7777777777777778, \"#fb9f3a\"], [0.8888888888888888, \"#fdca26\"], [1.0, \"#f0f921\"]], \"type\": \"heatmapgl\"}], \"histogram\": [{\"marker\": {\"colorbar\": {\"outlinewidth\": 0, \"ticks\": \"\"}}, \"type\": \"histogram\"}], \"histogram2d\": [{\"colorbar\": {\"outlinewidth\": 0, \"ticks\": \"\"}, \"colorscale\": [[0.0, \"#0d0887\"], [0.1111111111111111, \"#46039f\"], [0.2222222222222222, \"#7201a8\"], [0.3333333333333333, \"#9c179e\"], [0.4444444444444444, \"#bd3786\"], [0.5555555555555556, \"#d8576b\"], [0.6666666666666666, \"#ed7953\"], [0.7777777777777778, \"#fb9f3a\"], [0.8888888888888888, \"#fdca26\"], [1.0, \"#f0f921\"]], \"type\": \"histogram2d\"}], \"histogram2dcontour\": [{\"colorbar\": {\"outlinewidth\": 0, \"ticks\": \"\"}, \"colorscale\": [[0.0, \"#0d0887\"], [0.1111111111111111, \"#46039f\"], [0.2222222222222222, \"#7201a8\"], [0.3333333333333333, \"#9c179e\"], [0.4444444444444444, \"#bd3786\"], [0.5555555555555556, \"#d8576b\"], [0.6666666666666666, \"#ed7953\"], [0.7777777777777778, \"#fb9f3a\"], [0.8888888888888888, \"#fdca26\"], [1.0, \"#f0f921\"]], \"type\": \"histogram2dcontour\"}], \"mesh3d\": [{\"colorbar\": {\"outlinewidth\": 0, \"ticks\": \"\"}, \"type\": \"mesh3d\"}], \"parcoords\": [{\"line\": {\"colorbar\": {\"outlinewidth\": 0, \"ticks\": \"\"}}, \"type\": \"parcoords\"}], \"pie\": [{\"automargin\": true, \"type\": \"pie\"}], \"scatter\": [{\"marker\": {\"colorbar\": {\"outlinewidth\": 0, \"ticks\": \"\"}}, \"type\": \"scatter\"}], \"scatter3d\": [{\"line\": {\"colorbar\": {\"outlinewidth\": 0, \"ticks\": \"\"}}, \"marker\": {\"colorbar\": {\"outlinewidth\": 0, \"ticks\": \"\"}}, \"type\": \"scatter3d\"}], \"scattercarpet\": [{\"marker\": {\"colorbar\": {\"outlinewidth\": 0, \"ticks\": \"\"}}, \"type\": \"scattercarpet\"}], \"scattergeo\": [{\"marker\": {\"colorbar\": {\"outlinewidth\": 0, \"ticks\": \"\"}}, \"type\": \"scattergeo\"}], \"scattergl\": [{\"marker\": {\"colorbar\": {\"outlinewidth\": 0, \"ticks\": \"\"}}, \"type\": \"scattergl\"}], \"scattermapbox\": [{\"marker\": {\"colorbar\": {\"outlinewidth\": 0, \"ticks\": \"\"}}, \"type\": \"scattermapbox\"}], \"scatterpolar\": [{\"marker\": {\"colorbar\": {\"outlinewidth\": 0, \"ticks\": \"\"}}, \"type\": \"scatterpolar\"}], \"scatterpolargl\": [{\"marker\": {\"colorbar\": {\"outlinewidth\": 0, \"ticks\": \"\"}}, \"type\": \"scatterpolargl\"}], \"scatterternary\": [{\"marker\": {\"colorbar\": {\"outlinewidth\": 0, \"ticks\": \"\"}}, \"type\": \"scatterternary\"}], \"surface\": [{\"colorbar\": {\"outlinewidth\": 0, \"ticks\": \"\"}, \"colorscale\": [[0.0, \"#0d0887\"], [0.1111111111111111, \"#46039f\"], [0.2222222222222222, \"#7201a8\"], [0.3333333333333333, \"#9c179e\"], [0.4444444444444444, \"#bd3786\"], [0.5555555555555556, \"#d8576b\"], [0.6666666666666666, \"#ed7953\"], [0.7777777777777778, \"#fb9f3a\"], [0.8888888888888888, \"#fdca26\"], [1.0, \"#f0f921\"]], \"type\": \"surface\"}], \"table\": [{\"cells\": {\"fill\": {\"color\": \"#EBF0F8\"}, \"line\": {\"color\": \"white\"}}, \"header\": {\"fill\": {\"color\": \"#C8D4E3\"}, \"line\": {\"color\": \"white\"}}, \"type\": \"table\"}]}, \"layout\": {\"annotationdefaults\": {\"arrowcolor\": \"#2a3f5f\", \"arrowhead\": 0, \"arrowwidth\": 1}, \"coloraxis\": {\"colorbar\": {\"outlinewidth\": 0, \"ticks\": \"\"}}, \"colorscale\": {\"diverging\": [[0, \"#8e0152\"], [0.1, \"#c51b7d\"], [0.2, \"#de77ae\"], [0.3, \"#f1b6da\"], [0.4, \"#fde0ef\"], [0.5, \"#f7f7f7\"], [0.6, \"#e6f5d0\"], [0.7, \"#b8e186\"], [0.8, \"#7fbc41\"], [0.9, \"#4d9221\"], [1, \"#276419\"]], \"sequential\": [[0.0, \"#0d0887\"], [0.1111111111111111, \"#46039f\"], [0.2222222222222222, \"#7201a8\"], [0.3333333333333333, \"#9c179e\"], [0.4444444444444444, \"#bd3786\"], [0.5555555555555556, \"#d8576b\"], [0.6666666666666666, \"#ed7953\"], [0.7777777777777778, \"#fb9f3a\"], [0.8888888888888888, \"#fdca26\"], [1.0, \"#f0f921\"]], \"sequentialminus\": [[0.0, \"#0d0887\"], [0.1111111111111111, \"#46039f\"], [0.2222222222222222, \"#7201a8\"], [0.3333333333333333, \"#9c179e\"], [0.4444444444444444, \"#bd3786\"], [0.5555555555555556, \"#d8576b\"], [0.6666666666666666, \"#ed7953\"], [0.7777777777777778, \"#fb9f3a\"], [0.8888888888888888, \"#fdca26\"], [1.0, \"#f0f921\"]]}, \"colorway\": [\"#636efa\", \"#EF553B\", \"#00cc96\", \"#ab63fa\", \"#FFA15A\", \"#19d3f3\", \"#FF6692\", \"#B6E880\", \"#FF97FF\", \"#FECB52\"], \"font\": {\"color\": \"#2a3f5f\"}, \"geo\": {\"bgcolor\": \"white\", \"lakecolor\": \"white\", \"landcolor\": \"#E5ECF6\", \"showlakes\": true, \"showland\": true, \"subunitcolor\": \"white\"}, \"hoverlabel\": {\"align\": \"left\"}, \"hovermode\": \"closest\", \"mapbox\": {\"style\": \"light\"}, \"paper_bgcolor\": \"white\", \"plot_bgcolor\": \"#E5ECF6\", \"polar\": {\"angularaxis\": {\"gridcolor\": \"white\", \"linecolor\": \"white\", \"ticks\": \"\"}, \"bgcolor\": \"#E5ECF6\", \"radialaxis\": {\"gridcolor\": \"white\", \"linecolor\": \"white\", \"ticks\": \"\"}}, \"scene\": {\"xaxis\": {\"backgroundcolor\": \"#E5ECF6\", \"gridcolor\": \"white\", \"gridwidth\": 2, \"linecolor\": \"white\", \"showbackground\": true, \"ticks\": \"\", \"zerolinecolor\": \"white\"}, \"yaxis\": {\"backgroundcolor\": \"#E5ECF6\", \"gridcolor\": \"white\", \"gridwidth\": 2, \"linecolor\": \"white\", \"showbackground\": true, \"ticks\": \"\", \"zerolinecolor\": \"white\"}, \"zaxis\": {\"backgroundcolor\": \"#E5ECF6\", \"gridcolor\": \"white\", \"gridwidth\": 2, \"linecolor\": \"white\", \"showbackground\": true, \"ticks\": \"\", \"zerolinecolor\": \"white\"}}, \"shapedefaults\": {\"line\": {\"color\": \"#2a3f5f\"}}, \"ternary\": {\"aaxis\": {\"gridcolor\": \"white\", \"linecolor\": \"white\", \"ticks\": \"\"}, \"baxis\": {\"gridcolor\": \"white\", \"linecolor\": \"white\", \"ticks\": \"\"}, \"bgcolor\": \"#E5ECF6\", \"caxis\": {\"gridcolor\": \"white\", \"linecolor\": \"white\", \"ticks\": \"\"}}, \"title\": {\"x\": 0.05}, \"xaxis\": {\"automargin\": true, \"gridcolor\": \"white\", \"linecolor\": \"white\", \"ticks\": \"\", \"title\": {\"standoff\": 15}, \"zerolinecolor\": \"white\", \"zerolinewidth\": 2}, \"yaxis\": {\"automargin\": true, \"gridcolor\": \"white\", \"linecolor\": \"white\", \"ticks\": \"\", \"title\": {\"standoff\": 15}, \"zerolinecolor\": \"white\", \"zerolinewidth\": 2}}}, \"title\": {\"text\": \"Zastoupen\\u00ed \\u017een v Poslaneck\\u00e9 sn\\u011bmovn\\u011b \\u010cR\"}, \"width\": 1000, \"xaxis\": {\"title\": {\"text\": \"Datum\"}}, \"yaxis\": {\"ticktext\": [\"0%\", \"20%\", \"40%\", \"60%\", \"80%\", \"100%\"], \"tickvals\": [0, 20, 40, 60, 80, 100], \"title\": {\"text\": \"Zastoupen\\u00ed \\u017een\"}}},\n",
       "                        {\"responsive\": true}\n",
       "                    ).then(function(){\n",
       "                            \n",
       "var gd = document.getElementById('f309020f-ec16-4410-8084-7a6cdb6f75b2');\n",
       "var x = new MutationObserver(function (mutations, observer) {{\n",
       "        var display = window.getComputedStyle(gd).display;\n",
       "        if (!display || display === 'none') {{\n",
       "            console.log([gd, 'removed!']);\n",
       "            Plotly.purge(gd);\n",
       "            observer.disconnect();\n",
       "        }}\n",
       "}});\n",
       "\n",
       "// Listen for the removal of the full notebook cells\n",
       "var notebookContainer = gd.closest('#notebook-container');\n",
       "if (notebookContainer) {{\n",
       "    x.observe(notebookContainer, {childList: true});\n",
       "}}\n",
       "\n",
       "// Listen for the clearing of the current output cell\n",
       "var outputEl = gd.closest('.output');\n",
       "if (outputEl) {{\n",
       "    x.observe(outputEl, {childList: true});\n",
       "}}\n",
       "\n",
       "                        })\n",
       "                };\n",
       "                });\n",
       "            </script>\n",
       "        </div>"
      ]
     },
     "metadata": {},
     "output_type": "display_data"
    }
   ],
   "source": [
    "fig = go.Figure()\n",
    "\n",
    "for snemovna in snemovny:\n",
    "    df = pohlavi_dle_snemovny(snemovna)\n",
    "    hovertemplate_zeny = f\"Sněmovna: {snemovna}\" +'<br>Datum: %{x|%d. %m. %Y}<br>Pohlaví: ženy<br>Počet: %{y}<extra></extra>'\n",
    "    hovertemplate_muzi = f\"Sněmovna: {snemovna}\" +'<br>Datum: %{x|%d. %m. %Y}<br>Pohlaví: muži<br>Počet: %{y}<extra></extra>'\n",
    "    \n",
    "    # Ženy\n",
    "    fig.add_trace(go.Scatter(\n",
    "        x = df.index,\n",
    "        y = df.zeny_pct,\n",
    "        mode = 'markers+lines',\n",
    "        hoverinfo = 'text',\n",
    "        hovertemplate=hovertemplate_zeny,\n",
    "        name=f\"ženy ({snemovna})\",\n",
    "        stackgroup=snemovna\n",
    "    ))\n",
    "    \n",
    "    # Muži\n",
    "    fig.add_trace(go.Scatter(\n",
    "        x = df.index,\n",
    "        y = df.muzi_pct,\n",
    "        name = f\"muži ({snemovna})\",\n",
    "        hoverinfo = 'text',\n",
    "        hovertemplate=hovertemplate_muzi,\n",
    "        mode = 'markers+lines',\n",
    "        #line = dict(shape='linear'),\n",
    "        stackgroup=snemovna\n",
    "    ))\n",
    "\n",
    "    \n",
    "fig.add_trace(go.Scatter(\n",
    "        x = zastoupeni_extrapolace_df.index,\n",
    "        y = zastoupeni_extrapolace_df.zeny_pct_extrapolace.round(2),\n",
    "        name = f\"ženy (extrapolace)\",\n",
    "        mode = 'lines',\n",
    "        line = dict(color='green', width=2, dash='dash')\n",
    "    ))\n",
    "\n",
    "fig.add_shape(type=\"line\",\n",
    "    x0=zastoupeni_extrapolace_df.index[0], \n",
    "    y0=50,\n",
    "    x1=zastoupeni_extrapolace_df.index[-1],\n",
    "    y1=50,\n",
    "    line=dict(color=\"black\", width=1, dash='dot')\n",
    ")\n",
    "\n",
    "middle_x = zastoupeni_extrapolace_df.index[0] +  (zastoupeni_extrapolace_df.index[-1] -  zastoupeni_extrapolace_df.index[0]) / 2\n",
    "fig.add_annotation(\n",
    "    x=middle_x,\n",
    "    y=50,\n",
    "    text=\"50% zastoupení\",\n",
    "    arrowhead=2,\n",
    ")\n",
    "\n",
    "\n",
    "layout = go.Layout(\n",
    "    title=\"Zastoupení žen v Poslanecké sněmovně ČR\",    \n",
    "    #plot_bgcolor=\"#FFFFFF\",\n",
    "    hovermode=\"x\",\n",
    "    xaxis=dict(title=\"Datum\"),\n",
    "    yaxis=dict(\n",
    "        title=\"Zastoupení žen\",\n",
    "        tickvals = [0, 20, 40, 60, 80, 100],\n",
    "        ticktext = [\"0%\", \"20%\", \"40%\", \"60%\", \"80%\", \"100%\"]\n",
    "    )\n",
    ")\n",
    "\n",
    "fig.update_layout(layout)\n",
    "fig.update_layout(showlegend=False,     autosize=False,\n",
    "    width=1000,\n",
    "    height=500,)\n",
    "fig.show()\n"
   ]
  },
  {
   "cell_type": "markdown",
   "metadata": {},
   "source": [
    "## Export dat"
   ]
  },
  {
   "cell_type": "code",
   "execution_count": 47,
   "metadata": {},
   "outputs": [
    {
     "name": "stdout",
     "output_type": "stream",
     "text": [
      "-rw-rw-r-- 1 borjana borjana 5176 zář 26 20:28 ../docs/data/zastoupeni_zen_v_PS_CR.csv\n"
     ]
    }
   ],
   "source": [
    "# Data bez extrapolace\n",
    "! mkdir -p \"../docs/data\"\n",
    "export_path = \"../docs/data/zastoupeni_zen_v_PS_CR.csv\"\n",
    "zastoupeni_df[['zeny_pct', 'muzi_pct', 'zeny_cnt', 'muzi_cnt', 'snemovna']].to_csv(export_path)\n",
    "! ls -l {export_path}"
   ]
  },
  {
   "cell_type": "code",
   "execution_count": 48,
   "metadata": {},
   "outputs": [
    {
     "name": "stdout",
     "output_type": "stream",
     "text": [
      "-rw-rw-r-- 1 borjana borjana 14052 zář 26 20:28 ../docs/data/extrapolace_zastoupeni_zen_v_PS_CR.csv\n"
     ]
    }
   ],
   "source": [
    "# Data s extrapolací\n",
    "m = zastoupeni_df.merge(zastoupeni_extrapolace_df, how='outer', on='datum')\n",
    "m = m.sort_index()\n",
    "m.head()\n",
    "\n",
    "! mkdir -p \"../docs/data\"\n",
    "export_path = \"../docs/data/extrapolace_zastoupeni_zen_v_PS_CR.csv\"\n",
    "m[['zeny_pct', 'muzi_pct', 'zeny_cnt', 'muzi_cnt', 'snemovna', 'zeny_pct_extrapolace', 'rovne_zastoupeni_dt']].to_csv(export_path)\n",
    "! ls -l {export_path}"
   ]
  },
  {
   "cell_type": "code",
   "execution_count": 18,
   "metadata": {},
   "outputs": [
    {
     "name": "stdout",
     "output_type": "stream",
     "text": [
      "Poslední běh notebooku: 26.09.2021 20:18:43.\n"
     ]
    }
   ],
   "source": [
    "print(f\"Poslední běh notebooku: {datetime.now().strftime('%d.%m.%Y %H:%M:%S')}.\")"
   ]
  },
  {
   "cell_type": "code",
   "execution_count": null,
   "metadata": {},
   "outputs": [],
   "source": []
  }
 ],
 "metadata": {
  "colab": {
   "collapsed_sections": [],
   "name": "Hlasovani.ipynb",
   "provenance": []
  },
  "kernelspec": {
   "display_name": "Python 3",
   "language": "python",
   "name": "python3"
  },
  "language_info": {
   "codemirror_mode": {
    "name": "ipython",
    "version": 3
   },
   "file_extension": ".py",
   "mimetype": "text/x-python",
   "name": "python",
   "nbconvert_exporter": "python",
   "pygments_lexer": "ipython3",
   "version": "3.7.7"
  }
 },
 "nbformat": 4,
 "nbformat_minor": 4
}
