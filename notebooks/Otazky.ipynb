{
 "cells": [
  {
   "cell_type": "markdown",
   "metadata": {},
   "source": [
    "# StenoTexty\n",
    "\n",
    "Tento notebook analyzuje stenografické přepisy schůzí PS ČR."
   ]
  },
  {
   "cell_type": "markdown",
   "metadata": {},
   "source": [
    "## Instalace knihovny Parlamentikon\n",
    "\n",
    "Nastavení notebooku pro prostředí Google Colab a pro lokální běh."
   ]
  },
  {
   "cell_type": "code",
   "execution_count": 1,
   "metadata": {},
   "outputs": [],
   "source": [
    "# Specifické příkazy pro prostředí Google Colab\n",
    "if 'google.colab' in str(get_ipython()):\n",
    "        import os, sys\n",
    "        os.chdir('/content')\n",
    "        # Stažení knihovny\n",
    "        ! ls parlamentikon || git clone \"https://github.com/parlamentikon/parlamentikon.git\" --branch main\n",
    "        os.chdir('/content/parlamentikon/notebooks')"
   ]
  },
  {
   "cell_type": "code",
   "execution_count": 2,
   "metadata": {},
   "outputs": [
    {
     "name": "stdout",
     "output_type": "stream",
     "text": [
      "\u001b[33mWARNING: You are using pip version 21.0.1; however, version 21.1.2 is available.\n",
      "You should consider upgrading via the '/home/borjana/.venv/finance/bin/python -m pip install --upgrade pip' command.\u001b[0m\n"
     ]
    }
   ],
   "source": [
    "instalace_zavislosti = True\n",
    "if instalace_zavislosti:\n",
    "    ! pip install -r ../requirements.txt 1>/dev/null"
   ]
  },
  {
   "cell_type": "code",
   "execution_count": 3,
   "metadata": {},
   "outputs": [],
   "source": [
    "instalace_knihovny = False\n",
    "if instalace_knihovny:\n",
    "    ! pip install ..  1>/dev/null\n",
    "else:\n",
    "    # Přidání cesty pro lokální import knihovny\n",
    "    import sys, os\n",
    "    sys.path.insert(0, os.path.abspath('..'))"
   ]
  },
  {
   "cell_type": "markdown",
   "metadata": {},
   "source": [
    "## Import knihoven"
   ]
  },
  {
   "cell_type": "code",
   "execution_count": 186,
   "metadata": {},
   "outputs": [],
   "source": [
    "from datetime import datetime, timedelta\n",
    "import plotly.graph_objects as go\n",
    "import pandas as pd\n",
    "import numpy as np\n",
    "import random"
   ]
  },
  {
   "cell_type": "code",
   "execution_count": 5,
   "metadata": {},
   "outputs": [],
   "source": [
    "from parlamentikon.Hlasovani import Organy\n",
    "from parlamentikon.Snemovna import *\n",
    "from parlamentikon.StenoTexty import *\n",
    "from parlamentikon.utility import *"
   ]
  },
  {
   "cell_type": "code",
   "execution_count": 6,
   "metadata": {},
   "outputs": [],
   "source": [
    "from nastav_notebook import nastav_pandas\n",
    "nastav_pandas()"
   ]
  },
  {
   "cell_type": "markdown",
   "metadata": {},
   "source": [
    "## Nastavení parametrů"
   ]
  },
  {
   "cell_type": "code",
   "execution_count": 7,
   "metadata": {},
   "outputs": [],
   "source": [
    "# Data se budou pokaždé znovu stahovat z achivu PS\n",
    "stahni=True"
   ]
  },
  {
   "cell_type": "code",
   "execution_count": null,
   "metadata": {},
   "outputs": [],
   "source": []
  },
  {
   "cell_type": "markdown",
   "metadata": {},
   "source": [
    "## Načtení dat"
   ]
  },
  {
   "cell_type": "code",
   "execution_count": 8,
   "metadata": {},
   "outputs": [
    {
     "name": "stderr",
     "output_type": "stream",
     "text": [
      "2021-06-06:12:38:46 INFO     [utility.py:21] Stahuji 'https://www.psp.cz/eknih/cdrom/opendata/poslanci.zip'.\n"
     ]
    },
    {
     "name": "stdout",
     "output_type": "stream",
     "text": [
      "Snemovny dle počátku roku: [1992, 1996, 1998, 2002, 2006, 2010, 2013, 2017].\n",
      "Poslední sněmovna: 2017.\n"
     ]
    }
   ],
   "source": [
    "vsechny_organy = Organy(volebni_obdobi=-1)\n",
    "snemovny = vsechny_organy[vsechny_organy.nazev_typ_organ_cz == 'Parlament'].od_organ.dt.year.sort_values()\n",
    "snemovny = snemovny.sort_values().to_list()\n",
    "posledni_snemovna = snemovny[-1]\n",
    "assert isinstance(posledni_snemovna, int)\n",
    "print(f\"Snemovny dle počátku roku: {snemovny}.\")\n",
    "print(f\"Poslední sněmovna: {posledni_snemovna}.\")"
   ]
  },
  {
   "cell_type": "markdown",
   "metadata": {
    "id": "LqbC3QodaH-V"
   },
   "source": [
    "### Načtení tabulku StenoTexty"
   ]
  },
  {
   "cell_type": "code",
   "execution_count": 9,
   "metadata": {},
   "outputs": [
    {
     "name": "stderr",
     "output_type": "stream",
     "text": [
      "2021-06-06:12:38:47 INFO     [utility.py:21] Stahuji 'https://www.psp.cz/eknih/cdrom/opendata/poslanci.zip'.\n",
      "2021-06-06:12:38:48 WARNING  [Snemovna.py:149] While merging 'funkce' with 'typ_funkce': Dropping ['nazev_typ_organ_en__typ_funkce', 'typ_id_typ_organ__typ_funkce', 'nazev_typ_organ_cz__typ_funkce', 'id_typ_organ__typ_funkce', 'typ_organ_obecny__typ_funkce'] because of abundance.\n",
      "2021-06-06:12:38:48 INFO     [utility.py:21] Stahuji 'https://www.psp.cz/eknih/cdrom/opendata/steno.zip'.\n",
      "2021-06-06:12:38:52 INFO     [StenoTexty.py:45] Stahuji stenografické přepisy pro volební období 2017. Proces může trvat v řádu desítek minut.\n",
      "2021-06-06:12:38:52 INFO     [TabulkyStenoTexty.py:148] K stažení: 11259 souborů.\n",
      "[Parallel(n_jobs=12)]: Using backend ThreadingBackend with 12 concurrent workers.\n",
      "[Parallel(n_jobs=12)]: Done  26 tasks      | elapsed:    0.8s\n",
      "[Parallel(n_jobs=12)]: Done 176 tasks      | elapsed:    3.2s\n",
      "[Parallel(n_jobs=12)]: Done 426 tasks      | elapsed:    8.6s\n",
      "[Parallel(n_jobs=12)]: Done 776 tasks      | elapsed:   16.2s\n",
      "[Parallel(n_jobs=12)]: Done 1226 tasks      | elapsed:   26.1s\n",
      "[Parallel(n_jobs=12)]: Done 1776 tasks      | elapsed:   37.6s\n",
      "[Parallel(n_jobs=12)]: Done 2426 tasks      | elapsed:   51.6s\n",
      "[Parallel(n_jobs=12)]: Done 3176 tasks      | elapsed:  1.1min\n",
      "[Parallel(n_jobs=12)]: Done 4026 tasks      | elapsed:  1.5min\n",
      "[Parallel(n_jobs=12)]: Done 4976 tasks      | elapsed:  1.9min\n",
      "[Parallel(n_jobs=12)]: Done 6026 tasks      | elapsed:  2.3min\n",
      "[Parallel(n_jobs=12)]: Done 7176 tasks      | elapsed:  2.7min\n",
      "[Parallel(n_jobs=12)]: Done 8426 tasks      | elapsed:  3.1min\n",
      "[Parallel(n_jobs=12)]: Done 9776 tasks      | elapsed:  3.7min\n",
      "[Parallel(n_jobs=12)]: Done 11226 tasks      | elapsed:  4.2min\n",
      "[Parallel(n_jobs=12)]: Done 11259 out of 11259 | elapsed:  4.2min finished\n",
      "2021-06-06:12:43:04 INFO     [TabulkyStenoTexty.py:135] K zpracování: 11259 souborů.\n",
      "[Parallel(n_jobs=-1)]: Using backend ThreadingBackend with 4 concurrent workers.\n",
      "[Parallel(n_jobs=-1)]: Done  42 tasks      | elapsed:    3.5s\n",
      "[Parallel(n_jobs=-1)]: Done 192 tasks      | elapsed:   17.6s\n",
      "[Parallel(n_jobs=-1)]: Done 442 tasks      | elapsed:   43.1s\n",
      "[Parallel(n_jobs=-1)]: Done 792 tasks      | elapsed:  1.3min\n",
      "[Parallel(n_jobs=-1)]: Done 1242 tasks      | elapsed:  2.0min\n",
      "[Parallel(n_jobs=-1)]: Done 1792 tasks      | elapsed:  2.8min\n",
      "[Parallel(n_jobs=-1)]: Done 2442 tasks      | elapsed:  3.9min\n",
      "[Parallel(n_jobs=-1)]: Done 3192 tasks      | elapsed:  5.1min\n",
      "[Parallel(n_jobs=-1)]: Done 4042 tasks      | elapsed:  6.3min\n",
      "[Parallel(n_jobs=-1)]: Done 4992 tasks      | elapsed:  7.8min\n",
      "[Parallel(n_jobs=-1)]: Done 6042 tasks      | elapsed:  9.3min\n",
      "[Parallel(n_jobs=-1)]: Done 7192 tasks      | elapsed: 11.0min\n",
      "[Parallel(n_jobs=-1)]: Done 8442 tasks      | elapsed: 13.0min\n",
      "[Parallel(n_jobs=-1)]: Done 9792 tasks      | elapsed: 15.0min\n",
      "[Parallel(n_jobs=-1)]: Done 11242 tasks      | elapsed: 17.3min\n",
      "[Parallel(n_jobs=-1)]: Done 11259 out of 11259 | elapsed: 17.3min finished\n",
      "2021-06-06:13:00:25 WARNING  [Snemovna.py:149] While merging 'steno_texty' with 'steno_rec': Dropping ['id_osoba__steno_rec'] because of abundance.\n",
      "2021-06-06:13:00:26 WARNING  [Snemovna.py:149] While merging 'steno_texty' with 'osoby': Dropping ['zmena__osoby', 'pohlavi__ORIG__osoby', 'jmeno__osoby', 'pred__osoby', 'za__osoby', 'pohlavi__osoby', 'narozeni__osoby', 'prijmeni__osoby', 'umrti__osoby'] because of abundance.\n",
      "2021-06-06:13:00:27 WARNING  [Snemovna.py:184] Pro sloupec 'cisla_hlasovani' nebyla nalezena metadata!\n"
     ]
    }
   ],
   "source": [
    "st = StenoTexty(volebni_obdobi=2017, stahni=True)"
   ]
  },
  {
   "cell_type": "markdown",
   "metadata": {},
   "source": [
    "## Analýza: otázky z poslední schůze sněmovny"
   ]
  },
  {
   "cell_type": "code",
   "execution_count": 187,
   "metadata": {},
   "outputs": [
    {
     "name": "stdout",
     "output_type": "stream",
     "text": [
      "Bylo nalezeno 252 otázek.\n",
      "Zobrazuji náhodných 20 otázek:\n"
     ]
    },
    {
     "data": {
      "text/plain": [
       "['To je úroveň představy, se kterou se do toho šlo?',\n",
       " 'Podíval jste se na strukturu těch dotací?',\n",
       " 'Neúspěchy vlády?',\n",
       " 'Takže co je pravdou?',\n",
       " 'A pokud tyto podniky necháme zkrachovat, kdo bude našemu státu oporou v případě krize?',\n",
       " 'Když říkáme: A máte napsané ty změny, pane ministře?',\n",
       " 'Pamatujete si na to ještě?',\n",
       " 'Vzpomenete si, milá vládo, na to, jak jste nakupovali pomůcky z Číny, za respirátory FFP3 platili částku od 60 do 422 korun, v případě FFP2 dokonce 777 korun?',\n",
       " 'Kde máte nějakou představu, co budete dělat?',\n",
       " 'A kolik se letos zprovozňuje?',\n",
       " 'A víte, kolik se zahajuje letos?',\n",
       " 'Jaký je plán?',\n",
       " 'Dámy a pánové, opravdu věříte této vládě?',\n",
       " 'Přijde vám to normální?',\n",
       " 'Tak pro koho asi bude pracovat takový člověk?',\n",
       " 'To je docela dlouhá doba na to něco předvést, nemyslíte?',\n",
       " 'Říká: čau lidi, už vás štvu?',\n",
       " 'Je to jen kvůli volebním preferencím, nebo chcete aktivně posloužit cizí propagandě?',\n",
       " 'Nebo jak je to přísloví?',\n",
       " 'Vidíte někde ty rychlodráhy, které Andrej Babiš sliboval, nebo o kterých snil, když náhodou spal?']"
      ]
     },
     "execution_count": 187,
     "metadata": {},
     "output_type": "execute_result"
    }
   ],
   "source": [
    "def vyber_otazky(text):\n",
    "    result = re.split('(?<=[.!?]) +', text)\n",
    "    if len(result) > 0:\n",
    "        result = [r for r in result if len(r) > 0 and r[-1] == '?']\n",
    "    else:\n",
    "        result = []\n",
    "    return result\n",
    "\n",
    "posledni_schuze = st.schuze.max()\n",
    "posledni_den = st.date.max()\n",
    "otazky_posledni_schuze = st[st.schuze == posledni_schuze].text.apply(lambda x: vyber_otazky(x)).to_list()\n",
    "#otazky_posledni_schuze = st[(st.schuze == posledni_schuze) & (st.date == posledni_den)].text.apply(lambda x: vyber_otazky(x)).to_list()\n",
    "otazky_posledni_schuze = [v for o in otazky_posledni_schuze for v in o]\n",
    "random.shuffle(otazky_posledni_schuze)\n",
    "print(f\"Bylo nalezeno {len(otazky_posledni_schuze)} otázek.\")\n",
    "print(f\"Zobrazuji náhodných 20 otázek:\")\n",
    "otazky_posledni_schuze[:20]"
   ]
  },
  {
   "cell_type": "code",
   "execution_count": 194,
   "metadata": {},
   "outputs": [
    {
     "data": {
      "text/html": [
       "<div>\n",
       "<style scoped>\n",
       "    .dataframe tbody tr th:only-of-type {\n",
       "        vertical-align: middle;\n",
       "    }\n",
       "\n",
       "    .dataframe tbody tr th {\n",
       "        vertical-align: top;\n",
       "    }\n",
       "\n",
       "    .dataframe thead th {\n",
       "        text-align: right;\n",
       "    }\n",
       "</style>\n",
       "<table border=\"1\" class=\"dataframe\">\n",
       "  <thead>\n",
       "    <tr style=\"text-align: right;\">\n",
       "      <th></th>\n",
       "      <th>otazka</th>\n",
       "      <th>schuze</th>\n",
       "    </tr>\n",
       "  </thead>\n",
       "  <tbody>\n",
       "    <tr>\n",
       "      <th>0</th>\n",
       "      <td>To je úroveň představy, se kterou se do toho šlo?</td>\n",
       "      <td>106</td>\n",
       "    </tr>\n",
       "    <tr>\n",
       "      <th>1</th>\n",
       "      <td>Podíval jste se na strukturu těch dotací?</td>\n",
       "      <td>106</td>\n",
       "    </tr>\n",
       "    <tr>\n",
       "      <th>2</th>\n",
       "      <td>Neúspěchy vlády?</td>\n",
       "      <td>106</td>\n",
       "    </tr>\n",
       "    <tr>\n",
       "      <th>3</th>\n",
       "      <td>Takže co je pravdou?</td>\n",
       "      <td>106</td>\n",
       "    </tr>\n",
       "    <tr>\n",
       "      <th>4</th>\n",
       "      <td>A pokud tyto podniky necháme zkrachovat, kdo bude našemu státu oporou v případě krize?</td>\n",
       "      <td>106</td>\n",
       "    </tr>\n",
       "  </tbody>\n",
       "</table>\n",
       "</div>"
      ],
      "text/plain": [
       "                                                                                   otazka  \\\n",
       "0                                       To je úroveň představy, se kterou se do toho šlo?   \n",
       "1                                               Podíval jste se na strukturu těch dotací?   \n",
       "2                                                                        Neúspěchy vlády?   \n",
       "3                                                                    Takže co je pravdou?   \n",
       "4  A pokud tyto podniky necháme zkrachovat, kdo bude našemu státu oporou v případě krize?   \n",
       "\n",
       "   schuze  \n",
       "0     106  \n",
       "1     106  \n",
       "2     106  \n",
       "3     106  \n",
       "4     106  "
      ]
     },
     "execution_count": 194,
     "metadata": {},
     "output_type": "execute_result"
    }
   ],
   "source": [
    "otazky_posledni_schuze_df = pd.DataFrame({\"otazka\": otazky_posledni_schuze})\n",
    "otazky_posledni_schuze_df['schuze'] = posledni_schuze\n",
    "otazky_posledni_schuze_df.head()"
   ]
  },
  {
   "cell_type": "markdown",
   "metadata": {},
   "source": [
    "## Export dat"
   ]
  },
  {
   "cell_type": "code",
   "execution_count": 195,
   "metadata": {},
   "outputs": [
    {
     "name": "stdout",
     "output_type": "stream",
     "text": [
      "-rw-rw-r-- 1 borjana borjana 17863 čen  6 16:55 ../docs/data/otazky_posledni_schuze_PS_CR.csv\n"
     ]
    }
   ],
   "source": [
    "# Data bez extrapolace\n",
    "! mkdir -p \"../docs/data\"\n",
    "export_path = \"../docs/data/otazky_posledni_schuze_PS_CR.csv\"\n",
    "otazky_posledni_schuze_df[['otazka', 'schuze']].to_csv(export_path)\n",
    "! ls -l {export_path}"
   ]
  },
  {
   "cell_type": "markdown",
   "metadata": {},
   "source": [
    "## Export dat"
   ]
  },
  {
   "cell_type": "code",
   "execution_count": 196,
   "metadata": {},
   "outputs": [
    {
     "name": "stdout",
     "output_type": "stream",
     "text": [
      "Poslední běh notebooku dokončen 06.06.2021 v 16:56:03.\n"
     ]
    }
   ],
   "source": [
    "print(f\"Poslední běh notebooku dokončen {datetime.now().strftime('%d.%m.%Y v %H:%M:%S')}.\")"
   ]
  },
  {
   "cell_type": "code",
   "execution_count": null,
   "metadata": {},
   "outputs": [],
   "source": []
  },
  {
   "cell_type": "raw",
   "metadata": {},
   "source": []
  }
 ],
 "metadata": {
  "kernelspec": {
   "display_name": "finance",
   "language": "python",
   "name": "finance"
  },
  "language_info": {
   "codemirror_mode": {
    "name": "ipython",
    "version": 3
   },
   "file_extension": ".py",
   "mimetype": "text/x-python",
   "name": "python",
   "nbconvert_exporter": "python",
   "pygments_lexer": "ipython3",
   "version": "3.7.7"
  }
 },
 "nbformat": 4,
 "nbformat_minor": 4
}
