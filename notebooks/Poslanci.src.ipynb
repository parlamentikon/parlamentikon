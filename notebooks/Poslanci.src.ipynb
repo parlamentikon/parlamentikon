{
 "cells": [
  {
   "cell_type": "markdown",
   "metadata": {},
   "source": [
    "# Hlasování"
   ]
  },
  {
   "cell_type": "markdown",
   "metadata": {},
   "source": [
    "## Nastavení prostředí"
   ]
  },
  {
   "cell_type": "code",
   "execution_count": 1,
   "metadata": {},
   "outputs": [],
   "source": [
    "# Specifické příkazy pro prostředí Google Colab\n",
    "if 'google.colab' in str(get_ipython()):\n",
    "        import os, sys\n",
    "        os.chdir('/content')\n",
    "        # Stažení knihovny\n",
    "        ! ls parlamentikon || git clone \"https://github.com/parlamentikon/parlamentikon.git\" --branch main\n",
    "        os.chdir('/content/parlamentikon/notebooks')"
   ]
  },
  {
   "cell_type": "code",
   "execution_count": 2,
   "metadata": {},
   "outputs": [
    {
     "name": "stdout",
     "output_type": "stream",
     "text": [
      "\u001b[33mWARNING: You are using pip version 21.0.1; however, version 21.1.1 is available.\n",
      "You should consider upgrading via the '/home/borjana/.venv/finance/bin/python -m pip install --upgrade pip' command.\u001b[0m\n"
     ]
    }
   ],
   "source": [
    "instalace_zavislosti = True\n",
    "if instalace_zavislosti:\n",
    "    ! pip install -r ../requirements.txt 1>/dev/null"
   ]
  },
  {
   "cell_type": "code",
   "execution_count": 3,
   "metadata": {},
   "outputs": [],
   "source": [
    "instalace_knihovny = False\n",
    "if instalace_knihovny:\n",
    "    ! pip install ..  1>/dev/null\n",
    "else:\n",
    "    # Přidání cesty pro lokální import knihovny\n",
    "    import sys, os\n",
    "    sys.path.insert(0, os.path.abspath('..'))"
   ]
  },
  {
   "cell_type": "markdown",
   "metadata": {},
   "source": [
    "## Import knihoven"
   ]
  },
  {
   "cell_type": "code",
   "execution_count": 4,
   "metadata": {},
   "outputs": [],
   "source": [
    "from datetime import datetime, timedelta\n",
    "\n",
    "import plotly.express as px\n",
    "import plotly.graph_objects as go\n",
    "\n",
    "import pandas as pd\n",
    "import numpy as np"
   ]
  },
  {
   "cell_type": "code",
   "execution_count": 5,
   "metadata": {},
   "outputs": [],
   "source": [
    "from parlamentikon.Hlasovani import Organy\n",
    "from parlamentikon.PoslanciOsoby import Poslanci\n",
    "from nastav_notebook import nastav_pandas, clean_layout, clean_layout_with_x_spikes, clean_layout_with_y_spikes, clean_layout_with_xy_spikes, categorical_scale1"
   ]
  },
  {
   "cell_type": "code",
   "execution_count": 6,
   "metadata": {},
   "outputs": [],
   "source": [
    "# nastavení výpisu, například zobrazení delších textů v sloupcích tabulek\n",
    "nastav_pandas()"
   ]
  },
  {
   "cell_type": "code",
   "execution_count": 7,
   "metadata": {},
   "outputs": [],
   "source": [
    "# formát výpisu data\n",
    "format_den = \"%d. %m. %Y\""
   ]
  },
  {
   "cell_type": "markdown",
   "metadata": {},
   "source": [
    "## Parametry"
   ]
  },
  {
   "cell_type": "code",
   "execution_count": 8,
   "metadata": {},
   "outputs": [],
   "source": [
    "# Data se budou pokaždé znovu stahovat z achivu PS\n",
    "stahni=True\n",
    "\n",
    "# Budeme analyzovat poslední volební období\n",
    "zvolene_volebni_obdobi = None"
   ]
  },
  {
   "cell_type": "markdown",
   "metadata": {},
   "source": [
    "## Načtení tabulek"
   ]
  },
  {
   "cell_type": "code",
   "execution_count": 9,
   "metadata": {},
   "outputs": [
    {
     "name": "stderr",
     "output_type": "stream",
     "text": [
      "2021-05-23:23:22:38 INFO     [utility.py:21] Stahuji 'https://www.psp.cz/eknih/cdrom/opendata/poslanci.zip'.\n",
      "2021-05-23:23:22:39 INFO     [utility.py:21] Stahuji 'https://www.psp.cz/eknih/cdrom/opendata/poslanci.zip'.\n",
      "2021-05-23:23:22:40 WARNING  [Snemovna.py:149] While merging 'funkce' with 'typ_funkce': Dropping ['typ_id_typ_organ__typ_funkce', 'nazev_typ_organ_cz__typ_funkce', 'nazev_typ_organ_en__typ_funkce', 'typ_organ_obecny__typ_funkce', 'id_typ_organ__typ_funkce'] because of abundance.\n",
      "2021-05-23:23:22:41 INFO     [utility.py:21] Stahuji 'https://www.psp.cz/eknih/cdrom/opendata/poslanci.zip'.\n",
      "2021-05-23:23:22:41 WARNING  [Snemovna.py:149] While merging 'funkce' with 'typ_funkce': Dropping ['typ_id_typ_organ__typ_funkce', 'nazev_typ_organ_cz__typ_funkce', 'nazev_typ_organ_en__typ_funkce', 'typ_organ_obecny__typ_funkce', 'id_typ_organ__typ_funkce'] because of abundance.\n",
      "2021-05-23:23:22:42 INFO     [utility.py:21] Stahuji 'https://www.psp.cz/eknih/cdrom/opendata/poslanci.zip'.\n",
      "2021-05-23:23:22:43 WARNING  [Snemovna.py:149] While merging 'funkce' with 'typ_funkce': Dropping ['typ_id_typ_organ__typ_funkce', 'nazev_typ_organ_cz__typ_funkce', 'nazev_typ_organ_en__typ_funkce', 'typ_organ_obecny__typ_funkce', 'id_typ_organ__typ_funkce'] because of abundance.\n",
      "2021-05-23:23:22:44 INFO     [utility.py:21] Stahuji 'https://www.psp.cz/eknih/cdrom/opendata/poslanci.zip'.\n",
      "2021-05-23:23:22:45 WARNING  [Snemovna.py:149] While merging 'funkce' with 'typ_funkce': Dropping ['typ_id_typ_organ__typ_funkce', 'nazev_typ_organ_cz__typ_funkce', 'nazev_typ_organ_en__typ_funkce', 'typ_organ_obecny__typ_funkce', 'id_typ_organ__typ_funkce'] because of abundance.\n",
      "2021-05-23:23:22:46 INFO     [utility.py:21] Stahuji 'https://www.psp.cz/eknih/cdrom/opendata/poslanci.zip'.\n",
      "2021-05-23:23:22:48 WARNING  [Snemovna.py:149] While merging 'funkce' with 'typ_funkce': Dropping ['typ_id_typ_organ__typ_funkce', 'nazev_typ_organ_cz__typ_funkce', 'nazev_typ_organ_en__typ_funkce', 'typ_organ_obecny__typ_funkce', 'id_typ_organ__typ_funkce'] because of abundance.\n",
      "2021-05-23:23:22:49 INFO     [utility.py:21] Stahuji 'https://www.psp.cz/eknih/cdrom/opendata/poslanci.zip'.\n",
      "2021-05-23:23:22:51 WARNING  [Snemovna.py:149] While merging 'funkce' with 'typ_funkce': Dropping ['typ_id_typ_organ__typ_funkce', 'nazev_typ_organ_cz__typ_funkce', 'nazev_typ_organ_en__typ_funkce', 'typ_organ_obecny__typ_funkce', 'id_typ_organ__typ_funkce'] because of abundance.\n",
      "2021-05-23:23:22:51 INFO     [utility.py:21] Stahuji 'https://www.psp.cz/eknih/cdrom/opendata/poslanci.zip'.\n",
      "2021-05-23:23:22:52 WARNING  [Snemovna.py:149] While merging 'funkce' with 'typ_funkce': Dropping ['typ_id_typ_organ__typ_funkce', 'nazev_typ_organ_cz__typ_funkce', 'nazev_typ_organ_en__typ_funkce', 'typ_organ_obecny__typ_funkce', 'id_typ_organ__typ_funkce'] because of abundance.\n",
      "2021-05-23:23:22:53 INFO     [utility.py:21] Stahuji 'https://www.psp.cz/eknih/cdrom/opendata/poslanci.zip'.\n",
      "2021-05-23:23:22:55 WARNING  [Snemovna.py:149] While merging 'funkce' with 'typ_funkce': Dropping ['typ_id_typ_organ__typ_funkce', 'nazev_typ_organ_cz__typ_funkce', 'nazev_typ_organ_en__typ_funkce', 'typ_organ_obecny__typ_funkce', 'id_typ_organ__typ_funkce'] because of abundance.\n"
     ]
    }
   ],
   "source": [
    "vsechny_organy = Organy(volebni_obdobi=-1)\n",
    "snemovny = vsechny_organy[vsechny_organy.nazev_typ_organ_cz == 'Parlament'].od_organ.dt.year.sort_values()\n",
    "\n",
    "poslanci = {}\n",
    "for i in snemovny:\n",
    "    poslanci[i] = Poslanci(volebni_obdobi=i)"
   ]
  },
  {
   "cell_type": "code",
   "execution_count": 10,
   "metadata": {},
   "outputs": [],
   "source": [
    "#df = pd.DataFrame()\n",
    "#for i in snemovny:\n",
    "#    pos = poslanci[i][poslanci[i].od_parlament.dt.date == poslanci[i].snemovna.od_organ.date()]\n",
    "#    pos_dle_pohlavi = pos.groupby('pohlavi').size().to_dict() #.reset_index(name='pocet').to_dict() #.set_name(i) #.set_name(i)#.rename(i)\n",
    "#    pos_dle_pohlavi['snemovna'] = i\n",
    "#    pos_dle_pohlavi['hovertemplate_zeny'] = f\"Sněmovna: {i}\" +'<br>Pohlaví: ženy<br>Počet: %{y}<extra></extra>'\n",
    "#    pos_dle_pohlavi['hovertemplate_muzi'] = f\"Sněmovna: {i}\" +'<br>Pohlaví: muži<br>Počet: %{y}<extra></extra>'\n",
    "#    df = df.append(pos_dle_pohlavi, ignore_index=True)\n",
    "#df['snemovna'] = df.snemovna.astype('category')\n",
    "#df = df.set_index('snemovna')\n",
    "\n",
    "\n",
    "#fig=go.Figure(data=[\n",
    "#    go.Bar(name='ženy', x=df.index, y=df['žena'], hovertemplate=df['hovertemplate_zeny']),\n",
    "#    go.Bar(name='muži', x=df.index, y=df['muž'], hovertemplate=df['hovertemplate_muzi'])\n",
    "#])\n",
    "#layout = go.Layout(\n",
    "#    title=\"Počty poslanců ve sněmovně dle pohlaví [na začátku volebního období]\",    \n",
    "#    plot_bgcolor=\"#FFFFFF\",\n",
    "#    #hovermode=\"x\",\n",
    "#    #hoverdistance=100, # Distance to show hover label of data point\n",
    "#    #spikedistance=1000, # Distance to show spike\n",
    "#    xaxis=dict(\n",
    "#        title=\"sněmovna\",\n",
    "#        linecolor=\"#BCCCDC\",\n",
    "#        type='category'\n",
    "#    ),\n",
    "#    yaxis=dict(\n",
    "#        title=\"počet\",\n",
    "#        linecolor=\"#BCCCDC\",\n",
    "#        showspikes=True,\n",
    "#        spikethickness=1,\n",
    "#        spikedash=\"dot\",\n",
    "#        spikecolor=\"#999999\",\n",
    "#        spikemode=\"across\",\n",
    "#    )\n",
    "#)\n",
    "\n",
    "#fig.update_layout(layout)\n",
    "\n",
    "#fig.update_layout(barmode='stack')\n",
    "#fig.show()"
   ]
  },
  {
   "cell_type": "code",
   "execution_count": 90,
   "metadata": {},
   "outputs": [],
   "source": [
    "def pohlavi_dle_snemovny(snemovna):\n",
    "    x = poslanci[snemovna]\n",
    "\n",
    "    zeny_od = x[x.pohlavi == 'žena'].groupby('od_parlament').size().to_frame('zeny_od').rename_axis(index={'od_parlament': 'datum'})\n",
    "    zeny_do = x[x.pohlavi == 'žena'].groupby('do_parlament', dropna=False).size().to_frame('zeny_do').rename_axis(index={'do_parlament': 'datum'})\n",
    "    #zeny_do.index = zeny_do.index.fillna(pd.to_datetime(\"now\"))\n",
    "    if snemovna < 2002:\n",
    "        zeny_do.index = zeny_do.index.shift(1, freq='D')\n",
    "\n",
    "    muzi_od = x[x.pohlavi == 'muž'].groupby('od_parlament').size().to_frame('muzi_od').rename_axis(index={'od_parlament': 'datum'})\n",
    "    muzi_do = x[x.pohlavi == 'muž'].groupby('do_parlament',  dropna=False).size().to_frame('muzi_do').rename_axis(index={'do_parlament': 'datum'})\n",
    "    #muzi_do.index = muzi_do.index.fillna(pd.to_datetime(\"now\"))\n",
    "    #print(muzi_do[muzi_do.muzi_do.isna()])\n",
    "    if snemovna < 2002:\n",
    "        muzi_do.index = muzi_do.index.shift(1, freq='D')\n",
    "\n",
    "    df = zeny_od.merge(muzi_od, how='outer', on='datum').merge(muzi_do, how='outer', on='datum').merge(zeny_do, how='outer', on='datum').sort_index()\n",
    "    df = df.fillna(0)\n",
    "    df['zeny_od'], df['zeny_do'] = df['zeny_od'].astype(int), df['zeny_do'].astype(int)\n",
    "    df['muzi_od'], df['muzi_do'] = df['muzi_od'].astype(int), df['muzi_do'].astype(int)\n",
    "\n",
    "    df['zeny_cnt'] = df['zeny_od'].cumsum() - df['zeny_do'].cumsum()\n",
    "    df['muzi_cnt'] = df['muzi_od'].cumsum() - df['muzi_do'].cumsum()\n",
    "    df['check_cnt'] = df['zeny_cnt'] + df['muzi_cnt']\n",
    "    \n",
    "    if (len(df) > 1) and (df.iloc[-1].check_cnt == 0):\n",
    "        df.iloc[-1, df.columns.get_loc('zeny_cnt')] = df.iloc[-2].zeny_cnt\n",
    "        df.iloc[-1, df.columns.get_loc('muzi_cnt')] = df.iloc[-2].muzi_cnt\n",
    "        df['check_cnt'] = df['zeny_cnt'] + df['muzi_cnt']\n",
    "\n",
    "    df['gender_ratio'] = 100 * df['zeny_cnt'] / (df['zeny_cnt'] + df['muzi_cnt'])\n",
    "\n",
    "    df['snemovna'] = snemovna\n",
    "    \n",
    "    if (len(df) > 1) and (pd.isna(df.index[-1])):\n",
    "        df.rename(index={pd.NaT: pd.to_datetime(\"now\").tz_localize('Europe/Prague')}, inplace=True)\n",
    "        df.iloc[-1, df.columns.get_loc('zeny_cnt')] = df.iloc[-2].zeny_cnt\n",
    "        df.iloc[-1, df.columns.get_loc('muzi_cnt')] = df.iloc[-2].muzi_cnt\n",
    "        df['check_cnt'] = df['zeny_cnt'] + df['muzi_cnt']\n",
    "\n",
    "    return df"
   ]
  },
  {
   "cell_type": "code",
   "execution_count": 91,
   "metadata": {},
   "outputs": [
    {
     "name": "stdout",
     "output_type": "stream",
     "text": [
      "-rw-rw-r-- 1 borjana borjana 7119 kvě 24 00:23 ../../docs/data/pohlavi_dle_snemovny.csv\n"
     ]
    },
    {
     "data": {
      "text/html": [
       "<div>\n",
       "<style scoped>\n",
       "    .dataframe tbody tr th:only-of-type {\n",
       "        vertical-align: middle;\n",
       "    }\n",
       "\n",
       "    .dataframe tbody tr th {\n",
       "        vertical-align: top;\n",
       "    }\n",
       "\n",
       "    .dataframe thead th {\n",
       "        text-align: right;\n",
       "    }\n",
       "</style>\n",
       "<table border=\"1\" class=\"dataframe\">\n",
       "  <thead>\n",
       "    <tr style=\"text-align: right;\">\n",
       "      <th></th>\n",
       "      <th>zeny_od</th>\n",
       "      <th>muzi_od</th>\n",
       "      <th>muzi_do</th>\n",
       "      <th>zeny_do</th>\n",
       "      <th>zeny_cnt</th>\n",
       "      <th>muzi_cnt</th>\n",
       "      <th>check_cnt</th>\n",
       "      <th>gender_ratio</th>\n",
       "      <th>snemovna</th>\n",
       "    </tr>\n",
       "    <tr>\n",
       "      <th>datum</th>\n",
       "      <th></th>\n",
       "      <th></th>\n",
       "      <th></th>\n",
       "      <th></th>\n",
       "      <th></th>\n",
       "      <th></th>\n",
       "      <th></th>\n",
       "      <th></th>\n",
       "      <th></th>\n",
       "    </tr>\n",
       "  </thead>\n",
       "  <tbody>\n",
       "    <tr>\n",
       "      <th>1992-06-06 00:00</th>\n",
       "      <td>20</td>\n",
       "      <td>180</td>\n",
       "      <td>0</td>\n",
       "      <td>0</td>\n",
       "      <td>20.0</td>\n",
       "      <td>180.0</td>\n",
       "      <td>200.0</td>\n",
       "      <td>10.000000</td>\n",
       "      <td>1992</td>\n",
       "    </tr>\n",
       "    <tr>\n",
       "      <th>1993-11-10 00:00</th>\n",
       "      <td>0</td>\n",
       "      <td>0</td>\n",
       "      <td>0</td>\n",
       "      <td>1</td>\n",
       "      <td>19.0</td>\n",
       "      <td>180.0</td>\n",
       "      <td>199.0</td>\n",
       "      <td>9.547739</td>\n",
       "      <td>1992</td>\n",
       "    </tr>\n",
       "    <tr>\n",
       "      <th>1993-11-11 00:00</th>\n",
       "      <td>0</td>\n",
       "      <td>1</td>\n",
       "      <td>0</td>\n",
       "      <td>0</td>\n",
       "      <td>19.0</td>\n",
       "      <td>181.0</td>\n",
       "      <td>200.0</td>\n",
       "      <td>9.500000</td>\n",
       "      <td>1992</td>\n",
       "    </tr>\n",
       "    <tr>\n",
       "      <th>1995-05-24 00:00</th>\n",
       "      <td>0</td>\n",
       "      <td>0</td>\n",
       "      <td>1</td>\n",
       "      <td>0</td>\n",
       "      <td>19.0</td>\n",
       "      <td>180.0</td>\n",
       "      <td>199.0</td>\n",
       "      <td>9.547739</td>\n",
       "      <td>1992</td>\n",
       "    </tr>\n",
       "    <tr>\n",
       "      <th>1995-05-25 00:00</th>\n",
       "      <td>0</td>\n",
       "      <td>1</td>\n",
       "      <td>0</td>\n",
       "      <td>0</td>\n",
       "      <td>19.0</td>\n",
       "      <td>181.0</td>\n",
       "      <td>200.0</td>\n",
       "      <td>9.500000</td>\n",
       "      <td>1992</td>\n",
       "    </tr>\n",
       "    <tr>\n",
       "      <th>...</th>\n",
       "      <td>...</td>\n",
       "      <td>...</td>\n",
       "      <td>...</td>\n",
       "      <td>...</td>\n",
       "      <td>...</td>\n",
       "      <td>...</td>\n",
       "      <td>...</td>\n",
       "      <td>...</td>\n",
       "      <td>...</td>\n",
       "    </tr>\n",
       "    <tr>\n",
       "      <th>2021-01-26 14:00</th>\n",
       "      <td>0</td>\n",
       "      <td>1</td>\n",
       "      <td>0</td>\n",
       "      <td>0</td>\n",
       "      <td>46.0</td>\n",
       "      <td>154.0</td>\n",
       "      <td>200.0</td>\n",
       "      <td>23.000000</td>\n",
       "      <td>2017</td>\n",
       "    </tr>\n",
       "    <tr>\n",
       "      <th>2021-03-01 00:00</th>\n",
       "      <td>0</td>\n",
       "      <td>1</td>\n",
       "      <td>0</td>\n",
       "      <td>1</td>\n",
       "      <td>45.0</td>\n",
       "      <td>155.0</td>\n",
       "      <td>200.0</td>\n",
       "      <td>22.500000</td>\n",
       "      <td>2017</td>\n",
       "    </tr>\n",
       "    <tr>\n",
       "      <th>2021-03-09 18:00</th>\n",
       "      <td>0</td>\n",
       "      <td>1</td>\n",
       "      <td>0</td>\n",
       "      <td>0</td>\n",
       "      <td>45.0</td>\n",
       "      <td>156.0</td>\n",
       "      <td>201.0</td>\n",
       "      <td>22.388060</td>\n",
       "      <td>2017</td>\n",
       "    </tr>\n",
       "    <tr>\n",
       "      <th>2021-03-09 19:00</th>\n",
       "      <td>0</td>\n",
       "      <td>0</td>\n",
       "      <td>1</td>\n",
       "      <td>0</td>\n",
       "      <td>45.0</td>\n",
       "      <td>155.0</td>\n",
       "      <td>200.0</td>\n",
       "      <td>22.500000</td>\n",
       "      <td>2017</td>\n",
       "    </tr>\n",
       "    <tr>\n",
       "      <th>2021-05-23 22:23</th>\n",
       "      <td>0</td>\n",
       "      <td>0</td>\n",
       "      <td>155</td>\n",
       "      <td>45</td>\n",
       "      <td>45.0</td>\n",
       "      <td>155.0</td>\n",
       "      <td>200.0</td>\n",
       "      <td>22.500000</td>\n",
       "      <td>2017</td>\n",
       "    </tr>\n",
       "  </tbody>\n",
       "</table>\n",
       "<p>132 rows × 9 columns</p>\n",
       "</div>"
      ],
      "text/plain": [
       "                  zeny_od  muzi_od  muzi_do  zeny_do  zeny_cnt  muzi_cnt  \\\n",
       "datum                                                                      \n",
       "1992-06-06 00:00       20      180        0        0      20.0     180.0   \n",
       "1993-11-10 00:00        0        0        0        1      19.0     180.0   \n",
       "1993-11-11 00:00        0        1        0        0      19.0     181.0   \n",
       "1995-05-24 00:00        0        0        1        0      19.0     180.0   \n",
       "1995-05-25 00:00        0        1        0        0      19.0     181.0   \n",
       "...                   ...      ...      ...      ...       ...       ...   \n",
       "2021-01-26 14:00        0        1        0        0      46.0     154.0   \n",
       "2021-03-01 00:00        0        1        0        1      45.0     155.0   \n",
       "2021-03-09 18:00        0        1        0        0      45.0     156.0   \n",
       "2021-03-09 19:00        0        0        1        0      45.0     155.0   \n",
       "2021-05-23 22:23        0        0      155       45      45.0     155.0   \n",
       "\n",
       "                  check_cnt  gender_ratio  snemovna  \n",
       "datum                                                \n",
       "1992-06-06 00:00      200.0     10.000000      1992  \n",
       "1993-11-10 00:00      199.0      9.547739      1992  \n",
       "1993-11-11 00:00      200.0      9.500000      1992  \n",
       "1995-05-24 00:00      199.0      9.547739      1992  \n",
       "1995-05-25 00:00      200.0      9.500000      1992  \n",
       "...                     ...           ...       ...  \n",
       "2021-01-26 14:00      200.0     23.000000      2017  \n",
       "2021-03-01 00:00      200.0     22.500000      2017  \n",
       "2021-03-09 18:00      201.0     22.388060      2017  \n",
       "2021-03-09 19:00      200.0     22.500000      2017  \n",
       "2021-05-23 22:23      200.0     22.500000      2017  \n",
       "\n",
       "[132 rows x 9 columns]"
      ]
     },
     "execution_count": 91,
     "metadata": {},
     "output_type": "execute_result"
    }
   ],
   "source": [
    "podily = []\n",
    "for snemovna in snemovny:\n",
    "    podily.append(pohlavi_dle_snemovny(snemovna))\n",
    "\n",
    "podily_df = pd.concat(podily, join='outer')\n",
    "podily_df.index = podily_df.index.strftime(\"%Y-%m-%d %H:%M\")\n",
    "\n",
    "! mkdir -p \"../docs/data\"\n",
    "export_path = \"../docs/data/pohlavi_dle_snemovny.csv\"\n",
    "podily_df.to_csv(export_path)\n",
    "! ls -l {export_path}\n",
    "\n",
    "podily_df"
   ]
  },
  {
   "cell_type": "code",
   "execution_count": 92,
   "metadata": {},
   "outputs": [
    {
     "data": {
      "application/vnd.plotly.v1+json": {
       "config": {
        "plotlyServerURL": "https://plot.ly"
       },
       "data": [
        {
         "hoverinfo": "text",
         "hovertemplate": "Sněmovna: 1992<br>Datum: %{x|%d. %m. %Y}<br>Pohlaví: ženy<br>Počet: %{y}<extra></extra>",
         "mode": "markers+lines",
         "name": "ženy (1992)",
         "stackgroup": "1992",
         "type": "scatter",
         "x": [
          "1992-06-06T00:00:00+02:00",
          "1993-11-10T00:00:00+01:00",
          "1993-11-11T00:00:00+01:00",
          "1995-05-24T00:00:00+02:00",
          "1995-05-25T00:00:00+02:00",
          "1996-04-30T00:00:00+02:00",
          "1996-05-07T00:00:00+02:00",
          "1996-06-07T00:00:00+02:00"
         ],
         "y": [
          20,
          19,
          19,
          19,
          19,
          19,
          20,
          20
         ]
        },
        {
         "hoverinfo": "text",
         "hovertemplate": "Sněmovna: 1992<br>Datum: %{x|%d. %m. %Y}<br>Pohlaví: muži<br>Počet: %{y}<extra></extra>",
         "mode": "markers+lines",
         "name": "muži (1992)",
         "stackgroup": "1992",
         "type": "scatter",
         "x": [
          "1992-06-06T00:00:00+02:00",
          "1993-11-10T00:00:00+01:00",
          "1993-11-11T00:00:00+01:00",
          "1995-05-24T00:00:00+02:00",
          "1995-05-25T00:00:00+02:00",
          "1996-04-30T00:00:00+02:00",
          "1996-05-07T00:00:00+02:00",
          "1996-06-07T00:00:00+02:00"
         ],
         "y": [
          180,
          180,
          181,
          180,
          181,
          181,
          180,
          180
         ]
        },
        {
         "hoverinfo": "text",
         "hovertemplate": "Sněmovna: 1996<br>Datum: %{x|%d. %m. %Y}<br>Pohlaví: ženy<br>Počet: %{y}<extra></extra>",
         "mode": "markers+lines",
         "name": "ženy (1996)",
         "stackgroup": "1996",
         "type": "scatter",
         "x": [
          "1996-06-01T00:00:00+02:00",
          "1996-11-02T00:00:00+01:00",
          "1996-12-18T00:00:00+01:00",
          "1997-01-17T00:00:00+01:00",
          "1997-06-03T00:00:00+02:00",
          "1997-06-12T00:00:00+02:00",
          "1997-08-28T00:00:00+02:00",
          "1997-08-30T00:00:00+02:00",
          "1997-11-12T00:00:00+01:00",
          "1997-12-02T00:00:00+01:00",
          "1997-12-03T00:00:00+01:00",
          "1998-01-27T00:00:00+01:00",
          "1998-02-13T00:00:00+01:00",
          "1998-02-26T00:00:00+01:00",
          "1998-06-20T00:00:00+02:00"
         ],
         "y": [
          30,
          30,
          29,
          29,
          29,
          29,
          29,
          29,
          29,
          30,
          30,
          30,
          30,
          30,
          30
         ]
        },
        {
         "hoverinfo": "text",
         "hovertemplate": "Sněmovna: 1996<br>Datum: %{x|%d. %m. %Y}<br>Pohlaví: muži<br>Počet: %{y}<extra></extra>",
         "mode": "markers+lines",
         "name": "muži (1996)",
         "stackgroup": "1996",
         "type": "scatter",
         "x": [
          "1996-06-01T00:00:00+02:00",
          "1996-11-02T00:00:00+01:00",
          "1996-12-18T00:00:00+01:00",
          "1997-01-17T00:00:00+01:00",
          "1997-06-03T00:00:00+02:00",
          "1997-06-12T00:00:00+02:00",
          "1997-08-28T00:00:00+02:00",
          "1997-08-30T00:00:00+02:00",
          "1997-11-12T00:00:00+01:00",
          "1997-12-02T00:00:00+01:00",
          "1997-12-03T00:00:00+01:00",
          "1998-01-27T00:00:00+01:00",
          "1998-02-13T00:00:00+01:00",
          "1998-02-26T00:00:00+01:00",
          "1998-06-20T00:00:00+02:00"
         ],
         "y": [
          170,
          170,
          171,
          171,
          171,
          171,
          171,
          171,
          171,
          170,
          170,
          170,
          170,
          170,
          170
         ]
        },
        {
         "hoverinfo": "text",
         "hovertemplate": "Sněmovna: 1998<br>Datum: %{x|%d. %m. %Y}<br>Pohlaví: ženy<br>Počet: %{y}<extra></extra>",
         "mode": "markers+lines",
         "name": "ženy (1998)",
         "stackgroup": "1998",
         "type": "scatter",
         "x": [
          "1998-06-20T00:00:00+02:00",
          "1999-11-22T00:00:00+01:00",
          "1999-11-23T00:00:00+01:00",
          "2000-09-14T11:00:00+02:00",
          "2000-09-15T10:00:00+02:00",
          "2001-03-01T00:00:00+01:00",
          "2001-03-01T18:00:00+01:00",
          "2001-07-31T12:00:00+02:00",
          "2001-08-01T12:00:00+02:00",
          "2001-10-31T16:00:00+01:00",
          "2001-11-01T13:00:00+01:00",
          "2002-06-21T00:00:00+02:00"
         ],
         "y": [
          30,
          30,
          30,
          31,
          31,
          32,
          32,
          32,
          32,
          32,
          32,
          32
         ]
        },
        {
         "hoverinfo": "text",
         "hovertemplate": "Sněmovna: 1998<br>Datum: %{x|%d. %m. %Y}<br>Pohlaví: muži<br>Počet: %{y}<extra></extra>",
         "mode": "markers+lines",
         "name": "muži (1998)",
         "stackgroup": "1998",
         "type": "scatter",
         "x": [
          "1998-06-20T00:00:00+02:00",
          "1999-11-22T00:00:00+01:00",
          "1999-11-23T00:00:00+01:00",
          "2000-09-14T11:00:00+02:00",
          "2000-09-15T10:00:00+02:00",
          "2001-03-01T00:00:00+01:00",
          "2001-03-01T18:00:00+01:00",
          "2001-07-31T12:00:00+02:00",
          "2001-08-01T12:00:00+02:00",
          "2001-10-31T16:00:00+01:00",
          "2001-11-01T13:00:00+01:00",
          "2002-06-21T00:00:00+02:00"
         ],
         "y": [
          170,
          171,
          170,
          170,
          169,
          170,
          168,
          169,
          168,
          169,
          168,
          168
         ]
        },
        {
         "hoverinfo": "text",
         "hovertemplate": "Sněmovna: 2002<br>Datum: %{x|%d. %m. %Y}<br>Pohlaví: ženy<br>Počet: %{y}<extra></extra>",
         "mode": "markers+lines",
         "name": "ženy (2002)",
         "stackgroup": "2002",
         "type": "scatter",
         "x": [
          "2002-06-15T14:00:00+02:00",
          "2002-09-18T00:00:00+02:00",
          "2003-03-07T14:00:00+01:00",
          "2003-04-23T00:00:00+02:00",
          "2003-06-02T12:00:00+02:00",
          "2003-06-06T12:00:00+02:00",
          "2003-07-26T00:00:00+02:00",
          "2003-09-23T00:00:00+02:00",
          "2004-05-05T12:00:00+02:00",
          "2004-07-08T00:00:00+02:00",
          "2004-07-20T00:00:00+02:00",
          "2004-08-31T00:00:00+02:00",
          "2004-09-21T00:00:00+02:00",
          "2004-09-22T00:00:00+02:00",
          "2004-09-24T00:00:00+02:00",
          "2004-09-30T00:00:00+02:00",
          "2004-10-07T00:00:00+02:00",
          "2005-06-09T00:00:00+02:00",
          "2005-07-24T09:00:00+02:00",
          "2005-12-02T00:00:00+01:00",
          "2005-12-09T00:00:00+01:00",
          "2006-01-17T00:00:00+01:00",
          "2006-01-20T00:00:00+01:00",
          "2006-01-24T00:00:00+01:00",
          "2006-02-28T00:00:00+01:00",
          "2006-04-18T00:00:00+02:00",
          "2006-06-15T13:00:00+02:00"
         ],
         "y": [
          34,
          34,
          34,
          34,
          34,
          34,
          34,
          33,
          33,
          33,
          33,
          33,
          33,
          33,
          32,
          32,
          32,
          31,
          32,
          32,
          31,
          31,
          32,
          32,
          32,
          33,
          33
         ]
        },
        {
         "hoverinfo": "text",
         "hovertemplate": "Sněmovna: 2002<br>Datum: %{x|%d. %m. %Y}<br>Pohlaví: muži<br>Počet: %{y}<extra></extra>",
         "mode": "markers+lines",
         "name": "muži (2002)",
         "stackgroup": "2002",
         "type": "scatter",
         "x": [
          "2002-06-15T14:00:00+02:00",
          "2002-09-18T00:00:00+02:00",
          "2003-03-07T14:00:00+01:00",
          "2003-04-23T00:00:00+02:00",
          "2003-06-02T12:00:00+02:00",
          "2003-06-06T12:00:00+02:00",
          "2003-07-26T00:00:00+02:00",
          "2003-09-23T00:00:00+02:00",
          "2004-05-05T12:00:00+02:00",
          "2004-07-08T00:00:00+02:00",
          "2004-07-20T00:00:00+02:00",
          "2004-08-31T00:00:00+02:00",
          "2004-09-21T00:00:00+02:00",
          "2004-09-22T00:00:00+02:00",
          "2004-09-24T00:00:00+02:00",
          "2004-09-30T00:00:00+02:00",
          "2004-10-07T00:00:00+02:00",
          "2005-06-09T00:00:00+02:00",
          "2005-07-24T09:00:00+02:00",
          "2005-12-02T00:00:00+01:00",
          "2005-12-09T00:00:00+01:00",
          "2006-01-17T00:00:00+01:00",
          "2006-01-20T00:00:00+01:00",
          "2006-01-24T00:00:00+01:00",
          "2006-02-28T00:00:00+01:00",
          "2006-04-18T00:00:00+02:00",
          "2006-06-15T13:00:00+02:00"
         ],
         "y": [
          166,
          166,
          166,
          166,
          166,
          166,
          166,
          167,
          167,
          167,
          167,
          167,
          167,
          167,
          168,
          168,
          168,
          169,
          168,
          168,
          169,
          169,
          168,
          168,
          168,
          167,
          167
         ]
        },
        {
         "hoverinfo": "text",
         "hovertemplate": "Sněmovna: 2006<br>Datum: %{x|%d. %m. %Y}<br>Pohlaví: ženy<br>Počet: %{y}<extra></extra>",
         "mode": "markers+lines",
         "name": "ženy (2006)",
         "stackgroup": "2006",
         "type": "scatter",
         "x": [
          "2006-06-03T14:00:00+02:00",
          "2007-01-16T00:00:00+01:00",
          "2008-09-17T00:00:00+02:00",
          "2008-10-25T14:00:00+02:00",
          "2008-11-13T11:00:00+01:00",
          "2008-12-11T00:00:00+01:00",
          "2009-03-01T00:00:00+01:00",
          "2009-04-30T23:00:00+02:00",
          "2009-07-03T00:00:00+02:00",
          "2009-07-09T00:00:00+02:00",
          "2009-07-13T00:00:00+02:00",
          "2009-09-15T15:00:00+02:00",
          "2009-09-29T12:00:00+02:00",
          "2009-12-11T13:00:00+01:00",
          "2010-03-01T00:00:00+01:00",
          "2010-04-30T00:00:00+02:00",
          "2010-04-30T13:00:00+02:00",
          "2010-05-26T14:00:00+02:00",
          "2010-06-03T14:00:00+02:00"
         ],
         "y": [
          31,
          31,
          31,
          31,
          32,
          33,
          35,
          35,
          34,
          34,
          35,
          36,
          36,
          36,
          36,
          37,
          38,
          37,
          37
         ]
        },
        {
         "hoverinfo": "text",
         "hovertemplate": "Sněmovna: 2006<br>Datum: %{x|%d. %m. %Y}<br>Pohlaví: muži<br>Počet: %{y}<extra></extra>",
         "mode": "markers+lines",
         "name": "muži (2006)",
         "stackgroup": "2006",
         "type": "scatter",
         "x": [
          "2006-06-03T14:00:00+02:00",
          "2007-01-16T00:00:00+01:00",
          "2008-09-17T00:00:00+02:00",
          "2008-10-25T14:00:00+02:00",
          "2008-11-13T11:00:00+01:00",
          "2008-12-11T00:00:00+01:00",
          "2009-03-01T00:00:00+01:00",
          "2009-04-30T23:00:00+02:00",
          "2009-07-03T00:00:00+02:00",
          "2009-07-09T00:00:00+02:00",
          "2009-07-13T00:00:00+02:00",
          "2009-09-15T15:00:00+02:00",
          "2009-09-29T12:00:00+02:00",
          "2009-12-11T13:00:00+01:00",
          "2010-03-01T00:00:00+01:00",
          "2010-04-30T00:00:00+02:00",
          "2010-04-30T13:00:00+02:00",
          "2010-05-26T14:00:00+02:00",
          "2010-06-03T14:00:00+02:00"
         ],
         "y": [
          169,
          169,
          169,
          169,
          168,
          167,
          165,
          165,
          166,
          166,
          165,
          164,
          164,
          164,
          164,
          163,
          162,
          163,
          163
         ]
        },
        {
         "hoverinfo": "text",
         "hovertemplate": "Sněmovna: 2010<br>Datum: %{x|%d. %m. %Y}<br>Pohlaví: ženy<br>Počet: %{y}<extra></extra>",
         "mode": "markers+lines",
         "name": "ženy (2010)",
         "stackgroup": "2010",
         "type": "scatter",
         "x": [
          "2010-05-29T14:00:00+02:00",
          "2010-10-23T14:00:00+02:00",
          "2010-11-30T14:00:00+01:00",
          "2011-03-01T00:00:00+01:00",
          "2011-03-25T13:00:00+01:00",
          "2011-03-26T14:00:00+01:00",
          "2012-02-07T00:00:00+01:00",
          "2012-10-20T14:00:00+02:00",
          "2012-11-07T10:00:00+01:00",
          "2013-01-31T00:00:00+01:00",
          "2013-04-05T12:00:00+02:00",
          "2013-04-11T15:00:00+02:00",
          "2013-04-24T12:00:00+02:00",
          "2013-06-14T14:00:00+02:00",
          "2013-08-28T00:00:00+02:00"
         ],
         "y": [
          44,
          45,
          44,
          44,
          44,
          44,
          44,
          43,
          43,
          43,
          44,
          43,
          43,
          43,
          43
         ]
        },
        {
         "hoverinfo": "text",
         "hovertemplate": "Sněmovna: 2010<br>Datum: %{x|%d. %m. %Y}<br>Pohlaví: muži<br>Počet: %{y}<extra></extra>",
         "mode": "markers+lines",
         "name": "muži (2010)",
         "stackgroup": "2010",
         "type": "scatter",
         "x": [
          "2010-05-29T14:00:00+02:00",
          "2010-10-23T14:00:00+02:00",
          "2010-11-30T14:00:00+01:00",
          "2011-03-01T00:00:00+01:00",
          "2011-03-25T13:00:00+01:00",
          "2011-03-26T14:00:00+01:00",
          "2012-02-07T00:00:00+01:00",
          "2012-10-20T14:00:00+02:00",
          "2012-11-07T10:00:00+01:00",
          "2013-01-31T00:00:00+01:00",
          "2013-04-05T12:00:00+02:00",
          "2013-04-11T15:00:00+02:00",
          "2013-04-24T12:00:00+02:00",
          "2013-06-14T14:00:00+02:00",
          "2013-08-28T00:00:00+02:00"
         ],
         "y": [
          156,
          155,
          156,
          156,
          156,
          156,
          156,
          157,
          157,
          157,
          156,
          157,
          157,
          157,
          157
         ]
        },
        {
         "hoverinfo": "text",
         "hovertemplate": "Sněmovna: 2013<br>Datum: %{x|%d. %m. %Y}<br>Pohlaví: ženy<br>Počet: %{y}<extra></extra>",
         "mode": "markers+lines",
         "name": "ženy (2013)",
         "stackgroup": "2013",
         "type": "scatter",
         "x": [
          "2013-10-26T14:00:00+02:00",
          "2013-11-27T12:00:00+01:00",
          "2013-12-03T10:00:00+01:00",
          "2014-03-31T00:00:00+02:00",
          "2014-04-30T23:00:00+02:00",
          "2014-06-20T17:00:00+02:00",
          "2014-07-01T00:00:00+02:00",
          "2014-08-28T00:00:00+02:00",
          "2014-10-21T15:00:00+02:00",
          "2014-12-08T00:00:00+01:00",
          "2016-01-14T00:00:00+01:00",
          "2017-01-03T12:00:00+01:00",
          "2017-03-14T09:00:00+01:00",
          "2017-06-09T00:00:00+02:00",
          "2017-07-01T00:00:00+02:00",
          "2017-10-26T23:00:00+02:00"
         ],
         "y": [
          39,
          39,
          39,
          40,
          40,
          40,
          39,
          39,
          39,
          40,
          41,
          40,
          40,
          40,
          41,
          41
         ]
        },
        {
         "hoverinfo": "text",
         "hovertemplate": "Sněmovna: 2013<br>Datum: %{x|%d. %m. %Y}<br>Pohlaví: muži<br>Počet: %{y}<extra></extra>",
         "mode": "markers+lines",
         "name": "muži (2013)",
         "stackgroup": "2013",
         "type": "scatter",
         "x": [
          "2013-10-26T14:00:00+02:00",
          "2013-11-27T12:00:00+01:00",
          "2013-12-03T10:00:00+01:00",
          "2014-03-31T00:00:00+02:00",
          "2014-04-30T23:00:00+02:00",
          "2014-06-20T17:00:00+02:00",
          "2014-07-01T00:00:00+02:00",
          "2014-08-28T00:00:00+02:00",
          "2014-10-21T15:00:00+02:00",
          "2014-12-08T00:00:00+01:00",
          "2016-01-14T00:00:00+01:00",
          "2017-01-03T12:00:00+01:00",
          "2017-03-14T09:00:00+01:00",
          "2017-06-09T00:00:00+02:00",
          "2017-07-01T00:00:00+02:00",
          "2017-10-26T23:00:00+02:00"
         ],
         "y": [
          161,
          161,
          161,
          160,
          160,
          160,
          161,
          161,
          161,
          160,
          159,
          160,
          160,
          160,
          159,
          159
         ]
        },
        {
         "hoverinfo": "text",
         "hovertemplate": "Sněmovna: 2017<br>Datum: %{x|%d. %m. %Y}<br>Pohlaví: ženy<br>Počet: %{y}<extra></extra>",
         "mode": "markers+lines",
         "name": "ženy (2017)",
         "stackgroup": "2017",
         "type": "scatter",
         "x": [
          "2017-10-21T14:00:00+02:00",
          "2017-11-24T15:00:00+01:00",
          "2018-03-31T00:00:00+02:00",
          "2018-06-19T12:00:00+02:00",
          "2018-10-01T10:00:00+02:00",
          "2018-12-04T16:00:00+01:00",
          "2019-04-14T00:00:00+02:00",
          "2019-04-15T00:00:00+02:00",
          "2019-06-06T13:00:00+02:00",
          "2019-07-02T00:00:00+02:00",
          "2020-07-31T00:00:00+02:00",
          "2020-10-10T14:00:00+02:00",
          "2020-12-31T12:00:00+01:00",
          "2021-01-19T14:00:00+01:00",
          "2021-01-26T00:00:00+01:00",
          "2021-01-26T14:00:00+01:00",
          "2021-03-01T00:00:00+01:00",
          "2021-03-09T18:00:00+01:00",
          "2021-03-09T19:00:00+01:00",
          "2021-05-23T22:24:01.442667+02:00"
         ],
         "y": [
          44,
          44,
          44,
          45,
          45,
          46,
          46,
          47,
          47,
          45,
          46,
          45,
          46,
          46,
          46,
          46,
          45,
          45,
          45,
          45
         ]
        },
        {
         "hoverinfo": "text",
         "hovertemplate": "Sněmovna: 2017<br>Datum: %{x|%d. %m. %Y}<br>Pohlaví: muži<br>Počet: %{y}<extra></extra>",
         "mode": "markers+lines",
         "name": "muži (2017)",
         "stackgroup": "2017",
         "type": "scatter",
         "x": [
          "2017-10-21T14:00:00+02:00",
          "2017-11-24T15:00:00+01:00",
          "2018-03-31T00:00:00+02:00",
          "2018-06-19T12:00:00+02:00",
          "2018-10-01T10:00:00+02:00",
          "2018-12-04T16:00:00+01:00",
          "2019-04-14T00:00:00+02:00",
          "2019-04-15T00:00:00+02:00",
          "2019-06-06T13:00:00+02:00",
          "2019-07-02T00:00:00+02:00",
          "2020-07-31T00:00:00+02:00",
          "2020-10-10T14:00:00+02:00",
          "2020-12-31T12:00:00+01:00",
          "2021-01-19T14:00:00+01:00",
          "2021-01-26T00:00:00+01:00",
          "2021-01-26T14:00:00+01:00",
          "2021-03-01T00:00:00+01:00",
          "2021-03-09T18:00:00+01:00",
          "2021-03-09T19:00:00+01:00",
          "2021-05-23T22:24:01.442667+02:00"
         ],
         "y": [
          156,
          156,
          156,
          155,
          155,
          154,
          154,
          153,
          153,
          155,
          154,
          155,
          154,
          154,
          153,
          154,
          155,
          156,
          155,
          155
         ]
        }
       ],
       "layout": {
        "autosize": true,
        "hovermode": "x",
        "plot_bgcolor": "#FFFFFF",
        "showlegend": false,
        "template": {
         "data": {
          "bar": [
           {
            "error_x": {
             "color": "#2a3f5f"
            },
            "error_y": {
             "color": "#2a3f5f"
            },
            "marker": {
             "line": {
              "color": "#E5ECF6",
              "width": 0.5
             }
            },
            "type": "bar"
           }
          ],
          "barpolar": [
           {
            "marker": {
             "line": {
              "color": "#E5ECF6",
              "width": 0.5
             }
            },
            "type": "barpolar"
           }
          ],
          "carpet": [
           {
            "aaxis": {
             "endlinecolor": "#2a3f5f",
             "gridcolor": "white",
             "linecolor": "white",
             "minorgridcolor": "white",
             "startlinecolor": "#2a3f5f"
            },
            "baxis": {
             "endlinecolor": "#2a3f5f",
             "gridcolor": "white",
             "linecolor": "white",
             "minorgridcolor": "white",
             "startlinecolor": "#2a3f5f"
            },
            "type": "carpet"
           }
          ],
          "choropleth": [
           {
            "colorbar": {
             "outlinewidth": 0,
             "ticks": ""
            },
            "type": "choropleth"
           }
          ],
          "contour": [
           {
            "colorbar": {
             "outlinewidth": 0,
             "ticks": ""
            },
            "colorscale": [
             [
              0,
              "#0d0887"
             ],
             [
              0.1111111111111111,
              "#46039f"
             ],
             [
              0.2222222222222222,
              "#7201a8"
             ],
             [
              0.3333333333333333,
              "#9c179e"
             ],
             [
              0.4444444444444444,
              "#bd3786"
             ],
             [
              0.5555555555555556,
              "#d8576b"
             ],
             [
              0.6666666666666666,
              "#ed7953"
             ],
             [
              0.7777777777777778,
              "#fb9f3a"
             ],
             [
              0.8888888888888888,
              "#fdca26"
             ],
             [
              1,
              "#f0f921"
             ]
            ],
            "type": "contour"
           }
          ],
          "contourcarpet": [
           {
            "colorbar": {
             "outlinewidth": 0,
             "ticks": ""
            },
            "type": "contourcarpet"
           }
          ],
          "heatmap": [
           {
            "colorbar": {
             "outlinewidth": 0,
             "ticks": ""
            },
            "colorscale": [
             [
              0,
              "#0d0887"
             ],
             [
              0.1111111111111111,
              "#46039f"
             ],
             [
              0.2222222222222222,
              "#7201a8"
             ],
             [
              0.3333333333333333,
              "#9c179e"
             ],
             [
              0.4444444444444444,
              "#bd3786"
             ],
             [
              0.5555555555555556,
              "#d8576b"
             ],
             [
              0.6666666666666666,
              "#ed7953"
             ],
             [
              0.7777777777777778,
              "#fb9f3a"
             ],
             [
              0.8888888888888888,
              "#fdca26"
             ],
             [
              1,
              "#f0f921"
             ]
            ],
            "type": "heatmap"
           }
          ],
          "heatmapgl": [
           {
            "colorbar": {
             "outlinewidth": 0,
             "ticks": ""
            },
            "colorscale": [
             [
              0,
              "#0d0887"
             ],
             [
              0.1111111111111111,
              "#46039f"
             ],
             [
              0.2222222222222222,
              "#7201a8"
             ],
             [
              0.3333333333333333,
              "#9c179e"
             ],
             [
              0.4444444444444444,
              "#bd3786"
             ],
             [
              0.5555555555555556,
              "#d8576b"
             ],
             [
              0.6666666666666666,
              "#ed7953"
             ],
             [
              0.7777777777777778,
              "#fb9f3a"
             ],
             [
              0.8888888888888888,
              "#fdca26"
             ],
             [
              1,
              "#f0f921"
             ]
            ],
            "type": "heatmapgl"
           }
          ],
          "histogram": [
           {
            "marker": {
             "colorbar": {
              "outlinewidth": 0,
              "ticks": ""
             }
            },
            "type": "histogram"
           }
          ],
          "histogram2d": [
           {
            "colorbar": {
             "outlinewidth": 0,
             "ticks": ""
            },
            "colorscale": [
             [
              0,
              "#0d0887"
             ],
             [
              0.1111111111111111,
              "#46039f"
             ],
             [
              0.2222222222222222,
              "#7201a8"
             ],
             [
              0.3333333333333333,
              "#9c179e"
             ],
             [
              0.4444444444444444,
              "#bd3786"
             ],
             [
              0.5555555555555556,
              "#d8576b"
             ],
             [
              0.6666666666666666,
              "#ed7953"
             ],
             [
              0.7777777777777778,
              "#fb9f3a"
             ],
             [
              0.8888888888888888,
              "#fdca26"
             ],
             [
              1,
              "#f0f921"
             ]
            ],
            "type": "histogram2d"
           }
          ],
          "histogram2dcontour": [
           {
            "colorbar": {
             "outlinewidth": 0,
             "ticks": ""
            },
            "colorscale": [
             [
              0,
              "#0d0887"
             ],
             [
              0.1111111111111111,
              "#46039f"
             ],
             [
              0.2222222222222222,
              "#7201a8"
             ],
             [
              0.3333333333333333,
              "#9c179e"
             ],
             [
              0.4444444444444444,
              "#bd3786"
             ],
             [
              0.5555555555555556,
              "#d8576b"
             ],
             [
              0.6666666666666666,
              "#ed7953"
             ],
             [
              0.7777777777777778,
              "#fb9f3a"
             ],
             [
              0.8888888888888888,
              "#fdca26"
             ],
             [
              1,
              "#f0f921"
             ]
            ],
            "type": "histogram2dcontour"
           }
          ],
          "mesh3d": [
           {
            "colorbar": {
             "outlinewidth": 0,
             "ticks": ""
            },
            "type": "mesh3d"
           }
          ],
          "parcoords": [
           {
            "line": {
             "colorbar": {
              "outlinewidth": 0,
              "ticks": ""
             }
            },
            "type": "parcoords"
           }
          ],
          "pie": [
           {
            "automargin": true,
            "type": "pie"
           }
          ],
          "scatter": [
           {
            "marker": {
             "colorbar": {
              "outlinewidth": 0,
              "ticks": ""
             }
            },
            "type": "scatter"
           }
          ],
          "scatter3d": [
           {
            "line": {
             "colorbar": {
              "outlinewidth": 0,
              "ticks": ""
             }
            },
            "marker": {
             "colorbar": {
              "outlinewidth": 0,
              "ticks": ""
             }
            },
            "type": "scatter3d"
           }
          ],
          "scattercarpet": [
           {
            "marker": {
             "colorbar": {
              "outlinewidth": 0,
              "ticks": ""
             }
            },
            "type": "scattercarpet"
           }
          ],
          "scattergeo": [
           {
            "marker": {
             "colorbar": {
              "outlinewidth": 0,
              "ticks": ""
             }
            },
            "type": "scattergeo"
           }
          ],
          "scattergl": [
           {
            "marker": {
             "colorbar": {
              "outlinewidth": 0,
              "ticks": ""
             }
            },
            "type": "scattergl"
           }
          ],
          "scattermapbox": [
           {
            "marker": {
             "colorbar": {
              "outlinewidth": 0,
              "ticks": ""
             }
            },
            "type": "scattermapbox"
           }
          ],
          "scatterpolar": [
           {
            "marker": {
             "colorbar": {
              "outlinewidth": 0,
              "ticks": ""
             }
            },
            "type": "scatterpolar"
           }
          ],
          "scatterpolargl": [
           {
            "marker": {
             "colorbar": {
              "outlinewidth": 0,
              "ticks": ""
             }
            },
            "type": "scatterpolargl"
           }
          ],
          "scatterternary": [
           {
            "marker": {
             "colorbar": {
              "outlinewidth": 0,
              "ticks": ""
             }
            },
            "type": "scatterternary"
           }
          ],
          "surface": [
           {
            "colorbar": {
             "outlinewidth": 0,
             "ticks": ""
            },
            "colorscale": [
             [
              0,
              "#0d0887"
             ],
             [
              0.1111111111111111,
              "#46039f"
             ],
             [
              0.2222222222222222,
              "#7201a8"
             ],
             [
              0.3333333333333333,
              "#9c179e"
             ],
             [
              0.4444444444444444,
              "#bd3786"
             ],
             [
              0.5555555555555556,
              "#d8576b"
             ],
             [
              0.6666666666666666,
              "#ed7953"
             ],
             [
              0.7777777777777778,
              "#fb9f3a"
             ],
             [
              0.8888888888888888,
              "#fdca26"
             ],
             [
              1,
              "#f0f921"
             ]
            ],
            "type": "surface"
           }
          ],
          "table": [
           {
            "cells": {
             "fill": {
              "color": "#EBF0F8"
             },
             "line": {
              "color": "white"
             }
            },
            "header": {
             "fill": {
              "color": "#C8D4E3"
             },
             "line": {
              "color": "white"
             }
            },
            "type": "table"
           }
          ]
         },
         "layout": {
          "annotationdefaults": {
           "arrowcolor": "#2a3f5f",
           "arrowhead": 0,
           "arrowwidth": 1
          },
          "coloraxis": {
           "colorbar": {
            "outlinewidth": 0,
            "ticks": ""
           }
          },
          "colorscale": {
           "diverging": [
            [
             0,
             "#8e0152"
            ],
            [
             0.1,
             "#c51b7d"
            ],
            [
             0.2,
             "#de77ae"
            ],
            [
             0.3,
             "#f1b6da"
            ],
            [
             0.4,
             "#fde0ef"
            ],
            [
             0.5,
             "#f7f7f7"
            ],
            [
             0.6,
             "#e6f5d0"
            ],
            [
             0.7,
             "#b8e186"
            ],
            [
             0.8,
             "#7fbc41"
            ],
            [
             0.9,
             "#4d9221"
            ],
            [
             1,
             "#276419"
            ]
           ],
           "sequential": [
            [
             0,
             "#0d0887"
            ],
            [
             0.1111111111111111,
             "#46039f"
            ],
            [
             0.2222222222222222,
             "#7201a8"
            ],
            [
             0.3333333333333333,
             "#9c179e"
            ],
            [
             0.4444444444444444,
             "#bd3786"
            ],
            [
             0.5555555555555556,
             "#d8576b"
            ],
            [
             0.6666666666666666,
             "#ed7953"
            ],
            [
             0.7777777777777778,
             "#fb9f3a"
            ],
            [
             0.8888888888888888,
             "#fdca26"
            ],
            [
             1,
             "#f0f921"
            ]
           ],
           "sequentialminus": [
            [
             0,
             "#0d0887"
            ],
            [
             0.1111111111111111,
             "#46039f"
            ],
            [
             0.2222222222222222,
             "#7201a8"
            ],
            [
             0.3333333333333333,
             "#9c179e"
            ],
            [
             0.4444444444444444,
             "#bd3786"
            ],
            [
             0.5555555555555556,
             "#d8576b"
            ],
            [
             0.6666666666666666,
             "#ed7953"
            ],
            [
             0.7777777777777778,
             "#fb9f3a"
            ],
            [
             0.8888888888888888,
             "#fdca26"
            ],
            [
             1,
             "#f0f921"
            ]
           ]
          },
          "colorway": [
           "#636efa",
           "#EF553B",
           "#00cc96",
           "#ab63fa",
           "#FFA15A",
           "#19d3f3",
           "#FF6692",
           "#B6E880",
           "#FF97FF",
           "#FECB52"
          ],
          "font": {
           "color": "#2a3f5f"
          },
          "geo": {
           "bgcolor": "white",
           "lakecolor": "white",
           "landcolor": "#E5ECF6",
           "showlakes": true,
           "showland": true,
           "subunitcolor": "white"
          },
          "hoverlabel": {
           "align": "left"
          },
          "hovermode": "closest",
          "mapbox": {
           "style": "light"
          },
          "paper_bgcolor": "white",
          "plot_bgcolor": "#E5ECF6",
          "polar": {
           "angularaxis": {
            "gridcolor": "white",
            "linecolor": "white",
            "ticks": ""
           },
           "bgcolor": "#E5ECF6",
           "radialaxis": {
            "gridcolor": "white",
            "linecolor": "white",
            "ticks": ""
           }
          },
          "scene": {
           "xaxis": {
            "backgroundcolor": "#E5ECF6",
            "gridcolor": "white",
            "gridwidth": 2,
            "linecolor": "white",
            "showbackground": true,
            "ticks": "",
            "zerolinecolor": "white"
           },
           "yaxis": {
            "backgroundcolor": "#E5ECF6",
            "gridcolor": "white",
            "gridwidth": 2,
            "linecolor": "white",
            "showbackground": true,
            "ticks": "",
            "zerolinecolor": "white"
           },
           "zaxis": {
            "backgroundcolor": "#E5ECF6",
            "gridcolor": "white",
            "gridwidth": 2,
            "linecolor": "white",
            "showbackground": true,
            "ticks": "",
            "zerolinecolor": "white"
           }
          },
          "shapedefaults": {
           "line": {
            "color": "#2a3f5f"
           }
          },
          "ternary": {
           "aaxis": {
            "gridcolor": "white",
            "linecolor": "white",
            "ticks": ""
           },
           "baxis": {
            "gridcolor": "white",
            "linecolor": "white",
            "ticks": ""
           },
           "bgcolor": "#E5ECF6",
           "caxis": {
            "gridcolor": "white",
            "linecolor": "white",
            "ticks": ""
           }
          },
          "title": {
           "x": 0.05
          },
          "xaxis": {
           "automargin": true,
           "gridcolor": "white",
           "linecolor": "white",
           "ticks": "",
           "title": {
            "standoff": 15
           },
           "zerolinecolor": "white",
           "zerolinewidth": 2
          },
          "yaxis": {
           "automargin": true,
           "gridcolor": "white",
           "linecolor": "white",
           "ticks": "",
           "title": {
            "standoff": 15
           },
           "zerolinecolor": "white",
           "zerolinewidth": 2
          }
         }
        },
        "title": {
         "text": "Počet poslanců ve sněmovně dle pohlaví"
        },
        "xaxis": {
         "autorange": true,
         "range": [
          "1992-06-06",
          "2021-05-23 22:24:01.4427"
         ],
         "title": {
          "text": "Datum"
         },
         "type": "date"
        },
        "yaxis": {
         "autorange": true,
         "range": [
          0,
          215.78635014836794
         ],
         "title": {
          "text": "Počet poslanců"
         },
         "type": "linear"
        }
       }
      },
      "image/png": "[encoded data removed]",
      "text/html": [
       "<div>\n",
       "        \n",
       "        \n",
       "            <div id=\"984f599f-03b5-4337-8baf-f05501461faf\" class=\"plotly-graph-div\" style=\"height:525px; width:100%;\"></div>\n",
       "            <script type=\"text/javascript\">\n",
       "                require([\"plotly\"], function(Plotly) {\n",
       "                    window.PLOTLYENV=window.PLOTLYENV || {};\n",
       "                    \n",
       "                if (document.getElementById(\"984f599f-03b5-4337-8baf-f05501461faf\")) {\n",
       "                    Plotly.newPlot(\n",
       "                        '984f599f-03b5-4337-8baf-f05501461faf',\n",
       "                        [{\"hoverinfo\": \"text\", \"hovertemplate\": \"Sn\\u011bmovna: 1992<br>Datum: %{x|%d. %m. %Y}<br>Pohlav\\u00ed: \\u017eeny<br>Po\\u010det: %{y}<extra></extra>\", \"mode\": \"markers+lines\", \"name\": \"\\u017eeny (1992)\", \"stackgroup\": \"1992\", \"type\": \"scatter\", \"x\": [\"1992-06-06T00:00:00+02:00\", \"1993-11-10T00:00:00+01:00\", \"1993-11-11T00:00:00+01:00\", \"1995-05-24T00:00:00+02:00\", \"1995-05-25T00:00:00+02:00\", \"1996-04-30T00:00:00+02:00\", \"1996-05-07T00:00:00+02:00\", \"1996-06-07T00:00:00+02:00\"], \"y\": [20, 19, 19, 19, 19, 19, 20, 20]}, {\"hoverinfo\": \"text\", \"hovertemplate\": \"Sn\\u011bmovna: 1992<br>Datum: %{x|%d. %m. %Y}<br>Pohlav\\u00ed: mu\\u017ei<br>Po\\u010det: %{y}<extra></extra>\", \"mode\": \"markers+lines\", \"name\": \"mu\\u017ei (1992)\", \"stackgroup\": \"1992\", \"type\": \"scatter\", \"x\": [\"1992-06-06T00:00:00+02:00\", \"1993-11-10T00:00:00+01:00\", \"1993-11-11T00:00:00+01:00\", \"1995-05-24T00:00:00+02:00\", \"1995-05-25T00:00:00+02:00\", \"1996-04-30T00:00:00+02:00\", \"1996-05-07T00:00:00+02:00\", \"1996-06-07T00:00:00+02:00\"], \"y\": [180, 180, 181, 180, 181, 181, 180, 180]}, {\"hoverinfo\": \"text\", \"hovertemplate\": \"Sn\\u011bmovna: 1996<br>Datum: %{x|%d. %m. %Y}<br>Pohlav\\u00ed: \\u017eeny<br>Po\\u010det: %{y}<extra></extra>\", \"mode\": \"markers+lines\", \"name\": \"\\u017eeny (1996)\", \"stackgroup\": \"1996\", \"type\": \"scatter\", \"x\": [\"1996-06-01T00:00:00+02:00\", \"1996-11-02T00:00:00+01:00\", \"1996-12-18T00:00:00+01:00\", \"1997-01-17T00:00:00+01:00\", \"1997-06-03T00:00:00+02:00\", \"1997-06-12T00:00:00+02:00\", \"1997-08-28T00:00:00+02:00\", \"1997-08-30T00:00:00+02:00\", \"1997-11-12T00:00:00+01:00\", \"1997-12-02T00:00:00+01:00\", \"1997-12-03T00:00:00+01:00\", \"1998-01-27T00:00:00+01:00\", \"1998-02-13T00:00:00+01:00\", \"1998-02-26T00:00:00+01:00\", \"1998-06-20T00:00:00+02:00\"], \"y\": [30, 30, 29, 29, 29, 29, 29, 29, 29, 30, 30, 30, 30, 30, 30]}, {\"hoverinfo\": \"text\", \"hovertemplate\": \"Sn\\u011bmovna: 1996<br>Datum: %{x|%d. %m. %Y}<br>Pohlav\\u00ed: mu\\u017ei<br>Po\\u010det: %{y}<extra></extra>\", \"mode\": \"markers+lines\", \"name\": \"mu\\u017ei (1996)\", \"stackgroup\": \"1996\", \"type\": \"scatter\", \"x\": [\"1996-06-01T00:00:00+02:00\", \"1996-11-02T00:00:00+01:00\", \"1996-12-18T00:00:00+01:00\", \"1997-01-17T00:00:00+01:00\", \"1997-06-03T00:00:00+02:00\", \"1997-06-12T00:00:00+02:00\", \"1997-08-28T00:00:00+02:00\", \"1997-08-30T00:00:00+02:00\", \"1997-11-12T00:00:00+01:00\", \"1997-12-02T00:00:00+01:00\", \"1997-12-03T00:00:00+01:00\", \"1998-01-27T00:00:00+01:00\", \"1998-02-13T00:00:00+01:00\", \"1998-02-26T00:00:00+01:00\", \"1998-06-20T00:00:00+02:00\"], \"y\": [170, 170, 171, 171, 171, 171, 171, 171, 171, 170, 170, 170, 170, 170, 170]}, {\"hoverinfo\": \"text\", \"hovertemplate\": \"Sn\\u011bmovna: 1998<br>Datum: %{x|%d. %m. %Y}<br>Pohlav\\u00ed: \\u017eeny<br>Po\\u010det: %{y}<extra></extra>\", \"mode\": \"markers+lines\", \"name\": \"\\u017eeny (1998)\", \"stackgroup\": \"1998\", \"type\": \"scatter\", \"x\": [\"1998-06-20T00:00:00+02:00\", \"1999-11-22T00:00:00+01:00\", \"1999-11-23T00:00:00+01:00\", \"2000-09-14T11:00:00+02:00\", \"2000-09-15T10:00:00+02:00\", \"2001-03-01T00:00:00+01:00\", \"2001-03-01T18:00:00+01:00\", \"2001-07-31T12:00:00+02:00\", \"2001-08-01T12:00:00+02:00\", \"2001-10-31T16:00:00+01:00\", \"2001-11-01T13:00:00+01:00\", \"2002-06-21T00:00:00+02:00\"], \"y\": [30, 30, 30, 31, 31, 32, 32, 32, 32, 32, 32, 32]}, {\"hoverinfo\": \"text\", \"hovertemplate\": \"Sn\\u011bmovna: 1998<br>Datum: %{x|%d. %m. %Y}<br>Pohlav\\u00ed: mu\\u017ei<br>Po\\u010det: %{y}<extra></extra>\", \"mode\": \"markers+lines\", \"name\": \"mu\\u017ei (1998)\", \"stackgroup\": \"1998\", \"type\": \"scatter\", \"x\": [\"1998-06-20T00:00:00+02:00\", \"1999-11-22T00:00:00+01:00\", \"1999-11-23T00:00:00+01:00\", \"2000-09-14T11:00:00+02:00\", \"2000-09-15T10:00:00+02:00\", \"2001-03-01T00:00:00+01:00\", \"2001-03-01T18:00:00+01:00\", \"2001-07-31T12:00:00+02:00\", \"2001-08-01T12:00:00+02:00\", \"2001-10-31T16:00:00+01:00\", \"2001-11-01T13:00:00+01:00\", \"2002-06-21T00:00:00+02:00\"], \"y\": [170, 171, 170, 170, 169, 170, 168, 169, 168, 169, 168, 168]}, {\"hoverinfo\": \"text\", \"hovertemplate\": \"Sn\\u011bmovna: 2002<br>Datum: %{x|%d. %m. %Y}<br>Pohlav\\u00ed: \\u017eeny<br>Po\\u010det: %{y}<extra></extra>\", \"mode\": \"markers+lines\", \"name\": \"\\u017eeny (2002)\", \"stackgroup\": \"2002\", \"type\": \"scatter\", \"x\": [\"2002-06-15T14:00:00+02:00\", \"2002-09-18T00:00:00+02:00\", \"2003-03-07T14:00:00+01:00\", \"2003-04-23T00:00:00+02:00\", \"2003-06-02T12:00:00+02:00\", \"2003-06-06T12:00:00+02:00\", \"2003-07-26T00:00:00+02:00\", \"2003-09-23T00:00:00+02:00\", \"2004-05-05T12:00:00+02:00\", \"2004-07-08T00:00:00+02:00\", \"2004-07-20T00:00:00+02:00\", \"2004-08-31T00:00:00+02:00\", \"2004-09-21T00:00:00+02:00\", \"2004-09-22T00:00:00+02:00\", \"2004-09-24T00:00:00+02:00\", \"2004-09-30T00:00:00+02:00\", \"2004-10-07T00:00:00+02:00\", \"2005-06-09T00:00:00+02:00\", \"2005-07-24T09:00:00+02:00\", \"2005-12-02T00:00:00+01:00\", \"2005-12-09T00:00:00+01:00\", \"2006-01-17T00:00:00+01:00\", \"2006-01-20T00:00:00+01:00\", \"2006-01-24T00:00:00+01:00\", \"2006-02-28T00:00:00+01:00\", \"2006-04-18T00:00:00+02:00\", \"2006-06-15T13:00:00+02:00\"], \"y\": [34, 34, 34, 34, 34, 34, 34, 33, 33, 33, 33, 33, 33, 33, 32, 32, 32, 31, 32, 32, 31, 31, 32, 32, 32, 33, 33]}, {\"hoverinfo\": \"text\", \"hovertemplate\": \"Sn\\u011bmovna: 2002<br>Datum: %{x|%d. %m. %Y}<br>Pohlav\\u00ed: mu\\u017ei<br>Po\\u010det: %{y}<extra></extra>\", \"mode\": \"markers+lines\", \"name\": \"mu\\u017ei (2002)\", \"stackgroup\": \"2002\", \"type\": \"scatter\", \"x\": [\"2002-06-15T14:00:00+02:00\", \"2002-09-18T00:00:00+02:00\", \"2003-03-07T14:00:00+01:00\", \"2003-04-23T00:00:00+02:00\", \"2003-06-02T12:00:00+02:00\", \"2003-06-06T12:00:00+02:00\", \"2003-07-26T00:00:00+02:00\", \"2003-09-23T00:00:00+02:00\", \"2004-05-05T12:00:00+02:00\", \"2004-07-08T00:00:00+02:00\", \"2004-07-20T00:00:00+02:00\", \"2004-08-31T00:00:00+02:00\", \"2004-09-21T00:00:00+02:00\", \"2004-09-22T00:00:00+02:00\", \"2004-09-24T00:00:00+02:00\", \"2004-09-30T00:00:00+02:00\", \"2004-10-07T00:00:00+02:00\", \"2005-06-09T00:00:00+02:00\", \"2005-07-24T09:00:00+02:00\", \"2005-12-02T00:00:00+01:00\", \"2005-12-09T00:00:00+01:00\", \"2006-01-17T00:00:00+01:00\", \"2006-01-20T00:00:00+01:00\", \"2006-01-24T00:00:00+01:00\", \"2006-02-28T00:00:00+01:00\", \"2006-04-18T00:00:00+02:00\", \"2006-06-15T13:00:00+02:00\"], \"y\": [166, 166, 166, 166, 166, 166, 166, 167, 167, 167, 167, 167, 167, 167, 168, 168, 168, 169, 168, 168, 169, 169, 168, 168, 168, 167, 167]}, {\"hoverinfo\": \"text\", \"hovertemplate\": \"Sn\\u011bmovna: 2006<br>Datum: %{x|%d. %m. %Y}<br>Pohlav\\u00ed: \\u017eeny<br>Po\\u010det: %{y}<extra></extra>\", \"mode\": \"markers+lines\", \"name\": \"\\u017eeny (2006)\", \"stackgroup\": \"2006\", \"type\": \"scatter\", \"x\": [\"2006-06-03T14:00:00+02:00\", \"2007-01-16T00:00:00+01:00\", \"2008-09-17T00:00:00+02:00\", \"2008-10-25T14:00:00+02:00\", \"2008-11-13T11:00:00+01:00\", \"2008-12-11T00:00:00+01:00\", \"2009-03-01T00:00:00+01:00\", \"2009-04-30T23:00:00+02:00\", \"2009-07-03T00:00:00+02:00\", \"2009-07-09T00:00:00+02:00\", \"2009-07-13T00:00:00+02:00\", \"2009-09-15T15:00:00+02:00\", \"2009-09-29T12:00:00+02:00\", \"2009-12-11T13:00:00+01:00\", \"2010-03-01T00:00:00+01:00\", \"2010-04-30T00:00:00+02:00\", \"2010-04-30T13:00:00+02:00\", \"2010-05-26T14:00:00+02:00\", \"2010-06-03T14:00:00+02:00\"], \"y\": [31, 31, 31, 31, 32, 33, 35, 35, 34, 34, 35, 36, 36, 36, 36, 37, 38, 37, 37]}, {\"hoverinfo\": \"text\", \"hovertemplate\": \"Sn\\u011bmovna: 2006<br>Datum: %{x|%d. %m. %Y}<br>Pohlav\\u00ed: mu\\u017ei<br>Po\\u010det: %{y}<extra></extra>\", \"mode\": \"markers+lines\", \"name\": \"mu\\u017ei (2006)\", \"stackgroup\": \"2006\", \"type\": \"scatter\", \"x\": [\"2006-06-03T14:00:00+02:00\", \"2007-01-16T00:00:00+01:00\", \"2008-09-17T00:00:00+02:00\", \"2008-10-25T14:00:00+02:00\", \"2008-11-13T11:00:00+01:00\", \"2008-12-11T00:00:00+01:00\", \"2009-03-01T00:00:00+01:00\", \"2009-04-30T23:00:00+02:00\", \"2009-07-03T00:00:00+02:00\", \"2009-07-09T00:00:00+02:00\", \"2009-07-13T00:00:00+02:00\", \"2009-09-15T15:00:00+02:00\", \"2009-09-29T12:00:00+02:00\", \"2009-12-11T13:00:00+01:00\", \"2010-03-01T00:00:00+01:00\", \"2010-04-30T00:00:00+02:00\", \"2010-04-30T13:00:00+02:00\", \"2010-05-26T14:00:00+02:00\", \"2010-06-03T14:00:00+02:00\"], \"y\": [169, 169, 169, 169, 168, 167, 165, 165, 166, 166, 165, 164, 164, 164, 164, 163, 162, 163, 163]}, {\"hoverinfo\": \"text\", \"hovertemplate\": \"Sn\\u011bmovna: 2010<br>Datum: %{x|%d. %m. %Y}<br>Pohlav\\u00ed: \\u017eeny<br>Po\\u010det: %{y}<extra></extra>\", \"mode\": \"markers+lines\", \"name\": \"\\u017eeny (2010)\", \"stackgroup\": \"2010\", \"type\": \"scatter\", \"x\": [\"2010-05-29T14:00:00+02:00\", \"2010-10-23T14:00:00+02:00\", \"2010-11-30T14:00:00+01:00\", \"2011-03-01T00:00:00+01:00\", \"2011-03-25T13:00:00+01:00\", \"2011-03-26T14:00:00+01:00\", \"2012-02-07T00:00:00+01:00\", \"2012-10-20T14:00:00+02:00\", \"2012-11-07T10:00:00+01:00\", \"2013-01-31T00:00:00+01:00\", \"2013-04-05T12:00:00+02:00\", \"2013-04-11T15:00:00+02:00\", \"2013-04-24T12:00:00+02:00\", \"2013-06-14T14:00:00+02:00\", \"2013-08-28T00:00:00+02:00\"], \"y\": [44, 45, 44, 44, 44, 44, 44, 43, 43, 43, 44, 43, 43, 43, 43]}, {\"hoverinfo\": \"text\", \"hovertemplate\": \"Sn\\u011bmovna: 2010<br>Datum: %{x|%d. %m. %Y}<br>Pohlav\\u00ed: mu\\u017ei<br>Po\\u010det: %{y}<extra></extra>\", \"mode\": \"markers+lines\", \"name\": \"mu\\u017ei (2010)\", \"stackgroup\": \"2010\", \"type\": \"scatter\", \"x\": [\"2010-05-29T14:00:00+02:00\", \"2010-10-23T14:00:00+02:00\", \"2010-11-30T14:00:00+01:00\", \"2011-03-01T00:00:00+01:00\", \"2011-03-25T13:00:00+01:00\", \"2011-03-26T14:00:00+01:00\", \"2012-02-07T00:00:00+01:00\", \"2012-10-20T14:00:00+02:00\", \"2012-11-07T10:00:00+01:00\", \"2013-01-31T00:00:00+01:00\", \"2013-04-05T12:00:00+02:00\", \"2013-04-11T15:00:00+02:00\", \"2013-04-24T12:00:00+02:00\", \"2013-06-14T14:00:00+02:00\", \"2013-08-28T00:00:00+02:00\"], \"y\": [156, 155, 156, 156, 156, 156, 156, 157, 157, 157, 156, 157, 157, 157, 157]}, {\"hoverinfo\": \"text\", \"hovertemplate\": \"Sn\\u011bmovna: 2013<br>Datum: %{x|%d. %m. %Y}<br>Pohlav\\u00ed: \\u017eeny<br>Po\\u010det: %{y}<extra></extra>\", \"mode\": \"markers+lines\", \"name\": \"\\u017eeny (2013)\", \"stackgroup\": \"2013\", \"type\": \"scatter\", \"x\": [\"2013-10-26T14:00:00+02:00\", \"2013-11-27T12:00:00+01:00\", \"2013-12-03T10:00:00+01:00\", \"2014-03-31T00:00:00+02:00\", \"2014-04-30T23:00:00+02:00\", \"2014-06-20T17:00:00+02:00\", \"2014-07-01T00:00:00+02:00\", \"2014-08-28T00:00:00+02:00\", \"2014-10-21T15:00:00+02:00\", \"2014-12-08T00:00:00+01:00\", \"2016-01-14T00:00:00+01:00\", \"2017-01-03T12:00:00+01:00\", \"2017-03-14T09:00:00+01:00\", \"2017-06-09T00:00:00+02:00\", \"2017-07-01T00:00:00+02:00\", \"2017-10-26T23:00:00+02:00\"], \"y\": [39, 39, 39, 40, 40, 40, 39, 39, 39, 40, 41, 40, 40, 40, 41, 41]}, {\"hoverinfo\": \"text\", \"hovertemplate\": \"Sn\\u011bmovna: 2013<br>Datum: %{x|%d. %m. %Y}<br>Pohlav\\u00ed: mu\\u017ei<br>Po\\u010det: %{y}<extra></extra>\", \"mode\": \"markers+lines\", \"name\": \"mu\\u017ei (2013)\", \"stackgroup\": \"2013\", \"type\": \"scatter\", \"x\": [\"2013-10-26T14:00:00+02:00\", \"2013-11-27T12:00:00+01:00\", \"2013-12-03T10:00:00+01:00\", \"2014-03-31T00:00:00+02:00\", \"2014-04-30T23:00:00+02:00\", \"2014-06-20T17:00:00+02:00\", \"2014-07-01T00:00:00+02:00\", \"2014-08-28T00:00:00+02:00\", \"2014-10-21T15:00:00+02:00\", \"2014-12-08T00:00:00+01:00\", \"2016-01-14T00:00:00+01:00\", \"2017-01-03T12:00:00+01:00\", \"2017-03-14T09:00:00+01:00\", \"2017-06-09T00:00:00+02:00\", \"2017-07-01T00:00:00+02:00\", \"2017-10-26T23:00:00+02:00\"], \"y\": [161, 161, 161, 160, 160, 160, 161, 161, 161, 160, 159, 160, 160, 160, 159, 159]}, {\"hoverinfo\": \"text\", \"hovertemplate\": \"Sn\\u011bmovna: 2017<br>Datum: %{x|%d. %m. %Y}<br>Pohlav\\u00ed: \\u017eeny<br>Po\\u010det: %{y}<extra></extra>\", \"mode\": \"markers+lines\", \"name\": \"\\u017eeny (2017)\", \"stackgroup\": \"2017\", \"type\": \"scatter\", \"x\": [\"2017-10-21T14:00:00+02:00\", \"2017-11-24T15:00:00+01:00\", \"2018-03-31T00:00:00+02:00\", \"2018-06-19T12:00:00+02:00\", \"2018-10-01T10:00:00+02:00\", \"2018-12-04T16:00:00+01:00\", \"2019-04-14T00:00:00+02:00\", \"2019-04-15T00:00:00+02:00\", \"2019-06-06T13:00:00+02:00\", \"2019-07-02T00:00:00+02:00\", \"2020-07-31T00:00:00+02:00\", \"2020-10-10T14:00:00+02:00\", \"2020-12-31T12:00:00+01:00\", \"2021-01-19T14:00:00+01:00\", \"2021-01-26T00:00:00+01:00\", \"2021-01-26T14:00:00+01:00\", \"2021-03-01T00:00:00+01:00\", \"2021-03-09T18:00:00+01:00\", \"2021-03-09T19:00:00+01:00\", \"2021-05-23T22:24:01.442667+02:00\"], \"y\": [44.0, 44.0, 44.0, 45.0, 45.0, 46.0, 46.0, 47.0, 47.0, 45.0, 46.0, 45.0, 46.0, 46.0, 46.0, 46.0, 45.0, 45.0, 45.0, 45.0]}, {\"hoverinfo\": \"text\", \"hovertemplate\": \"Sn\\u011bmovna: 2017<br>Datum: %{x|%d. %m. %Y}<br>Pohlav\\u00ed: mu\\u017ei<br>Po\\u010det: %{y}<extra></extra>\", \"mode\": \"markers+lines\", \"name\": \"mu\\u017ei (2017)\", \"stackgroup\": \"2017\", \"type\": \"scatter\", \"x\": [\"2017-10-21T14:00:00+02:00\", \"2017-11-24T15:00:00+01:00\", \"2018-03-31T00:00:00+02:00\", \"2018-06-19T12:00:00+02:00\", \"2018-10-01T10:00:00+02:00\", \"2018-12-04T16:00:00+01:00\", \"2019-04-14T00:00:00+02:00\", \"2019-04-15T00:00:00+02:00\", \"2019-06-06T13:00:00+02:00\", \"2019-07-02T00:00:00+02:00\", \"2020-07-31T00:00:00+02:00\", \"2020-10-10T14:00:00+02:00\", \"2020-12-31T12:00:00+01:00\", \"2021-01-19T14:00:00+01:00\", \"2021-01-26T00:00:00+01:00\", \"2021-01-26T14:00:00+01:00\", \"2021-03-01T00:00:00+01:00\", \"2021-03-09T18:00:00+01:00\", \"2021-03-09T19:00:00+01:00\", \"2021-05-23T22:24:01.442667+02:00\"], \"y\": [156.0, 156.0, 156.0, 155.0, 155.0, 154.0, 154.0, 153.0, 153.0, 155.0, 154.0, 155.0, 154.0, 154.0, 153.0, 154.0, 155.0, 156.0, 155.0, 155.0]}],\n",
       "                        {\"hovermode\": \"x\", \"plot_bgcolor\": \"#FFFFFF\", \"showlegend\": false, \"template\": {\"data\": {\"bar\": [{\"error_x\": {\"color\": \"#2a3f5f\"}, \"error_y\": {\"color\": \"#2a3f5f\"}, \"marker\": {\"line\": {\"color\": \"#E5ECF6\", \"width\": 0.5}}, \"type\": \"bar\"}], \"barpolar\": [{\"marker\": {\"line\": {\"color\": \"#E5ECF6\", \"width\": 0.5}}, \"type\": \"barpolar\"}], \"carpet\": [{\"aaxis\": {\"endlinecolor\": \"#2a3f5f\", \"gridcolor\": \"white\", \"linecolor\": \"white\", \"minorgridcolor\": \"white\", \"startlinecolor\": \"#2a3f5f\"}, \"baxis\": {\"endlinecolor\": \"#2a3f5f\", \"gridcolor\": \"white\", \"linecolor\": \"white\", \"minorgridcolor\": \"white\", \"startlinecolor\": \"#2a3f5f\"}, \"type\": \"carpet\"}], \"choropleth\": [{\"colorbar\": {\"outlinewidth\": 0, \"ticks\": \"\"}, \"type\": \"choropleth\"}], \"contour\": [{\"colorbar\": {\"outlinewidth\": 0, \"ticks\": \"\"}, \"colorscale\": [[0.0, \"#0d0887\"], [0.1111111111111111, \"#46039f\"], [0.2222222222222222, \"#7201a8\"], [0.3333333333333333, \"#9c179e\"], [0.4444444444444444, \"#bd3786\"], [0.5555555555555556, \"#d8576b\"], [0.6666666666666666, \"#ed7953\"], [0.7777777777777778, \"#fb9f3a\"], [0.8888888888888888, \"#fdca26\"], [1.0, \"#f0f921\"]], \"type\": \"contour\"}], \"contourcarpet\": [{\"colorbar\": {\"outlinewidth\": 0, \"ticks\": \"\"}, \"type\": \"contourcarpet\"}], \"heatmap\": [{\"colorbar\": {\"outlinewidth\": 0, \"ticks\": \"\"}, \"colorscale\": [[0.0, \"#0d0887\"], [0.1111111111111111, \"#46039f\"], [0.2222222222222222, \"#7201a8\"], [0.3333333333333333, \"#9c179e\"], [0.4444444444444444, \"#bd3786\"], [0.5555555555555556, \"#d8576b\"], [0.6666666666666666, \"#ed7953\"], [0.7777777777777778, \"#fb9f3a\"], [0.8888888888888888, \"#fdca26\"], [1.0, \"#f0f921\"]], \"type\": \"heatmap\"}], \"heatmapgl\": [{\"colorbar\": {\"outlinewidth\": 0, \"ticks\": \"\"}, \"colorscale\": [[0.0, \"#0d0887\"], [0.1111111111111111, \"#46039f\"], [0.2222222222222222, \"#7201a8\"], [0.3333333333333333, \"#9c179e\"], [0.4444444444444444, \"#bd3786\"], [0.5555555555555556, \"#d8576b\"], [0.6666666666666666, \"#ed7953\"], [0.7777777777777778, \"#fb9f3a\"], [0.8888888888888888, \"#fdca26\"], [1.0, \"#f0f921\"]], \"type\": \"heatmapgl\"}], \"histogram\": [{\"marker\": {\"colorbar\": {\"outlinewidth\": 0, \"ticks\": \"\"}}, \"type\": \"histogram\"}], \"histogram2d\": [{\"colorbar\": {\"outlinewidth\": 0, \"ticks\": \"\"}, \"colorscale\": [[0.0, \"#0d0887\"], [0.1111111111111111, \"#46039f\"], [0.2222222222222222, \"#7201a8\"], [0.3333333333333333, \"#9c179e\"], [0.4444444444444444, \"#bd3786\"], [0.5555555555555556, \"#d8576b\"], [0.6666666666666666, \"#ed7953\"], [0.7777777777777778, \"#fb9f3a\"], [0.8888888888888888, \"#fdca26\"], [1.0, \"#f0f921\"]], \"type\": \"histogram2d\"}], \"histogram2dcontour\": [{\"colorbar\": {\"outlinewidth\": 0, \"ticks\": \"\"}, \"colorscale\": [[0.0, \"#0d0887\"], [0.1111111111111111, \"#46039f\"], [0.2222222222222222, \"#7201a8\"], [0.3333333333333333, \"#9c179e\"], [0.4444444444444444, \"#bd3786\"], [0.5555555555555556, \"#d8576b\"], [0.6666666666666666, \"#ed7953\"], [0.7777777777777778, \"#fb9f3a\"], [0.8888888888888888, \"#fdca26\"], [1.0, \"#f0f921\"]], \"type\": \"histogram2dcontour\"}], \"mesh3d\": [{\"colorbar\": {\"outlinewidth\": 0, \"ticks\": \"\"}, \"type\": \"mesh3d\"}], \"parcoords\": [{\"line\": {\"colorbar\": {\"outlinewidth\": 0, \"ticks\": \"\"}}, \"type\": \"parcoords\"}], \"pie\": [{\"automargin\": true, \"type\": \"pie\"}], \"scatter\": [{\"marker\": {\"colorbar\": {\"outlinewidth\": 0, \"ticks\": \"\"}}, \"type\": \"scatter\"}], \"scatter3d\": [{\"line\": {\"colorbar\": {\"outlinewidth\": 0, \"ticks\": \"\"}}, \"marker\": {\"colorbar\": {\"outlinewidth\": 0, \"ticks\": \"\"}}, \"type\": \"scatter3d\"}], \"scattercarpet\": [{\"marker\": {\"colorbar\": {\"outlinewidth\": 0, \"ticks\": \"\"}}, \"type\": \"scattercarpet\"}], \"scattergeo\": [{\"marker\": {\"colorbar\": {\"outlinewidth\": 0, \"ticks\": \"\"}}, \"type\": \"scattergeo\"}], \"scattergl\": [{\"marker\": {\"colorbar\": {\"outlinewidth\": 0, \"ticks\": \"\"}}, \"type\": \"scattergl\"}], \"scattermapbox\": [{\"marker\": {\"colorbar\": {\"outlinewidth\": 0, \"ticks\": \"\"}}, \"type\": \"scattermapbox\"}], \"scatterpolar\": [{\"marker\": {\"colorbar\": {\"outlinewidth\": 0, \"ticks\": \"\"}}, \"type\": \"scatterpolar\"}], \"scatterpolargl\": [{\"marker\": {\"colorbar\": {\"outlinewidth\": 0, \"ticks\": \"\"}}, \"type\": \"scatterpolargl\"}], \"scatterternary\": [{\"marker\": {\"colorbar\": {\"outlinewidth\": 0, \"ticks\": \"\"}}, \"type\": \"scatterternary\"}], \"surface\": [{\"colorbar\": {\"outlinewidth\": 0, \"ticks\": \"\"}, \"colorscale\": [[0.0, \"#0d0887\"], [0.1111111111111111, \"#46039f\"], [0.2222222222222222, \"#7201a8\"], [0.3333333333333333, \"#9c179e\"], [0.4444444444444444, \"#bd3786\"], [0.5555555555555556, \"#d8576b\"], [0.6666666666666666, \"#ed7953\"], [0.7777777777777778, \"#fb9f3a\"], [0.8888888888888888, \"#fdca26\"], [1.0, \"#f0f921\"]], \"type\": \"surface\"}], \"table\": [{\"cells\": {\"fill\": {\"color\": \"#EBF0F8\"}, \"line\": {\"color\": \"white\"}}, \"header\": {\"fill\": {\"color\": \"#C8D4E3\"}, \"line\": {\"color\": \"white\"}}, \"type\": \"table\"}]}, \"layout\": {\"annotationdefaults\": {\"arrowcolor\": \"#2a3f5f\", \"arrowhead\": 0, \"arrowwidth\": 1}, \"coloraxis\": {\"colorbar\": {\"outlinewidth\": 0, \"ticks\": \"\"}}, \"colorscale\": {\"diverging\": [[0, \"#8e0152\"], [0.1, \"#c51b7d\"], [0.2, \"#de77ae\"], [0.3, \"#f1b6da\"], [0.4, \"#fde0ef\"], [0.5, \"#f7f7f7\"], [0.6, \"#e6f5d0\"], [0.7, \"#b8e186\"], [0.8, \"#7fbc41\"], [0.9, \"#4d9221\"], [1, \"#276419\"]], \"sequential\": [[0.0, \"#0d0887\"], [0.1111111111111111, \"#46039f\"], [0.2222222222222222, \"#7201a8\"], [0.3333333333333333, \"#9c179e\"], [0.4444444444444444, \"#bd3786\"], [0.5555555555555556, \"#d8576b\"], [0.6666666666666666, \"#ed7953\"], [0.7777777777777778, \"#fb9f3a\"], [0.8888888888888888, \"#fdca26\"], [1.0, \"#f0f921\"]], \"sequentialminus\": [[0.0, \"#0d0887\"], [0.1111111111111111, \"#46039f\"], [0.2222222222222222, \"#7201a8\"], [0.3333333333333333, \"#9c179e\"], [0.4444444444444444, \"#bd3786\"], [0.5555555555555556, \"#d8576b\"], [0.6666666666666666, \"#ed7953\"], [0.7777777777777778, \"#fb9f3a\"], [0.8888888888888888, \"#fdca26\"], [1.0, \"#f0f921\"]]}, \"colorway\": [\"#636efa\", \"#EF553B\", \"#00cc96\", \"#ab63fa\", \"#FFA15A\", \"#19d3f3\", \"#FF6692\", \"#B6E880\", \"#FF97FF\", \"#FECB52\"], \"font\": {\"color\": \"#2a3f5f\"}, \"geo\": {\"bgcolor\": \"white\", \"lakecolor\": \"white\", \"landcolor\": \"#E5ECF6\", \"showlakes\": true, \"showland\": true, \"subunitcolor\": \"white\"}, \"hoverlabel\": {\"align\": \"left\"}, \"hovermode\": \"closest\", \"mapbox\": {\"style\": \"light\"}, \"paper_bgcolor\": \"white\", \"plot_bgcolor\": \"#E5ECF6\", \"polar\": {\"angularaxis\": {\"gridcolor\": \"white\", \"linecolor\": \"white\", \"ticks\": \"\"}, \"bgcolor\": \"#E5ECF6\", \"radialaxis\": {\"gridcolor\": \"white\", \"linecolor\": \"white\", \"ticks\": \"\"}}, \"scene\": {\"xaxis\": {\"backgroundcolor\": \"#E5ECF6\", \"gridcolor\": \"white\", \"gridwidth\": 2, \"linecolor\": \"white\", \"showbackground\": true, \"ticks\": \"\", \"zerolinecolor\": \"white\"}, \"yaxis\": {\"backgroundcolor\": \"#E5ECF6\", \"gridcolor\": \"white\", \"gridwidth\": 2, \"linecolor\": \"white\", \"showbackground\": true, \"ticks\": \"\", \"zerolinecolor\": \"white\"}, \"zaxis\": {\"backgroundcolor\": \"#E5ECF6\", \"gridcolor\": \"white\", \"gridwidth\": 2, \"linecolor\": \"white\", \"showbackground\": true, \"ticks\": \"\", \"zerolinecolor\": \"white\"}}, \"shapedefaults\": {\"line\": {\"color\": \"#2a3f5f\"}}, \"ternary\": {\"aaxis\": {\"gridcolor\": \"white\", \"linecolor\": \"white\", \"ticks\": \"\"}, \"baxis\": {\"gridcolor\": \"white\", \"linecolor\": \"white\", \"ticks\": \"\"}, \"bgcolor\": \"#E5ECF6\", \"caxis\": {\"gridcolor\": \"white\", \"linecolor\": \"white\", \"ticks\": \"\"}}, \"title\": {\"x\": 0.05}, \"xaxis\": {\"automargin\": true, \"gridcolor\": \"white\", \"linecolor\": \"white\", \"ticks\": \"\", \"title\": {\"standoff\": 15}, \"zerolinecolor\": \"white\", \"zerolinewidth\": 2}, \"yaxis\": {\"automargin\": true, \"gridcolor\": \"white\", \"linecolor\": \"white\", \"ticks\": \"\", \"title\": {\"standoff\": 15}, \"zerolinecolor\": \"white\", \"zerolinewidth\": 2}}}, \"title\": {\"text\": \"Po\\u010det poslanc\\u016f ve sn\\u011bmovn\\u011b dle pohlav\\u00ed\"}, \"xaxis\": {\"title\": {\"text\": \"Datum\"}}, \"yaxis\": {\"title\": {\"text\": \"Po\\u010det poslanc\\u016f\"}}},\n",
       "                        {\"responsive\": true}\n",
       "                    ).then(function(){\n",
       "                            \n",
       "var gd = document.getElementById('984f599f-03b5-4337-8baf-f05501461faf');\n",
       "var x = new MutationObserver(function (mutations, observer) {{\n",
       "        var display = window.getComputedStyle(gd).display;\n",
       "        if (!display || display === 'none') {{\n",
       "            console.log([gd, 'removed!']);\n",
       "            Plotly.purge(gd);\n",
       "            observer.disconnect();\n",
       "        }}\n",
       "}});\n",
       "\n",
       "// Listen for the removal of the full notebook cells\n",
       "var notebookContainer = gd.closest('#notebook-container');\n",
       "if (notebookContainer) {{\n",
       "    x.observe(notebookContainer, {childList: true});\n",
       "}}\n",
       "\n",
       "// Listen for the clearing of the current output cell\n",
       "var outputEl = gd.closest('.output');\n",
       "if (outputEl) {{\n",
       "    x.observe(outputEl, {childList: true});\n",
       "}}\n",
       "\n",
       "                        })\n",
       "                };\n",
       "                });\n",
       "            </script>\n",
       "        </div>"
      ]
     },
     "metadata": {},
     "output_type": "display_data"
    }
   ],
   "source": [
    "fig = go.Figure()\n",
    "\n",
    "for snemovna in snemovny:\n",
    "    df = pohlavi_dle_snemovny(snemovna)\n",
    "    hovertemplate_zeny = f\"Sněmovna: {snemovna}\" +'<br>Datum: %{x|%d. %m. %Y}<br>Pohlaví: ženy<br>Počet: %{y}<extra></extra>'\n",
    "    hovertemplate_muzi = f\"Sněmovna: {snemovna}\" +'<br>Datum: %{x|%d. %m. %Y}<br>Pohlaví: muži<br>Počet: %{y}<extra></extra>'\n",
    "    fig.add_trace(go.Scatter(\n",
    "        x = df.index,\n",
    "        y = df.zeny_cnt,\n",
    "        mode = 'markers+lines',\n",
    "        #line = dict(shape='linear'),\n",
    "        hoverinfo = 'text',\n",
    "        hovertemplate=hovertemplate_zeny,\n",
    "        name=f\"ženy ({snemovna})\",\n",
    "        stackgroup=snemovna\n",
    "    ))\n",
    "    fig.add_trace(go.Scatter(\n",
    "        x = df.index,\n",
    "        y = df.muzi_cnt,\n",
    "        name = f\"muži ({snemovna})\",\n",
    "        hoverinfo = 'text',\n",
    "        hovertemplate=hovertemplate_muzi,\n",
    "        mode = 'markers+lines',\n",
    "        #line = dict(shape='linear'),\n",
    "        stackgroup=snemovna\n",
    "    ))\n",
    "\n",
    "layout = go.Layout(\n",
    "    title=\"Počet poslanců ve sněmovně dle pohlaví\",    \n",
    "    plot_bgcolor=\"#FFFFFF\",\n",
    "    hovermode=\"x\",\n",
    "    xaxis=dict(title=\"Datum\"),\n",
    "    yaxis=dict(title=\"Počet poslanců\")\n",
    ")\n",
    "\n",
    "fig.update_layout(layout)\n",
    "fig.update_layout(showlegend=False)\n",
    "fig.show()\n"
   ]
  },
  {
   "cell_type": "code",
   "execution_count": 89,
   "metadata": {},
   "outputs": [
    {
     "name": "stdout",
     "output_type": "stream",
     "text": [
      "Poslední běh notebooku: 24.05.2021 00:22:52.\n"
     ]
    }
   ],
   "source": [
    "print(f\"Poslední běh notebooku: {datetime.now().strftime('%d.%m.%Y %H:%M:%S')}.\")"
   ]
  },
  {
   "cell_type": "code",
   "execution_count": null,
   "metadata": {},
   "outputs": [],
   "source": []
  }
 ],
 "metadata": {
  "colab": {
   "collapsed_sections": [],
   "name": "Hlasovani.ipynb",
   "provenance": []
  },
  "kernelspec": {
   "display_name": "Python 3",
   "language": "python",
   "name": "python3"
  },
  "language_info": {
   "codemirror_mode": {
    "name": "ipython",
    "version": 3
   },
   "file_extension": ".py",
   "mimetype": "text/x-python",
   "name": "python",
   "nbconvert_exporter": "python",
   "pygments_lexer": "ipython3",
   "version": "3.7.7"
  }
 },
 "nbformat": 4,
 "nbformat_minor": 4
}
